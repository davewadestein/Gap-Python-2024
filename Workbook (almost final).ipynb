{
 "cells": [
  {
   "cell_type": "markdown",
   "id": "513556a6-990e-4454-bd6a-624c1248856f",
   "metadata": {},
   "source": [
    "# \"Pythonic\"\n",
    "* \"My name is Rick and I'm a Java programmer, and I've been teaching myself Python, but my Python looks like Java\"\n",
    "* converting from one type to another\n",
    "  * if an object is difficult to deal with, consider changing its type\n",
    "* __`container[-1]`__ to access last element\n",
    "  * __`container[-n]`__ to access the nth from last\n",
    "* function composition: e.g., __`int(input(...))`__\n",
    "* use _ when you don't need the return value of a function and want to make that clear\n",
    "  * e.g., __`quotient, _ = divmod(number, possible_divisor)`__\n",
    "* __`container[:n]`__ means the first n items in the container\n",
    "* __`container[-n:]`__ means the last n items of the container\n",
    "* __`container[::-1]`__ means generate a *reversed* version of the container\n",
    "* don't use indexing with containers (unless you need it)\n",
    "  e.g., __`for car in cars: print(car)`__\n",
    "* instead of initializing lists the standard, painful way, use __`.split()`__\n",
    "  * e.g., __`fruits = 'apple lemon cherry fig lime watermelon'.split()`__"
   ]
  },
  {
   "cell_type": "markdown",
   "id": "d7304b6d-b4b3-4fd1-be90-16c3f329d2fe",
   "metadata": {
    "tags": []
   },
   "source": [
    "# Some Important things about Python\n",
    "* built-in functions, e.g., __`int()`__ DO NOT change the objects that are passed into them\n",
    "  * also, built-in functions are *general purpose*, they often act on many or even any datatypes\n",
    "  * i.e., they are NOT methods\n",
    "* if you want to change an object in Python you must invoke/apply/call a method on that object\n",
    "  * not all method change the objects that they are invoked/applied/called on\n",
    "* scalars vs. containers:\n",
    "  * scalars – variables/objects that consist of a single value\n",
    "    * int, float, bool\n",
    "  * containers - variables/objects that hold 0+ other objects\n",
    "    * str, list\n",
    "* mutable vs. immutable objects:\n",
    "  * immutable: str, tuple\n",
    "  * mutable: list, dict\n",
    "* Python \"truthiness\":\n",
    "  * non-zero numbers are considred to be True (0 and 0.0 are considered to be False) in a Boolean context\n",
    "  * non-empty containers are considered to be True (and empty containers are ... False)\n",
    "  * __`None`__ is considered False in a Boolean context\n",
    "* Python functions are \"duck-typed\"\n",
    "  * If it walks like a duck, quacks like a duck, I'm going to call it a duck\"\n",
    "  * functions often don't require a specific datatype, but rather, an attribute or feature\n",
    "    * e.g., an iterable, or a number (float or int)"
   ]
  },
  {
   "cell_type": "markdown",
   "id": "b42f3674-05d4-4f40-ab83-b8cc31558b89",
   "metadata": {
    "tags": []
   },
   "source": [
    "# Important Programming Principles\n",
    "* choose good variable names\n",
    "  * __`cost`__ is better than __`c`__\n",
    "  * __`first_name`__ is better than __`first`__\n",
    "* Hal Abelson: \"Programs are written for other people to read, and only incidentally for computers to execute\"\n",
    "  * Eagleson's Law: \"Any code you wrote more than 6 months ago, might as well have been written by someone else\"\n",
    "* We read code 10x more than we write code\n",
    "* DRY = Don't Repeat Yourself\n",
    "* Identifying an error is \"easy\", but knowing what to do when you identify is \"hard\""
   ]
  },
  {
   "cell_type": "code",
   "execution_count": 10,
   "id": "fd039cfb-ee8e-44d6-bedd-9f63f9034df3",
   "metadata": {},
   "outputs": [],
   "source": [
    "cost = 5."
   ]
  },
  {
   "cell_type": "code",
   "execution_count": 14,
   "id": "0ee43df0-c011-437b-92cd-f8de978e8489",
   "metadata": {},
   "outputs": [
    {
     "data": {
      "text/plain": [
       "4"
      ]
     },
     "execution_count": 14,
     "metadata": {},
     "output_type": "execute_result"
    }
   ],
   "source": [
    "2 + 2 # addition"
   ]
  },
  {
   "cell_type": "code",
   "execution_count": 16,
   "id": "38f77646-e62d-4742-852d-ccf476033fb0",
   "metadata": {},
   "outputs": [
    {
     "data": {
      "text/plain": [
       "'22'"
      ]
     },
     "execution_count": 16,
     "metadata": {},
     "output_type": "execute_result"
    }
   ],
   "source": [
    "'2' + '2' # concatenation"
   ]
  },
  {
   "cell_type": "code",
   "execution_count": 18,
   "id": "f130f25e-58fc-402f-b77c-840a3605261c",
   "metadata": {},
   "outputs": [
    {
     "data": {
      "text/plain": [
       "'twotwo'"
      ]
     },
     "execution_count": 18,
     "metadata": {},
     "output_type": "execute_result"
    }
   ],
   "source": [
    "'two' + 'two'"
   ]
  },
  {
   "cell_type": "code",
   "execution_count": 20,
   "id": "9b49d5b1-86ce-476c-b850-ec578e586413",
   "metadata": {},
   "outputs": [
    {
     "data": {
      "text/plain": [
       "'Grace Hopper'"
      ]
     },
     "execution_count": 20,
     "metadata": {},
     "output_type": "execute_result"
    }
   ],
   "source": [
    "'Grace' + ' ' + 'Hopper'"
   ]
  },
  {
   "cell_type": "code",
   "execution_count": 23,
   "id": "117d1f01-d16d-450e-9474-22cc5dd18758",
   "metadata": {},
   "outputs": [],
   "source": [
    "name = 'Bruce Lee'"
   ]
  },
  {
   "cell_type": "code",
   "execution_count": 25,
   "id": "791c8dae-305e-4a9d-b432-470295db0c64",
   "metadata": {},
   "outputs": [
    {
     "data": {
      "text/plain": [
       "'Bruce Lee'"
      ]
     },
     "execution_count": 25,
     "metadata": {},
     "output_type": "execute_result"
    }
   ],
   "source": [
    "name # Hey Jupyter, tell me the value of name"
   ]
  },
  {
   "cell_type": "code",
   "execution_count": 27,
   "id": "b52e6d92-f7f6-4244-9c7b-4493751b1255",
   "metadata": {},
   "outputs": [
    {
     "name": "stdout",
     "output_type": "stream",
     "text": [
      "Bruce Lee\n"
     ]
    }
   ],
   "source": [
    "print(name)"
   ]
  },
  {
   "cell_type": "code",
   "execution_count": 30,
   "id": "59706bb9-4f34-4909-8f90-fcece2692b7e",
   "metadata": {},
   "outputs": [],
   "source": [
    "num = '123'"
   ]
  },
  {
   "cell_type": "code",
   "execution_count": 32,
   "id": "f431f263-30d6-40ed-94d9-44274788ff2f",
   "metadata": {},
   "outputs": [
    {
     "data": {
      "text/plain": [
       "'123'"
      ]
     },
     "execution_count": 32,
     "metadata": {},
     "output_type": "execute_result"
    }
   ],
   "source": [
    "num # ask Jupyter to tell us the value of num (unambiguously)"
   ]
  },
  {
   "cell_type": "code",
   "execution_count": 34,
   "id": "d556fd38-270d-4162-bdce-2d01e9b5df1a",
   "metadata": {},
   "outputs": [
    {
     "name": "stdout",
     "output_type": "stream",
     "text": [
      "123\n"
     ]
    }
   ],
   "source": [
    "print(num)"
   ]
  },
  {
   "cell_type": "code",
   "execution_count": 39,
   "id": "d871d234-e868-4021-b665-b870ccede2b1",
   "metadata": {},
   "outputs": [],
   "source": [
    "num1 = '12'\n",
    "num2 = '13'"
   ]
  },
  {
   "cell_type": "code",
   "execution_count": 43,
   "id": "93b371b1-7f7d-41d9-ab47-250b1e0bd25f",
   "metadata": {},
   "outputs": [
    {
     "data": {
      "text/plain": [
       "25"
      ]
     },
     "execution_count": 43,
     "metadata": {},
     "output_type": "execute_result"
    }
   ],
   "source": [
    "int(num1) + int(num2)"
   ]
  },
  {
   "cell_type": "code",
   "execution_count": 54,
   "id": "586693c4-97e9-453c-830e-bdd43031a02b",
   "metadata": {},
   "outputs": [
    {
     "data": {
      "text/plain": [
       "str"
      ]
     },
     "execution_count": 54,
     "metadata": {},
     "output_type": "execute_result"
    }
   ],
   "source": [
    "type(num1)"
   ]
  },
  {
   "cell_type": "code",
   "execution_count": 59,
   "id": "a461919d-d28e-4721-8fd9-5ae46df4be40",
   "metadata": {},
   "outputs": [
    {
     "data": {
      "text/plain": [
       "builtin_function_or_method"
      ]
     },
     "execution_count": 59,
     "metadata": {},
     "output_type": "execute_result"
    }
   ],
   "source": [
    "type(print)"
   ]
  },
  {
   "cell_type": "code",
   "execution_count": 65,
   "id": "bbcd2b7b-d562-432b-9e33-445c9d3cf457",
   "metadata": {},
   "outputs": [
    {
     "data": {
      "text/plain": [
       "int"
      ]
     },
     "execution_count": 65,
     "metadata": {},
     "output_type": "execute_result"
    }
   ],
   "source": [
    "type(5)"
   ]
  },
  {
   "cell_type": "code",
   "execution_count": 1,
   "id": "eca1cb29-c26c-4ed6-9424-2f3d3127f7f9",
   "metadata": {},
   "outputs": [],
   "source": [
    "first, last = 'Grace', 'Hopper'"
   ]
  },
  {
   "cell_type": "code",
   "execution_count": 4,
   "id": "2b440d1d-27e3-4bed-8648-c5c570dc0725",
   "metadata": {},
   "outputs": [],
   "source": [
    "first = 'Grace'\n",
    "last = 'Hopper'"
   ]
  },
  {
   "cell_type": "code",
   "execution_count": 6,
   "id": "173dedd4-b7b7-4717-94ba-a6b49e63997c",
   "metadata": {},
   "outputs": [
    {
     "name": "stdout",
     "output_type": "stream",
     "text": [
      "Grace Hopper\n"
     ]
    }
   ],
   "source": [
    "print(first, last)"
   ]
  },
  {
   "cell_type": "code",
   "execution_count": 21,
   "id": "fcd1c788-af53-4a27-ad20-713216b64de2",
   "metadata": {},
   "outputs": [
    {
     "name": "stdout",
     "output_type": "stream",
     "text": [
      "39.9\n"
     ]
    }
   ],
   "source": [
    "value = 2 * 19.95\n",
    "print(value) # only the last line is being run in \"interactive mode\"\n",
    "# if a line of code is intended to produce a result and it is not the last line,\n",
    "# it must call print()"
   ]
  },
  {
   "cell_type": "code",
   "execution_count": 23,
   "id": "7b6dd4d0-7a53-4cd4-b26e-d78886abfc4d",
   "metadata": {},
   "outputs": [
    {
     "data": {
      "text/plain": [
       "4"
      ]
     },
     "execution_count": 23,
     "metadata": {},
     "output_type": "execute_result"
    }
   ],
   "source": [
    "2 + 2"
   ]
  },
  {
   "cell_type": "code",
   "execution_count": 31,
   "id": "344a177f-ecc1-4eab-aadf-85bed840549b",
   "metadata": {},
   "outputs": [
    {
     "name": "stdout",
     "output_type": "stream",
     "text": [
      "4\n",
      "9\n"
     ]
    }
   ],
   "source": [
    "print(2 + 2) # run in \"program mode\"\n",
    "print(3 * 3) # run interactive"
   ]
  },
  {
   "cell_type": "code",
   "execution_count": 40,
   "id": "bc940913-dd3f-46cb-aa03-8111e2201ff8",
   "metadata": {},
   "outputs": [
    {
     "name": "stdout",
     "output_type": "stream",
     "text": [
      "thank you, the result is\n"
     ]
    }
   ],
   "source": [
    "3 * 19.95\n",
    "print('thank you, the result is')"
   ]
  },
  {
   "cell_type": "code",
   "execution_count": 43,
   "id": "4756217b-8b50-4bde-9083-392656626aa5",
   "metadata": {},
   "outputs": [
    {
     "data": {
      "text/plain": [
       "'53.3'"
      ]
     },
     "execution_count": 43,
     "metadata": {},
     "output_type": "execute_result"
    }
   ],
   "source": [
    "str(53.3)"
   ]
  },
  {
   "cell_type": "code",
   "execution_count": 45,
   "id": "2acb1d84-e702-4ac3-9870-2c0e68a0108f",
   "metadata": {},
   "outputs": [
    {
     "data": {
      "text/plain": [
       "'False'"
      ]
     },
     "execution_count": 45,
     "metadata": {},
     "output_type": "execute_result"
    }
   ],
   "source": [
    "str(False) # CTRL-SHIFT-MINUS"
   ]
  },
  {
   "cell_type": "code",
   "execution_count": 2,
   "id": "6970afcd-9c1a-463e-8f3e-11766520a4c7",
   "metadata": {},
   "outputs": [
    {
     "ename": "NameError",
     "evalue": "name 'false' is not defined",
     "output_type": "error",
     "traceback": [
      "\u001b[0;31m---------------------------------------------------------------------------\u001b[0m",
      "\u001b[0;31mNameError\u001b[0m                                 Traceback (most recent call last)",
      "Cell \u001b[0;32mIn[2], line 1\u001b[0m\n\u001b[0;32m----> 1\u001b[0m \u001b[38;5;28mstr\u001b[39m(false)\n",
      "\u001b[0;31mNameError\u001b[0m: name 'false' is not defined"
     ]
    }
   ],
   "source": [
    "str(false)"
   ]
  },
  {
   "cell_type": "code",
   "execution_count": 47,
   "id": "800966b6-a5fc-42ea-939c-d83b498fcffe",
   "metadata": {},
   "outputs": [
    {
     "data": {
      "text/plain": [
       "300"
      ]
     },
     "execution_count": 47,
     "metadata": {},
     "output_type": "execute_result"
    }
   ],
   "source": [
    "int('300')"
   ]
  },
  {
   "cell_type": "code",
   "execution_count": 49,
   "id": "ee8bfa76-c9cb-4fbf-ba26-69deb7ac489f",
   "metadata": {},
   "outputs": [
    {
     "ename": "ValueError",
     "evalue": "invalid literal for int() with base 10: '30x'",
     "output_type": "error",
     "traceback": [
      "\u001b[0;31m---------------------------------------------------------------------------\u001b[0m",
      "\u001b[0;31mValueError\u001b[0m                                Traceback (most recent call last)",
      "Cell \u001b[0;32mIn[49], line 1\u001b[0m\n\u001b[0;32m----> 1\u001b[0m \u001b[38;5;28mint\u001b[39m(\u001b[38;5;124m'\u001b[39m\u001b[38;5;124m30x\u001b[39m\u001b[38;5;124m'\u001b[39m)\n",
      "\u001b[0;31mValueError\u001b[0m: invalid literal for int() with base 10: '30x'"
     ]
    }
   ],
   "source": [
    "int('30x')"
   ]
  },
  {
   "cell_type": "code",
   "execution_count": 51,
   "id": "4593e99e-625a-4438-8a0b-3d1a282f254d",
   "metadata": {},
   "outputs": [
    {
     "data": {
      "text/plain": [
       "bool"
      ]
     },
     "execution_count": 51,
     "metadata": {},
     "output_type": "execute_result"
    }
   ],
   "source": [
    "type(False)"
   ]
  },
  {
   "cell_type": "code",
   "execution_count": 10,
   "id": "f0b9ae50-11d3-46af-b408-118bf7d4c008",
   "metadata": {},
   "outputs": [
    {
     "data": {
      "text/plain": [
       "str"
      ]
     },
     "execution_count": 10,
     "metadata": {},
     "output_type": "execute_result"
    }
   ],
   "source": [
    "type('False')"
   ]
  },
  {
   "cell_type": "code",
   "execution_count": 55,
   "id": "f5f118b6-3caa-4cd8-b94c-2be6a9884a82",
   "metadata": {},
   "outputs": [
    {
     "data": {
      "text/plain": [
       "float"
      ]
     },
     "execution_count": 55,
     "metadata": {},
     "output_type": "execute_result"
    }
   ],
   "source": [
    "type(3.5)"
   ]
  },
  {
   "cell_type": "code",
   "execution_count": 19,
   "id": "f9025b67-943d-4eb3-98ba-31eb4ff2952f",
   "metadata": {},
   "outputs": [],
   "source": [
    "name = 'Bruce Lee'"
   ]
  },
  {
   "cell_type": "code",
   "execution_count": 21,
   "id": "507a2bbf-0e3d-4203-948a-050241962505",
   "metadata": {},
   "outputs": [
    {
     "name": "stdout",
     "output_type": "stream",
     "text": [
      "Bruce Lee\n"
     ]
    }
   ],
   "source": [
    "print(name)"
   ]
  },
  {
   "cell_type": "code",
   "execution_count": 29,
   "id": "62272d11-43a4-47fa-b380-ad2b9cf032b1",
   "metadata": {},
   "outputs": [
    {
     "data": {
      "text/plain": [
       "80658175170943878571660636856403766975289505440883277824000000000000"
      ]
     },
     "execution_count": 29,
     "metadata": {},
     "output_type": "execute_result"
    }
   ],
   "source": [
    "# 52! or the number of ways to shuffle cards\n",
    "import math\n",
    "math.factorial(52)"
   ]
  },
  {
   "cell_type": "code",
   "execution_count": 31,
   "id": "d24ab443-6ae1-4bcd-b81d-6a6ac9a53ffd",
   "metadata": {},
   "outputs": [
    {
     "data": {
      "text/plain": [
       "1000000000000000000000000000000000000000000000000000000000000000000000000000000"
      ]
     },
     "execution_count": 31,
     "metadata": {},
     "output_type": "execute_result"
    }
   ],
   "source": [
    "10 ** 78"
   ]
  },
  {
   "cell_type": "code",
   "execution_count": 33,
   "id": "905ef6a8-b2cd-4433-9e71-a7309af02f37",
   "metadata": {},
   "outputs": [
    {
     "data": {
      "text/plain": [
       "204913152000000000000"
      ]
     },
     "execution_count": 33,
     "metadata": {},
     "output_type": "execute_result"
    }
   ],
   "source": [
    "# 1224 A.D. we'll say cards came into existence\n",
    "# 8.1B on earth\n",
    "# shuffling cards once a second since 1224 A.D.\n",
    "8_100_000_000 * 800 * 366 * 24 * 60 * 60"
   ]
  },
  {
   "cell_type": "code",
   "execution_count": 35,
   "id": "8e21514d-08e6-4174-8ac5-1f02f7093f5c",
   "metadata": {},
   "outputs": [
    {
     "data": {
      "text/plain": [
       "2.540513116813204e-48"
      ]
     },
     "execution_count": 35,
     "metadata": {},
     "output_type": "execute_result"
    }
   ],
   "source": [
    "204913152000000000000 / 80658175170943878571660636856403766975289505440883277824000000000000"
   ]
  },
  {
   "cell_type": "code",
   "execution_count": null,
   "id": "c157b6c6-f2ce-4465-9b4a-fcbfa73fa6bc",
   "metadata": {},
   "outputs": [],
   "source": [
    ".0000000000000000000000000000000000000000000002540513116813204"
   ]
  },
  {
   "cell_type": "code",
   "execution_count": 37,
   "id": "16e1fa5f-a486-4289-b6bb-25f2f58c536f",
   "metadata": {},
   "outputs": [
    {
     "data": {
      "text/plain": [
       "3.141592653589793"
      ]
     },
     "execution_count": 37,
     "metadata": {},
     "output_type": "execute_result"
    }
   ],
   "source": [
    "math.pi"
   ]
  },
  {
   "cell_type": "code",
   "execution_count": 39,
   "id": "81e41515-5402-4fa3-ba7d-c259a5590839",
   "metadata": {},
   "outputs": [
    {
     "data": {
      "text/plain": [
       "2.718281828459045"
      ]
     },
     "execution_count": 39,
     "metadata": {},
     "output_type": "execute_result"
    }
   ],
   "source": [
    "math.e"
   ]
  },
  {
   "cell_type": "code",
   "execution_count": 42,
   "id": "c5ce2dbb-dd39-4dd7-be50-d4e19becee76",
   "metadata": {},
   "outputs": [
    {
     "name": "stdout",
     "output_type": "stream",
     "text": [
      "01234567890123456789012345678901234567890123456789012345678901234567890123456789\n",
      "--------------------------------------------------------------------------------\n"
     ]
    }
   ],
   "source": [
    "print('0123456789' * 8)\n",
    "print('-' * 80)"
   ]
  },
  {
   "cell_type": "code",
   "execution_count": 45,
   "id": "2d9511cb-5b6f-4fad-b61a-ed3496a30a68",
   "metadata": {},
   "outputs": [],
   "source": [
    "a, b, o, p = 'b', 'a', 'p', 'o'"
   ]
  },
  {
   "cell_type": "code",
   "execution_count": 47,
   "id": "c8b8926a-05ca-4cd7-b29c-fca81dfe2516",
   "metadata": {},
   "outputs": [
    {
     "data": {
      "text/plain": [
       "'pop'"
      ]
     },
     "execution_count": 47,
     "metadata": {},
     "output_type": "execute_result"
    }
   ],
   "source": [
    "o + p + o"
   ]
  },
  {
   "cell_type": "code",
   "execution_count": 49,
   "id": "970468d3-20a3-4ff8-8372-f1ced95cfa52",
   "metadata": {},
   "outputs": [
    {
     "data": {
      "text/plain": [
       "'bbba'"
      ]
     },
     "execution_count": 49,
     "metadata": {},
     "output_type": "execute_result"
    }
   ],
   "source": [
    "a * 3 + b"
   ]
  },
  {
   "cell_type": "code",
   "execution_count": 51,
   "id": "3835bee5-ab88-49d5-9db9-e96bff92d38b",
   "metadata": {},
   "outputs": [
    {
     "data": {
      "text/plain": [
       "'bookkeeper'"
      ]
     },
     "execution_count": 51,
     "metadata": {},
     "output_type": "execute_result"
    }
   ],
   "source": [
    "a + p * 2 + 'k' * 2 + 'e' * 2 + o + 'er'"
   ]
  },
  {
   "cell_type": "code",
   "execution_count": 63,
   "id": "93690405-56bd-4315-b7cf-73e29b4a41ab",
   "metadata": {},
   "outputs": [
    {
     "name": "stdout",
     "output_type": "stream",
     "text": [
      "all is well with the world\n"
     ]
    }
   ],
   "source": [
    "if 2 + 3 == 5:\n",
    "    print('all is well with the world')"
   ]
  },
  {
   "cell_type": "code",
   "execution_count": 65,
   "id": "c2a49c29-17be-4afa-9ea2-3c86b97f29fb",
   "metadata": {},
   "outputs": [
    {
     "ename": "SyntaxError",
     "evalue": "invalid syntax (2784298368.py, line 1)",
     "output_type": "error",
     "traceback": [
      "\u001b[0;36m  Cell \u001b[0;32mIn[65], line 1\u001b[0;36m\u001b[0m\n\u001b[0;31m    else = 4\u001b[0m\n\u001b[0m    ^\u001b[0m\n\u001b[0;31mSyntaxError\u001b[0m\u001b[0;31m:\u001b[0m invalid syntax\n"
     ]
    }
   ],
   "source": [
    "else = 4"
   ]
  },
  {
   "cell_type": "code",
   "execution_count": 67,
   "id": "976c7299-3b37-4148-af78-e7c6223e64f5",
   "metadata": {},
   "outputs": [
    {
     "ename": "SyntaxError",
     "evalue": "invalid syntax (2545682580.py, line 1)",
     "output_type": "error",
     "traceback": [
      "\u001b[0;36m  Cell \u001b[0;32mIn[67], line 1\u001b[0;36m\u001b[0m\n\u001b[0;31m    import = 4\u001b[0m\n\u001b[0m           ^\u001b[0m\n\u001b[0;31mSyntaxError\u001b[0m\u001b[0;31m:\u001b[0m invalid syntax\n"
     ]
    }
   ],
   "source": [
    "import = 4"
   ]
  },
  {
   "cell_type": "code",
   "execution_count": 69,
   "id": "663711c2-5d6c-4aa3-8ed7-fb0c3a0f0fa3",
   "metadata": {},
   "outputs": [
    {
     "ename": "SyntaxError",
     "evalue": "cannot assign to True (1770609971.py, line 1)",
     "output_type": "error",
     "traceback": [
      "\u001b[0;36m  Cell \u001b[0;32mIn[69], line 1\u001b[0;36m\u001b[0m\n\u001b[0;31m    True = 1\u001b[0m\n\u001b[0m    ^\u001b[0m\n\u001b[0;31mSyntaxError\u001b[0m\u001b[0;31m:\u001b[0m cannot assign to True\n"
     ]
    }
   ],
   "source": [
    "True = 1"
   ]
  },
  {
   "cell_type": "code",
   "execution_count": 72,
   "id": "b2246ab6-ff42-4af6-b4a0-966f1b50df5b",
   "metadata": {},
   "outputs": [],
   "source": [
    "age = 12"
   ]
  },
  {
   "cell_type": "code",
   "execution_count": null,
   "id": "f09ee623-7e2b-4095-b536-11e061bf3792",
   "metadata": {},
   "outputs": [],
   "source": [
    "if age == 1:\n",
    "    print('You are 1 today!')\n",
    "elif age == 2:\n",
    "    print('You are 2 today!')"
   ]
  },
  {
   "cell_type": "code",
   "execution_count": 75,
   "id": "e64d3ab4-2b3a-4861-a2d4-29903d6d0fb0",
   "metadata": {},
   "outputs": [
    {
     "name": "stdin",
     "output_type": "stream",
     "text": [
      "Enter your guess:  17\n"
     ]
    }
   ],
   "source": [
    "guess = input('Enter your guess: ')"
   ]
  },
  {
   "cell_type": "code",
   "execution_count": 77,
   "id": "1c1a8aac-a489-49bf-8cd6-2fcac12e7001",
   "metadata": {},
   "outputs": [
    {
     "data": {
      "text/plain": [
       "'17'"
      ]
     },
     "execution_count": 77,
     "metadata": {},
     "output_type": "execute_result"
    }
   ],
   "source": [
    "guess"
   ]
  },
  {
   "cell_type": "code",
   "execution_count": 79,
   "id": "012dba49-e924-4427-8a40-c1a233d16869",
   "metadata": {},
   "outputs": [
    {
     "ename": "TypeError",
     "evalue": "'>' not supported between instances of 'str' and 'int'",
     "output_type": "error",
     "traceback": [
      "\u001b[0;31m---------------------------------------------------------------------------\u001b[0m",
      "\u001b[0;31mTypeError\u001b[0m                                 Traceback (most recent call last)",
      "Cell \u001b[0;32mIn[79], line 1\u001b[0m\n\u001b[0;32m----> 1\u001b[0m \u001b[38;5;28;01mif\u001b[39;00m guess \u001b[38;5;241m>\u001b[39m \u001b[38;5;241m10\u001b[39m:\n\u001b[1;32m      2\u001b[0m     \u001b[38;5;28mprint\u001b[39m(\u001b[38;5;124m'\u001b[39m\u001b[38;5;124myes\u001b[39m\u001b[38;5;124m'\u001b[39m)\n",
      "\u001b[0;31mTypeError\u001b[0m: '>' not supported between instances of 'str' and 'int'"
     ]
    }
   ],
   "source": [
    "if guess > 10:\n",
    "    print('yes')"
   ]
  },
  {
   "cell_type": "code",
   "execution_count": 86,
   "id": "3c909016-eb7f-4696-8a8f-7abf7a708755",
   "metadata": {},
   "outputs": [
    {
     "name": "stdin",
     "output_type": "stream",
     "text": [
      "Enter your guess:  four\n"
     ]
    },
    {
     "ename": "ValueError",
     "evalue": "invalid literal for int() with base 10: 'four'",
     "output_type": "error",
     "traceback": [
      "\u001b[0;31m---------------------------------------------------------------------------\u001b[0m",
      "\u001b[0;31mValueError\u001b[0m                                Traceback (most recent call last)",
      "Cell \u001b[0;32mIn[86], line 1\u001b[0m\n\u001b[0;32m----> 1\u001b[0m guess \u001b[38;5;241m=\u001b[39m \u001b[38;5;28mint\u001b[39m(\u001b[38;5;28minput\u001b[39m(\u001b[38;5;124m'\u001b[39m\u001b[38;5;124mEnter your guess: \u001b[39m\u001b[38;5;124m'\u001b[39m))\n",
      "\u001b[0;31mValueError\u001b[0m: invalid literal for int() with base 10: 'four'"
     ]
    }
   ],
   "source": [
    "guess = int(input('Enter your guess: '))"
   ]
  },
  {
   "cell_type": "code",
   "execution_count": 84,
   "id": "c991f7a2-780f-47c6-b40e-f93b92253be5",
   "metadata": {},
   "outputs": [
    {
     "data": {
      "text/plain": [
       "17"
      ]
     },
     "execution_count": 84,
     "metadata": {},
     "output_type": "execute_result"
    }
   ],
   "source": [
    "guess"
   ]
  },
  {
   "cell_type": "code",
   "execution_count": 92,
   "id": "ec3fa132-058e-4872-b97e-19db6e5a4d28",
   "metadata": {},
   "outputs": [
    {
     "data": {
      "text/plain": [
       "True"
      ]
     },
     "execution_count": 92,
     "metadata": {},
     "output_type": "execute_result"
    }
   ],
   "source": [
    "'S' in 'San Francisco'"
   ]
  },
  {
   "cell_type": "code",
   "execution_count": 94,
   "id": "96ab07b6-4ff7-48c6-ab2f-5f5deca5ae73",
   "metadata": {},
   "outputs": [
    {
     "data": {
      "text/plain": [
       "False"
      ]
     },
     "execution_count": 94,
     "metadata": {},
     "output_type": "execute_result"
    }
   ],
   "source": [
    "'J' in 'San Francisco'"
   ]
  },
  {
   "cell_type": "code",
   "execution_count": 96,
   "id": "0bc5428e-7a84-460c-8ebe-c769f77ac06e",
   "metadata": {},
   "outputs": [
    {
     "data": {
      "text/plain": [
       "True"
      ]
     },
     "execution_count": 96,
     "metadata": {},
     "output_type": "execute_result"
    }
   ],
   "source": [
    "'Fran' in 'San Francisco'"
   ]
  },
  {
   "cell_type": "code",
   "execution_count": 98,
   "id": "0c406ab5-243c-4357-a78d-bdcbcb24e6ad",
   "metadata": {},
   "outputs": [
    {
     "data": {
      "text/plain": [
       "False"
      ]
     },
     "execution_count": 98,
     "metadata": {},
     "output_type": "execute_result"
    }
   ],
   "source": [
    "'Fan' in 'San Francisco'"
   ]
  },
  {
   "cell_type": "code",
   "execution_count": 101,
   "id": "f48299b3-451d-401e-ab87-2dcf1fb17d94",
   "metadata": {},
   "outputs": [],
   "source": [
    "import random"
   ]
  },
  {
   "cell_type": "code",
   "execution_count": 103,
   "id": "c41df14c-75de-4d7d-9ca5-189f94381ba2",
   "metadata": {},
   "outputs": [
    {
     "data": {
      "text/plain": [
       "module"
      ]
     },
     "execution_count": 103,
     "metadata": {},
     "output_type": "execute_result"
    }
   ],
   "source": [
    "type(random)"
   ]
  },
  {
   "cell_type": "code",
   "execution_count": 105,
   "id": "00c810c5-5b3c-4018-b33b-aa57a347f125",
   "metadata": {},
   "outputs": [
    {
     "data": {
      "text/plain": [
       "['BPF',\n",
       " 'LOG4',\n",
       " 'NV_MAGICCONST',\n",
       " 'RECIP_BPF',\n",
       " 'Random',\n",
       " 'SG_MAGICCONST',\n",
       " 'SystemRandom',\n",
       " 'TWOPI',\n",
       " '_ONE',\n",
       " '_Sequence',\n",
       " '_Set',\n",
       " '__all__',\n",
       " '__builtins__',\n",
       " '__cached__',\n",
       " '__doc__',\n",
       " '__file__',\n",
       " '__loader__',\n",
       " '__name__',\n",
       " '__package__',\n",
       " '__spec__',\n",
       " '_accumulate',\n",
       " '_acos',\n",
       " '_bisect',\n",
       " '_ceil',\n",
       " '_cos',\n",
       " '_e',\n",
       " '_exp',\n",
       " '_floor',\n",
       " '_index',\n",
       " '_inst',\n",
       " '_isfinite',\n",
       " '_log',\n",
       " '_os',\n",
       " '_pi',\n",
       " '_random',\n",
       " '_repeat',\n",
       " '_sha512',\n",
       " '_sin',\n",
       " '_sqrt',\n",
       " '_test',\n",
       " '_test_generator',\n",
       " '_urandom',\n",
       " '_warn',\n",
       " 'betavariate',\n",
       " 'choice',\n",
       " 'choices',\n",
       " 'expovariate',\n",
       " 'gammavariate',\n",
       " 'gauss',\n",
       " 'getrandbits',\n",
       " 'getstate',\n",
       " 'lognormvariate',\n",
       " 'normalvariate',\n",
       " 'paretovariate',\n",
       " 'randbytes',\n",
       " 'randint',\n",
       " 'random',\n",
       " 'randrange',\n",
       " 'sample',\n",
       " 'seed',\n",
       " 'setstate',\n",
       " 'shuffle',\n",
       " 'triangular',\n",
       " 'uniform',\n",
       " 'vonmisesvariate',\n",
       " 'weibullvariate']"
      ]
     },
     "execution_count": 105,
     "metadata": {},
     "output_type": "execute_result"
    }
   ],
   "source": [
    "dir(random)"
   ]
  },
  {
   "cell_type": "code",
   "execution_count": 107,
   "id": "e768637e-2b22-4a4f-8239-606f2f1d6c6e",
   "metadata": {},
   "outputs": [
    {
     "name": "stdout",
     "output_type": "stream",
     "text": [
      "Help on method randint in module random:\n",
      "\n",
      "randint(a, b) method of random.Random instance\n",
      "    Return random integer in range [a, b], including both end points.\n",
      "\n"
     ]
    }
   ],
   "source": [
    "help(random.randint)"
   ]
  },
  {
   "cell_type": "code",
   "execution_count": 125,
   "id": "723a4d5c-165e-44cf-b3ff-ff033f33a83e",
   "metadata": {},
   "outputs": [
    {
     "data": {
      "text/plain": [
       "56"
      ]
     },
     "execution_count": 125,
     "metadata": {},
     "output_type": "execute_result"
    }
   ],
   "source": [
    "random.randint(1, 100)"
   ]
  },
  {
   "cell_type": "code",
   "execution_count": 128,
   "id": "390fb3b1-dcd9-4694-9fa4-871ab0f9fc12",
   "metadata": {},
   "outputs": [
    {
     "ename": "ZeroDivisionError",
     "evalue": "division by zero",
     "output_type": "error",
     "traceback": [
      "\u001b[0;31m---------------------------------------------------------------------------\u001b[0m",
      "\u001b[0;31mZeroDivisionError\u001b[0m                         Traceback (most recent call last)",
      "Cell \u001b[0;32mIn[128], line 1\u001b[0m\n\u001b[0;32m----> 1\u001b[0m \u001b[38;5;241m1\u001b[39m \u001b[38;5;241m/\u001b[39m \u001b[38;5;241m0\u001b[39m\n",
      "\u001b[0;31mZeroDivisionError\u001b[0m: division by zero"
     ]
    }
   ],
   "source": [
    "1 / 0"
   ]
  },
  {
   "cell_type": "markdown",
   "id": "58dc732f-fab5-4e15-90c9-19c31e307129",
   "metadata": {},
   "source": [
    "## Quick Lab: Loops/Strings\n",
    "* have the user enter a string, then loop through the string to generate (or print) a new string in which every character is duplicated, e.g., \"Python\" => \"PPyytthhoonn\""
   ]
  },
  {
   "cell_type": "code",
   "execution_count": 138,
   "id": "b25e85c5-0f37-41c6-9ab2-55ee7a724f76",
   "metadata": {},
   "outputs": [],
   "source": [
    "# 1. get a string from the user\n",
    "# 2. for each character in the string:\n",
    "# 3.    print it twice"
   ]
  },
  {
   "cell_type": "code",
   "execution_count": 150,
   "id": "d3aa05bb-ed85-44a5-99a7-48cf02baf9c5",
   "metadata": {},
   "outputs": [
    {
     "name": "stdin",
     "output_type": "stream",
     "text": [
      "Enter some text:  Swift\n"
     ]
    },
    {
     "name": "stdout",
     "output_type": "stream",
     "text": [
      "SSwwiifftt"
     ]
    }
   ],
   "source": [
    "string = input('Enter some text: ') # 1\n",
    "for char in string: # 2\n",
    "    print(char * 2, end='') # 3 ... remember end='' will write NOTHING after printing"
   ]
  },
  {
   "cell_type": "code",
   "execution_count": 148,
   "id": "6ca96191-64b3-45bf-9c9e-209fec0d9d74",
   "metadata": {},
   "outputs": [
    {
     "name": "stdin",
     "output_type": "stream",
     "text": [
      "Enter some text:  Lovelac\n"
     ]
    },
    {
     "name": "stdout",
     "output_type": "stream",
     "text": [
      "LLoovveellaacc\n"
     ]
    }
   ],
   "source": [
    "# 1. get a string from the user\n",
    "# 1a. create a new empty string\n",
    "# 2. for each character in the string:\n",
    "# 2a. append/concatenate that charater to the new string twice\n",
    "# 3. print the new string\n",
    "\n",
    "string = input('Enter some text: ') # 1\n",
    "new_string = '' # 1a\n",
    "\n",
    "for char in string: # 2\n",
    "    new_string = new_string + char * 2\n",
    "    # new_string += char * 2\n",
    "    \n",
    "print(new_string)"
   ]
  },
  {
   "cell_type": "code",
   "execution_count": 152,
   "id": "d4bd69fa-7807-4e47-9590-ee1a50ff835e",
   "metadata": {},
   "outputs": [
    {
     "name": "stdin",
     "output_type": "stream",
     "text": [
      "Enter some text:  Bruce Lee\n"
     ]
    },
    {
     "name": "stdout",
     "output_type": "stream",
     "text": [
      "BBrruuccee  LLeeee"
     ]
    }
   ],
   "source": [
    "string = input('Enter some text: ') # 1\n",
    "for char in string: # 2\n",
    "    print(char + char, end='') # 3 ... remember end='' will write NOTHING after printing"
   ]
  },
  {
   "cell_type": "code",
   "execution_count": 158,
   "id": "e0b054fc-2197-40e5-aa8a-f3639d571f0b",
   "metadata": {},
   "outputs": [
    {
     "name": "stdin",
     "output_type": "stream",
     "text": [
      "Enter some text:  bruce lee\n"
     ]
    },
    {
     "name": "stdout",
     "output_type": "stream",
     "text": [
      "bbrruuccee  lleeee"
     ]
    }
   ],
   "source": [
    "string = input('Enter some text: ') # 1\n",
    "for char in string: # 2\n",
    "    print(char, char, sep='', end='') # 3 ... remember end='' will write NOTHING after printing"
   ]
  },
  {
   "cell_type": "code",
   "execution_count": 160,
   "id": "594ef474-f4d3-4701-ae8f-8111f60a3dba",
   "metadata": {},
   "outputs": [
    {
     "name": "stdin",
     "output_type": "stream",
     "text": [
      "Enter some text:  Taylor Swift\n"
     ]
    },
    {
     "name": "stdout",
     "output_type": "stream",
     "text": [
      "TTaayylloorr  SSwwiifftt"
     ]
    }
   ],
   "source": [
    "string = input('Enter some text: ') # 1\n",
    "for char in string: # 2\n",
    "    print(char, end=char)"
   ]
  },
  {
   "cell_type": "markdown",
   "id": "071bade8-ac4a-4c63-9a3c-0908c088e42f",
   "metadata": {},
   "source": [
    "## (Group) Lab: Loops\n",
    "* Loop through the numbers from 2 to 25 and print out which numbers are prime, and for those numbers which are not prime numbers, you should print them as a product of two factors\n",
    "* prime = no divisors other than 1 and itself\n",
    "* example output:\n",
    "<pre>\n",
    "2 is PRIME\n",
    "3 is PRIME\n",
    "4 is divisible by 2\n",
    "5 is PRIME\n",
    "6 is divisible by 2\n",
    "7 is PRIME\n",
    "8 is divisible by 2\n",
    "9 is divisible by 3\n",
    "10 is divisible by 2\n",
    "11 is PRIME\n",
    "12 is divisible by 2\n",
    "13 is PRIME\n",
    "14 is divisible by 2\n",
    "15 is divisible by 3\n",
    "16 is divisible by 2\n",
    "17 is PRIME\n",
    "18 is divisible by 2\n",
    "19 is PRIME\n",
    "20 is divisible by 2\n",
    "21 is divisible by 3\n",
    "22 is divisible by 2\n",
    "23 is PRIME\n",
    "24 is divisible by 2\n",
    "25 is divisible by 5\n",
    "</pre>"
   ]
  },
  {
   "cell_type": "code",
   "execution_count": null,
   "id": "b657ab90-0dca-4666-a46b-18cb690e0da3",
   "metadata": {},
   "outputs": [],
   "source": [
    "# what are the steps you would need to tell someone else how to do this\n",
    "# and be successful\n",
    "# consider the numbers from 2 to 25\n",
    "# see if there is any number below the current number (and >= 2) that divides in evenly\n",
    "# if it divides in evenly, \"not prime, or it's divisible by this number\" and STOP CHECKING\n",
    "# if NONE of the numbers below our number divide in evenly, then \"PRIME\""
   ]
  },
  {
   "cell_type": "code",
   "execution_count": null,
   "id": "b86ea28c-542a-44cf-b18d-0090ba9e6288",
   "metadata": {},
   "outputs": [],
   "source": [
    "# 1. for each number from 2 to 25:\n",
    "# 2.    for each possible_divisor from 2 to number-1:\n",
    "# 3.        if possible_divisor divides in to number evenly:\n",
    "# 4.           \"is divisible by\" possible_divisor\n",
    "# 5.           break\n",
    "# 6.    if we didn't find a divisor, \"PRIME\" "
   ]
  },
  {
   "cell_type": "code",
   "execution_count": 1,
   "id": "6e0f8372-c858-4377-bedd-cd43e9b0e75d",
   "metadata": {},
   "outputs": [
    {
     "name": "stdout",
     "output_type": "stream",
     "text": [
      "2 is PRIME\n",
      "3 is PRIME\n",
      "4 is divisible by 2\n",
      "5 is PRIME\n",
      "6 is divisible by 2\n",
      "7 is PRIME\n",
      "8 is divisible by 2\n",
      "9 is divisible by 3\n",
      "10 is divisible by 2\n",
      "11 is PRIME\n",
      "12 is divisible by 2\n",
      "13 is PRIME\n",
      "14 is divisible by 2\n",
      "15 is divisible by 3\n",
      "16 is divisible by 2\n",
      "17 is PRIME\n",
      "18 is divisible by 2\n",
      "19 is PRIME\n",
      "20 is divisible by 2\n",
      "21 is divisible by 3\n",
      "22 is divisible by 2\n",
      "23 is PRIME\n",
      "24 is divisible by 2\n",
      "25 is divisible by 5\n"
     ]
    }
   ],
   "source": [
    "for number in range(2, 26): # 1\n",
    "    result = 'prime' # start out by assuming prime\n",
    "    for possible_divisor in range(2, number): # 2 (2..number-1)\n",
    "        if number % possible_divisor == 0: # 3\n",
    "            print(number, 'is divisible by', possible_divisor) # 4\n",
    "            result = 'composite'\n",
    "            break # 5\n",
    "    # did we find a divisor or not?\n",
    "    if result == 'prime':\n",
    "        print(number, 'is PRIME')"
   ]
  },
  {
   "cell_type": "code",
   "execution_count": 12,
   "id": "d4d399f6-e102-421c-908d-6f9e9c0cfdf1",
   "metadata": {},
   "outputs": [
    {
     "name": "stdout",
     "output_type": "stream",
     "text": [
      "5000 equals 2 * 2500\n",
      "5001 equals 3 * 1667\n",
      "5002 equals 2 * 2501\n",
      "5003 is PRIME\n",
      "5004 equals 2 * 2502\n",
      "5005 equals 5 * 1001\n",
      "5006 equals 2 * 2503\n",
      "5007 equals 3 * 1669\n",
      "5008 equals 2 * 2504\n",
      "5009 is PRIME\n",
      "5010 equals 2 * 2505\n",
      "5011 is PRIME\n",
      "5012 equals 2 * 2506\n",
      "5013 equals 3 * 1671\n",
      "5014 equals 2 * 2507\n",
      "5015 equals 5 * 1003\n",
      "5016 equals 2 * 2508\n",
      "5017 equals 29 * 173\n",
      "5018 equals 2 * 2509\n",
      "5019 equals 3 * 1673\n",
      "5020 equals 2 * 2510\n",
      "5021 is PRIME\n",
      "5022 equals 2 * 2511\n",
      "5023 is PRIME\n",
      "5024 equals 2 * 2512\n",
      "5025 equals 3 * 1675\n",
      "5026 equals 2 * 2513\n",
      "5027 equals 11 * 457\n",
      "5028 equals 2 * 2514\n",
      "5029 equals 47 * 107\n",
      "5030 equals 2 * 2515\n",
      "5031 equals 3 * 1677\n",
      "5032 equals 2 * 2516\n",
      "5033 equals 7 * 719\n",
      "5034 equals 2 * 2517\n",
      "5035 equals 5 * 1007\n",
      "5036 equals 2 * 2518\n",
      "5037 equals 3 * 1679\n",
      "5038 equals 2 * 2519\n",
      "5039 is PRIME\n",
      "5040 equals 2 * 2520\n",
      "5041 equals 71 * 71\n",
      "5042 equals 2 * 2521\n",
      "5043 equals 3 * 1681\n",
      "5044 equals 2 * 2522\n",
      "5045 equals 5 * 1009\n",
      "5046 equals 2 * 2523\n",
      "5047 equals 7 * 721\n",
      "5048 equals 2 * 2524\n",
      "5049 equals 3 * 1683\n",
      "5050 equals 2 * 2525\n",
      "5051 is PRIME\n",
      "5052 equals 2 * 2526\n",
      "5053 equals 31 * 163\n",
      "5054 equals 2 * 2527\n",
      "5055 equals 3 * 1685\n",
      "5056 equals 2 * 2528\n",
      "5057 equals 13 * 389\n",
      "5058 equals 2 * 2529\n",
      "5059 is PRIME\n",
      "5060 equals 2 * 2530\n",
      "5061 equals 3 * 1687\n",
      "5062 equals 2 * 2531\n",
      "5063 equals 61 * 83\n",
      "5064 equals 2 * 2532\n",
      "5065 equals 5 * 1013\n",
      "5066 equals 2 * 2533\n",
      "5067 equals 3 * 1689\n",
      "5068 equals 2 * 2534\n",
      "5069 equals 37 * 137\n",
      "5070 equals 2 * 2535\n",
      "5071 equals 11 * 461\n",
      "5072 equals 2 * 2536\n",
      "5073 equals 3 * 1691\n",
      "5074 equals 2 * 2537\n",
      "5075 equals 5 * 1015\n",
      "5076 equals 2 * 2538\n",
      "5077 is PRIME\n",
      "5078 equals 2 * 2539\n",
      "5079 equals 3 * 1693\n",
      "5080 equals 2 * 2540\n",
      "5081 is PRIME\n",
      "5082 equals 2 * 2541\n",
      "5083 equals 13 * 391\n",
      "5084 equals 2 * 2542\n",
      "5085 equals 3 * 1695\n",
      "5086 equals 2 * 2543\n",
      "5087 is PRIME\n",
      "5088 equals 2 * 2544\n",
      "5089 equals 7 * 727\n",
      "5090 equals 2 * 2545\n",
      "5091 equals 3 * 1697\n",
      "5092 equals 2 * 2546\n",
      "5093 equals 11 * 463\n",
      "5094 equals 2 * 2547\n",
      "5095 equals 5 * 1019\n",
      "5096 equals 2 * 2548\n",
      "5097 equals 3 * 1699\n",
      "5098 equals 2 * 2549\n",
      "5099 is PRIME\n",
      "5100 equals 2 * 2550\n",
      "5101 is PRIME\n",
      "5102 equals 2 * 2551\n",
      "5103 equals 3 * 1701\n",
      "5104 equals 2 * 2552\n",
      "5105 equals 5 * 1021\n",
      "5106 equals 2 * 2553\n",
      "5107 is PRIME\n",
      "5108 equals 2 * 2554\n",
      "5109 equals 3 * 1703\n",
      "5110 equals 2 * 2555\n",
      "5111 equals 19 * 269\n",
      "5112 equals 2 * 2556\n",
      "5113 is PRIME\n",
      "5114 equals 2 * 2557\n",
      "5115 equals 3 * 1705\n",
      "5116 equals 2 * 2558\n",
      "5117 equals 7 * 731\n",
      "5118 equals 2 * 2559\n",
      "5119 is PRIME\n",
      "5120 equals 2 * 2560\n",
      "5121 equals 3 * 1707\n",
      "5122 equals 2 * 2561\n",
      "5123 equals 47 * 109\n",
      "5124 equals 2 * 2562\n",
      "5125 equals 5 * 1025\n",
      "5126 equals 2 * 2563\n",
      "5127 equals 3 * 1709\n",
      "5128 equals 2 * 2564\n",
      "5129 equals 23 * 223\n",
      "5130 equals 2 * 2565\n",
      "5131 equals 7 * 733\n",
      "5132 equals 2 * 2566\n",
      "5133 equals 3 * 1711\n",
      "5134 equals 2 * 2567\n",
      "5135 equals 5 * 1027\n",
      "5136 equals 2 * 2568\n",
      "5137 equals 11 * 467\n",
      "5138 equals 2 * 2569\n",
      "5139 equals 3 * 1713\n",
      "5140 equals 2 * 2570\n",
      "5141 equals 53 * 97\n",
      "5142 equals 2 * 2571\n",
      "5143 equals 37 * 139\n",
      "5144 equals 2 * 2572\n",
      "5145 equals 3 * 1715\n",
      "5146 equals 2 * 2573\n",
      "5147 is PRIME\n",
      "5148 equals 2 * 2574\n",
      "5149 equals 19 * 271\n",
      "5150 equals 2 * 2575\n",
      "5151 equals 3 * 1717\n",
      "5152 equals 2 * 2576\n",
      "5153 is PRIME\n",
      "5154 equals 2 * 2577\n",
      "5155 equals 5 * 1031\n",
      "5156 equals 2 * 2578\n",
      "5157 equals 3 * 1719\n",
      "5158 equals 2 * 2579\n",
      "5159 equals 7 * 737\n",
      "5160 equals 2 * 2580\n",
      "5161 equals 13 * 397\n",
      "5162 equals 2 * 2581\n",
      "5163 equals 3 * 1721\n",
      "5164 equals 2 * 2582\n",
      "5165 equals 5 * 1033\n",
      "5166 equals 2 * 2583\n",
      "5167 is PRIME\n",
      "5168 equals 2 * 2584\n",
      "5169 equals 3 * 1723\n",
      "5170 equals 2 * 2585\n",
      "5171 is PRIME\n",
      "5172 equals 2 * 2586\n",
      "5173 equals 7 * 739\n",
      "5174 equals 2 * 2587\n",
      "5175 equals 3 * 1725\n",
      "5176 equals 2 * 2588\n",
      "5177 equals 31 * 167\n",
      "5178 equals 2 * 2589\n",
      "5179 is PRIME\n",
      "5180 equals 2 * 2590\n",
      "5181 equals 3 * 1727\n",
      "5182 equals 2 * 2591\n",
      "5183 equals 71 * 73\n",
      "5184 equals 2 * 2592\n",
      "5185 equals 5 * 1037\n",
      "5186 equals 2 * 2593\n",
      "5187 equals 3 * 1729\n",
      "5188 equals 2 * 2594\n",
      "5189 is PRIME\n",
      "5190 equals 2 * 2595\n",
      "5191 equals 29 * 179\n",
      "5192 equals 2 * 2596\n",
      "5193 equals 3 * 1731\n",
      "5194 equals 2 * 2597\n",
      "5195 equals 5 * 1039\n",
      "5196 equals 2 * 2598\n",
      "5197 is PRIME\n",
      "5198 equals 2 * 2599\n",
      "5199 equals 3 * 1733\n",
      "5200 equals 2 * 2600\n",
      "5201 equals 7 * 743\n",
      "5202 equals 2 * 2601\n",
      "5203 equals 11 * 473\n",
      "5204 equals 2 * 2602\n",
      "5205 equals 3 * 1735\n",
      "5206 equals 2 * 2603\n",
      "5207 equals 41 * 127\n",
      "5208 equals 2 * 2604\n",
      "5209 is PRIME\n",
      "5210 equals 2 * 2605\n",
      "5211 equals 3 * 1737\n",
      "5212 equals 2 * 2606\n",
      "5213 equals 13 * 401\n",
      "5214 equals 2 * 2607\n",
      "5215 equals 5 * 1043\n",
      "5216 equals 2 * 2608\n",
      "5217 equals 3 * 1739\n",
      "5218 equals 2 * 2609\n",
      "5219 equals 17 * 307\n",
      "5220 equals 2 * 2610\n",
      "5221 equals 23 * 227\n",
      "5222 equals 2 * 2611\n",
      "5223 equals 3 * 1741\n",
      "5224 equals 2 * 2612\n",
      "5225 equals 5 * 1045\n",
      "5226 equals 2 * 2613\n",
      "5227 is PRIME\n",
      "5228 equals 2 * 2614\n",
      "5229 equals 3 * 1743\n",
      "5230 equals 2 * 2615\n",
      "5231 is PRIME\n",
      "5232 equals 2 * 2616\n",
      "5233 is PRIME\n",
      "5234 equals 2 * 2617\n",
      "5235 equals 3 * 1745\n",
      "5236 equals 2 * 2618\n",
      "5237 is PRIME\n",
      "5238 equals 2 * 2619\n",
      "5239 equals 13 * 403\n",
      "5240 equals 2 * 2620\n",
      "5241 equals 3 * 1747\n",
      "5242 equals 2 * 2621\n",
      "5243 equals 7 * 749\n",
      "5244 equals 2 * 2622\n",
      "5245 equals 5 * 1049\n",
      "5246 equals 2 * 2623\n",
      "5247 equals 3 * 1749\n",
      "5248 equals 2 * 2624\n",
      "5249 equals 29 * 181\n",
      "5250 equals 2 * 2625\n",
      "5251 equals 59 * 89\n",
      "5252 equals 2 * 2626\n",
      "5253 equals 3 * 1751\n",
      "5254 equals 2 * 2627\n",
      "5255 equals 5 * 1051\n",
      "5256 equals 2 * 2628\n",
      "5257 equals 7 * 751\n",
      "5258 equals 2 * 2629\n",
      "5259 equals 3 * 1753\n",
      "5260 equals 2 * 2630\n",
      "5261 is PRIME\n",
      "5262 equals 2 * 2631\n",
      "5263 equals 19 * 277\n",
      "5264 equals 2 * 2632\n",
      "5265 equals 3 * 1755\n",
      "5266 equals 2 * 2633\n",
      "5267 equals 23 * 229\n",
      "5268 equals 2 * 2634\n",
      "5269 equals 11 * 479\n",
      "5270 equals 2 * 2635\n",
      "5271 equals 3 * 1757\n",
      "5272 equals 2 * 2636\n",
      "5273 is PRIME\n",
      "5274 equals 2 * 2637\n",
      "5275 equals 5 * 1055\n",
      "5276 equals 2 * 2638\n",
      "5277 equals 3 * 1759\n",
      "5278 equals 2 * 2639\n",
      "5279 is PRIME\n",
      "5280 equals 2 * 2640\n",
      "5281 is PRIME\n",
      "5282 equals 2 * 2641\n",
      "5283 equals 3 * 1761\n",
      "5284 equals 2 * 2642\n",
      "5285 equals 5 * 1057\n",
      "5286 equals 2 * 2643\n",
      "5287 equals 17 * 311\n",
      "5288 equals 2 * 2644\n",
      "5289 equals 3 * 1763\n",
      "5290 equals 2 * 2645\n",
      "5291 equals 11 * 481\n",
      "5292 equals 2 * 2646\n",
      "5293 equals 67 * 79\n",
      "5294 equals 2 * 2647\n",
      "5295 equals 3 * 1765\n",
      "5296 equals 2 * 2648\n",
      "5297 is PRIME\n",
      "5298 equals 2 * 2649\n",
      "5299 equals 7 * 757\n",
      "5300 equals 2 * 2650\n",
      "5301 equals 3 * 1767\n",
      "5302 equals 2 * 2651\n",
      "5303 is PRIME\n",
      "5304 equals 2 * 2652\n",
      "5305 equals 5 * 1061\n",
      "5306 equals 2 * 2653\n",
      "5307 equals 3 * 1769\n",
      "5308 equals 2 * 2654\n",
      "5309 is PRIME\n",
      "5310 equals 2 * 2655\n",
      "5311 equals 47 * 113\n",
      "5312 equals 2 * 2656\n",
      "5313 equals 3 * 1771\n",
      "5314 equals 2 * 2657\n",
      "5315 equals 5 * 1063\n",
      "5316 equals 2 * 2658\n",
      "5317 equals 13 * 409\n",
      "5318 equals 2 * 2659\n",
      "5319 equals 3 * 1773\n",
      "5320 equals 2 * 2660\n",
      "5321 equals 17 * 313\n",
      "5322 equals 2 * 2661\n",
      "5323 is PRIME\n",
      "5324 equals 2 * 2662\n",
      "5325 equals 3 * 1775\n",
      "5326 equals 2 * 2663\n",
      "5327 equals 7 * 761\n",
      "5328 equals 2 * 2664\n",
      "5329 equals 73 * 73\n",
      "5330 equals 2 * 2665\n",
      "5331 equals 3 * 1777\n",
      "5332 equals 2 * 2666\n",
      "5333 is PRIME\n",
      "5334 equals 2 * 2667\n",
      "5335 equals 5 * 1067\n",
      "5336 equals 2 * 2668\n",
      "5337 equals 3 * 1779\n",
      "5338 equals 2 * 2669\n",
      "5339 equals 19 * 281\n",
      "5340 equals 2 * 2670\n",
      "5341 equals 7 * 763\n",
      "5342 equals 2 * 2671\n",
      "5343 equals 3 * 1781\n",
      "5344 equals 2 * 2672\n",
      "5345 equals 5 * 1069\n",
      "5346 equals 2 * 2673\n",
      "5347 is PRIME\n",
      "5348 equals 2 * 2674\n",
      "5349 equals 3 * 1783\n",
      "5350 equals 2 * 2675\n",
      "5351 is PRIME\n",
      "5352 equals 2 * 2676\n",
      "5353 equals 53 * 101\n",
      "5354 equals 2 * 2677\n",
      "5355 equals 3 * 1785\n",
      "5356 equals 2 * 2678\n",
      "5357 equals 11 * 487\n",
      "5358 equals 2 * 2679\n",
      "5359 equals 23 * 233\n",
      "5360 equals 2 * 2680\n",
      "5361 equals 3 * 1787\n",
      "5362 equals 2 * 2681\n",
      "5363 equals 31 * 173\n",
      "5364 equals 2 * 2682\n",
      "5365 equals 5 * 1073\n",
      "5366 equals 2 * 2683\n",
      "5367 equals 3 * 1789\n",
      "5368 equals 2 * 2684\n",
      "5369 equals 7 * 767\n",
      "5370 equals 2 * 2685\n",
      "5371 equals 41 * 131\n",
      "5372 equals 2 * 2686\n",
      "5373 equals 3 * 1791\n",
      "5374 equals 2 * 2687\n",
      "5375 equals 5 * 1075\n",
      "5376 equals 2 * 2688\n",
      "5377 equals 19 * 283\n",
      "5378 equals 2 * 2689\n",
      "5379 equals 3 * 1793\n",
      "5380 equals 2 * 2690\n",
      "5381 is PRIME\n",
      "5382 equals 2 * 2691\n",
      "5383 equals 7 * 769\n",
      "5384 equals 2 * 2692\n",
      "5385 equals 3 * 1795\n",
      "5386 equals 2 * 2693\n",
      "5387 is PRIME\n",
      "5388 equals 2 * 2694\n",
      "5389 equals 17 * 317\n",
      "5390 equals 2 * 2695\n",
      "5391 equals 3 * 1797\n",
      "5392 equals 2 * 2696\n",
      "5393 is PRIME\n",
      "5394 equals 2 * 2697\n",
      "5395 equals 5 * 1079\n",
      "5396 equals 2 * 2698\n",
      "5397 equals 3 * 1799\n",
      "5398 equals 2 * 2699\n",
      "5399 is PRIME\n",
      "5400 equals 2 * 2700\n",
      "5401 equals 11 * 491\n",
      "5402 equals 2 * 2701\n",
      "5403 equals 3 * 1801\n",
      "5404 equals 2 * 2702\n",
      "5405 equals 5 * 1081\n",
      "5406 equals 2 * 2703\n",
      "5407 is PRIME\n",
      "5408 equals 2 * 2704\n",
      "5409 equals 3 * 1803\n",
      "5410 equals 2 * 2705\n",
      "5411 equals 7 * 773\n",
      "5412 equals 2 * 2706\n",
      "5413 is PRIME\n",
      "5414 equals 2 * 2707\n",
      "5415 equals 3 * 1805\n",
      "5416 equals 2 * 2708\n",
      "5417 is PRIME\n",
      "5418 equals 2 * 2709\n",
      "5419 is PRIME\n",
      "5420 equals 2 * 2710\n",
      "5421 equals 3 * 1807\n",
      "5422 equals 2 * 2711\n",
      "5423 equals 11 * 493\n",
      "5424 equals 2 * 2712\n",
      "5425 equals 5 * 1085\n",
      "5426 equals 2 * 2713\n",
      "5427 equals 3 * 1809\n",
      "5428 equals 2 * 2714\n",
      "5429 equals 61 * 89\n",
      "5430 equals 2 * 2715\n",
      "5431 is PRIME\n",
      "5432 equals 2 * 2716\n",
      "5433 equals 3 * 1811\n",
      "5434 equals 2 * 2717\n",
      "5435 equals 5 * 1087\n",
      "5436 equals 2 * 2718\n",
      "5437 is PRIME\n",
      "5438 equals 2 * 2719\n",
      "5439 equals 3 * 1813\n",
      "5440 equals 2 * 2720\n",
      "5441 is PRIME\n",
      "5442 equals 2 * 2721\n",
      "5443 is PRIME\n",
      "5444 equals 2 * 2722\n",
      "5445 equals 3 * 1815\n",
      "5446 equals 2 * 2723\n",
      "5447 equals 13 * 419\n",
      "5448 equals 2 * 2724\n",
      "5449 is PRIME\n",
      "5450 equals 2 * 2725\n",
      "5451 equals 3 * 1817\n",
      "5452 equals 2 * 2726\n",
      "5453 equals 7 * 779\n",
      "5454 equals 2 * 2727\n",
      "5455 equals 5 * 1091\n",
      "5456 equals 2 * 2728\n",
      "5457 equals 3 * 1819\n",
      "5458 equals 2 * 2729\n",
      "5459 equals 53 * 103\n",
      "5460 equals 2 * 2730\n",
      "5461 equals 43 * 127\n",
      "5462 equals 2 * 2731\n",
      "5463 equals 3 * 1821\n",
      "5464 equals 2 * 2732\n",
      "5465 equals 5 * 1093\n",
      "5466 equals 2 * 2733\n",
      "5467 equals 7 * 781\n",
      "5468 equals 2 * 2734\n",
      "5469 equals 3 * 1823\n",
      "5470 equals 2 * 2735\n",
      "5471 is PRIME\n",
      "5472 equals 2 * 2736\n",
      "5473 equals 13 * 421\n",
      "5474 equals 2 * 2737\n",
      "5475 equals 3 * 1825\n",
      "5476 equals 2 * 2738\n",
      "5477 is PRIME\n",
      "5478 equals 2 * 2739\n",
      "5479 is PRIME\n",
      "5480 equals 2 * 2740\n",
      "5481 equals 3 * 1827\n",
      "5482 equals 2 * 2741\n",
      "5483 is PRIME\n",
      "5484 equals 2 * 2742\n",
      "5485 equals 5 * 1097\n",
      "5486 equals 2 * 2743\n",
      "5487 equals 3 * 1829\n",
      "5488 equals 2 * 2744\n",
      "5489 equals 11 * 499\n",
      "5490 equals 2 * 2745\n",
      "5491 equals 17 * 323\n",
      "5492 equals 2 * 2746\n",
      "5493 equals 3 * 1831\n",
      "5494 equals 2 * 2747\n",
      "5495 equals 5 * 1099\n",
      "5496 equals 2 * 2748\n",
      "5497 equals 23 * 239\n",
      "5498 equals 2 * 2749\n",
      "5499 equals 3 * 1833\n",
      "5500 equals 2 * 2750\n",
      "5501 is PRIME\n",
      "5502 equals 2 * 2751\n",
      "5503 is PRIME\n",
      "5504 equals 2 * 2752\n",
      "5505 equals 3 * 1835\n",
      "5506 equals 2 * 2753\n",
      "5507 is PRIME\n",
      "5508 equals 2 * 2754\n",
      "5509 equals 7 * 787\n",
      "5510 equals 2 * 2755\n",
      "5511 equals 3 * 1837\n",
      "5512 equals 2 * 2756\n",
      "5513 equals 37 * 149\n",
      "5514 equals 2 * 2757\n",
      "5515 equals 5 * 1103\n",
      "5516 equals 2 * 2758\n",
      "5517 equals 3 * 1839\n",
      "5518 equals 2 * 2759\n",
      "5519 is PRIME\n",
      "5520 equals 2 * 2760\n",
      "5521 is PRIME\n",
      "5522 equals 2 * 2761\n",
      "5523 equals 3 * 1841\n",
      "5524 equals 2 * 2762\n",
      "5525 equals 5 * 1105\n",
      "5526 equals 2 * 2763\n",
      "5527 is PRIME\n",
      "5528 equals 2 * 2764\n",
      "5529 equals 3 * 1843\n",
      "5530 equals 2 * 2765\n",
      "5531 is PRIME\n",
      "5532 equals 2 * 2766\n",
      "5533 equals 11 * 503\n",
      "5534 equals 2 * 2767\n",
      "5535 equals 3 * 1845\n",
      "5536 equals 2 * 2768\n",
      "5537 equals 7 * 791\n",
      "5538 equals 2 * 2769\n",
      "5539 equals 29 * 191\n",
      "5540 equals 2 * 2770\n",
      "5541 equals 3 * 1847\n",
      "5542 equals 2 * 2771\n",
      "5543 equals 23 * 241\n",
      "5544 equals 2 * 2772\n",
      "5545 equals 5 * 1109\n",
      "5546 equals 2 * 2773\n",
      "5547 equals 3 * 1849\n",
      "5548 equals 2 * 2774\n",
      "5549 equals 31 * 179\n",
      "5550 equals 2 * 2775\n",
      "5551 equals 7 * 793\n",
      "5552 equals 2 * 2776\n",
      "5553 equals 3 * 1851\n",
      "5554 equals 2 * 2777\n",
      "5555 equals 5 * 1111\n",
      "5556 equals 2 * 2778\n",
      "5557 is PRIME\n",
      "5558 equals 2 * 2779\n",
      "5559 equals 3 * 1853\n",
      "5560 equals 2 * 2780\n",
      "5561 equals 67 * 83\n",
      "5562 equals 2 * 2781\n",
      "5563 is PRIME\n",
      "5564 equals 2 * 2782\n",
      "5565 equals 3 * 1855\n",
      "5566 equals 2 * 2783\n",
      "5567 equals 19 * 293\n",
      "5568 equals 2 * 2784\n",
      "5569 is PRIME\n",
      "5570 equals 2 * 2785\n",
      "5571 equals 3 * 1857\n",
      "5572 equals 2 * 2786\n",
      "5573 is PRIME\n",
      "5574 equals 2 * 2787\n",
      "5575 equals 5 * 1115\n",
      "5576 equals 2 * 2788\n",
      "5577 equals 3 * 1859\n",
      "5578 equals 2 * 2789\n",
      "5579 equals 7 * 797\n",
      "5580 equals 2 * 2790\n",
      "5581 is PRIME\n",
      "5582 equals 2 * 2791\n",
      "5583 equals 3 * 1861\n",
      "5584 equals 2 * 2792\n",
      "5585 equals 5 * 1117\n",
      "5586 equals 2 * 2793\n",
      "5587 equals 37 * 151\n",
      "5588 equals 2 * 2794\n",
      "5589 equals 3 * 1863\n",
      "5590 equals 2 * 2795\n",
      "5591 is PRIME\n",
      "5592 equals 2 * 2796\n",
      "5593 equals 7 * 799\n",
      "5594 equals 2 * 2797\n",
      "5595 equals 3 * 1865\n",
      "5596 equals 2 * 2798\n",
      "5597 equals 29 * 193\n",
      "5598 equals 2 * 2799\n",
      "5599 equals 11 * 509\n"
     ]
    }
   ],
   "source": [
    "for number in range(5000, 5600): # 1\n",
    "    result = 'prime' # start out by assuming prime\n",
    "    for possible_divisor in range(2, number): # 2 (2..number-1)\n",
    "        if number % possible_divisor == 0: # 3\n",
    "            print(number, 'is divisible by', possible_divisor) # 4\n",
    "            result = 'composite'\n",
    "            break # 5\n",
    "    # did we find a divisor or not?\n",
    "    if result == 'prime':\n",
    "        print(number, 'is PRIME')"
   ]
  },
  {
   "cell_type": "code",
   "execution_count": 248,
   "id": "7dd25828-a754-411a-a4d4-f63eed8ecc02",
   "metadata": {
    "tags": []
   },
   "outputs": [
    {
     "name": "stdout",
     "output_type": "stream",
     "text": [
      "2 is PRIME\n",
      "3 is PRIME\n",
      "4 is divisible by 2\n",
      "5 is PRIME\n",
      "6 is divisible by 2, 3\n",
      "7 is PRIME\n",
      "8 is divisible by 2, 4\n",
      "9 is divisible by 3\n",
      "10 is divisible by 2, 5\n",
      "11 is PRIME\n",
      "12 is divisible by 2, 3, 4, 6\n",
      "13 is PRIME\n",
      "14 is divisible by 2, 7\n",
      "15 is divisible by 3, 5\n",
      "16 is divisible by 2, 4, 8\n",
      "17 is PRIME\n",
      "18 is divisible by 2, 3, 6, 9\n",
      "19 is PRIME\n",
      "20 is divisible by 2, 4, 5, 10\n",
      "21 is divisible by 3, 7\n",
      "22 is divisible by 2, 11\n",
      "23 is PRIME\n",
      "24 is divisible by 2, 3, 4, 6, 8, 12\n",
      "25 is divisible by 5\n"
     ]
    }
   ],
   "source": [
    "for number in range(2, 26): # 1\n",
    "    divisors = 0 # count the divisors\n",
    "    \n",
    "    for possible_divisor in range(2, number): # 2 (2..number-1)\n",
    "        if number % possible_divisor == 0: # 3\n",
    "            if divisors == 0:\n",
    "                print(number, 'is divisible by', possible_divisor, end='') # 4\n",
    "            else:\n",
    "                print(',', possible_divisor, end='')\n",
    "            divisors += 1 # divisors = divisors + 1\n",
    "    if not divisors: # if divisors == 0\n",
    "        print(number, 'is PRIME')\n",
    "    else:\n",
    "        print() # only want to do this if there have been divisors..."
   ]
  },
  {
   "cell_type": "code",
   "execution_count": null,
   "id": "02ce009f-6f36-46d6-bf49-4eddc22e52a7",
   "metadata": {},
   "outputs": [],
   "source": []
  },
  {
   "cell_type": "code",
   "execution_count": 168,
   "id": "d420f970-d3be-4d4f-b770-5ad4bb1f5b82",
   "metadata": {},
   "outputs": [
    {
     "data": {
      "text/plain": [
       "113.0"
      ]
     },
     "execution_count": 168,
     "metadata": {},
     "output_type": "execute_result"
    }
   ],
   "source": [
    "2599 / 23"
   ]
  },
  {
   "cell_type": "code",
   "execution_count": 170,
   "id": "8bbfa95f-0134-41a1-8a9c-eb7acdb21d9c",
   "metadata": {},
   "outputs": [
    {
     "data": {
      "text/plain": [
       "53.0"
      ]
     },
     "execution_count": 170,
     "metadata": {},
     "output_type": "execute_result"
    }
   ],
   "source": [
    "2491 /47"
   ]
  },
  {
   "cell_type": "code",
   "execution_count": 172,
   "id": "7a0afab2-831b-421d-a14e-46a64bdbad5e",
   "metadata": {},
   "outputs": [
    {
     "data": {
      "text/plain": [
       "50.92150822589606"
      ]
     },
     "execution_count": 172,
     "metadata": {},
     "output_type": "execute_result"
    }
   ],
   "source": [
    "import math\n",
    "math.sqrt(2593)"
   ]
  },
  {
   "cell_type": "code",
   "execution_count": 18,
   "id": "0ede5f37-8c04-481b-88dd-b70fae8d5ea2",
   "metadata": {},
   "outputs": [
    {
     "data": {
      "text/plain": [
       "'n'"
      ]
     },
     "execution_count": 18,
     "metadata": {},
     "output_type": "execute_result"
    }
   ],
   "source": [
    "'Python'[-1]"
   ]
  },
  {
   "cell_type": "code",
   "execution_count": 20,
   "id": "703ac8eb-e268-45af-a79c-169950b3b4d4",
   "metadata": {},
   "outputs": [
    {
     "data": {
      "text/plain": [
       "'t'"
      ]
     },
     "execution_count": 20,
     "metadata": {},
     "output_type": "execute_result"
    }
   ],
   "source": [
    "'Python'[2]"
   ]
  },
  {
   "cell_type": "code",
   "execution_count": 28,
   "id": "e82b54e4-43d9-4793-b765-217b6fd0933a",
   "metadata": {},
   "outputs": [
    {
     "data": {
      "text/plain": [
       "'1'"
      ]
     },
     "execution_count": 28,
     "metadata": {},
     "output_type": "execute_result"
    }
   ],
   "source": [
    "str(1)"
   ]
  },
  {
   "cell_type": "code",
   "execution_count": 30,
   "id": "accdb0fd-6418-4f4c-a119-616e7af25fe8",
   "metadata": {},
   "outputs": [
    {
     "data": {
      "text/plain": [
       "'1.2'"
      ]
     },
     "execution_count": 30,
     "metadata": {},
     "output_type": "execute_result"
    }
   ],
   "source": [
    "str(1.2)"
   ]
  },
  {
   "cell_type": "code",
   "execution_count": 32,
   "id": "c759205a-3263-47b1-b51c-8b49d5cd4c0f",
   "metadata": {},
   "outputs": [
    {
     "data": {
      "text/plain": [
       "'string'"
      ]
     },
     "execution_count": 32,
     "metadata": {},
     "output_type": "execute_result"
    }
   ],
   "source": [
    "str('string')"
   ]
  },
  {
   "cell_type": "code",
   "execution_count": 34,
   "id": "7a3e4e23-77fd-49c1-a436-8aa9f63904ba",
   "metadata": {},
   "outputs": [
    {
     "data": {
      "text/plain": [
       "\"<module 'math' from '/opt/conda/envs/anaconda-panel-2023.05-py310/lib/python3.11/lib-dynload/math.cpython-311-x86_64-linux-gnu.so'>\""
      ]
     },
     "execution_count": 34,
     "metadata": {},
     "output_type": "execute_result"
    }
   ],
   "source": [
    "import math\n",
    "str(math)"
   ]
  },
  {
   "cell_type": "code",
   "execution_count": 36,
   "id": "37bf43e2-ecb4-43fc-b7cc-095e1fff7a34",
   "metadata": {},
   "outputs": [
    {
     "data": {
      "text/plain": [
       "'<built-in function print>'"
      ]
     },
     "execution_count": 36,
     "metadata": {},
     "output_type": "execute_result"
    }
   ],
   "source": [
    "str(print)"
   ]
  },
  {
   "cell_type": "code",
   "execution_count": 38,
   "id": "5c433cc4-31bf-4671-bc3d-15322f512b96",
   "metadata": {},
   "outputs": [
    {
     "data": {
      "text/plain": [
       "int"
      ]
     },
     "execution_count": 38,
     "metadata": {},
     "output_type": "execute_result"
    }
   ],
   "source": [
    "type(1)"
   ]
  },
  {
   "cell_type": "code",
   "execution_count": 40,
   "id": "cd8f57de-be9c-4cfc-badd-390cc4e02cce",
   "metadata": {},
   "outputs": [
    {
     "data": {
      "text/plain": [
       "float"
      ]
     },
     "execution_count": 40,
     "metadata": {},
     "output_type": "execute_result"
    }
   ],
   "source": [
    "type(1.1)"
   ]
  },
  {
   "cell_type": "code",
   "execution_count": 42,
   "id": "34576491-afa2-4a75-b3d6-40b292207678",
   "metadata": {},
   "outputs": [
    {
     "data": {
      "text/plain": [
       "bool"
      ]
     },
     "execution_count": 42,
     "metadata": {},
     "output_type": "execute_result"
    }
   ],
   "source": [
    "type(True)"
   ]
  },
  {
   "cell_type": "code",
   "execution_count": 44,
   "id": "883e07ae-d69d-430d-aca6-2f9a46576c85",
   "metadata": {},
   "outputs": [
    {
     "data": {
      "text/plain": [
       "-1"
      ]
     },
     "execution_count": 44,
     "metadata": {},
     "output_type": "execute_result"
    }
   ],
   "source": [
    "min(-1, 3, 2)"
   ]
  },
  {
   "cell_type": "code",
   "execution_count": 46,
   "id": "470f70ac-958b-4003-afdf-c71c5abcc67e",
   "metadata": {},
   "outputs": [
    {
     "data": {
      "text/plain": [
       "-1.1"
      ]
     },
     "execution_count": 46,
     "metadata": {},
     "output_type": "execute_result"
    }
   ],
   "source": [
    "min(-1.1, 3.3, 2.4)"
   ]
  },
  {
   "cell_type": "code",
   "execution_count": 50,
   "id": "c6480ef3-e67c-4854-8cc3-f240cb718794",
   "metadata": {},
   "outputs": [
    {
     "data": {
      "text/plain": [
       "'alpha'"
      ]
     },
     "execution_count": 50,
     "metadata": {},
     "output_type": "execute_result"
    }
   ],
   "source": [
    "min('alpha', 'beta')"
   ]
  },
  {
   "cell_type": "code",
   "execution_count": 52,
   "id": "20b37a52-21c2-46ed-b1c6-1e2d553aec8c",
   "metadata": {},
   "outputs": [
    {
     "data": {
      "text/plain": [
       "6"
      ]
     },
     "execution_count": 52,
     "metadata": {},
     "output_type": "execute_result"
    }
   ],
   "source": [
    "len('string')"
   ]
  },
  {
   "cell_type": "code",
   "execution_count": 54,
   "id": "7bbaf8e1-60f0-44b4-86b6-78132ad148b7",
   "metadata": {},
   "outputs": [
    {
     "ename": "TypeError",
     "evalue": "object of type 'int' has no len()",
     "output_type": "error",
     "traceback": [
      "\u001b[0;31m---------------------------------------------------------------------------\u001b[0m",
      "\u001b[0;31mTypeError\u001b[0m                                 Traceback (most recent call last)",
      "Cell \u001b[0;32mIn[54], line 1\u001b[0m\n\u001b[0;32m----> 1\u001b[0m \u001b[38;5;28mlen\u001b[39m(\u001b[38;5;241m1\u001b[39m)\n",
      "\u001b[0;31mTypeError\u001b[0m: object of type 'int' has no len()"
     ]
    }
   ],
   "source": [
    "len(1)"
   ]
  },
  {
   "cell_type": "code",
   "execution_count": 57,
   "id": "6547f963-48a3-4b05-aa7b-073e31bd584c",
   "metadata": {},
   "outputs": [
    {
     "data": {
      "text/plain": [
       "6"
      ]
     },
     "execution_count": 57,
     "metadata": {},
     "output_type": "execute_result"
    }
   ],
   "source": [
    "len('string')"
   ]
  },
  {
   "cell_type": "code",
   "execution_count": 59,
   "id": "7f4231ca-ecc6-4f5b-9dd6-d80cba952233",
   "metadata": {},
   "outputs": [
    {
     "data": {
      "text/plain": [
       "float"
      ]
     },
     "execution_count": 59,
     "metadata": {},
     "output_type": "execute_result"
    }
   ],
   "source": [
    "var = 1.3\n",
    "type(var)"
   ]
  },
  {
   "cell_type": "code",
   "execution_count": 62,
   "id": "3c31511e-cacc-4ff9-8e65-bde6bfefae7e",
   "metadata": {},
   "outputs": [],
   "source": [
    "slogan = 'Fall into the Gap'"
   ]
  },
  {
   "cell_type": "code",
   "execution_count": 64,
   "id": "ac5f3cb5-e378-4582-ba70-a94418a56140",
   "metadata": {},
   "outputs": [
    {
     "ename": "NameError",
     "evalue": "name 'startswith' is not defined",
     "output_type": "error",
     "traceback": [
      "\u001b[0;31m---------------------------------------------------------------------------\u001b[0m",
      "\u001b[0;31mNameError\u001b[0m                                 Traceback (most recent call last)",
      "Cell \u001b[0;32mIn[64], line 1\u001b[0m\n\u001b[0;32m----> 1\u001b[0m startswith(slogan, \u001b[38;5;124m'\u001b[39m\u001b[38;5;124mFall\u001b[39m\u001b[38;5;124m'\u001b[39m)\n",
      "\u001b[0;31mNameError\u001b[0m: name 'startswith' is not defined"
     ]
    }
   ],
   "source": [
    "startswith(slogan, 'Fall')"
   ]
  },
  {
   "cell_type": "code",
   "execution_count": 67,
   "id": "c7599c76-e5a5-48f2-9bfa-b4f82d903edb",
   "metadata": {},
   "outputs": [
    {
     "data": {
      "text/plain": [
       "True"
      ]
     },
     "execution_count": 67,
     "metadata": {},
     "output_type": "execute_result"
    }
   ],
   "source": [
    "slogan.startswith('Fall')"
   ]
  },
  {
   "cell_type": "code",
   "execution_count": 69,
   "id": "0be2fb1d-f9d9-4f32-a82a-dcc4f16cadc2",
   "metadata": {},
   "outputs": [],
   "source": [
    "number = 12345"
   ]
  },
  {
   "cell_type": "code",
   "execution_count": 71,
   "id": "91751083-eec5-48c1-ac5a-7a00e09c2d66",
   "metadata": {},
   "outputs": [
    {
     "ename": "AttributeError",
     "evalue": "'int' object has no attribute 'startswith'",
     "output_type": "error",
     "traceback": [
      "\u001b[0;31m---------------------------------------------------------------------------\u001b[0m",
      "\u001b[0;31mAttributeError\u001b[0m                            Traceback (most recent call last)",
      "Cell \u001b[0;32mIn[71], line 1\u001b[0m\n\u001b[0;32m----> 1\u001b[0m number\u001b[38;5;241m.\u001b[39mstartswith(\u001b[38;5;241m123\u001b[39m)\n",
      "\u001b[0;31mAttributeError\u001b[0m: 'int' object has no attribute 'startswith'"
     ]
    }
   ],
   "source": [
    "number.startswith(123)"
   ]
  },
  {
   "cell_type": "code",
   "execution_count": 73,
   "id": "48923aad-088b-4c9f-a5da-3bb2d15b09ec",
   "metadata": {
    "collapsed": true,
    "jupyter": {
     "outputs_hidden": true
    },
    "tags": []
   },
   "outputs": [
    {
     "data": {
      "text/plain": [
       "'12345'"
      ]
     },
     "execution_count": 73,
     "metadata": {},
     "output_type": "execute_result"
    }
   ],
   "source": [
    "str(number)"
   ]
  },
  {
   "cell_type": "code",
   "execution_count": 75,
   "id": "7b90f172-4071-44e9-b6a7-c6b7f91b185a",
   "metadata": {},
   "outputs": [
    {
     "data": {
      "text/plain": [
       "True"
      ]
     },
     "execution_count": 75,
     "metadata": {},
     "output_type": "execute_result"
    }
   ],
   "source": [
    "str(number).startswith('123')"
   ]
  },
  {
   "cell_type": "code",
   "execution_count": 79,
   "id": "ca33443f-1461-4c8d-ac82-bd5b8377fd9b",
   "metadata": {},
   "outputs": [
    {
     "data": {
      "text/plain": [
       "123"
      ]
     },
     "execution_count": 79,
     "metadata": {},
     "output_type": "execute_result"
    }
   ],
   "source": [
    "12345 // 100"
   ]
  },
  {
   "cell_type": "code",
   "execution_count": 89,
   "id": "b42a4a0f-8067-4832-95d6-f67b9207cd7b",
   "metadata": {},
   "outputs": [
    {
     "name": "stdout",
     "output_type": "stream",
     "text": [
      "Help on method_descriptor:\n",
      "\n",
      "rfind(...)\n",
      "    S.rfind(sub[, start[, end]]) -> int\n",
      "    \n",
      "    Return the highest index in S where substring sub is found,\n",
      "    such that sub is contained within S[start:end].  Optional\n",
      "    arguments start and end are interpreted as in slice notation.\n",
      "    \n",
      "    Return -1 on failure.\n",
      "\n"
     ]
    }
   ],
   "source": [
    "help(str.rfind)"
   ]
  },
  {
   "cell_type": "code",
   "execution_count": 92,
   "id": "cca96550-0f3e-4f11-b279-8ace2c612f3f",
   "metadata": {},
   "outputs": [
    {
     "name": "stdout",
     "output_type": "stream",
     "text": [
      "Help on method_descriptor:\n",
      "\n",
      "count(...)\n",
      "    S.count(sub[, start[, end]]) -> int\n",
      "    \n",
      "    Return the number of non-overlapping occurrences of substring sub in\n",
      "    string S[start:end].  Optional arguments start and end are\n",
      "    interpreted as in slice notation.\n",
      "\n"
     ]
    }
   ],
   "source": [
    "help(str.count)"
   ]
  },
  {
   "cell_type": "code",
   "execution_count": 95,
   "id": "5396bbf5-275b-4762-94d2-5547264be275",
   "metadata": {},
   "outputs": [
    {
     "name": "stdout",
     "output_type": "stream",
     "text": [
      "1\n"
     ]
    }
   ],
   "source": [
    "print(1)"
   ]
  },
  {
   "cell_type": "code",
   "execution_count": 97,
   "id": "24400cfd-11ee-462a-af28-5a59887b340e",
   "metadata": {},
   "outputs": [
    {
     "name": "stdout",
     "output_type": "stream",
     "text": [
      "1.23\n"
     ]
    }
   ],
   "source": [
    "print(1.23)"
   ]
  },
  {
   "cell_type": "code",
   "execution_count": 99,
   "id": "51d601f6-f3eb-4656-9838-185d9b9278c2",
   "metadata": {},
   "outputs": [
    {
     "name": "stdout",
     "output_type": "stream",
     "text": [
      "string\n"
     ]
    }
   ],
   "source": [
    "print('string')"
   ]
  },
  {
   "cell_type": "code",
   "execution_count": 101,
   "id": "b1c93e50-bc10-431c-aa1a-e34471f35b6e",
   "metadata": {},
   "outputs": [
    {
     "name": "stdout",
     "output_type": "stream",
     "text": [
      "<module 'math' from '/opt/conda/envs/anaconda-panel-2023.05-py310/lib/python3.11/lib-dynload/math.cpython-311-x86_64-linux-gnu.so'>\n"
     ]
    }
   ],
   "source": [
    "print(math)"
   ]
  },
  {
   "cell_type": "code",
   "execution_count": 103,
   "id": "69c81e8f-981e-4eb4-852f-8659f054bb9b",
   "metadata": {},
   "outputs": [
    {
     "name": "stdout",
     "output_type": "stream",
     "text": [
      "\n"
     ]
    }
   ],
   "source": [
    "print()"
   ]
  },
  {
   "cell_type": "code",
   "execution_count": 107,
   "id": "9efdbf63-35a9-439f-8b11-407c432abe42",
   "metadata": {},
   "outputs": [
    {
     "name": "stdout",
     "output_type": "stream",
     "text": [
      "1\n",
      "2.2\n",
      "3.33\n",
      "four\n",
      "<module 'math' from '/opt/conda/envs/anaconda-panel-2023.05-py310/lib/python3.11/lib-dynload/math.cpython-311-x86_64-linux-gnu.so'>\n",
      "<built-in function print>\n"
     ]
    }
   ],
   "source": [
    "print(1, 2.2, 3.33, 'four', math, print, sep='\\n')"
   ]
  },
  {
   "cell_type": "code",
   "execution_count": 111,
   "id": "a69f49ef-45d4-45e6-a87b-69c4acfb507f",
   "metadata": {},
   "outputs": [
    {
     "data": {
      "text/plain": [
       "'Fall into the Gap'"
      ]
     },
     "execution_count": 111,
     "metadata": {},
     "output_type": "execute_result"
    }
   ],
   "source": [
    "slogan"
   ]
  },
  {
   "cell_type": "code",
   "execution_count": 114,
   "id": "f4a1d0ee-b496-4b09-b4b7-fa7d4045b234",
   "metadata": {},
   "outputs": [
    {
     "name": "stdout",
     "output_type": "stream",
     "text": [
      "Help on class str in module builtins:\n",
      "\n",
      "class str(object)\n",
      " |  str(object='') -> str\n",
      " |  str(bytes_or_buffer[, encoding[, errors]]) -> str\n",
      " |  \n",
      " |  Create a new string object from the given object. If encoding or\n",
      " |  errors is specified, then the object must expose a data buffer\n",
      " |  that will be decoded using the given encoding and error handler.\n",
      " |  Otherwise, returns the result of object.__str__() (if defined)\n",
      " |  or repr(object).\n",
      " |  encoding defaults to sys.getdefaultencoding().\n",
      " |  errors defaults to 'strict'.\n",
      " |  \n",
      " |  Methods defined here:\n",
      " |  \n",
      " |  __add__(self, value, /)\n",
      " |      Return self+value.\n",
      " |  \n",
      " |  __contains__(self, key, /)\n",
      " |      Return key in self.\n",
      " |  \n",
      " |  __eq__(self, value, /)\n",
      " |      Return self==value.\n",
      " |  \n",
      " |  __format__(self, format_spec, /)\n",
      " |      Return a formatted version of the string as described by format_spec.\n",
      " |  \n",
      " |  __ge__(self, value, /)\n",
      " |      Return self>=value.\n",
      " |  \n",
      " |  __getattribute__(self, name, /)\n",
      " |      Return getattr(self, name).\n",
      " |  \n",
      " |  __getitem__(self, key, /)\n",
      " |      Return self[key].\n",
      " |  \n",
      " |  __getnewargs__(...)\n",
      " |  \n",
      " |  __gt__(self, value, /)\n",
      " |      Return self>value.\n",
      " |  \n",
      " |  __hash__(self, /)\n",
      " |      Return hash(self).\n",
      " |  \n",
      " |  __iter__(self, /)\n",
      " |      Implement iter(self).\n",
      " |  \n",
      " |  __le__(self, value, /)\n",
      " |      Return self<=value.\n",
      " |  \n",
      " |  __len__(self, /)\n",
      " |      Return len(self).\n",
      " |  \n",
      " |  __lt__(self, value, /)\n",
      " |      Return self<value.\n",
      " |  \n",
      " |  __mod__(self, value, /)\n",
      " |      Return self%value.\n",
      " |  \n",
      " |  __mul__(self, value, /)\n",
      " |      Return self*value.\n",
      " |  \n",
      " |  __ne__(self, value, /)\n",
      " |      Return self!=value.\n",
      " |  \n",
      " |  __repr__(self, /)\n",
      " |      Return repr(self).\n",
      " |  \n",
      " |  __rmod__(self, value, /)\n",
      " |      Return value%self.\n",
      " |  \n",
      " |  __rmul__(self, value, /)\n",
      " |      Return value*self.\n",
      " |  \n",
      " |  __sizeof__(self, /)\n",
      " |      Return the size of the string in memory, in bytes.\n",
      " |  \n",
      " |  __str__(self, /)\n",
      " |      Return str(self).\n",
      " |  \n",
      " |  capitalize(self, /)\n",
      " |      Return a capitalized version of the string.\n",
      " |      \n",
      " |      More specifically, make the first character have upper case and the rest lower\n",
      " |      case.\n",
      " |  \n",
      " |  casefold(self, /)\n",
      " |      Return a version of the string suitable for caseless comparisons.\n",
      " |  \n",
      " |  center(self, width, fillchar=' ', /)\n",
      " |      Return a centered string of length width.\n",
      " |      \n",
      " |      Padding is done using the specified fill character (default is a space).\n",
      " |  \n",
      " |  count(...)\n",
      " |      S.count(sub[, start[, end]]) -> int\n",
      " |      \n",
      " |      Return the number of non-overlapping occurrences of substring sub in\n",
      " |      string S[start:end].  Optional arguments start and end are\n",
      " |      interpreted as in slice notation.\n",
      " |  \n",
      " |  encode(self, /, encoding='utf-8', errors='strict')\n",
      " |      Encode the string using the codec registered for encoding.\n",
      " |      \n",
      " |      encoding\n",
      " |        The encoding in which to encode the string.\n",
      " |      errors\n",
      " |        The error handling scheme to use for encoding errors.\n",
      " |        The default is 'strict' meaning that encoding errors raise a\n",
      " |        UnicodeEncodeError.  Other possible values are 'ignore', 'replace' and\n",
      " |        'xmlcharrefreplace' as well as any other name registered with\n",
      " |        codecs.register_error that can handle UnicodeEncodeErrors.\n",
      " |  \n",
      " |  endswith(...)\n",
      " |      S.endswith(suffix[, start[, end]]) -> bool\n",
      " |      \n",
      " |      Return True if S ends with the specified suffix, False otherwise.\n",
      " |      With optional start, test S beginning at that position.\n",
      " |      With optional end, stop comparing S at that position.\n",
      " |      suffix can also be a tuple of strings to try.\n",
      " |  \n",
      " |  expandtabs(self, /, tabsize=8)\n",
      " |      Return a copy where all tab characters are expanded using spaces.\n",
      " |      \n",
      " |      If tabsize is not given, a tab size of 8 characters is assumed.\n",
      " |  \n",
      " |  find(...)\n",
      " |      S.find(sub[, start[, end]]) -> int\n",
      " |      \n",
      " |      Return the lowest index in S where substring sub is found,\n",
      " |      such that sub is contained within S[start:end].  Optional\n",
      " |      arguments start and end are interpreted as in slice notation.\n",
      " |      \n",
      " |      Return -1 on failure.\n",
      " |  \n",
      " |  format(...)\n",
      " |      S.format(*args, **kwargs) -> str\n",
      " |      \n",
      " |      Return a formatted version of S, using substitutions from args and kwargs.\n",
      " |      The substitutions are identified by braces ('{' and '}').\n",
      " |  \n",
      " |  format_map(...)\n",
      " |      S.format_map(mapping) -> str\n",
      " |      \n",
      " |      Return a formatted version of S, using substitutions from mapping.\n",
      " |      The substitutions are identified by braces ('{' and '}').\n",
      " |  \n",
      " |  index(...)\n",
      " |      S.index(sub[, start[, end]]) -> int\n",
      " |      \n",
      " |      Return the lowest index in S where substring sub is found,\n",
      " |      such that sub is contained within S[start:end].  Optional\n",
      " |      arguments start and end are interpreted as in slice notation.\n",
      " |      \n",
      " |      Raises ValueError when the substring is not found.\n",
      " |  \n",
      " |  isalnum(self, /)\n",
      " |      Return True if the string is an alpha-numeric string, False otherwise.\n",
      " |      \n",
      " |      A string is alpha-numeric if all characters in the string are alpha-numeric and\n",
      " |      there is at least one character in the string.\n",
      " |  \n",
      " |  isalpha(self, /)\n",
      " |      Return True if the string is an alphabetic string, False otherwise.\n",
      " |      \n",
      " |      A string is alphabetic if all characters in the string are alphabetic and there\n",
      " |      is at least one character in the string.\n",
      " |  \n",
      " |  isascii(self, /)\n",
      " |      Return True if all characters in the string are ASCII, False otherwise.\n",
      " |      \n",
      " |      ASCII characters have code points in the range U+0000-U+007F.\n",
      " |      Empty string is ASCII too.\n",
      " |  \n",
      " |  isdecimal(self, /)\n",
      " |      Return True if the string is a decimal string, False otherwise.\n",
      " |      \n",
      " |      A string is a decimal string if all characters in the string are decimal and\n",
      " |      there is at least one character in the string.\n",
      " |  \n",
      " |  isdigit(self, /)\n",
      " |      Return True if the string is a digit string, False otherwise.\n",
      " |      \n",
      " |      A string is a digit string if all characters in the string are digits and there\n",
      " |      is at least one character in the string.\n",
      " |  \n",
      " |  isidentifier(self, /)\n",
      " |      Return True if the string is a valid Python identifier, False otherwise.\n",
      " |      \n",
      " |      Call keyword.iskeyword(s) to test whether string s is a reserved identifier,\n",
      " |      such as \"def\" or \"class\".\n",
      " |  \n",
      " |  islower(self, /)\n",
      " |      Return True if the string is a lowercase string, False otherwise.\n",
      " |      \n",
      " |      A string is lowercase if all cased characters in the string are lowercase and\n",
      " |      there is at least one cased character in the string.\n",
      " |  \n",
      " |  isnumeric(self, /)\n",
      " |      Return True if the string is a numeric string, False otherwise.\n",
      " |      \n",
      " |      A string is numeric if all characters in the string are numeric and there is at\n",
      " |      least one character in the string.\n",
      " |  \n",
      " |  isprintable(self, /)\n",
      " |      Return True if the string is printable, False otherwise.\n",
      " |      \n",
      " |      A string is printable if all of its characters are considered printable in\n",
      " |      repr() or if it is empty.\n",
      " |  \n",
      " |  isspace(self, /)\n",
      " |      Return True if the string is a whitespace string, False otherwise.\n",
      " |      \n",
      " |      A string is whitespace if all characters in the string are whitespace and there\n",
      " |      is at least one character in the string.\n",
      " |  \n",
      " |  istitle(self, /)\n",
      " |      Return True if the string is a title-cased string, False otherwise.\n",
      " |      \n",
      " |      In a title-cased string, upper- and title-case characters may only\n",
      " |      follow uncased characters and lowercase characters only cased ones.\n",
      " |  \n",
      " |  isupper(self, /)\n",
      " |      Return True if the string is an uppercase string, False otherwise.\n",
      " |      \n",
      " |      A string is uppercase if all cased characters in the string are uppercase and\n",
      " |      there is at least one cased character in the string.\n",
      " |  \n",
      " |  join(self, iterable, /)\n",
      " |      Concatenate any number of strings.\n",
      " |      \n",
      " |      The string whose method is called is inserted in between each given string.\n",
      " |      The result is returned as a new string.\n",
      " |      \n",
      " |      Example: '.'.join(['ab', 'pq', 'rs']) -> 'ab.pq.rs'\n",
      " |  \n",
      " |  ljust(self, width, fillchar=' ', /)\n",
      " |      Return a left-justified string of length width.\n",
      " |      \n",
      " |      Padding is done using the specified fill character (default is a space).\n",
      " |  \n",
      " |  lower(self, /)\n",
      " |      Return a copy of the string converted to lowercase.\n",
      " |  \n",
      " |  lstrip(self, chars=None, /)\n",
      " |      Return a copy of the string with leading whitespace removed.\n",
      " |      \n",
      " |      If chars is given and not None, remove characters in chars instead.\n",
      " |  \n",
      " |  partition(self, sep, /)\n",
      " |      Partition the string into three parts using the given separator.\n",
      " |      \n",
      " |      This will search for the separator in the string.  If the separator is found,\n",
      " |      returns a 3-tuple containing the part before the separator, the separator\n",
      " |      itself, and the part after it.\n",
      " |      \n",
      " |      If the separator is not found, returns a 3-tuple containing the original string\n",
      " |      and two empty strings.\n",
      " |  \n",
      " |  removeprefix(self, prefix, /)\n",
      " |      Return a str with the given prefix string removed if present.\n",
      " |      \n",
      " |      If the string starts with the prefix string, return string[len(prefix):].\n",
      " |      Otherwise, return a copy of the original string.\n",
      " |  \n",
      " |  removesuffix(self, suffix, /)\n",
      " |      Return a str with the given suffix string removed if present.\n",
      " |      \n",
      " |      If the string ends with the suffix string and that suffix is not empty,\n",
      " |      return string[:-len(suffix)]. Otherwise, return a copy of the original\n",
      " |      string.\n",
      " |  \n",
      " |  replace(self, old, new, count=-1, /)\n",
      " |      Return a copy with all occurrences of substring old replaced by new.\n",
      " |      \n",
      " |        count\n",
      " |          Maximum number of occurrences to replace.\n",
      " |          -1 (the default value) means replace all occurrences.\n",
      " |      \n",
      " |      If the optional argument count is given, only the first count occurrences are\n",
      " |      replaced.\n",
      " |  \n",
      " |  rfind(...)\n",
      " |      S.rfind(sub[, start[, end]]) -> int\n",
      " |      \n",
      " |      Return the highest index in S where substring sub is found,\n",
      " |      such that sub is contained within S[start:end].  Optional\n",
      " |      arguments start and end are interpreted as in slice notation.\n",
      " |      \n",
      " |      Return -1 on failure.\n",
      " |  \n",
      " |  rindex(...)\n",
      " |      S.rindex(sub[, start[, end]]) -> int\n",
      " |      \n",
      " |      Return the highest index in S where substring sub is found,\n",
      " |      such that sub is contained within S[start:end].  Optional\n",
      " |      arguments start and end are interpreted as in slice notation.\n",
      " |      \n",
      " |      Raises ValueError when the substring is not found.\n",
      " |  \n",
      " |  rjust(self, width, fillchar=' ', /)\n",
      " |      Return a right-justified string of length width.\n",
      " |      \n",
      " |      Padding is done using the specified fill character (default is a space).\n",
      " |  \n",
      " |  rpartition(self, sep, /)\n",
      " |      Partition the string into three parts using the given separator.\n",
      " |      \n",
      " |      This will search for the separator in the string, starting at the end. If\n",
      " |      the separator is found, returns a 3-tuple containing the part before the\n",
      " |      separator, the separator itself, and the part after it.\n",
      " |      \n",
      " |      If the separator is not found, returns a 3-tuple containing two empty strings\n",
      " |      and the original string.\n",
      " |  \n",
      " |  rsplit(self, /, sep=None, maxsplit=-1)\n",
      " |      Return a list of the substrings in the string, using sep as the separator string.\n",
      " |      \n",
      " |        sep\n",
      " |          The separator used to split the string.\n",
      " |      \n",
      " |          When set to None (the default value), will split on any whitespace\n",
      " |          character (including \\\\n \\\\r \\\\t \\\\f and spaces) and will discard\n",
      " |          empty strings from the result.\n",
      " |        maxsplit\n",
      " |          Maximum number of splits (starting from the left).\n",
      " |          -1 (the default value) means no limit.\n",
      " |      \n",
      " |      Splitting starts at the end of the string and works to the front.\n",
      " |  \n",
      " |  rstrip(self, chars=None, /)\n",
      " |      Return a copy of the string with trailing whitespace removed.\n",
      " |      \n",
      " |      If chars is given and not None, remove characters in chars instead.\n",
      " |  \n",
      " |  split(self, /, sep=None, maxsplit=-1)\n",
      " |      Return a list of the substrings in the string, using sep as the separator string.\n",
      " |      \n",
      " |        sep\n",
      " |          The separator used to split the string.\n",
      " |      \n",
      " |          When set to None (the default value), will split on any whitespace\n",
      " |          character (including \\\\n \\\\r \\\\t \\\\f and spaces) and will discard\n",
      " |          empty strings from the result.\n",
      " |        maxsplit\n",
      " |          Maximum number of splits (starting from the left).\n",
      " |          -1 (the default value) means no limit.\n",
      " |      \n",
      " |      Note, str.split() is mainly useful for data that has been intentionally\n",
      " |      delimited.  With natural text that includes punctuation, consider using\n",
      " |      the regular expression module.\n",
      " |  \n",
      " |  splitlines(self, /, keepends=False)\n",
      " |      Return a list of the lines in the string, breaking at line boundaries.\n",
      " |      \n",
      " |      Line breaks are not included in the resulting list unless keepends is given and\n",
      " |      true.\n",
      " |  \n",
      " |  startswith(...)\n",
      " |      S.startswith(prefix[, start[, end]]) -> bool\n",
      " |      \n",
      " |      Return True if S starts with the specified prefix, False otherwise.\n",
      " |      With optional start, test S beginning at that position.\n",
      " |      With optional end, stop comparing S at that position.\n",
      " |      prefix can also be a tuple of strings to try.\n",
      " |  \n",
      " |  strip(self, chars=None, /)\n",
      " |      Return a copy of the string with leading and trailing whitespace removed.\n",
      " |      \n",
      " |      If chars is given and not None, remove characters in chars instead.\n",
      " |  \n",
      " |  swapcase(self, /)\n",
      " |      Convert uppercase characters to lowercase and lowercase characters to uppercase.\n",
      " |  \n",
      " |  title(self, /)\n",
      " |      Return a version of the string where each word is titlecased.\n",
      " |      \n",
      " |      More specifically, words start with uppercased characters and all remaining\n",
      " |      cased characters have lower case.\n",
      " |  \n",
      " |  translate(self, table, /)\n",
      " |      Replace each character in the string using the given translation table.\n",
      " |      \n",
      " |        table\n",
      " |          Translation table, which must be a mapping of Unicode ordinals to\n",
      " |          Unicode ordinals, strings, or None.\n",
      " |      \n",
      " |      The table must implement lookup/indexing via __getitem__, for instance a\n",
      " |      dictionary or list.  If this operation raises LookupError, the character is\n",
      " |      left untouched.  Characters mapped to None are deleted.\n",
      " |  \n",
      " |  upper(self, /)\n",
      " |      Return a copy of the string converted to uppercase.\n",
      " |  \n",
      " |  zfill(self, width, /)\n",
      " |      Pad a numeric string with zeros on the left, to fill a field of the given width.\n",
      " |      \n",
      " |      The string is never truncated.\n",
      " |  \n",
      " |  ----------------------------------------------------------------------\n",
      " |  Static methods defined here:\n",
      " |  \n",
      " |  __new__(*args, **kwargs) from builtins.type\n",
      " |      Create and return a new object.  See help(type) for accurate signature.\n",
      " |  \n",
      " |  maketrans(...)\n",
      " |      Return a translation table usable for str.translate().\n",
      " |      \n",
      " |      If there is only one argument, it must be a dictionary mapping Unicode\n",
      " |      ordinals (integers) or characters to Unicode ordinals, strings or None.\n",
      " |      Character keys will be then converted to ordinals.\n",
      " |      If there are two arguments, they must be strings of equal length, and\n",
      " |      in the resulting dictionary, each character in x will be mapped to the\n",
      " |      character at the same position in y. If there is a third argument, it\n",
      " |      must be a string, whose characters will be mapped to None in the result.\n",
      "\n"
     ]
    }
   ],
   "source": [
    "help(str)"
   ]
  },
  {
   "cell_type": "code",
   "execution_count": 117,
   "id": "2829dfa4-1b71-4364-a036-f2448f444f7c",
   "metadata": {},
   "outputs": [
    {
     "data": {
      "text/plain": [
       "'         Python'"
      ]
     },
     "execution_count": 117,
     "metadata": {},
     "output_type": "execute_result"
    }
   ],
   "source": [
    "'Python'.rjust(15)"
   ]
  },
  {
   "cell_type": "code",
   "execution_count": 123,
   "id": "11bc87b3-6fb8-4726-ab2a-495abe90421a",
   "metadata": {},
   "outputs": [],
   "source": [
    "lang = 'python'"
   ]
  },
  {
   "cell_type": "code",
   "execution_count": 125,
   "id": "a3cd29c6-c683-47f3-96a8-48d0934610a2",
   "metadata": {},
   "outputs": [
    {
     "data": {
      "text/plain": [
       "'python'"
      ]
     },
     "execution_count": 125,
     "metadata": {},
     "output_type": "execute_result"
    }
   ],
   "source": [
    "lang"
   ]
  },
  {
   "cell_type": "code",
   "execution_count": 129,
   "id": "fced0629-13a8-4c11-86b8-022f43f622a1",
   "metadata": {},
   "outputs": [
    {
     "ename": "TypeError",
     "evalue": "'str' object does not support item assignment",
     "output_type": "error",
     "traceback": [
      "\u001b[0;31m---------------------------------------------------------------------------\u001b[0m",
      "\u001b[0;31mTypeError\u001b[0m                                 Traceback (most recent call last)",
      "Cell \u001b[0;32mIn[129], line 1\u001b[0m\n\u001b[0;32m----> 1\u001b[0m lang[\u001b[38;5;241m0\u001b[39m] \u001b[38;5;241m=\u001b[39m \u001b[38;5;124m'\u001b[39m\u001b[38;5;124mP\u001b[39m\u001b[38;5;124m'\u001b[39m\n",
      "\u001b[0;31mTypeError\u001b[0m: 'str' object does not support item assignment"
     ]
    }
   ],
   "source": [
    "lang[0] = 'P'"
   ]
  },
  {
   "cell_type": "code",
   "execution_count": 131,
   "id": "323e6ed9-e545-4e9e-bac5-9bb0d2a1c6bd",
   "metadata": {},
   "outputs": [],
   "source": [
    "lang = 'Golang'"
   ]
  },
  {
   "cell_type": "code",
   "execution_count": 135,
   "id": "29b13294-d503-40cc-b4a1-23b998b8e3fd",
   "metadata": {},
   "outputs": [],
   "source": [
    "string = 'Gap'"
   ]
  },
  {
   "cell_type": "code",
   "execution_count": 137,
   "id": "72331281-c0e0-4a64-b256-472fc7a7bae2",
   "metadata": {},
   "outputs": [],
   "source": [
    "string = 'The ' + string"
   ]
  },
  {
   "cell_type": "code",
   "execution_count": 152,
   "id": "e95ae756-e121-4257-82b3-ee548bb34825",
   "metadata": {},
   "outputs": [
    {
     "name": "stdin",
     "output_type": "stream",
     "text": [
      "Tell me:  swapcase\n"
     ]
    }
   ],
   "source": [
    "stuff = input('Tell me: ')"
   ]
  },
  {
   "cell_type": "code",
   "execution_count": 148,
   "id": "b8a4d10a-9f49-4259-b1b4-04f9759e37b4",
   "metadata": {},
   "outputs": [
    {
     "data": {
      "text/plain": [
       "'WHAT DO YOU WANT TO KNOW?'"
      ]
     },
     "execution_count": 148,
     "metadata": {},
     "output_type": "execute_result"
    }
   ],
   "source": [
    "stuff"
   ]
  },
  {
   "cell_type": "code",
   "execution_count": 150,
   "id": "332f6580-51d3-48a4-9bea-ada06210e988",
   "metadata": {},
   "outputs": [
    {
     "data": {
      "text/plain": [
       "'what do you want to know?'"
      ]
     },
     "execution_count": 150,
     "metadata": {},
     "output_type": "execute_result"
    }
   ],
   "source": [
    "stuff.lower()"
   ]
  },
  {
   "cell_type": "code",
   "execution_count": 155,
   "id": "ae92f5a0-1899-4b7d-9568-9f4207a2b151",
   "metadata": {},
   "outputs": [],
   "source": [
    "slogan = 'Now is the time for all good people to come to the aid of their country'"
   ]
  },
  {
   "cell_type": "code",
   "execution_count": 167,
   "id": "90f18c1b-21a7-4d01-a8fa-84a595fd2614",
   "metadata": {},
   "outputs": [
    {
     "data": {
      "text/plain": [
       "'                                                                                                                                 Now is the time for all good people to come to the aid of their country'"
      ]
     },
     "execution_count": 167,
     "metadata": {},
     "output_type": "execute_result"
    }
   ],
   "source": [
    "slogan.rjust(200)"
   ]
  },
  {
   "cell_type": "code",
   "execution_count": 177,
   "id": "8e3135ab-20f3-4dfb-a9d8-c9dcfb2125a9",
   "metadata": {},
   "outputs": [
    {
     "data": {
      "text/plain": [
       "11"
      ]
     },
     "execution_count": 177,
     "metadata": {},
     "output_type": "execute_result"
    }
   ],
   "source": [
    "len(slogan[24:35])"
   ]
  },
  {
   "cell_type": "code",
   "execution_count": 179,
   "id": "c16d1f44-0088-4168-9bf6-a2739e4ff616",
   "metadata": {},
   "outputs": [
    {
     "ename": "AttributeError",
     "evalue": "'str' object has no attribute 'len'",
     "output_type": "error",
     "traceback": [
      "\u001b[0;31m---------------------------------------------------------------------------\u001b[0m",
      "\u001b[0;31mAttributeError\u001b[0m                            Traceback (most recent call last)",
      "Cell \u001b[0;32mIn[179], line 1\u001b[0m\n\u001b[0;32m----> 1\u001b[0m slogan\u001b[38;5;241m.\u001b[39mlen()\n",
      "\u001b[0;31mAttributeError\u001b[0m: 'str' object has no attribute 'len'"
     ]
    }
   ],
   "source": [
    "slogan.len()"
   ]
  },
  {
   "cell_type": "code",
   "execution_count": 181,
   "id": "b1a64393-81df-4e6d-84aa-47fb84f5e657",
   "metadata": {},
   "outputs": [
    {
     "name": "stdout",
     "output_type": "stream",
     "text": [
      "Original String: Hello, world!\n",
      "Substring: world!\n",
      "Uppercase Substring: WORLD!\n"
     ]
    }
   ],
   "source": [
    "original_string = \"Hello, world!\"\n",
    "\n",
    "# Taking a substring (e.g., characters from index 7 to 12)\n",
    "substring = original_string[7:13]\n",
    "\n",
    "# Converting the substring to uppercase\n",
    "uppercase_substring = substring.upper()\n",
    "\n",
    "print(\"Original String:\", original_string)\n",
    "print(\"Substring:\", substring)\n",
    "print(\"Uppercase Substring:\", uppercase_substring)\n"
   ]
  },
  {
   "cell_type": "code",
   "execution_count": 188,
   "id": "4e27c450-1ea8-4008-989e-20ab16b76e70",
   "metadata": {},
   "outputs": [
    {
     "data": {
      "text/plain": [
       "'xbcdefxghxijklxmno'"
      ]
     },
     "execution_count": 188,
     "metadata": {},
     "output_type": "execute_result"
    }
   ],
   "source": [
    "'abcdefaghaijklamno'.replace('a', 'x')"
   ]
  },
  {
   "cell_type": "markdown",
   "id": "403843a2-0c06-4033-83ee-f8de32cee849",
   "metadata": {},
   "source": [
    "## Quick Lab: String Functions\n",
    "* write a Python program to read in a string and then print it out as\n",
    "  * a title\n",
    "  * all upper case\n",
    "  * all lower case\n",
    "* also, replace all vowels in the string with the letter 'x'\n",
    "   * you can use the __`.replace()`__ method to replace each vowel, one at a time"
   ]
  },
  {
   "cell_type": "code",
   "execution_count": 197,
   "id": "78b4b71c-3c81-4a7f-9018-470a9b39a93c",
   "metadata": {},
   "outputs": [],
   "source": [
    "# 1. read a string\n",
    "# 1a. title\n",
    "# 2. print it all upper\n",
    "# 3. print it all lower\n",
    "# 4. for each vowel:\n",
    "# 5.   replace that vowel with 'x' and put the result back into the string (overwrite)"
   ]
  },
  {
   "cell_type": "code",
   "execution_count": 207,
   "id": "ef9be18b-1a13-4635-aeb2-aa1470b8dcdc",
   "metadata": {},
   "outputs": [
    {
     "name": "stdin",
     "output_type": "stream",
     "text": [
      "Enter something:  The wizard quickly jinxed the gnomes before they vaporized\n"
     ]
    },
    {
     "name": "stdout",
     "output_type": "stream",
     "text": [
      "The Wizard Quickly Jinxed The Gnomes Before They Vaporized\n",
      "THE WIZARD QUICKLY JINXED THE GNOMES BEFORE THEY VAPORIZED\n",
      "the wizard quickly jinxed the gnomes before they vaporized\n",
      "after replacing a with x: The wizxrd quickly jinxed the gnomes before they vxporized\n",
      "after replacing e with x: Thx wizxrd quickly jinxxd thx gnomxs bxforx thxy vxporizxd\n",
      "after replacing i with x: Thx wxzxrd quxckly jxnxxd thx gnomxs bxforx thxy vxporxzxd\n",
      "after replacing o with x: Thx wxzxrd quxckly jxnxxd thx gnxmxs bxfxrx thxy vxpxrxzxd\n",
      "after replacing u with x: Thx wxzxrd qxxckly jxnxxd thx gnxmxs bxfxrx thxy vxpxrxzxd\n"
     ]
    }
   ],
   "source": [
    "string = input('Enter something: ') # 1\n",
    "print(string.title(), string.upper(), string.lower(), sep='\\n') # 1a, 2, 3\n",
    "\n",
    "for vowel in 'aeiou': # 4, for thing in container, like with did with 'Python'\n",
    "    string = string.replace(vowel, 'x')\n",
    "    print('after replacing', vowel, 'with x:', string)"
   ]
  },
  {
   "cell_type": "markdown",
   "id": "e4acd63d-4790-4d3f-b8b6-bca28b6d2d6f",
   "metadata": {},
   "source": [
    "## Lab: String Functions\n",
    "* write a Python program to read in a string and print it out such that\n",
    "  * the first, third, fifth, etc. letters are **lower** case\n",
    "  * the second, fourth, sixth, etc. letters are **UPPER** case\n",
    "  * e.g., if the input is __Guido van Rossum__, the output would be:\n",
    "    * __gUiDo vAn rOsSuM__"
   ]
  },
  {
   "cell_type": "code",
   "execution_count": null,
   "id": "3b36eb49-651c-40a0-a1f6-4e8493e5b973",
   "metadata": {},
   "outputs": [],
   "source": [
    "# 1. read string\n",
    "# 2. for each letter/char in the string:\n",
    "# 3.   if the index is odd, make lower\n",
    "# 4.   else make upper"
   ]
  },
  {
   "cell_type": "code",
   "execution_count": 287,
   "id": "ec287946-27e6-494b-8469-4121cb385975",
   "metadata": {},
   "outputs": [],
   "source": [
    "# OR...\n",
    "# 2. for each letter/char in the string:\n",
    "# 3.   if last letter was upper, make next\n",
    "#      lower (and vice versa)\n",
    "#    (in other words, keep track of what we\n",
    "#     do, then do the opposite the next time)"
   ]
  },
  {
   "cell_type": "code",
   "execution_count": 289,
   "id": "e0dea5af-369d-43ed-ad2c-5e81af11d4c9",
   "metadata": {},
   "outputs": [
    {
     "name": "stdin",
     "output_type": "stream",
     "text": [
      "Tell me:  something\n"
     ]
    },
    {
     "name": "stdout",
     "output_type": "stream",
     "text": [
      "sOmEtHiNg"
     ]
    }
   ],
   "source": [
    "string = input('Tell me: ') # 1\n",
    "for index in range(0, len(string)): # 0..len-1\n",
    "    # the above is the numerical index of char\n",
    "    # so we can mod it with 2 to determine \n",
    "    # even or odd...\n",
    "    if index % 2 == 0: # even\n",
    "        print(string[index].lower(), end='')\n",
    "    else:\n",
    "        print(string[index].upper(), end='')"
   ]
  },
  {
   "cell_type": "code",
   "execution_count": 291,
   "id": "dd0ae478-414f-4347-b83d-94c70acadcfc",
   "metadata": {},
   "outputs": [
    {
     "name": "stdout",
     "output_type": "stream",
     "text": [
      "sOmEtHiNg"
     ]
    }
   ],
   "source": [
    "do_next = 'lower'\n",
    "for char in string: # we no longer know index\n",
    "    if do_next == 'lower':\n",
    "        print(char.lower(), end='')\n",
    "        do_next = 'upper'\n",
    "    else:\n",
    "        print(char.upper(), end='')\n",
    "        do_next = 'lower'\n",
    "# and then we can make it a Boolean..."
   ]
  },
  {
   "cell_type": "code",
   "execution_count": 205,
   "id": "fc6c6748-e4cb-444d-9287-eb05e4a97bf7",
   "metadata": {},
   "outputs": [
    {
     "name": "stdout",
     "output_type": "stream",
     "text": [
      "a\n",
      "e\n",
      "i\n",
      "o\n",
      "u\n"
     ]
    }
   ],
   "source": [
    "for vowel in 'aeiou':\n",
    "    print(vowel)"
   ]
  },
  {
   "cell_type": "code",
   "execution_count": 293,
   "id": "d6982ec6-ad1a-4ede-b4f1-d69243b07298",
   "metadata": {},
   "outputs": [
    {
     "name": "stdout",
     "output_type": "stream",
     "text": [
      "sOmEtHiNg"
     ]
    }
   ],
   "source": [
    "make_lower = True\n",
    "\n",
    "for char in string: # we no longer know index\n",
    "    if make_lower: # == True:\n",
    "        print(char.lower(), end='')\n",
    "        make_lower = False\n",
    "    else:\n",
    "        print(char.upper(), end='')\n",
    "        make_lower = True\n",
    "# and then we can make it a Boolean..."
   ]
  },
  {
   "cell_type": "code",
   "execution_count": null,
   "id": "a9b867db-f19f-479b-b113-5113ae877d27",
   "metadata": {},
   "outputs": [],
   "source": []
  },
  {
   "cell_type": "code",
   "execution_count": 219,
   "id": "6d83d77e-1305-4bdf-8b61-36844343455b",
   "metadata": {},
   "outputs": [
    {
     "name": "stdout",
     "output_type": "stream",
     "text": [
      "yep\n"
     ]
    }
   ],
   "source": [
    "if 5 > 3:\n",
    "    print('yep')"
   ]
  },
  {
   "cell_type": "code",
   "execution_count": 221,
   "id": "ff895537-91ae-4b5c-8c5d-cbea642fbec2",
   "metadata": {},
   "outputs": [
    {
     "name": "stdout",
     "output_type": "stream",
     "text": [
      "yep\n"
     ]
    }
   ],
   "source": [
    "if 5:\n",
    "    print('yep')"
   ]
  },
  {
   "cell_type": "code",
   "execution_count": 234,
   "id": "5b8b7170-931f-4690-9f30-5d2f27f1979e",
   "metadata": {},
   "outputs": [],
   "source": [
    "num = 0.0"
   ]
  },
  {
   "cell_type": "code",
   "execution_count": 232,
   "id": "616556c5-54ec-4700-8869-cd5261d33469",
   "metadata": {},
   "outputs": [],
   "source": [
    "if num: # if num != 0 or 0.0\n",
    "    print('yep')"
   ]
  },
  {
   "cell_type": "code",
   "execution_count": 242,
   "id": "c37c50b3-cb1e-41b6-9109-4edc351a7899",
   "metadata": {},
   "outputs": [
    {
     "name": "stdin",
     "output_type": "stream",
     "text": [
      "Enter your name:  \n"
     ]
    }
   ],
   "source": [
    "name = input('Enter your name: ')"
   ]
  },
  {
   "cell_type": "code",
   "execution_count": 244,
   "id": "9f6f732d-0a2e-4bf5-a2f5-d83427e1e4c9",
   "metadata": {},
   "outputs": [],
   "source": [
    "if name: # if len(name) > 0 ... or ... if name != ''\n",
    "    print('hi', name)"
   ]
  },
  {
   "cell_type": "code",
   "execution_count": 246,
   "id": "67660d17-1d7e-4eea-9be8-28455b081c77",
   "metadata": {},
   "outputs": [
    {
     "name": "stdout",
     "output_type": "stream",
     "text": [
      "yes, this is considerer True\n"
     ]
    }
   ],
   "source": [
    "if -5:\n",
    "    print('yes, this is considered True')"
   ]
  },
  {
   "cell_type": "code",
   "execution_count": 252,
   "id": "d9860add-69bc-4ee6-aef5-29f1b6d3010d",
   "metadata": {},
   "outputs": [
    {
     "data": {
      "text/plain": [
       "['a', 'b', 'c', 'd', 'e']"
      ]
     },
     "execution_count": 252,
     "metadata": {},
     "output_type": "execute_result"
    }
   ],
   "source": [
    "'a-b-c-d-e'.split('-')"
   ]
  },
  {
   "cell_type": "code",
   "execution_count": 259,
   "id": "0ca8137d-466f-4bd1-9d1b-df50bc598fcd",
   "metadata": {},
   "outputs": [
    {
     "ename": "AttributeError",
     "evalue": "'list' object has no attribute 'join'",
     "output_type": "error",
     "traceback": [
      "\u001b[0;31m---------------------------------------------------------------------------\u001b[0m",
      "\u001b[0;31mAttributeError\u001b[0m                            Traceback (most recent call last)",
      "Cell \u001b[0;32mIn[259], line 1\u001b[0m\n\u001b[0;32m----> 1\u001b[0m [\u001b[38;5;124m'\u001b[39m\u001b[38;5;124ma\u001b[39m\u001b[38;5;124m'\u001b[39m, \u001b[38;5;124m'\u001b[39m\u001b[38;5;124mb\u001b[39m\u001b[38;5;124m'\u001b[39m, \u001b[38;5;124m'\u001b[39m\u001b[38;5;124mc\u001b[39m\u001b[38;5;124m'\u001b[39m, \u001b[38;5;124m'\u001b[39m\u001b[38;5;124md\u001b[39m\u001b[38;5;124m'\u001b[39m, \u001b[38;5;124m'\u001b[39m\u001b[38;5;124me\u001b[39m\u001b[38;5;124m'\u001b[39m]\u001b[38;5;241m.\u001b[39mjoin(\u001b[38;5;124m'\u001b[39m\u001b[38;5;124m-\u001b[39m\u001b[38;5;124m'\u001b[39m)\n",
      "\u001b[0;31mAttributeError\u001b[0m: 'list' object has no attribute 'join'"
     ]
    }
   ],
   "source": [
    "['a', 'b', 'c', 'd', 'e'].join('-')"
   ]
  },
  {
   "cell_type": "code",
   "execution_count": 261,
   "id": "9cf005ca-4e27-4da1-846c-24125c2078e0",
   "metadata": {},
   "outputs": [],
   "source": [
    "words = ['a', 'b', 'c', 'd', 'e']"
   ]
  },
  {
   "cell_type": "code",
   "execution_count": 267,
   "id": "b1811480-0fae-4fbf-bbfa-113e9dfa6256",
   "metadata": {},
   "outputs": [
    {
     "data": {
      "text/plain": [
       "['a', 'b', 'c', 'd', 'e']"
      ]
     },
     "execution_count": 267,
     "metadata": {},
     "output_type": "execute_result"
    }
   ],
   "source": [
    "words"
   ]
  },
  {
   "cell_type": "code",
   "execution_count": 269,
   "id": "f75dc3b6-9449-4627-9e0f-b7cc7919389f",
   "metadata": {},
   "outputs": [],
   "source": [
    "words = 'a-b-c-d-e'.split('-')"
   ]
  },
  {
   "cell_type": "code",
   "execution_count": 271,
   "id": "8bc2ef6b-baee-4c5e-98a5-52155c28fbf6",
   "metadata": {},
   "outputs": [
    {
     "data": {
      "text/plain": [
       "['a', 'b', 'c', 'd', 'e']"
      ]
     },
     "execution_count": 271,
     "metadata": {},
     "output_type": "execute_result"
    }
   ],
   "source": [
    "words"
   ]
  },
  {
   "cell_type": "code",
   "execution_count": 276,
   "id": "4d9a201f-c039-4ad2-9ab5-30f49fa2d0cd",
   "metadata": {},
   "outputs": [
    {
     "data": {
      "text/plain": [
       "'a-b-c-d-e'"
      ]
     },
     "execution_count": 276,
     "metadata": {},
     "output_type": "execute_result"
    }
   ],
   "source": [
    "'-'.join(words)"
   ]
  },
  {
   "cell_type": "code",
   "execution_count": 278,
   "id": "3e319bd9-2c0c-40f5-b8cb-dc069acbee9a",
   "metadata": {},
   "outputs": [
    {
     "data": {
      "text/plain": [
       "'abcde'"
      ]
     },
     "execution_count": 278,
     "metadata": {},
     "output_type": "execute_result"
    }
   ],
   "source": [
    "''.join(words)"
   ]
  },
  {
   "cell_type": "code",
   "execution_count": 280,
   "id": "649bc898-2609-4a52-8ec8-0bdf929cdb7c",
   "metadata": {},
   "outputs": [],
   "source": [
    "lang = 'python'"
   ]
  },
  {
   "cell_type": "code",
   "execution_count": 282,
   "id": "92f090e8-d3eb-43ad-91a3-1e42cf77d08a",
   "metadata": {},
   "outputs": [
    {
     "ename": "TypeError",
     "evalue": "'str' object does not support item assignment",
     "output_type": "error",
     "traceback": [
      "\u001b[0;31m---------------------------------------------------------------------------\u001b[0m",
      "\u001b[0;31mTypeError\u001b[0m                                 Traceback (most recent call last)",
      "Cell \u001b[0;32mIn[282], line 1\u001b[0m\n\u001b[0;32m----> 1\u001b[0m lang[\u001b[38;5;241m0\u001b[39m] \u001b[38;5;241m=\u001b[39m \u001b[38;5;124m'\u001b[39m\u001b[38;5;124mP\u001b[39m\u001b[38;5;124m'\u001b[39m\n",
      "\u001b[0;31mTypeError\u001b[0m: 'str' object does not support item assignment"
     ]
    }
   ],
   "source": [
    "lang[0] = 'P'"
   ]
  },
  {
   "cell_type": "code",
   "execution_count": 288,
   "id": "be88dee3-2c24-4099-9b66-f72738f38974",
   "metadata": {},
   "outputs": [],
   "source": [
    "shopping = 'apples, figs, pears, milk'.split(', ')"
   ]
  },
  {
   "cell_type": "code",
   "execution_count": 290,
   "id": "36acfd80-122e-47c8-90ee-fc0057c19514",
   "metadata": {},
   "outputs": [
    {
     "data": {
      "text/plain": [
       "['apples', 'figs', 'pears', 'milk']"
      ]
     },
     "execution_count": 290,
     "metadata": {},
     "output_type": "execute_result"
    }
   ],
   "source": [
    "shopping"
   ]
  },
  {
   "cell_type": "code",
   "execution_count": 296,
   "id": "23e6fb8d-fdd5-487c-ad75-0504eb68690a",
   "metadata": {},
   "outputs": [
    {
     "data": {
      "text/plain": [
       "'apples, figs, pears, milk'"
      ]
     },
     "execution_count": 296,
     "metadata": {},
     "output_type": "execute_result"
    }
   ],
   "source": [
    "', '.join(shopping)"
   ]
  },
  {
   "cell_type": "code",
   "execution_count": 294,
   "id": "ce673847-4a59-48d9-8f91-bd687f3d1727",
   "metadata": {},
   "outputs": [
    {
     "name": "stdout",
     "output_type": "stream",
     "text": [
      "Help on method_descriptor:\n",
      "\n",
      "join(self, iterable, /)\n",
      "    Concatenate any number of strings.\n",
      "    \n",
      "    The string whose method is called is inserted in between each given string.\n",
      "    The result is returned as a new string.\n",
      "    \n",
      "    Example: '.'.join(['ab', 'pq', 'rs']) -> 'ab.pq.rs'\n",
      "\n"
     ]
    }
   ],
   "source": [
    "help(str.join)"
   ]
  },
  {
   "cell_type": "code",
   "execution_count": 299,
   "id": "ee1d90a9-ecd0-48d5-98e2-d1175620575c",
   "metadata": {},
   "outputs": [
    {
     "ename": "TypeError",
     "evalue": "'int' object is not iterable",
     "output_type": "error",
     "traceback": [
      "\u001b[0;31m---------------------------------------------------------------------------\u001b[0m",
      "\u001b[0;31mTypeError\u001b[0m                                 Traceback (most recent call last)",
      "Cell \u001b[0;32mIn[299], line 1\u001b[0m\n\u001b[0;32m----> 1\u001b[0m \u001b[38;5;28mlist\u001b[39m(\u001b[38;5;241m2\u001b[39m)\n",
      "\u001b[0;31mTypeError\u001b[0m: 'int' object is not iterable"
     ]
    }
   ],
   "source": [
    "list(2)"
   ]
  },
  {
   "cell_type": "code",
   "execution_count": 301,
   "id": "e4a758df-1a29-4c4c-b38f-9e604782ef95",
   "metadata": {},
   "outputs": [
    {
     "data": {
      "text/plain": [
       "['G', 'a', 'p']"
      ]
     },
     "execution_count": 301,
     "metadata": {},
     "output_type": "execute_result"
    }
   ],
   "source": [
    "list('Gap')"
   ]
  },
  {
   "cell_type": "code",
   "execution_count": 303,
   "id": "8ae86ae7-1997-4dd5-b763-bd056b81f85f",
   "metadata": {},
   "outputs": [
    {
     "name": "stdout",
     "output_type": "stream",
     "text": [
      "G\n",
      "a\n",
      "p\n"
     ]
    }
   ],
   "source": [
    "for thing in 'Gap':\n",
    "    print(thing)"
   ]
  },
  {
   "cell_type": "code",
   "execution_count": 306,
   "id": "43a4fc11-43d9-483e-bbe3-195e4e49d511",
   "metadata": {},
   "outputs": [
    {
     "data": {
      "text/plain": [
       "['2', '2']"
      ]
     },
     "execution_count": 306,
     "metadata": {},
     "output_type": "execute_result"
    }
   ],
   "source": [
    "list('22')"
   ]
  },
  {
   "cell_type": "code",
   "execution_count": 320,
   "id": "08c42a1b-1338-4d6f-b906-600a29bf573b",
   "metadata": {},
   "outputs": [
    {
     "name": "stdin",
     "output_type": "stream",
     "text": [
      "Enter something:  APPLE FIg PeAr\n"
     ]
    }
   ],
   "source": [
    "stuff = input('Enter something: ').lower().split()"
   ]
  },
  {
   "cell_type": "code",
   "execution_count": 322,
   "id": "a330d3e0-bd2e-4235-8030-fa50fcc045a2",
   "metadata": {},
   "outputs": [
    {
     "data": {
      "text/plain": [
       "['apple', 'fig', 'pear']"
      ]
     },
     "execution_count": 322,
     "metadata": {},
     "output_type": "execute_result"
    }
   ],
   "source": [
    "stuff"
   ]
  },
  {
   "cell_type": "code",
   "execution_count": 324,
   "id": "28b0fda1-c8ff-40d7-a694-ffb06e6bf0bf",
   "metadata": {},
   "outputs": [
    {
     "name": "stdin",
     "output_type": "stream",
     "text": [
      "Enter something:  appLE FIG pear\n"
     ]
    }
   ],
   "source": [
    "stuff = input('Enter something: ')\n",
    "stuff = stuff.lower()\n",
    "words = stuff.split()"
   ]
  },
  {
   "cell_type": "code",
   "execution_count": 326,
   "id": "1ee4f83b-1d05-45a3-a25b-0dffd3dd9b00",
   "metadata": {},
   "outputs": [
    {
     "data": {
      "text/plain": [
       "'apple fig pear'"
      ]
     },
     "execution_count": 326,
     "metadata": {},
     "output_type": "execute_result"
    }
   ],
   "source": [
    "stuff"
   ]
  },
  {
   "cell_type": "code",
   "execution_count": 328,
   "id": "663c584c-ba03-411f-95a8-22740421adf4",
   "metadata": {},
   "outputs": [
    {
     "data": {
      "text/plain": [
       "['apple', 'fig', 'pear']"
      ]
     },
     "execution_count": 328,
     "metadata": {},
     "output_type": "execute_result"
    }
   ],
   "source": [
    "words"
   ]
  },
  {
   "cell_type": "code",
   "execution_count": 343,
   "id": "77d42f14-c30e-49a5-82a7-044453330731",
   "metadata": {},
   "outputs": [
    {
     "name": "stdout",
     "output_type": "stream",
     "text": [
      "Help on method_descriptor:\n",
      "\n",
      "remove(self, value, /)\n",
      "    Remove first occurrence of value.\n",
      "    \n",
      "    Raises ValueError if the value is not present.\n",
      "\n"
     ]
    }
   ],
   "source": [
    "help(list.remove)"
   ]
  },
  {
   "cell_type": "code",
   "execution_count": 347,
   "id": "7853bce5-b026-4b18-a9ba-d5dc3737f693",
   "metadata": {},
   "outputs": [],
   "source": [
    "lang = 'python'"
   ]
  },
  {
   "cell_type": "code",
   "execution_count": 349,
   "id": "fa5ec219-541e-4b2e-abcb-9914dd5774fc",
   "metadata": {},
   "outputs": [
    {
     "ename": "TypeError",
     "evalue": "'str' object does not support item assignment",
     "output_type": "error",
     "traceback": [
      "\u001b[0;31m---------------------------------------------------------------------------\u001b[0m",
      "\u001b[0;31mTypeError\u001b[0m                                 Traceback (most recent call last)",
      "Cell \u001b[0;32mIn[349], line 1\u001b[0m\n\u001b[0;32m----> 1\u001b[0m lang[\u001b[38;5;241m0\u001b[39m] \u001b[38;5;241m=\u001b[39m \u001b[38;5;124m'\u001b[39m\u001b[38;5;124mP\u001b[39m\u001b[38;5;124m'\u001b[39m\n",
      "\u001b[0;31mTypeError\u001b[0m: 'str' object does not support item assignment"
     ]
    }
   ],
   "source": [
    "lang[0] = 'P' # does not work because strings are immutable"
   ]
  },
  {
   "cell_type": "code",
   "execution_count": 351,
   "id": "54a86866-fd5b-4627-bc2e-47421c0fe771",
   "metadata": {},
   "outputs": [],
   "source": [
    "lang_letters = list(lang)"
   ]
  },
  {
   "cell_type": "code",
   "execution_count": 353,
   "id": "271c73c6-d686-4410-80bc-2cb6f4c887f6",
   "metadata": {},
   "outputs": [
    {
     "data": {
      "text/plain": [
       "['p', 'y', 't', 'h', 'o', 'n']"
      ]
     },
     "execution_count": 353,
     "metadata": {},
     "output_type": "execute_result"
    }
   ],
   "source": [
    "lang_letters"
   ]
  },
  {
   "cell_type": "code",
   "execution_count": 355,
   "id": "8fd3284a-a5f6-458e-bca8-bb1eb0a8765c",
   "metadata": {},
   "outputs": [],
   "source": [
    "lang_letters[0] = 'P'"
   ]
  },
  {
   "cell_type": "code",
   "execution_count": 357,
   "id": "e58b53d6-c1ee-4d49-9c36-4036b50b5ecf",
   "metadata": {},
   "outputs": [
    {
     "data": {
      "text/plain": [
       "['P', 'y', 't', 'h', 'o', 'n']"
      ]
     },
     "execution_count": 357,
     "metadata": {},
     "output_type": "execute_result"
    }
   ],
   "source": [
    "lang_letters"
   ]
  },
  {
   "cell_type": "code",
   "execution_count": 359,
   "id": "f226691e-64f9-4f86-bec2-f92de92e7238",
   "metadata": {},
   "outputs": [
    {
     "data": {
      "text/plain": [
       "'Python'"
      ]
     },
     "execution_count": 359,
     "metadata": {},
     "output_type": "execute_result"
    }
   ],
   "source": [
    "''.join(lang_letters)"
   ]
  },
  {
   "cell_type": "code",
   "execution_count": 361,
   "id": "67586415-f924-4fc7-bfd6-44914640d7b6",
   "metadata": {},
   "outputs": [],
   "source": [
    "import random"
   ]
  },
  {
   "cell_type": "code",
   "execution_count": 363,
   "id": "a3d86b65-4062-4357-a658-3fe2c3e5dffb",
   "metadata": {},
   "outputs": [
    {
     "data": {
      "text/plain": [
       "['BPF',\n",
       " 'LOG4',\n",
       " 'NV_MAGICCONST',\n",
       " 'RECIP_BPF',\n",
       " 'Random',\n",
       " 'SG_MAGICCONST',\n",
       " 'SystemRandom',\n",
       " 'TWOPI',\n",
       " '_ONE',\n",
       " '_Sequence',\n",
       " '_Set',\n",
       " '__all__',\n",
       " '__builtins__',\n",
       " '__cached__',\n",
       " '__doc__',\n",
       " '__file__',\n",
       " '__loader__',\n",
       " '__name__',\n",
       " '__package__',\n",
       " '__spec__',\n",
       " '_accumulate',\n",
       " '_acos',\n",
       " '_bisect',\n",
       " '_ceil',\n",
       " '_cos',\n",
       " '_e',\n",
       " '_exp',\n",
       " '_floor',\n",
       " '_index',\n",
       " '_inst',\n",
       " '_isfinite',\n",
       " '_log',\n",
       " '_os',\n",
       " '_pi',\n",
       " '_random',\n",
       " '_repeat',\n",
       " '_sha512',\n",
       " '_sin',\n",
       " '_sqrt',\n",
       " '_test',\n",
       " '_test_generator',\n",
       " '_urandom',\n",
       " '_warn',\n",
       " 'betavariate',\n",
       " 'choice',\n",
       " 'choices',\n",
       " 'expovariate',\n",
       " 'gammavariate',\n",
       " 'gauss',\n",
       " 'getrandbits',\n",
       " 'getstate',\n",
       " 'lognormvariate',\n",
       " 'normalvariate',\n",
       " 'paretovariate',\n",
       " 'randbytes',\n",
       " 'randint',\n",
       " 'random',\n",
       " 'randrange',\n",
       " 'sample',\n",
       " 'seed',\n",
       " 'setstate',\n",
       " 'shuffle',\n",
       " 'triangular',\n",
       " 'uniform',\n",
       " 'vonmisesvariate',\n",
       " 'weibullvariate']"
      ]
     },
     "execution_count": 363,
     "metadata": {},
     "output_type": "execute_result"
    }
   ],
   "source": [
    "dir(random)"
   ]
  },
  {
   "cell_type": "code",
   "execution_count": 365,
   "id": "aa8b90af-683a-4ccc-9a05-f16a479a65e6",
   "metadata": {},
   "outputs": [
    {
     "name": "stdout",
     "output_type": "stream",
     "text": [
      "Help on method shuffle in module random:\n",
      "\n",
      "shuffle(x) method of random.Random instance\n",
      "    Shuffle list x in place, and return None.\n",
      "\n"
     ]
    }
   ],
   "source": [
    "help(random.shuffle)"
   ]
  },
  {
   "cell_type": "code",
   "execution_count": 367,
   "id": "4d800059-b755-412b-8279-0dcab699cb6f",
   "metadata": {},
   "outputs": [],
   "source": [
    "random.shuffle(lang_letters)"
   ]
  },
  {
   "cell_type": "code",
   "execution_count": 369,
   "id": "d674ce67-5089-4d2b-912d-3073487512f1",
   "metadata": {},
   "outputs": [
    {
     "data": {
      "text/plain": [
       "['y', 'n', 'o', 't', 'P', 'h']"
      ]
     },
     "execution_count": 369,
     "metadata": {},
     "output_type": "execute_result"
    }
   ],
   "source": [
    "lang_letters"
   ]
  },
  {
   "cell_type": "code",
   "execution_count": 371,
   "id": "62a6eb03-38bb-4e3e-bfb5-99fe1af16921",
   "metadata": {},
   "outputs": [
    {
     "data": {
      "text/plain": [
       "'ynotPh'"
      ]
     },
     "execution_count": 371,
     "metadata": {},
     "output_type": "execute_result"
    }
   ],
   "source": [
    "''.join(lang_letters)"
   ]
  },
  {
   "cell_type": "code",
   "execution_count": 373,
   "id": "c96d8130-e8b4-40f9-a91e-416b2c3265d8",
   "metadata": {},
   "outputs": [],
   "source": [
    "number = 12345"
   ]
  },
  {
   "cell_type": "code",
   "execution_count": 375,
   "id": "48605624-f5de-4ad2-9a9f-28cf74f91e04",
   "metadata": {},
   "outputs": [
    {
     "data": {
      "text/plain": [
       "5"
      ]
     },
     "execution_count": 375,
     "metadata": {},
     "output_type": "execute_result"
    }
   ],
   "source": [
    "number % 10"
   ]
  },
  {
   "cell_type": "code",
   "execution_count": 377,
   "id": "51c55669-cec8-4f5c-82b8-25d904361435",
   "metadata": {},
   "outputs": [],
   "source": [
    "number = number // 10"
   ]
  },
  {
   "cell_type": "code",
   "execution_count": 379,
   "id": "5d9eac8e-2ad2-4312-8e29-2a1040da57f9",
   "metadata": {},
   "outputs": [
    {
     "data": {
      "text/plain": [
       "1234"
      ]
     },
     "execution_count": 379,
     "metadata": {},
     "output_type": "execute_result"
    }
   ],
   "source": [
    "number"
   ]
  },
  {
   "cell_type": "code",
   "execution_count": 381,
   "id": "3670c693-ebef-4a6b-8ed4-f023f6ff5568",
   "metadata": {},
   "outputs": [
    {
     "data": {
      "text/plain": [
       "4"
      ]
     },
     "execution_count": 381,
     "metadata": {},
     "output_type": "execute_result"
    }
   ],
   "source": [
    "number % 10"
   ]
  },
  {
   "cell_type": "code",
   "execution_count": 383,
   "id": "948dd262-7712-4c13-ad33-d82b2486e32c",
   "metadata": {},
   "outputs": [
    {
     "data": {
      "text/plain": [
       "['1', '2', '3', '4']"
      ]
     },
     "execution_count": 383,
     "metadata": {},
     "output_type": "execute_result"
    }
   ],
   "source": [
    "list(str(number))"
   ]
  },
  {
   "cell_type": "code",
   "execution_count": 385,
   "id": "f97f8eb0-0edf-4421-9227-fb2cb4cc1cc0",
   "metadata": {},
   "outputs": [
    {
     "name": "stdout",
     "output_type": "stream",
     "text": [
      "1\n",
      "2\n",
      "3\n",
      "4\n"
     ]
    }
   ],
   "source": [
    "for digit in str(number):\n",
    "    print(digit)"
   ]
  },
  {
   "cell_type": "code",
   "execution_count": 388,
   "id": "467c1085-1f0a-4c2f-add3-497e16f714c2",
   "metadata": {},
   "outputs": [],
   "source": [
    "string = 'something'"
   ]
  },
  {
   "cell_type": "code",
   "execution_count": 390,
   "id": "c1a447cf-8afd-48f2-9fee-c8e9fe1de58d",
   "metadata": {},
   "outputs": [
    {
     "data": {
      "text/plain": [
       "['s', 'o', 'm', 'e', 't', 'h', 'i', 'n', 'g']"
      ]
     },
     "execution_count": 390,
     "metadata": {},
     "output_type": "execute_result"
    }
   ],
   "source": [
    "list(string)"
   ]
  },
  {
   "cell_type": "code",
   "execution_count": 392,
   "id": "149e7702-4c4b-4c2a-b0ae-1b6ad778398d",
   "metadata": {},
   "outputs": [
    {
     "data": {
      "text/plain": [
       "['something']"
      ]
     },
     "execution_count": 392,
     "metadata": {},
     "output_type": "execute_result"
    }
   ],
   "source": [
    "string.split()"
   ]
  },
  {
   "cell_type": "code",
   "execution_count": 394,
   "id": "2490d091-c2ea-420d-9827-6a6976fb315e",
   "metadata": {},
   "outputs": [],
   "source": [
    "string = 'this is a test'"
   ]
  },
  {
   "cell_type": "code",
   "execution_count": 396,
   "id": "599c730b-1afa-432a-b8f2-ad5fafbe60b3",
   "metadata": {},
   "outputs": [
    {
     "data": {
      "text/plain": [
       "['this', 'is', 'a', 'test']"
      ]
     },
     "execution_count": 396,
     "metadata": {},
     "output_type": "execute_result"
    }
   ],
   "source": [
    "string.split()"
   ]
  },
  {
   "cell_type": "code",
   "execution_count": 398,
   "id": "e6dae5c6-ac50-4faf-8810-ce2051534fbc",
   "metadata": {},
   "outputs": [
    {
     "data": {
      "text/plain": [
       "['t', 'h', 'i', 's', ' ', 'i', 's', ' ', 'a', ' ', 't', 'e', 's', 't']"
      ]
     },
     "execution_count": 398,
     "metadata": {},
     "output_type": "execute_result"
    }
   ],
   "source": [
    "list(string)"
   ]
  },
  {
   "cell_type": "markdown",
   "id": "fcc0f667-4f29-48ec-a6b2-4d890279fb07",
   "metadata": {},
   "source": [
    "# sorted vs. sort details\n",
    "* __`sorted()`__\n",
    "  * built-in function, so it doesn't change the container you send in to be sorted\n",
    "  * returns a NEW sorted list of the items in the original container\n",
    "  * always returns a list no matter what kind of container you throw at it\n",
    "* __`.sort()`__\n",
    "  * list method that only works on lists\n",
    "  * modifies the list in place, i.e., rearranges its elements to be sorted\n",
    "  * doesn't return anything (returns None)"
   ]
  },
  {
   "cell_type": "code",
   "execution_count": 406,
   "id": "197b83ef-5be7-4d64-aa4e-9b16608f1555",
   "metadata": {},
   "outputs": [
    {
     "data": {
      "text/plain": [
       "6"
      ]
     },
     "execution_count": 406,
     "metadata": {},
     "output_type": "execute_result"
    }
   ],
   "source": [
    "len('string')"
   ]
  },
  {
   "cell_type": "code",
   "execution_count": 408,
   "id": "ded95b03-9b3f-4619-8d29-5206bb58ea4f",
   "metadata": {},
   "outputs": [
    {
     "data": {
      "text/plain": [
       "3"
      ]
     },
     "execution_count": 408,
     "metadata": {},
     "output_type": "execute_result"
    }
   ],
   "source": [
    "len([1, 2, 3])"
   ]
  },
  {
   "cell_type": "code",
   "execution_count": 414,
   "id": "2f48336f-0591-42ea-9884-34f5185070c1",
   "metadata": {},
   "outputs": [
    {
     "name": "stdout",
     "output_type": "stream",
     "text": [
      "Help on method_descriptor:\n",
      "\n",
      "sort(self, /, *, key=None, reverse=False)\n",
      "    Sort the list in ascending order and return None.\n",
      "    \n",
      "    The sort is in-place (i.e. the list itself is modified) and stable (i.e. the\n",
      "    order of two equal elements is maintained).\n",
      "    \n",
      "    If a key function is given, apply it once to each list item and sort them,\n",
      "    ascending or descending, according to their function values.\n",
      "    \n",
      "    The reverse flag can be set to sort in descending order.\n",
      "\n"
     ]
    }
   ],
   "source": [
    "help(list.sort)"
   ]
  },
  {
   "cell_type": "markdown",
   "id": "788fae32-9d2d-4036-8b2b-fd43bdd54670",
   "metadata": {},
   "source": [
    "## Quick Lab: Lists\n",
    "* Write a Python program to read in a list of items possibly containing duplicates, and then constructs a __new__ list containing the elements from the original list, in the order they were entered, but with duplicates only occurring ONCE in the new list, e.g.,\n",
    "<p/>\n",
    "<pre>\n",
    "Enter a list of items: <b>apple cherry banana apple lemon cherry lemon</b>\n",
    "apple cherry banana lemon"
   ]
  },
  {
   "cell_type": "code",
   "execution_count": null,
   "id": "dbf7a413-8639-45ce-9df9-ee1c57181179",
   "metadata": {},
   "outputs": [],
   "source": [
    "# 1. get a string and split into a list\n",
    "# 2. create a new list\n",
    "# 3. for each element in the original list:\n",
    "# 4.    if it's not in the new list, add it"
   ]
  },
  {
   "cell_type": "code",
   "execution_count": 1,
   "id": "b95376ad-7eba-4c7f-be93-df887f2e148d",
   "metadata": {},
   "outputs": [
    {
     "name": "stdin",
     "output_type": "stream",
     "text": [
      "Enter some words:  taylor swift travis kelce taylor swift banana taylor banana apple\n"
     ]
    }
   ],
   "source": [
    "words = input('Enter some words: ').lower().split() # 1 + lower()"
   ]
  },
  {
   "cell_type": "code",
   "execution_count": 9,
   "id": "82eeef13-a9c5-4146-827b-f89ad856469d",
   "metadata": {},
   "outputs": [
    {
     "name": "stdout",
     "output_type": "stream",
     "text": [
      "['taylor', 'swift', 'travis', 'kelce', 'taylor', 'swift', 'banana', 'taylor', 'banana', 'apple']\n"
     ]
    }
   ],
   "source": [
    "print(words)"
   ]
  },
  {
   "cell_type": "code",
   "execution_count": 11,
   "id": "20961853-60f6-44c1-8010-da7f6eb9aead",
   "metadata": {},
   "outputs": [],
   "source": [
    "new_words = [] # 2\n",
    "# or... new_words = list()"
   ]
  },
  {
   "cell_type": "code",
   "execution_count": 451,
   "id": "a6f8c131-ef0d-4ba0-a491-f3185799031a",
   "metadata": {},
   "outputs": [
    {
     "name": "stdout",
     "output_type": "stream",
     "text": [
      "duplicate word apple ignored\n",
      "duplicate word cherry ignored\n",
      "duplicate word lemon ignored\n"
     ]
    }
   ],
   "source": [
    "for word in words: # 3\n",
    "    if not word in new_words: # 4\n",
    "        new_words.append(word) # also 4\n",
    "    else:\n",
    "        print('duplicate word', word, 'ignored')"
   ]
  },
  {
   "cell_type": "code",
   "execution_count": 21,
   "id": "f39ae7c4-7299-420a-9389-7edaf946b8d3",
   "metadata": {},
   "outputs": [
    {
     "name": "stdin",
     "output_type": "stream",
     "text": [
      "Enter some words:  taylor swift travis kelce taylor swift banana taylor banana apple\n"
     ]
    },
    {
     "name": "stdout",
     "output_type": "stream",
     "text": [
      "duplicate word taylor ignored\n",
      "duplicate word swift ignored\n",
      "duplicate word taylor ignored\n",
      "duplicate word banana ignored\n",
      "['taylor', 'swift', 'travis', 'kelce', 'banana', 'apple']\n"
     ]
    }
   ],
   "source": [
    "words = input('Enter some words: ').lower().split() # 1 + lower()\n",
    "\n",
    "if words:\n",
    "    new_words = [] # 2\n",
    "\n",
    "    for word in words: # 3\n",
    "        if not word in new_words: # 4\n",
    "            new_words.append(word) # also 4\n",
    "        else:\n",
    "            print('duplicate word', word, 'ignored')\n",
    "\n",
    "    print(new_words)\n",
    "else:\n",
    "    print(\"You didn't enter any words!\")"
   ]
  },
  {
   "cell_type": "code",
   "execution_count": 447,
   "id": "3991b203-549c-49bb-9fb9-c8a2ec7c01d8",
   "metadata": {},
   "outputs": [
    {
     "data": {
      "text/plain": [
       "['apple', 'cherry', 'banana', 'lemon']"
      ]
     },
     "execution_count": 447,
     "metadata": {},
     "output_type": "execute_result"
    }
   ],
   "source": [
    "new_words"
   ]
  },
  {
   "cell_type": "code",
   "execution_count": 429,
   "id": "97167f0e-5d31-492c-bd06-f6aeef9ed1ec",
   "metadata": {},
   "outputs": [
    {
     "data": {
      "text/plain": [
       "True"
      ]
     },
     "execution_count": 429,
     "metadata": {},
     "output_type": "execute_result"
    }
   ],
   "source": [
    "'a' in 'Gap'"
   ]
  },
  {
   "cell_type": "code",
   "execution_count": 431,
   "id": "a1eae1b3-1e0e-4eef-a811-36b0cf3c95b6",
   "metadata": {},
   "outputs": [
    {
     "data": {
      "text/plain": [
       "True"
      ]
     },
     "execution_count": 431,
     "metadata": {},
     "output_type": "execute_result"
    }
   ],
   "source": [
    "'s' not in 'Gap'"
   ]
  },
  {
   "cell_type": "code",
   "execution_count": 433,
   "id": "783591ac-b1fa-40a1-9da7-27f6139e7f20",
   "metadata": {},
   "outputs": [
    {
     "data": {
      "text/plain": [
       "True"
      ]
     },
     "execution_count": 433,
     "metadata": {},
     "output_type": "execute_result"
    }
   ],
   "source": [
    "not 's' in 'Gap'"
   ]
  },
  {
   "cell_type": "markdown",
   "id": "82f92be3-9e45-4f07-9bd1-eeeebf6eed60",
   "metadata": {},
   "source": [
    "## Group Lab: Lists\n",
    "* Write a Python program to maintain a list \n",
    "  * Read input until the user enters 'quit'\n",
    "  * Words that the user enters should be added to the list\n",
    "  * If a word begins with '-' (e.g., '-foo') it should be removed from the list\n",
    "  * If the user enters only a '-', the list should be reversed\n",
    "  * After each operation, print the list\n",
    "  * Extras:\n",
    "      * If user enters more than one word (e.g, __foo bar__), add \"foo\" and \"bar\" to the list, rather than \"foo bar\"\n",
    "      * Same for \"-\", i.e., __-foo bar__ would remove \"foo\" and \"bar\" from the  list"
   ]
  },
  {
   "cell_type": "code",
   "execution_count": 473,
   "id": "a35cf52b-babf-41e2-8dfd-e4477be63df2",
   "metadata": {},
   "outputs": [
    {
     "name": "stdin",
     "output_type": "stream",
     "text": [
      "Enter:  apple\n"
     ]
    },
    {
     "name": "stdout",
     "output_type": "stream",
     "text": [
      "add to list apple\n"
     ]
    },
    {
     "name": "stdin",
     "output_type": "stream",
     "text": [
      "Enter:  fig\n"
     ]
    },
    {
     "name": "stdout",
     "output_type": "stream",
     "text": [
      "add to list fig\n"
     ]
    },
    {
     "name": "stdin",
     "output_type": "stream",
     "text": [
      "Enter:  pear\n"
     ]
    },
    {
     "name": "stdout",
     "output_type": "stream",
     "text": [
      "add to list pear\n"
     ]
    },
    {
     "name": "stdin",
     "output_type": "stream",
     "text": [
      "Enter:  quit\n"
     ]
    },
    {
     "name": "stdout",
     "output_type": "stream",
     "text": [
      "breaking\n"
     ]
    }
   ],
   "source": [
    "while True: # infinite loop, True is always True\n",
    "    response = input('Enter: ')\n",
    "    if response == 'quit': # 1 1/2 loop\n",
    "        print('breaking')\n",
    "        break\n",
    "    print('add to list', response)"
   ]
  },
  {
   "cell_type": "code",
   "execution_count": 39,
   "id": "2a184b8e-39da-4ade-9825-b2ef34168720",
   "metadata": {},
   "outputs": [
    {
     "name": "stdin",
     "output_type": "stream",
     "text": [
      "Enter:  \n"
     ]
    }
   ],
   "source": [
    "while (response := input('Enter: ').lower()) not in ['quit', 'stop', 'exit', '']: # \"walrus operator\" (assignment expression)\n",
    "    print('add to list', response)"
   ]
  },
  {
   "cell_type": "code",
   "execution_count": 477,
   "id": "9d4aa022-693a-4601-90f9-0218f495f7b0",
   "metadata": {},
   "outputs": [
    {
     "ename": "SyntaxError",
     "evalue": "invalid syntax (1333727072.py, line 1)",
     "output_type": "error",
     "traceback": [
      "\u001b[0;36m  Cell \u001b[0;32mIn[477], line 1\u001b[0;36m\u001b[0m\n\u001b[0;31m    number := 1\u001b[0m\n\u001b[0m           ^\u001b[0m\n\u001b[0;31mSyntaxError\u001b[0m\u001b[0;31m:\u001b[0m invalid syntax\n"
     ]
    }
   ],
   "source": [
    "number := 1"
   ]
  },
  {
   "cell_type": "code",
   "execution_count": 56,
   "id": "405c9446-5d9f-46ca-a95c-9e0e58cc3a42",
   "metadata": {},
   "outputs": [
    {
     "name": "stdin",
     "output_type": "stream",
     "text": [
      "Enter:  -\n"
     ]
    },
    {
     "name": "stdout",
     "output_type": "stream",
     "text": [
      " not in the list!\n",
      "[]\n"
     ]
    },
    {
     "name": "stdin",
     "output_type": "stream",
     "text": [
      "Enter:  exit\n"
     ]
    }
   ],
   "source": [
    "list_of_words = []\n",
    "\n",
    "while (response := input('Enter: ').lower()) not in ['quit', 'stop', 'exit']: # \"walrus operator\" (assignment expression)\n",
    "    if response[0] == '-': \n",
    "        if response[1:] in list_of_words:\n",
    "            list_of_words.remove(response[1:])\n",
    "        else:\n",
    "            print(response[1:], 'not in the list!')\n",
    "    else:\n",
    "        list_of_words.append(response)\n",
    "\n",
    "    print(list_of_words)"
   ]
  },
  {
   "cell_type": "code",
   "execution_count": null,
   "id": "2a75612c-1428-4ac8-925b-7a83e6ac4c39",
   "metadata": {},
   "outputs": [],
   "source": []
  },
  {
   "cell_type": "code",
   "execution_count": 89,
   "id": "f9c691eb-f1a3-47ab-97f1-1c1e9aa049a8",
   "metadata": {},
   "outputs": [
    {
     "name": "stdin",
     "output_type": "stream",
     "text": [
      "Enter:  apple\n"
     ]
    },
    {
     "name": "stdout",
     "output_type": "stream",
     "text": [
      "['apple']\n"
     ]
    },
    {
     "name": "stdin",
     "output_type": "stream",
     "text": [
      "Enter:  fig\n"
     ]
    },
    {
     "name": "stdout",
     "output_type": "stream",
     "text": [
      "['apple', 'fig']\n"
     ]
    },
    {
     "name": "stdin",
     "output_type": "stream",
     "text": [
      "Enter:  apple fig\n"
     ]
    },
    {
     "name": "stdout",
     "output_type": "stream",
     "text": [
      "['apple', 'fig', 'apple fig']\n"
     ]
    },
    {
     "name": "stdin",
     "output_type": "stream",
     "text": [
      "Enter:  quit\n"
     ]
    }
   ],
   "source": [
    "list_of_words = []\n",
    "\n",
    "while (response := input('Enter: ').lower()) not in ['quit', 'stop', 'exit']: # \"walrus operator\" (assignment expression)\n",
    "    if response == '': # they didn't enter anything\n",
    "        continue\n",
    "    if response[0] == '-': # we need to distinguish '-' from '-foo'\n",
    "        # at this point we need to know if it's a word or a command\n",
    "        if response == '-': # ok, so it's command, we need to reverse the list\n",
    "            list_of_words = list_of_words[::-1]\n",
    "            # list_of_words.reverse()\n",
    "        else:\n",
    "            if response[1:] in list_of_words:\n",
    "                list_of_words.remove(response[1:])\n",
    "            else:\n",
    "                print(response[1:], 'not in the list!')\n",
    "    else:\n",
    "        list_of_words.append(response)\n",
    "\n",
    "    print(list_of_words)"
   ]
  },
  {
   "cell_type": "code",
   "execution_count": 111,
   "id": "524d9420-b0c4-49fe-a1bf-fa66683262b3",
   "metadata": {},
   "outputs": [
    {
     "name": "stdin",
     "output_type": "stream",
     "text": [
      "Enter:  -\n"
     ]
    },
    {
     "name": "stdout",
     "output_type": "stream",
     "text": [
      "Can't reverse a list with fewer than 2 items!\n",
      "[]\n"
     ]
    },
    {
     "name": "stdin",
     "output_type": "stream",
     "text": [
      "Enter:  apple\n"
     ]
    },
    {
     "name": "stdout",
     "output_type": "stream",
     "text": [
      "['apple']\n"
     ]
    },
    {
     "name": "stdin",
     "output_type": "stream",
     "text": [
      "Enter:  -\n"
     ]
    },
    {
     "name": "stdout",
     "output_type": "stream",
     "text": [
      "Can't reverse a list with fewer than 2 items!\n",
      "['apple']\n"
     ]
    },
    {
     "name": "stdin",
     "output_type": "stream",
     "text": [
      "Enter:  fig\n"
     ]
    },
    {
     "name": "stdout",
     "output_type": "stream",
     "text": [
      "['apple', 'fig']\n"
     ]
    },
    {
     "name": "stdin",
     "output_type": "stream",
     "text": [
      "Enter:  -\n"
     ]
    },
    {
     "name": "stdout",
     "output_type": "stream",
     "text": [
      "['fig', 'apple']\n"
     ]
    },
    {
     "name": "stdin",
     "output_type": "stream",
     "text": [
      "Enter:  one two three\n"
     ]
    },
    {
     "name": "stdout",
     "output_type": "stream",
     "text": [
      "['fig', 'apple', 'one', 'two', 'three']\n"
     ]
    },
    {
     "name": "stdin",
     "output_type": "stream",
     "text": [
      "Enter:  quit\n"
     ]
    }
   ],
   "source": [
    "list_of_words = []\n",
    "\n",
    "while (response := input('Enter: ').lower()) not in ['quit', 'stop', 'exit']: # \"walrus operator\" (assignment expression)\n",
    "    if response == '': # they didn't enter anything\n",
    "        continue\n",
    "    if response[0] == '-': # we need to distinguish '-' from '-foo'\n",
    "        # at this point we need to know if it's a word or a command\n",
    "        if response == '-': # ok, so it's command, we need to reverse the list\n",
    "            if len(list_of_words) < 2:\n",
    "                print(\"Can't reverse a list with fewer than 2 items!\")\n",
    "            else:\n",
    "                list_of_words = list_of_words[::-1]\n",
    "            # list_of_words.reverse()\n",
    "        else:\n",
    "            for word in response[1:].split():\n",
    "                if word in list_of_words:\n",
    "                    list_of_words.remove(word)\n",
    "                else:\n",
    "                    print(word, 'not in the list!')\n",
    "    else:\n",
    "        list_of_words += response.split() # we're appending a string with spaces in here and we don't want that\n",
    "\n",
    "    print(list_of_words)"
   ]
  },
  {
   "cell_type": "code",
   "execution_count": 63,
   "id": "12ae6379-9895-4a47-97c9-282436e1abdb",
   "metadata": {},
   "outputs": [
    {
     "data": {
      "text/plain": [
       "''"
      ]
     },
     "execution_count": 63,
     "metadata": {},
     "output_type": "execute_result"
    }
   ],
   "source": [
    "''.lower()"
   ]
  },
  {
   "cell_type": "code",
   "execution_count": 65,
   "id": "6dc91f4c-7724-47c4-b451-1002cb10bfc2",
   "metadata": {},
   "outputs": [],
   "source": [
    "empty = ''"
   ]
  },
  {
   "cell_type": "code",
   "execution_count": 67,
   "id": "7ee6e189-73e5-4f04-a89f-a8ad9dded48b",
   "metadata": {},
   "outputs": [
    {
     "data": {
      "text/plain": [
       "0"
      ]
     },
     "execution_count": 67,
     "metadata": {},
     "output_type": "execute_result"
    }
   ],
   "source": [
    "len(empty)"
   ]
  },
  {
   "cell_type": "code",
   "execution_count": 69,
   "id": "4f4dc912-237b-4c09-add6-c1a1c0201878",
   "metadata": {},
   "outputs": [
    {
     "ename": "IndexError",
     "evalue": "string index out of range",
     "output_type": "error",
     "traceback": [
      "\u001b[0;31m---------------------------------------------------------------------------\u001b[0m",
      "\u001b[0;31mIndexError\u001b[0m                                Traceback (most recent call last)",
      "Cell \u001b[0;32mIn[69], line 1\u001b[0m\n\u001b[0;32m----> 1\u001b[0m empty[\u001b[38;5;241m0\u001b[39m]\n",
      "\u001b[0;31mIndexError\u001b[0m: string index out of range"
     ]
    }
   ],
   "source": [
    "empty[0]"
   ]
  },
  {
   "cell_type": "code",
   "execution_count": 97,
   "id": "f0884a44-0848-4cdb-b3e9-c60509763b4b",
   "metadata": {},
   "outputs": [
    {
     "data": {
      "text/plain": [
       "['apple']"
      ]
     },
     "execution_count": 97,
     "metadata": {},
     "output_type": "execute_result"
    }
   ],
   "source": [
    "'apple'.split()"
   ]
  },
  {
   "cell_type": "code",
   "execution_count": 93,
   "id": "7545a002-336f-4a53-8af5-327701ec86eb",
   "metadata": {},
   "outputs": [
    {
     "data": {
      "text/plain": [
       "['a', 'p', 'p', 'l', 'e']"
      ]
     },
     "execution_count": 93,
     "metadata": {},
     "output_type": "execute_result"
    }
   ],
   "source": [
    "list('apple')"
   ]
  },
  {
   "cell_type": "code",
   "execution_count": 113,
   "id": "692ec70a-72f6-4d5f-8b42-98ed814db0b0",
   "metadata": {},
   "outputs": [
    {
     "data": {
      "text/plain": [
       "['fig', 'apple', 'one', 'two', 'three']"
      ]
     },
     "execution_count": 113,
     "metadata": {},
     "output_type": "execute_result"
    }
   ],
   "source": [
    "list_of_words"
   ]
  },
  {
   "cell_type": "code",
   "execution_count": 121,
   "id": "c20e063c-d92b-44f5-9a71-361855b7ff5f",
   "metadata": {},
   "outputs": [
    {
     "name": "stdout",
     "output_type": "stream",
     "text": [
      "fig, apple, one, two, three\n"
     ]
    }
   ],
   "source": [
    "print(', '.join(list_of_words))"
   ]
  },
  {
   "cell_type": "code",
   "execution_count": 123,
   "id": "de103328-cec5-43e3-bd5f-681b177b5003",
   "metadata": {},
   "outputs": [
    {
     "name": "stdout",
     "output_type": "stream",
     "text": [
      "['fig', 'apple', 'one', 'two', 'three']\n"
     ]
    }
   ],
   "source": [
    "print(list_of_words)"
   ]
  },
  {
   "cell_type": "code",
   "execution_count": 127,
   "id": "e5560391-e722-4b90-9910-81fa143b3d4e",
   "metadata": {},
   "outputs": [
    {
     "name": "stdout",
     "output_type": "stream",
     "text": [
      "fig, apple, one\n"
     ]
    }
   ],
   "source": [
    "print(list_of_words[0], list_of_words[1], list_of_words[2], sep=', ')"
   ]
  },
  {
   "cell_type": "code",
   "execution_count": 131,
   "id": "fe717cf9-e0ce-48ea-866d-8699bcdd2442",
   "metadata": {},
   "outputs": [
    {
     "name": "stdout",
     "output_type": "stream",
     "text": [
      "fig, apple, one, two, three\n"
     ]
    }
   ],
   "source": [
    "print(*list_of_words, sep=', ')"
   ]
  },
  {
   "cell_type": "code",
   "execution_count": 148,
   "id": "3a791e7f-8dd2-4cc8-b913-b1f249a773de",
   "metadata": {},
   "outputs": [],
   "source": [
    "holly = '\"this\", \"that\", \"other\"'"
   ]
  },
  {
   "cell_type": "code",
   "execution_count": 150,
   "id": "00443648-511e-4654-a77a-00da49cd13a8",
   "metadata": {},
   "outputs": [
    {
     "name": "stdout",
     "output_type": "stream",
     "text": [
      "\"this\", \"that\", \"other\"\n"
     ]
    }
   ],
   "source": [
    "print(holly)"
   ]
  },
  {
   "cell_type": "code",
   "execution_count": 154,
   "id": "03969518-5bf6-4383-9c3a-34e91e63f0cc",
   "metadata": {},
   "outputs": [
    {
     "data": {
      "text/plain": [
       "'this\", \"that\", \"other'"
      ]
     },
     "execution_count": 154,
     "metadata": {},
     "output_type": "execute_result"
    }
   ],
   "source": [
    "holly.strip('\"') #split('\", \"')."
   ]
  },
  {
   "cell_type": "code",
   "execution_count": 156,
   "id": "a424df15-1176-4b4a-a854-f57345739c49",
   "metadata": {},
   "outputs": [
    {
     "data": {
      "text/plain": [
       "['this', 'that', 'other']"
      ]
     },
     "execution_count": 156,
     "metadata": {},
     "output_type": "execute_result"
    }
   ],
   "source": [
    "holly.strip('\"').split('\", \"')"
   ]
  },
  {
   "cell_type": "code",
   "execution_count": 146,
   "id": "95fed4e6-a901-4d24-a2fe-149fb222d42e",
   "metadata": {},
   "outputs": [
    {
     "data": {
      "text/plain": [
       "['this', 'that', 'other']"
      ]
     },
     "execution_count": 146,
     "metadata": {},
     "output_type": "execute_result"
    }
   ],
   "source": [
    "holly.replace('\"', '').split(', ')"
   ]
  },
  {
   "cell_type": "code",
   "execution_count": 164,
   "id": "de164416-4212-4982-a1a8-0256b8a46243",
   "metadata": {},
   "outputs": [
    {
     "data": {
      "text/plain": [
       "['fig', 'apple', 'one', 'two', 'three']"
      ]
     },
     "execution_count": 164,
     "metadata": {},
     "output_type": "execute_result"
    }
   ],
   "source": [
    "list_of_words"
   ]
  },
  {
   "cell_type": "code",
   "execution_count": 166,
   "id": "cfbce902-536f-498a-ab99-c1cc18ba04d8",
   "metadata": {},
   "outputs": [
    {
     "name": "stdout",
     "output_type": "stream",
     "text": [
      "fig\n",
      "apple\n",
      "one\n",
      "two\n",
      "three\n"
     ]
    }
   ],
   "source": [
    "# with a \"for thing in container\" loop, there is no notion of index\n",
    "for word in list_of_words:\n",
    "    print(word)"
   ]
  },
  {
   "cell_type": "code",
   "execution_count": 190,
   "id": "9262cfcd-e3f9-4b61-9354-5d4b9e4b33eb",
   "metadata": {},
   "outputs": [],
   "source": [
    "r = enumerate(list_of_words)"
   ]
  },
  {
   "cell_type": "code",
   "execution_count": 175,
   "id": "76ad980c-27f8-4608-b1c3-92dacad705a6",
   "metadata": {},
   "outputs": [
    {
     "data": {
      "text/plain": [
       "<enumerate at 0x7ff1d77151c0>"
      ]
     },
     "execution_count": 175,
     "metadata": {},
     "output_type": "execute_result"
    }
   ],
   "source": [
    "r"
   ]
  },
  {
   "cell_type": "code",
   "execution_count": 178,
   "id": "5857145a-9c9d-4edc-a139-3f90f111fcc6",
   "metadata": {},
   "outputs": [
    {
     "data": {
      "text/plain": [
       "enumerate"
      ]
     },
     "execution_count": 178,
     "metadata": {},
     "output_type": "execute_result"
    }
   ],
   "source": [
    "type(r)"
   ]
  },
  {
   "cell_type": "code",
   "execution_count": 180,
   "id": "230c4966-8d3b-4c5e-82b3-be3e76d36175",
   "metadata": {},
   "outputs": [
    {
     "data": {
      "text/plain": [
       "140676678373824"
      ]
     },
     "execution_count": 180,
     "metadata": {},
     "output_type": "execute_result"
    }
   ],
   "source": [
    "id(r)"
   ]
  },
  {
   "cell_type": "code",
   "execution_count": 182,
   "id": "12948f06-f6d1-4910-bd50-5773a31240bd",
   "metadata": {},
   "outputs": [
    {
     "name": "stdout",
     "output_type": "stream",
     "text": [
      "(0, 'fig')\n",
      "(1, 'apple')\n",
      "(2, 'one')\n",
      "(3, 'two')\n",
      "(4, 'three')\n"
     ]
    }
   ],
   "source": [
    "for thing in r:\n",
    "    print(thing)"
   ]
  },
  {
   "cell_type": "code",
   "execution_count": 192,
   "id": "3d388da0-08f7-41db-8269-9f76bac94d84",
   "metadata": {},
   "outputs": [
    {
     "name": "stdout",
     "output_type": "stream",
     "text": [
      "0 fig\n",
      "1 apple\n",
      "2 one\n",
      "3 two\n",
      "4 three\n"
     ]
    }
   ],
   "source": [
    "for index, thing in r:\n",
    "    print(index, thing)"
   ]
  },
  {
   "cell_type": "code",
   "execution_count": 196,
   "id": "00292f5f-1917-4612-93eb-0df402f6f9b1",
   "metadata": {},
   "outputs": [
    {
     "data": {
      "text/plain": [
       "140676675210304"
      ]
     },
     "execution_count": 196,
     "metadata": {},
     "output_type": "execute_result"
    }
   ],
   "source": [
    "id(list_of_words)"
   ]
  },
  {
   "cell_type": "code",
   "execution_count": 198,
   "id": "9a765976-385f-499f-ab11-51324d32dea2",
   "metadata": {},
   "outputs": [],
   "source": [
    "import math"
   ]
  },
  {
   "cell_type": "code",
   "execution_count": 200,
   "id": "cb8a473a-40ee-4266-9fc9-3b26db70a63a",
   "metadata": {},
   "outputs": [
    {
     "data": {
      "text/plain": [
       "140678056186864"
      ]
     },
     "execution_count": 200,
     "metadata": {},
     "output_type": "execute_result"
    }
   ],
   "source": [
    "id(math)"
   ]
  },
  {
   "cell_type": "code",
   "execution_count": 202,
   "id": "24a9baa0-91ab-453d-a1db-ed024cb70191",
   "metadata": {},
   "outputs": [
    {
     "data": {
      "text/plain": [
       "8863200"
      ]
     },
     "execution_count": 202,
     "metadata": {},
     "output_type": "execute_result"
    }
   ],
   "source": [
    "id(enumerate)"
   ]
  },
  {
   "cell_type": "code",
   "execution_count": 205,
   "id": "4611025b-c610-4f43-ba68-dc6052ad69e8",
   "metadata": {},
   "outputs": [],
   "source": [
    "import math"
   ]
  },
  {
   "cell_type": "code",
   "execution_count": 207,
   "id": "256fddf9-c7d7-4752-b975-6f99273c18d9",
   "metadata": {},
   "outputs": [
    {
     "data": {
      "text/plain": [
       "['__doc__',\n",
       " '__file__',\n",
       " '__loader__',\n",
       " '__name__',\n",
       " '__package__',\n",
       " '__spec__',\n",
       " 'acos',\n",
       " 'acosh',\n",
       " 'asin',\n",
       " 'asinh',\n",
       " 'atan',\n",
       " 'atan2',\n",
       " 'atanh',\n",
       " 'cbrt',\n",
       " 'ceil',\n",
       " 'comb',\n",
       " 'copysign',\n",
       " 'cos',\n",
       " 'cosh',\n",
       " 'degrees',\n",
       " 'dist',\n",
       " 'e',\n",
       " 'erf',\n",
       " 'erfc',\n",
       " 'exp',\n",
       " 'exp2',\n",
       " 'expm1',\n",
       " 'fabs',\n",
       " 'factorial',\n",
       " 'floor',\n",
       " 'fmod',\n",
       " 'frexp',\n",
       " 'fsum',\n",
       " 'gamma',\n",
       " 'gcd',\n",
       " 'hypot',\n",
       " 'inf',\n",
       " 'isclose',\n",
       " 'isfinite',\n",
       " 'isinf',\n",
       " 'isnan',\n",
       " 'isqrt',\n",
       " 'lcm',\n",
       " 'ldexp',\n",
       " 'lgamma',\n",
       " 'log',\n",
       " 'log10',\n",
       " 'log1p',\n",
       " 'log2',\n",
       " 'modf',\n",
       " 'nan',\n",
       " 'nextafter',\n",
       " 'perm',\n",
       " 'pi',\n",
       " 'pow',\n",
       " 'prod',\n",
       " 'radians',\n",
       " 'remainder',\n",
       " 'sin',\n",
       " 'sinh',\n",
       " 'sqrt',\n",
       " 'tan',\n",
       " 'tanh',\n",
       " 'tau',\n",
       " 'trunc',\n",
       " 'ulp']"
      ]
     },
     "execution_count": 207,
     "metadata": {},
     "output_type": "execute_result"
    }
   ],
   "source": [
    "dir(math)"
   ]
  },
  {
   "cell_type": "code",
   "execution_count": 209,
   "id": "90a4b639-dd3e-42b1-9d28-4678f245e81c",
   "metadata": {},
   "outputs": [
    {
     "data": {
      "text/plain": [
       "['In',\n",
       " 'Out',\n",
       " '_',\n",
       " '_10',\n",
       " '_100',\n",
       " '_102',\n",
       " '_104',\n",
       " '_106',\n",
       " '_108',\n",
       " '_110',\n",
       " '_112',\n",
       " '_113',\n",
       " '_114',\n",
       " '_115',\n",
       " '_116',\n",
       " '_118',\n",
       " '_12',\n",
       " '_120',\n",
       " '_122',\n",
       " '_124',\n",
       " '_126',\n",
       " '_128',\n",
       " '_130',\n",
       " '_132',\n",
       " '_133',\n",
       " '_135',\n",
       " '_137',\n",
       " '_139',\n",
       " '_14',\n",
       " '_140',\n",
       " '_141',\n",
       " '_142',\n",
       " '_143',\n",
       " '_144',\n",
       " '_145',\n",
       " '_146',\n",
       " '_147',\n",
       " '_149',\n",
       " '_151',\n",
       " '_153',\n",
       " '_154',\n",
       " '_155',\n",
       " '_156',\n",
       " '_157',\n",
       " '_158',\n",
       " '_159',\n",
       " '_16',\n",
       " '_160',\n",
       " '_161',\n",
       " '_162',\n",
       " '_163',\n",
       " '_164',\n",
       " '_165',\n",
       " '_167',\n",
       " '_168',\n",
       " '_170',\n",
       " '_172',\n",
       " '_174',\n",
       " '_175',\n",
       " '_176',\n",
       " '_177',\n",
       " '_178',\n",
       " '_179',\n",
       " '_18',\n",
       " '_180',\n",
       " '_181',\n",
       " '_183',\n",
       " '_185',\n",
       " '_187',\n",
       " '_189',\n",
       " '_191',\n",
       " '_193',\n",
       " '_194',\n",
       " '_195',\n",
       " '_196',\n",
       " '_197',\n",
       " '_199',\n",
       " '_2',\n",
       " '_20',\n",
       " '_200',\n",
       " '_201',\n",
       " '_202',\n",
       " '_203',\n",
       " '_204',\n",
       " '_206',\n",
       " '_207',\n",
       " '_208',\n",
       " '_22',\n",
       " '_24',\n",
       " '_26',\n",
       " '_28',\n",
       " '_3',\n",
       " '_30',\n",
       " '_32',\n",
       " '_34',\n",
       " '_36',\n",
       " '_38',\n",
       " '_4',\n",
       " '_40',\n",
       " '_42',\n",
       " '_43',\n",
       " '_45',\n",
       " '_47',\n",
       " '_49',\n",
       " '_51',\n",
       " '_53',\n",
       " '_54',\n",
       " '_55',\n",
       " '_57',\n",
       " '_58',\n",
       " '_59',\n",
       " '_6',\n",
       " '_60',\n",
       " '_62',\n",
       " '_63',\n",
       " '_64',\n",
       " '_66',\n",
       " '_67',\n",
       " '_68',\n",
       " '_7',\n",
       " '_70',\n",
       " '_71',\n",
       " '_72',\n",
       " '_73',\n",
       " '_74',\n",
       " '_75',\n",
       " '_76',\n",
       " '_78',\n",
       " '_8',\n",
       " '_80',\n",
       " '_82',\n",
       " '_84',\n",
       " '_86',\n",
       " '_88',\n",
       " '_90',\n",
       " '_91',\n",
       " '_92',\n",
       " '_93',\n",
       " '_94',\n",
       " '_95',\n",
       " '_96',\n",
       " '_97',\n",
       " '_98',\n",
       " '__',\n",
       " '___',\n",
       " '__builtin__',\n",
       " '__builtins__',\n",
       " '__doc__',\n",
       " '__loader__',\n",
       " '__name__',\n",
       " '__package__',\n",
       " '__pandas',\n",
       " '__session__',\n",
       " '__spec__',\n",
       " '_dh',\n",
       " '_i',\n",
       " '_i1',\n",
       " '_i10',\n",
       " '_i100',\n",
       " '_i101',\n",
       " '_i102',\n",
       " '_i103',\n",
       " '_i104',\n",
       " '_i105',\n",
       " '_i106',\n",
       " '_i107',\n",
       " '_i108',\n",
       " '_i109',\n",
       " '_i11',\n",
       " '_i110',\n",
       " '_i111',\n",
       " '_i112',\n",
       " '_i113',\n",
       " '_i114',\n",
       " '_i115',\n",
       " '_i116',\n",
       " '_i117',\n",
       " '_i118',\n",
       " '_i119',\n",
       " '_i12',\n",
       " '_i120',\n",
       " '_i121',\n",
       " '_i122',\n",
       " '_i123',\n",
       " '_i124',\n",
       " '_i125',\n",
       " '_i126',\n",
       " '_i127',\n",
       " '_i128',\n",
       " '_i129',\n",
       " '_i13',\n",
       " '_i130',\n",
       " '_i131',\n",
       " '_i132',\n",
       " '_i133',\n",
       " '_i134',\n",
       " '_i135',\n",
       " '_i136',\n",
       " '_i137',\n",
       " '_i138',\n",
       " '_i139',\n",
       " '_i14',\n",
       " '_i140',\n",
       " '_i141',\n",
       " '_i142',\n",
       " '_i143',\n",
       " '_i144',\n",
       " '_i145',\n",
       " '_i146',\n",
       " '_i147',\n",
       " '_i148',\n",
       " '_i149',\n",
       " '_i15',\n",
       " '_i150',\n",
       " '_i151',\n",
       " '_i152',\n",
       " '_i153',\n",
       " '_i154',\n",
       " '_i155',\n",
       " '_i156',\n",
       " '_i157',\n",
       " '_i158',\n",
       " '_i159',\n",
       " '_i16',\n",
       " '_i160',\n",
       " '_i161',\n",
       " '_i162',\n",
       " '_i163',\n",
       " '_i164',\n",
       " '_i165',\n",
       " '_i166',\n",
       " '_i167',\n",
       " '_i168',\n",
       " '_i169',\n",
       " '_i17',\n",
       " '_i170',\n",
       " '_i171',\n",
       " '_i172',\n",
       " '_i173',\n",
       " '_i174',\n",
       " '_i175',\n",
       " '_i176',\n",
       " '_i177',\n",
       " '_i178',\n",
       " '_i179',\n",
       " '_i18',\n",
       " '_i180',\n",
       " '_i181',\n",
       " '_i182',\n",
       " '_i183',\n",
       " '_i184',\n",
       " '_i185',\n",
       " '_i186',\n",
       " '_i187',\n",
       " '_i188',\n",
       " '_i189',\n",
       " '_i19',\n",
       " '_i190',\n",
       " '_i191',\n",
       " '_i192',\n",
       " '_i193',\n",
       " '_i194',\n",
       " '_i195',\n",
       " '_i196',\n",
       " '_i197',\n",
       " '_i198',\n",
       " '_i199',\n",
       " '_i2',\n",
       " '_i20',\n",
       " '_i200',\n",
       " '_i201',\n",
       " '_i202',\n",
       " '_i203',\n",
       " '_i204',\n",
       " '_i205',\n",
       " '_i206',\n",
       " '_i207',\n",
       " '_i208',\n",
       " '_i209',\n",
       " '_i21',\n",
       " '_i22',\n",
       " '_i23',\n",
       " '_i24',\n",
       " '_i25',\n",
       " '_i26',\n",
       " '_i27',\n",
       " '_i28',\n",
       " '_i29',\n",
       " '_i3',\n",
       " '_i30',\n",
       " '_i31',\n",
       " '_i32',\n",
       " '_i33',\n",
       " '_i34',\n",
       " '_i35',\n",
       " '_i36',\n",
       " '_i37',\n",
       " '_i38',\n",
       " '_i39',\n",
       " '_i4',\n",
       " '_i40',\n",
       " '_i41',\n",
       " '_i42',\n",
       " '_i43',\n",
       " '_i44',\n",
       " '_i45',\n",
       " '_i46',\n",
       " '_i47',\n",
       " '_i48',\n",
       " '_i49',\n",
       " '_i5',\n",
       " '_i50',\n",
       " '_i51',\n",
       " '_i52',\n",
       " '_i53',\n",
       " '_i54',\n",
       " '_i55',\n",
       " '_i56',\n",
       " '_i57',\n",
       " '_i58',\n",
       " '_i59',\n",
       " '_i6',\n",
       " '_i60',\n",
       " '_i61',\n",
       " '_i62',\n",
       " '_i63',\n",
       " '_i64',\n",
       " '_i65',\n",
       " '_i66',\n",
       " '_i67',\n",
       " '_i68',\n",
       " '_i69',\n",
       " '_i7',\n",
       " '_i70',\n",
       " '_i71',\n",
       " '_i72',\n",
       " '_i73',\n",
       " '_i74',\n",
       " '_i75',\n",
       " '_i76',\n",
       " '_i77',\n",
       " '_i78',\n",
       " '_i79',\n",
       " '_i8',\n",
       " '_i80',\n",
       " '_i81',\n",
       " '_i82',\n",
       " '_i83',\n",
       " '_i84',\n",
       " '_i85',\n",
       " '_i86',\n",
       " '_i87',\n",
       " '_i88',\n",
       " '_i89',\n",
       " '_i9',\n",
       " '_i90',\n",
       " '_i91',\n",
       " '_i92',\n",
       " '_i93',\n",
       " '_i94',\n",
       " '_i95',\n",
       " '_i96',\n",
       " '_i97',\n",
       " '_i98',\n",
       " '_i99',\n",
       " '_ih',\n",
       " '_ii',\n",
       " '_iii',\n",
       " '_oh',\n",
       " 'dataframe_columns',\n",
       " 'dataframe_hash',\n",
       " 'dtypes_str',\n",
       " 'empty',\n",
       " 'exit',\n",
       " 'get_dataframes',\n",
       " 'get_ipython',\n",
       " 'getpass',\n",
       " 'hashlib',\n",
       " 'holly',\n",
       " 'import_pandas_safely',\n",
       " 'index',\n",
       " 'is_data_frame',\n",
       " 'json',\n",
       " 'list_of_words',\n",
       " 'math',\n",
       " 'new_words',\n",
       " 'open',\n",
       " 'os',\n",
       " 'quit',\n",
       " 'r',\n",
       " 'readline',\n",
       " 'response',\n",
       " 'rlcompleter',\n",
       " 'thing',\n",
       " 'word',\n",
       " 'words']"
      ]
     },
     "execution_count": 209,
     "metadata": {},
     "output_type": "execute_result"
    }
   ],
   "source": [
    "dir()"
   ]
  },
  {
   "cell_type": "code",
   "execution_count": null,
   "id": "28b80487-b9b9-496e-9dbc-639f51a8edff",
   "metadata": {},
   "outputs": [],
   "source": [
    "first_names = ['Katherine', 'Bruce', 'Taylor']\n",
    "last_names = ['Johnson', 'Lee', 'Swift', 'Frost']\n",
    "\n",
    "for first, last in zip(first_names, last_names, fillvalue='***'):\n",
    "    print(first, last)"
   ]
  },
  {
   "cell_type": "code",
   "execution_count": 213,
   "id": "949a4689-d4fc-4b1c-811e-2b17ea019ccb",
   "metadata": {},
   "outputs": [
    {
     "data": {
      "text/plain": [
       "'3.11.5 (main, Sep 11 2023, 13:54:46) [GCC 11.2.0]'"
      ]
     },
     "execution_count": 213,
     "metadata": {},
     "output_type": "execute_result"
    }
   ],
   "source": [
    "import sys\n",
    "sys.version"
   ]
  },
  {
   "cell_type": "code",
   "execution_count": 223,
   "id": "222c3cac-1a48-4c2b-976c-faac876c5079",
   "metadata": {},
   "outputs": [
    {
     "name": "stdout",
     "output_type": "stream",
     "text": [
      "Katherine Johnson\n",
      "Bruce Lee\n",
      "Taylor Swift\n"
     ]
    },
    {
     "ename": "ValueError",
     "evalue": "zip() argument 2 is shorter than argument 1",
     "output_type": "error",
     "traceback": [
      "\u001b[0;31m---------------------------------------------------------------------------\u001b[0m",
      "\u001b[0;31mValueError\u001b[0m                                Traceback (most recent call last)",
      "Cell \u001b[0;32mIn[223], line 4\u001b[0m\n\u001b[1;32m      1\u001b[0m first_names \u001b[38;5;241m=\u001b[39m [\u001b[38;5;124m'\u001b[39m\u001b[38;5;124mKatherine\u001b[39m\u001b[38;5;124m'\u001b[39m, \u001b[38;5;124m'\u001b[39m\u001b[38;5;124mBruce\u001b[39m\u001b[38;5;124m'\u001b[39m, \u001b[38;5;124m'\u001b[39m\u001b[38;5;124mTaylor\u001b[39m\u001b[38;5;124m'\u001b[39m]\n\u001b[1;32m      2\u001b[0m last_names \u001b[38;5;241m=\u001b[39m [\u001b[38;5;124m'\u001b[39m\u001b[38;5;124mJohnson\u001b[39m\u001b[38;5;124m'\u001b[39m, \u001b[38;5;124m'\u001b[39m\u001b[38;5;124mLee\u001b[39m\u001b[38;5;124m'\u001b[39m, \u001b[38;5;124m'\u001b[39m\u001b[38;5;124mSwift\u001b[39m\u001b[38;5;124m'\u001b[39m, \u001b[38;5;124m'\u001b[39m\u001b[38;5;124mFrost\u001b[39m\u001b[38;5;124m'\u001b[39m]\n\u001b[0;32m----> 4\u001b[0m \u001b[38;5;28;01mfor\u001b[39;00m last, first \u001b[38;5;129;01min\u001b[39;00m \u001b[38;5;28mzip\u001b[39m(last_names, first_names, strict\u001b[38;5;241m=\u001b[39m\u001b[38;5;28;01mTrue\u001b[39;00m):\n\u001b[1;32m      5\u001b[0m     \u001b[38;5;28mprint\u001b[39m(first, last)\n",
      "\u001b[0;31mValueError\u001b[0m: zip() argument 2 is shorter than argument 1"
     ]
    }
   ],
   "source": [
    "first_names = ['Katherine', 'Bruce', 'Taylor']\n",
    "last_names = ['Johnson', 'Lee', 'Swift', 'Frost']\n",
    "\n",
    "for last, first in zip(last_names, first_names, strict=True):\n",
    "    print(first, last)"
   ]
  },
  {
   "cell_type": "code",
   "execution_count": 229,
   "id": "1b700c36-1b95-43e8-b9ba-647b17f8d472",
   "metadata": {},
   "outputs": [
    {
     "name": "stdout",
     "output_type": "stream",
     "text": [
      "error...\n"
     ]
    }
   ],
   "source": [
    "# what if we didn't have 'strict' argument?\n",
    "first_names = ['Katherine', 'Bruce', 'Taylor']\n",
    "last_names = ['Johnson', 'Lee', 'Swift', 'Frost']\n",
    "\n",
    "if len(first_names) == len(last_names):\n",
    "    for last, first in zip(last_names, first_names):\n",
    "        print(first, last)\n",
    "else:\n",
    "    print('error...')"
   ]
  },
  {
   "cell_type": "code",
   "execution_count": 235,
   "id": "d511a47a-4136-4131-b4aa-633bbee16762",
   "metadata": {},
   "outputs": [
    {
     "ename": "AssertionError",
     "evalue": "Iterables must be same length!",
     "output_type": "error",
     "traceback": [
      "\u001b[0;31m---------------------------------------------------------------------------\u001b[0m",
      "\u001b[0;31mAssertionError\u001b[0m                            Traceback (most recent call last)",
      "Cell \u001b[0;32mIn[235], line 5\u001b[0m\n\u001b[1;32m      2\u001b[0m first_names \u001b[38;5;241m=\u001b[39m [\u001b[38;5;124m'\u001b[39m\u001b[38;5;124mKatherine\u001b[39m\u001b[38;5;124m'\u001b[39m, \u001b[38;5;124m'\u001b[39m\u001b[38;5;124mBruce\u001b[39m\u001b[38;5;124m'\u001b[39m, \u001b[38;5;124m'\u001b[39m\u001b[38;5;124mTaylor\u001b[39m\u001b[38;5;124m'\u001b[39m]\n\u001b[1;32m      3\u001b[0m last_names \u001b[38;5;241m=\u001b[39m [\u001b[38;5;124m'\u001b[39m\u001b[38;5;124mJohnson\u001b[39m\u001b[38;5;124m'\u001b[39m, \u001b[38;5;124m'\u001b[39m\u001b[38;5;124mLee\u001b[39m\u001b[38;5;124m'\u001b[39m, \u001b[38;5;124m'\u001b[39m\u001b[38;5;124mSwift\u001b[39m\u001b[38;5;124m'\u001b[39m, \u001b[38;5;124m'\u001b[39m\u001b[38;5;124mFrost\u001b[39m\u001b[38;5;124m'\u001b[39m]\n\u001b[0;32m----> 5\u001b[0m \u001b[38;5;28;01massert\u001b[39;00m \u001b[38;5;28mlen\u001b[39m(first_names) \u001b[38;5;241m==\u001b[39m \u001b[38;5;28mlen\u001b[39m(last_names), \u001b[38;5;124m\"\u001b[39m\u001b[38;5;124mIterables must be same length!\u001b[39m\u001b[38;5;124m\"\u001b[39m\n\u001b[1;32m      7\u001b[0m \u001b[38;5;28;01mfor\u001b[39;00m last, first \u001b[38;5;129;01min\u001b[39;00m \u001b[38;5;28mzip\u001b[39m(last_names, first_names):\n\u001b[1;32m      8\u001b[0m     \u001b[38;5;28mprint\u001b[39m(first, last)\n",
      "\u001b[0;31mAssertionError\u001b[0m: Iterables must be same length!"
     ]
    }
   ],
   "source": [
    "# what if we didn't have 'strict' argument?\n",
    "first_names = ['Katherine', 'Bruce', 'Taylor']\n",
    "last_names = ['Johnson', 'Lee', 'Swift', 'Frost']\n",
    "\n",
    "assert len(first_names) == len(last_names), \"Iterables must be same length!\"\n",
    "\n",
    "for last, first in zip(last_names, first_names):\n",
    "    print(first, last)\n"
   ]
  },
  {
   "cell_type": "code",
   "execution_count": 243,
   "id": "0e5ea003-ffe7-4684-a2d3-4e0ef6ee259b",
   "metadata": {},
   "outputs": [],
   "source": [
    "sentence = 'Hi Hamlet, how are you?'"
   ]
  },
  {
   "cell_type": "code",
   "execution_count": 245,
   "id": "58cd9312-1353-443b-83bd-bca0f91d33fb",
   "metadata": {},
   "outputs": [
    {
     "data": {
      "text/plain": [
       "['Hi', 'Hamlet,', 'how', 'are', 'you?']"
      ]
     },
     "execution_count": 245,
     "metadata": {},
     "output_type": "execute_result"
    }
   ],
   "source": [
    "sentence.split()"
   ]
  },
  {
   "cell_type": "code",
   "execution_count": 250,
   "id": "166bed4b-6f24-4628-8a75-7ae3ade843c9",
   "metadata": {},
   "outputs": [],
   "source": [
    "# we want to get rid of punctuation\n",
    "new_sentence = [char for char in sentence\n",
    "                        if char not in ',?']"
   ]
  },
  {
   "cell_type": "code",
   "execution_count": 252,
   "id": "28f4c517-c7c6-4adf-bf5b-e085bd65041a",
   "metadata": {},
   "outputs": [
    {
     "name": "stdout",
     "output_type": "stream",
     "text": [
      "['H', 'i', ' ', 'H', 'a', 'm', 'l', 'e', 't', ' ', 'h', 'o', 'w', ' ', 'a', 'r', 'e', ' ', 'y', 'o', 'u']\n"
     ]
    }
   ],
   "source": [
    "print(new_sentence)"
   ]
  },
  {
   "cell_type": "code",
   "execution_count": 254,
   "id": "4b332ab6-79f1-4862-941a-1ace364b691f",
   "metadata": {},
   "outputs": [
    {
     "data": {
      "text/plain": [
       "'Hi Hamlet how are you'"
      ]
     },
     "execution_count": 254,
     "metadata": {},
     "output_type": "execute_result"
    }
   ],
   "source": [
    "''.join(new_sentence)"
   ]
  },
  {
   "cell_type": "code",
   "execution_count": 256,
   "id": "cd84284e-0341-4c48-a0bd-aa680b8c776c",
   "metadata": {},
   "outputs": [],
   "source": [
    "# one step: we want to get rid of punctuation\n",
    "new_sentence = ''.join([char for char in sentence\n",
    "                        if char not in ',?'])"
   ]
  },
  {
   "cell_type": "code",
   "execution_count": 258,
   "id": "ce78b5df-4c35-44c7-b164-0f818632682d",
   "metadata": {},
   "outputs": [
    {
     "data": {
      "text/plain": [
       "'Hi Hamlet how are you'"
      ]
     },
     "execution_count": 258,
     "metadata": {},
     "output_type": "execute_result"
    }
   ],
   "source": [
    "new_sentence"
   ]
  },
  {
   "cell_type": "code",
   "execution_count": 267,
   "id": "6ea616ed-9052-4819-98f0-ef3ad40152f1",
   "metadata": {},
   "outputs": [
    {
     "data": {
      "text/plain": [
       "True"
      ]
     },
     "execution_count": 267,
     "metadata": {},
     "output_type": "execute_result"
    }
   ],
   "source": [
    "'apple'[-1] in 'aeiou'"
   ]
  },
  {
   "cell_type": "code",
   "execution_count": 275,
   "id": "6a56f493-0a28-4989-9e8b-3516650e561a",
   "metadata": {},
   "outputs": [
    {
     "data": {
      "text/plain": [
       "[0,\n",
       " 5,\n",
       " 10,\n",
       " 15,\n",
       " 20,\n",
       " 25,\n",
       " 30,\n",
       " 35,\n",
       " 40,\n",
       " 45,\n",
       " 50,\n",
       " 55,\n",
       " 60,\n",
       " 65,\n",
       " 70,\n",
       " 75,\n",
       " 80,\n",
       " 85,\n",
       " 90,\n",
       " 95,\n",
       " 100]"
      ]
     },
     "execution_count": 275,
     "metadata": {},
     "output_type": "execute_result"
    }
   ],
   "source": [
    "list(range(0, 101, 5))"
   ]
  },
  {
   "cell_type": "markdown",
   "id": "e1d50b66-affb-46a1-a00a-e6c4db1a591c",
   "metadata": {},
   "source": [
    "## Lab: List Comprehensions\n",
    "*  Start with Cartesian product example (colors x sizes of t-shirts) and add a third list, __`sleeves = ['short', 'long']`__ then write a new listcomp which generates the Cartesian product __`colors x sizes x sleeves`__. __`tshirts`__ should look like this:<pre><b>\n",
    "    [['black', 'S', 'short'],\n",
    "     ['black', 'S', 'long'],\n",
    "     ['black', 'M', 'short'],\n",
    "     ['black', 'M', 'long'],\n",
    "     ['black', 'L', 'short'],\n",
    "     ['black', 'L', 'long'],\n",
    "     ['white', 'S', 'short'],\n",
    "     ['white', 'S', 'long'],\n",
    "     ['white', 'M', 'short'],\n",
    "     ['white', 'M', 'long'],\n",
    "     ['white', 'L', 'short'],\n",
    "     ['white', 'L', 'long']]\n",
    "     \n",
    " </b></pre>\n",
    "* Use a list comprehension to create a list of the squares of the integers from 1 to 25 (i.e, 1, 4, 9, 16, …, 625)\n",
    "* Given a list of words, create a second list which contains all the words from the first list which do not end with a vowel\n",
    "* Use a list comprehension to create a list of the integers from 1 to 100 which are not divisible by 5\n",
    "* Use a list comprehension and __`zip()`__ to create a list of lists, where the list items are name and ID number that you grabbed from separate lists of names and ID numbers\n",
    "  * start with a list of, say, 5 names ['John', 'Mary', 'Edward', 'Linda', 'Dinesh']\n",
    "  * and a list of, say, 5 ID numbers [1003, 2043, 8762, 7862, 1093]\n",
    "  * additional wrinkle: do not include any names whose corresponding ID is -1"
   ]
  },
  {
   "cell_type": "code",
   "execution_count": 343,
   "id": "17afc6d5-5228-41a6-a48e-fd9ae5aec3cd",
   "metadata": {},
   "outputs": [
    {
     "data": {
      "text/plain": [
       "[['black', 'S', 'short'],\n",
       " ['black', 'S', 'long'],\n",
       " ['black', 'M', 'short'],\n",
       " ['black', 'M', 'long'],\n",
       " ['black', 'L', 'short'],\n",
       " ['black', 'L', 'long'],\n",
       " ['black', 'XL', 'short'],\n",
       " ['black', 'XL', 'long'],\n",
       " ['white', 'S', 'short'],\n",
       " ['white', 'S', 'long'],\n",
       " ['white', 'M', 'short'],\n",
       " ['white', 'M', 'long'],\n",
       " ['white', 'L', 'short'],\n",
       " ['white', 'L', 'long'],\n",
       " ['white', 'XL', 'short'],\n",
       " ['white', 'XL', 'long']]"
      ]
     },
     "execution_count": 343,
     "metadata": {},
     "output_type": "execute_result"
    }
   ],
   "source": [
    "colors = ['black', 'white']\n",
    "sizes = ['S', 'M', 'L', 'XL']\n",
    "sleeves = ['short', 'long']\n",
    "\n",
    "tshirts = [[color, size, sleeve] for color in colors\n",
    "                                    for size in sizes\n",
    "                                       for sleeve in sleeves]\n",
    "tshirts"
   ]
  },
  {
   "cell_type": "code",
   "execution_count": 311,
   "id": "a712b265-f2a1-4398-b2c6-9243007997c4",
   "metadata": {},
   "outputs": [
    {
     "name": "stdout",
     "output_type": "stream",
     "text": [
      "[1, 4, 9, 16, 25, 36, 49, 64, 81, 100, 121, 144, 169, 196, 225, 256, 289, 324, 361, 400, 441, 484, 529, 576, 625]\n"
     ]
    }
   ],
   "source": [
    "# squares from 1..25\n",
    "squares = [num * num for num in range(1, 26)]\n",
    "print(squares)"
   ]
  },
  {
   "cell_type": "code",
   "execution_count": 315,
   "id": "f1fff905-ebba-4ae1-b00c-57f8df2522f2",
   "metadata": {},
   "outputs": [],
   "source": [
    "words = 'apple fig pear lime lemon guava watermelon'.split() "
   ]
  },
  {
   "cell_type": "code",
   "execution_count": 327,
   "id": "4a2b2790-7c92-466a-80f5-161a24514002",
   "metadata": {},
   "outputs": [
    {
     "name": "stdout",
     "output_type": "stream",
     "text": [
      "['fig', 'pear', 'lemon', 'watermelon']\n"
     ]
    }
   ],
   "source": [
    "# only words that don't end in vowel...\n",
    "no_end_in_vowel = [word for word in words\n",
    "                            if word[-1] not in 'aeiouy']\n",
    "print(no_end_in_vowel)"
   ]
  },
  {
   "cell_type": "code",
   "execution_count": 333,
   "id": "6de7e2d3-a576-4322-afb3-f37e4a891f16",
   "metadata": {},
   "outputs": [
    {
     "name": "stdout",
     "output_type": "stream",
     "text": [
      "['1', '2', '3', '4', '6', '7', '8', '9', '11', '12', '13', '14', '16', '17', '18', '19', '21', '22', '23', '24', '26', '27', '28', '29', '31', '32', '33', '34', '36', '37', '38', '39', '41', '42', '43', '44', '46', '47', '48', '49', '51', '52', '53', '54', '56', '57', '58', '59', '61', '62', '63', '64', '66', '67', '68', '69', '71', '72', '73', '74', '76', '77', '78', '79', '81', '82', '83', '84', '86', '87', '88', '89', '91', '92', '93', '94', '96', '97', '98', '99']\n"
     ]
    }
   ],
   "source": [
    "# not divisible by 5\n",
    "no_divis_by_5 = [num for num in range(1, 101)\n",
    "                          if num % 5 != 0]\n",
    "print(no_divis_by_5)"
   ]
  },
  {
   "cell_type": "code",
   "execution_count": 335,
   "id": "f9426db2-49ad-4522-bd9e-0392b9379f64",
   "metadata": {},
   "outputs": [
    {
     "name": "stdout",
     "output_type": "stream",
     "text": [
      "[['John', 1003], ['Mary', 2043], ['Edward', 8762], ['Linda', 7862], ['Dinesh', 1093]]\n"
     ]
    }
   ],
   "source": [
    "names = ['John', 'Mary', 'Edward', 'Linda', 'Dinesh']\n",
    "ids = [1003, 2043, 8762, 7862, 1093]\n",
    "employees = [[name, id] for name, id in zip(names, ids)]\n",
    "print(employees)"
   ]
  },
  {
   "cell_type": "code",
   "execution_count": 337,
   "id": "5bf36e78-3ff2-49ae-8d10-adf46885a6f6",
   "metadata": {},
   "outputs": [
    {
     "name": "stdout",
     "output_type": "stream",
     "text": [
      "[['John', 1003], ['Mary', 2043], ['Linda', 7862]]\n"
     ]
    }
   ],
   "source": [
    "ids = [1003, 2043, -8762, 7862, -1093]\n",
    "employees = [[name, id] for name, id in zip(names, ids)\n",
    "                           if id > 0]\n",
    "print(employees)"
   ]
  },
  {
   "cell_type": "code",
   "execution_count": 353,
   "id": "05326022-9fb9-4152-9169-5b5240e0e13c",
   "metadata": {},
   "outputs": [],
   "source": [
    "string = 'Gap'"
   ]
  },
  {
   "cell_type": "code",
   "execution_count": 349,
   "id": "ee9266f8-a8a9-455d-9cd5-4f5b1b033a62",
   "metadata": {},
   "outputs": [],
   "source": [
    "string = string + 'e'"
   ]
  },
  {
   "cell_type": "code",
   "execution_count": 351,
   "id": "574faaf8-6a66-4490-8e3f-871f7807d291",
   "metadata": {},
   "outputs": [
    {
     "data": {
      "text/plain": [
       "'Gape'"
      ]
     },
     "execution_count": 351,
     "metadata": {},
     "output_type": "execute_result"
    }
   ],
   "source": [
    "string"
   ]
  },
  {
   "cell_type": "code",
   "execution_count": 355,
   "id": "28164ea4-addb-4b59-a960-a68c9dcffa52",
   "metadata": {},
   "outputs": [],
   "source": [
    "t = 1, 2, 3, 4"
   ]
  },
  {
   "cell_type": "code",
   "execution_count": 357,
   "id": "2977b3ac-97db-4ec6-a831-003def40b0e7",
   "metadata": {},
   "outputs": [
    {
     "data": {
      "text/plain": [
       "(1, 2, 3, 4)"
      ]
     },
     "execution_count": 357,
     "metadata": {},
     "output_type": "execute_result"
    }
   ],
   "source": [
    "t"
   ]
  },
  {
   "cell_type": "code",
   "execution_count": 359,
   "id": "88c8bb8a-2c9a-46a7-be9a-6e4e3f747f24",
   "metadata": {},
   "outputs": [
    {
     "ename": "TypeError",
     "evalue": "can only concatenate tuple (not \"int\") to tuple",
     "output_type": "error",
     "traceback": [
      "\u001b[0;31m---------------------------------------------------------------------------\u001b[0m",
      "\u001b[0;31mTypeError\u001b[0m                                 Traceback (most recent call last)",
      "Cell \u001b[0;32mIn[359], line 1\u001b[0m\n\u001b[0;32m----> 1\u001b[0m t \u001b[38;5;241m+\u001b[39m \u001b[38;5;241m5\u001b[39m\n",
      "\u001b[0;31mTypeError\u001b[0m: can only concatenate tuple (not \"int\") to tuple"
     ]
    }
   ],
   "source": [
    "t + 5"
   ]
  },
  {
   "cell_type": "code",
   "execution_count": 361,
   "id": "037d5bf3-24be-45d4-aa95-049960621f7b",
   "metadata": {},
   "outputs": [
    {
     "data": {
      "text/plain": [
       "(1, 2, 3, 4, 5)"
      ]
     },
     "execution_count": 361,
     "metadata": {},
     "output_type": "execute_result"
    }
   ],
   "source": [
    "t + (5,)"
   ]
  },
  {
   "cell_type": "markdown",
   "id": "257b936c-0831-4e32-a36e-a79e4facc841",
   "metadata": {},
   "source": [
    "## Lab: Tuples\n",
    "* We don't really know enough yet to use a tuple in interesting ways, so instead let's just tinker around with tuples here in the notebook...\n",
    "  * Create a tuple representing a city w/fields of your own choosing (e.g., city name, state/country, population, elevation, etc.)\n",
    "  * \"Add\" a field to the tuple–since tuples are immutable, you will have to do this by concatenating tuples\n",
    "  * Using the _in_ operator, check to see if a particular value is in the tuple\n",
    "  * Using the __`.index()`__ method, find the position of a particular value in the tuple"
   ]
  },
  {
   "cell_type": "code",
   "execution_count": 383,
   "id": "e98e4467-db86-481f-a36f-c5bb28d3e492",
   "metadata": {},
   "outputs": [],
   "source": [
    "city = 'Lerwick', 6_760, 3.15"
   ]
  },
  {
   "cell_type": "code",
   "execution_count": 385,
   "id": "efb45d43-d9dd-4055-a5be-697e33de0b68",
   "metadata": {},
   "outputs": [
    {
     "data": {
      "text/plain": [
       "('Lerwick', 6760, 3.15, 'ZE1')"
      ]
     },
     "execution_count": 385,
     "metadata": {},
     "output_type": "execute_result"
    }
   ],
   "source": [
    "city + ('ZE1',)"
   ]
  },
  {
   "cell_type": "code",
   "execution_count": 389,
   "id": "b0bb5264-4c89-40af-a04f-67e31043e024",
   "metadata": {},
   "outputs": [],
   "source": [
    "city = city + ('ZE1',)"
   ]
  },
  {
   "cell_type": "code",
   "execution_count": 391,
   "id": "0861eea4-15f3-4813-a6e1-e2c0b16c9f60",
   "metadata": {},
   "outputs": [
    {
     "data": {
      "text/plain": [
       "('Lerwick', 6760, 3.15, 'ZE1')"
      ]
     },
     "execution_count": 391,
     "metadata": {},
     "output_type": "execute_result"
    }
   ],
   "source": [
    "city"
   ]
  },
  {
   "cell_type": "code",
   "execution_count": 395,
   "id": "39f28d68-1cdf-47ea-9d4c-10d7b27b2ec8",
   "metadata": {},
   "outputs": [
    {
     "data": {
      "text/plain": [
       "True"
      ]
     },
     "execution_count": 395,
     "metadata": {},
     "output_type": "execute_result"
    }
   ],
   "source": [
    "6760 in city"
   ]
  },
  {
   "cell_type": "code",
   "execution_count": 401,
   "id": "cd4fbf3b-c887-409f-b835-1ca529cbf670",
   "metadata": {},
   "outputs": [
    {
     "data": {
      "text/plain": [
       "3"
      ]
     },
     "execution_count": 401,
     "metadata": {},
     "output_type": "execute_result"
    }
   ],
   "source": [
    "city.index('ZE1')"
   ]
  },
  {
   "cell_type": "code",
   "execution_count": 406,
   "id": "11a37f79-daaf-4376-94f6-bc39aff1e8b0",
   "metadata": {},
   "outputs": [],
   "source": [
    "nums = { 'one': 1 }"
   ]
  },
  {
   "cell_type": "code",
   "execution_count": 410,
   "id": "09ac9f6f-a4ae-40c7-820e-f8fee40ab2b1",
   "metadata": {},
   "outputs": [
    {
     "data": {
      "text/plain": [
       "1"
      ]
     },
     "execution_count": 410,
     "metadata": {},
     "output_type": "execute_result"
    }
   ],
   "source": [
    "nums['one']"
   ]
  },
  {
   "cell_type": "code",
   "execution_count": 412,
   "id": "92d2a596-08db-4ba0-b77e-1c0790629db9",
   "metadata": {},
   "outputs": [
    {
     "ename": "KeyError",
     "evalue": "1",
     "output_type": "error",
     "traceback": [
      "\u001b[0;31m---------------------------------------------------------------------------\u001b[0m",
      "\u001b[0;31mKeyError\u001b[0m                                  Traceback (most recent call last)",
      "Cell \u001b[0;32mIn[412], line 1\u001b[0m\n\u001b[0;32m----> 1\u001b[0m nums[\u001b[38;5;241m1\u001b[39m]\n",
      "\u001b[0;31mKeyError\u001b[0m: 1"
     ]
    }
   ],
   "source": [
    "nums[1]"
   ]
  },
  {
   "cell_type": "code",
   "execution_count": 414,
   "id": "12ea37d8-8045-4d43-b137-d6ceefc120b6",
   "metadata": {},
   "outputs": [
    {
     "data": {
      "text/plain": [
       "True"
      ]
     },
     "execution_count": 414,
     "metadata": {},
     "output_type": "execute_result"
    }
   ],
   "source": [
    "'one' in nums"
   ]
  },
  {
   "cell_type": "code",
   "execution_count": 416,
   "id": "2b0aa204-11f4-477e-9c62-3cb0770329f3",
   "metadata": {},
   "outputs": [
    {
     "data": {
      "text/plain": [
       "False"
      ]
     },
     "execution_count": 416,
     "metadata": {},
     "output_type": "execute_result"
    }
   ],
   "source": [
    "1 in nums # only looks in the keys"
   ]
  },
  {
   "cell_type": "code",
   "execution_count": 418,
   "id": "4df59da8-c967-4b35-981a-1ad584ef082a",
   "metadata": {},
   "outputs": [
    {
     "data": {
      "text/plain": [
       "True"
      ]
     },
     "execution_count": 418,
     "metadata": {},
     "output_type": "execute_result"
    }
   ],
   "source": [
    "1 in nums.values() # looking at the values "
   ]
  },
  {
   "cell_type": "code",
   "execution_count": 422,
   "id": "3274ddd2-498a-48b4-a2ea-54a71a413550",
   "metadata": {},
   "outputs": [],
   "source": [
    "sbux_dict = {'venti': 20, 'tall': 12, 'grande': 16}"
   ]
  },
  {
   "cell_type": "code",
   "execution_count": 424,
   "id": "7f5916d1-f93a-4df4-8cc3-9a24366f643b",
   "metadata": {},
   "outputs": [
    {
     "data": {
      "text/plain": [
       "['grande', 'tall', 'venti']"
      ]
     },
     "execution_count": 424,
     "metadata": {},
     "output_type": "execute_result"
    }
   ],
   "source": [
    "sorted(sbux_dict)"
   ]
  },
  {
   "cell_type": "code",
   "execution_count": 429,
   "id": "c38283f0-7860-4f04-a694-379095419cc1",
   "metadata": {},
   "outputs": [],
   "source": [
    "wordcount = { 'Hamlet': 401, 'the': 1023, 'and': 832 }"
   ]
  },
  {
   "cell_type": "code",
   "execution_count": 431,
   "id": "172bcf73-3dee-4101-8a7f-9be4c9d1cfcd",
   "metadata": {},
   "outputs": [],
   "source": [
    "fruits = 'apple fig pear'.split()"
   ]
  },
  {
   "cell_type": "code",
   "execution_count": 433,
   "id": "98763378-d98d-4b4f-a6e8-9c7e2bf1899c",
   "metadata": {},
   "outputs": [
    {
     "data": {
      "text/plain": [
       "['apple', 'fig', 'pear']"
      ]
     },
     "execution_count": 433,
     "metadata": {},
     "output_type": "execute_result"
    }
   ],
   "source": [
    "sorted(fruits)"
   ]
  },
  {
   "cell_type": "code",
   "execution_count": 439,
   "id": "b700bd52-47e7-4cbb-8ab0-9e98e0999889",
   "metadata": {},
   "outputs": [
    {
     "data": {
      "text/plain": [
       "['fig', 'pear', 'apple']"
      ]
     },
     "execution_count": 439,
     "metadata": {},
     "output_type": "execute_result"
    }
   ],
   "source": [
    "sorted(fruits, key=len) # sort fruits but use the len function\n",
    "# as the comparison key when you need to know the order when you\n",
    "# comparing any twwo items"
   ]
  },
  {
   "cell_type": "code",
   "execution_count": 435,
   "id": "e7c5db5d-9ad8-4928-8e4f-84ff844aaddd",
   "metadata": {},
   "outputs": [
    {
     "data": {
      "text/plain": [
       "True"
      ]
     },
     "execution_count": 435,
     "metadata": {},
     "output_type": "execute_result"
    }
   ],
   "source": [
    "'apple' < 'fig'"
   ]
  },
  {
   "cell_type": "code",
   "execution_count": 437,
   "id": "cb411078-9c0c-45de-b210-79a8a3c8cb35",
   "metadata": {},
   "outputs": [
    {
     "data": {
      "text/plain": [
       "False"
      ]
     },
     "execution_count": 437,
     "metadata": {},
     "output_type": "execute_result"
    }
   ],
   "source": [
    "len('apple') < len('fig')"
   ]
  },
  {
   "cell_type": "code",
   "execution_count": 444,
   "id": "ef935d0d-4a14-4793-9807-1f0e78366dae",
   "metadata": {},
   "outputs": [
    {
     "data": {
      "text/plain": [
       "5"
      ]
     },
     "execution_count": 444,
     "metadata": {},
     "output_type": "execute_result"
    }
   ],
   "source": [
    "len('apple')"
   ]
  },
  {
   "cell_type": "code",
   "execution_count": 448,
   "id": "0d1911e4-ad4d-4872-a551-a5ba66a1712e",
   "metadata": {},
   "outputs": [
    {
     "ename": "TypeError",
     "evalue": "len() takes exactly one argument (0 given)",
     "output_type": "error",
     "traceback": [
      "\u001b[0;31m---------------------------------------------------------------------------\u001b[0m",
      "\u001b[0;31mTypeError\u001b[0m                                 Traceback (most recent call last)",
      "Cell \u001b[0;32mIn[448], line 1\u001b[0m\n\u001b[0;32m----> 1\u001b[0m \u001b[38;5;28mlen\u001b[39m()\n",
      "\u001b[0;31mTypeError\u001b[0m: len() takes exactly one argument (0 given)"
     ]
    }
   ],
   "source": [
    "len()"
   ]
  },
  {
   "cell_type": "markdown",
   "id": "62492c6e-a989-4f79-8b55-d66f17a3efec",
   "metadata": {},
   "source": [
    "## Lab: dictionary\n",
    "* use a dict to translate Roman numerals into their Hindu-Arabic equivalents\n",
    "1. load the dict with Roman numerals M (1000), D (500), C (100), L (50), X (10), V (5), I (1)\n",
    "2. read in a Roman numeral\n",
    "3. print Hindu-Arabic equivalent\n",
    "4. try it with MCLX = 1000 + 100 + 50 + 10 = 1160\n",
    "4. __The rest of this could be homework...__\n",
    "4. __Deal with the case where a smaller number precedes a larger number, e.g., XC = 100 - 10 = 90, or MCM = 1000 + (1000-100) = 1900__\n",
    "  * e.g.,  __MCMXCIX = 1999__"
   ]
  },
  {
   "cell_type": "code",
   "execution_count": 457,
   "id": "333c59a9-b25d-4706-b894-b041a91da6e9",
   "metadata": {},
   "outputs": [
    {
     "data": {
      "text/plain": [
       "100"
      ]
     },
     "execution_count": 457,
     "metadata": {},
     "output_type": "execute_result"
    }
   ],
   "source": [
    "roman_to_hindu_arabic = {\n",
    "    'M': 1000, \n",
    "    'D': 500,\n",
    "    'C': 100,\n",
    "    'L': 50,\n",
    "    'X': 10,\n",
    "    'V': 5,\n",
    "    'I': 1,\n",
    "}"
   ]
  },
  {
   "cell_type": "code",
   "execution_count": 461,
   "id": "8ddcdbdf-86c1-438f-a8ff-03162d2f6bba",
   "metadata": {},
   "outputs": [
    {
     "data": {
      "text/plain": [
       "50"
      ]
     },
     "execution_count": 461,
     "metadata": {},
     "output_type": "execute_result"
    }
   ],
   "source": [
    "roman_to_hindu_arabic['L']"
   ]
  },
  {
   "cell_type": "code",
   "execution_count": 463,
   "id": "99f7ddca-472d-490b-8c88-ad498d1f6ae1",
   "metadata": {},
   "outputs": [],
   "source": [
    "# a way to handle the weirdness of Roman numerals (subtraction)\n",
    "# PASS 1: take each Roman digit and just grab H-A value and put into a list\n",
    "# MCMXCIX\n",
    "# [ 1000, 100, 1000, 10, 100, 1, 10 ]\n",
    "# PASS 2: go through the list of H-A values\n",
    "# if you find a number that is less than its neighbor (to the right),\n",
    "# make that number negative\n",
    "# [ 1000, -100, 1000, -10, 100, -1, 10 ]\n",
    "# now sum them up"
   ]
  },
  {
   "cell_type": "code",
   "execution_count": 465,
   "id": "e9398f35-0396-4b6f-91ac-9adfac546c19",
   "metadata": {},
   "outputs": [],
   "source": [
    "# 1. get a Roman numeral from user\n",
    "# 1a. set running sum to 0\n",
    "# 2. for each digit in the Roman numeral\n",
    "# 3.    plug into dict and get H-A value\n",
    "# 4.    add that value to running sum..."
   ]
  },
  {
   "cell_type": "code",
   "execution_count": 495,
   "id": "f14dadcb-be4e-4257-8c68-8b31f855d84e",
   "metadata": {},
   "outputs": [
    {
     "name": "stdin",
     "output_type": "stream",
     "text": [
      "Enter a Roman numeral:  MCA\n"
     ]
    }
   ],
   "source": [
    "roman = input('Enter a Roman numeral: ').upper() # 1"
   ]
  },
  {
   "cell_type": "code",
   "execution_count": 501,
   "id": "06f3f6b7-dfe6-4aa5-890b-486a57eb6612",
   "metadata": {},
   "outputs": [
    {
     "name": "stdout",
     "output_type": "stream",
     "text": [
      "Bad digit: A\n",
      "1100\n"
     ]
    }
   ],
   "source": [
    "total = 0 # 1a\n",
    "\n",
    "for digit in roman: # 2 \n",
    "    if digit in roman_to_hindu_arabic:\n",
    "        total += roman_to_hindu_arabic[digit] # 3, 4\n",
    "    else:\n",
    "        print('Bad digit:', digit)\n",
    "    # what could go wrong?\n",
    "\n",
    "print(total)"
   ]
  },
  {
   "cell_type": "code",
   "execution_count": 515,
   "id": "68c1dbd7-2250-4c03-8b4e-cb8091298698",
   "metadata": {},
   "outputs": [
    {
     "name": "stdin",
     "output_type": "stream",
     "text": [
      "Enter a Roman numeral:  MCA\n"
     ]
    },
    {
     "name": "stdout",
     "output_type": "stream",
     "text": [
      "Bad digit: A\n"
     ]
    }
   ],
   "source": [
    "roman = input('Enter a Roman numeral: ').upper() # 1\n",
    "total = 0 # 1a\n",
    "\n",
    "for digit in roman: # 2 \n",
    "    number_is_valid = True\n",
    "    if digit in roman_to_hindu_arabic:\n",
    "        total += roman_to_hindu_arabic[digit] # 3, 4\n",
    "    else:\n",
    "        print('Bad digit:', digit)\n",
    "        number_is_valid = False\n",
    "        break\n",
    "    # what could go wrong?\n",
    "# we can get here in two ways: \n",
    "# 1. good user, all good digits\n",
    "# 2. bad user, no biscuit (break)\n",
    "if number_is_valid:\n",
    "    print(total)"
   ]
  },
  {
   "cell_type": "code",
   "execution_count": 525,
   "id": "0a8c5fb4-c832-4ea5-8c24-03806ea07327",
   "metadata": {},
   "outputs": [
    {
     "name": "stdin",
     "output_type": "stream",
     "text": [
      "Enter a Roman numeral:  MCAX\n"
     ]
    },
    {
     "name": "stdout",
     "output_type": "stream",
     "text": [
      "Bad digit: A\n"
     ]
    }
   ],
   "source": [
    "roman = input('Enter a Roman numeral: ').upper() # 1\n",
    "total = 0 # 1a\n",
    "\n",
    "for digit in roman: # 2 \n",
    "    if digit in roman_to_hindu_arabic:\n",
    "        total += roman_to_hindu_arabic[digit] # 3, 4\n",
    "    else:\n",
    "        print('Bad digit:', digit)\n",
    "        break\n",
    "    # what could go wrong?\n",
    "# we can get here in two ways: \n",
    "# 1. good user, all good digits\n",
    "# 2. bad user, no biscuit (break)\n",
    "else: # else clause is only run if we didn't break\n",
    "    print(total)"
   ]
  },
  {
   "cell_type": "code",
   "execution_count": 479,
   "id": "7f24effd-b839-4f41-888e-6b24810e28b1",
   "metadata": {},
   "outputs": [
    {
     "name": "stdin",
     "output_type": "stream",
     "text": [
      "Enter a Roman numeral:  MCMXCIX\n"
     ]
    },
    {
     "name": "stdout",
     "output_type": "stream",
     "text": [
      "[1000, 100, 1000, 10, 100, 1, 10]\n",
      "[1000, -100, 1000, -10, 100, -1, 10]\n",
      "1999\n"
     ]
    }
   ],
   "source": [
    "# a solution to tougher version\n",
    "# 0. get Roman numeral from user\n",
    "# 1. start with empty list\n",
    "# 2. for each digit:\n",
    "# 3.    append its H-A value to list\n",
    "# 4. for each value in value_list:\n",
    "# 5.     if value < neighbor (to the right):\n",
    "# 6.         make that value negative\n",
    "# 7. now sum them up value list\n",
    "\n",
    "roman = input('Enter a Roman numeral: ') # 0\n",
    "hindu_arabic_vals = [] # 1\n",
    "\n",
    "for digit in roman: # 2\n",
    "    hindu_arabic_vals.append(roman_to_hindu_arabic[digit]) # 3\n",
    "\n",
    "print(hindu_arabic_vals) # debugging, PASS 1\n",
    "\n",
    "for index in range(len(hindu_arabic_vals) - 1): # 4 \n",
    "    if hindu_arabic_vals[index] < hindu_arabic_vals[index + 1]: # 5\n",
    "        hindu_arabic_vals[index] = -hindu_arabic_vals[index] # 6\n",
    "    \n",
    "print(hindu_arabic_vals) # debugging\n",
    "print(sum(hindu_arabic_vals)) # 7"
   ]
  },
  {
   "cell_type": "code",
   "execution_count": 529,
   "id": "a40cda0a-9472-412e-9b38-eb3972ce2f2f",
   "metadata": {},
   "outputs": [],
   "source": [
    "import random"
   ]
  },
  {
   "cell_type": "code",
   "execution_count": 531,
   "id": "05b15944-824d-4e1e-83b8-c5044a2c7463",
   "metadata": {},
   "outputs": [
    {
     "data": {
      "text/plain": [
       "38"
      ]
     },
     "execution_count": 531,
     "metadata": {},
     "output_type": "execute_result"
    }
   ],
   "source": [
    "random.randint(1, 100)"
   ]
  },
  {
   "cell_type": "code",
   "execution_count": 533,
   "id": "e32ebbb5-2a04-4af4-8f3c-9037124a3556",
   "metadata": {},
   "outputs": [],
   "source": [
    "nums = []\n",
    "\n",
    "for count in range(100): # \"do this 100 times\"\n",
    "    nums.append(random.randint(1, 100))"
   ]
  },
  {
   "cell_type": "code",
   "execution_count": 535,
   "id": "9e4d0fd2-298d-432c-8cc0-8fde9d56bd73",
   "metadata": {},
   "outputs": [],
   "source": [
    "nums = [random.randint(1, 100) for count in range(100)]"
   ]
  },
  {
   "cell_type": "code",
   "execution_count": 537,
   "id": "78b16d09-0d8c-40ca-a1b7-d4d0b13a3b14",
   "metadata": {},
   "outputs": [
    {
     "name": "stdout",
     "output_type": "stream",
     "text": [
      "[10, 15, 71, 5, 52, 18, 34, 100, 4, 4, 74, 66, 17, 77, 16, 46, 32, 19, 47, 63, 5, 66, 99, 64, 79, 90, 44, 79, 81, 79, 50, 71, 4, 12, 6, 3, 26, 28, 57, 54, 62, 21, 64, 29, 60, 99, 98, 90, 72, 16, 21, 22, 89, 67, 67, 58, 78, 81, 6, 41, 64, 19, 88, 42, 64, 5, 52, 80, 87, 94, 16, 17, 88, 42, 68, 39, 37, 55, 16, 78, 15, 29, 67, 80, 29, 58, 64, 9, 12, 90, 44, 70, 25, 7, 67, 30, 57, 73, 90, 30]\n"
     ]
    }
   ],
   "source": [
    "print(nums)"
   ]
  },
  {
   "cell_type": "code",
   "execution_count": 539,
   "id": "df4b5358-43e8-4933-a781-35f3a3c27e5c",
   "metadata": {},
   "outputs": [
    {
     "data": {
      "text/plain": [
       "100"
      ]
     },
     "execution_count": 539,
     "metadata": {},
     "output_type": "execute_result"
    }
   ],
   "source": [
    "len(nums)"
   ]
  },
  {
   "cell_type": "code",
   "execution_count": 541,
   "id": "fd4f61f1-148c-4219-b480-6985dc6dbbf1",
   "metadata": {},
   "outputs": [
    {
     "name": "stdout",
     "output_type": "stream",
     "text": [
      "{3, 4, 5, 6, 7, 9, 10, 12, 15, 16, 17, 18, 19, 21, 22, 25, 26, 28, 29, 30, 32, 34, 37, 39, 41, 42, 44, 46, 47, 50, 52, 54, 55, 57, 58, 60, 62, 63, 64, 66, 67, 68, 70, 71, 72, 73, 74, 77, 78, 79, 80, 81, 87, 88, 89, 90, 94, 98, 99, 100}\n"
     ]
    }
   ],
   "source": [
    "print(set(nums))"
   ]
  },
  {
   "cell_type": "code",
   "execution_count": 545,
   "id": "5ae3e71c-1e72-4daa-ba2b-a226ad1512fe",
   "metadata": {},
   "outputs": [
    {
     "data": {
      "text/plain": [
       "-3744952221836942265"
      ]
     },
     "execution_count": 545,
     "metadata": {},
     "output_type": "execute_result"
    }
   ],
   "source": [
    "hash('python')"
   ]
  },
  {
   "cell_type": "code",
   "execution_count": 547,
   "id": "f9a7963a-5318-4418-b2f0-511da853fa2d",
   "metadata": {},
   "outputs": [
    {
     "data": {
      "text/plain": [
       "8193139257958578642"
      ]
     },
     "execution_count": 547,
     "metadata": {},
     "output_type": "execute_result"
    }
   ],
   "source": [
    "hash('golang')"
   ]
  },
  {
   "cell_type": "code",
   "execution_count": 549,
   "id": "f31ef110-02bb-4d15-805d-77728c2f14f2",
   "metadata": {},
   "outputs": [
    {
     "data": {
      "text/plain": [
       "-2518023336259278956"
      ]
     },
     "execution_count": 549,
     "metadata": {},
     "output_type": "execute_result"
    }
   ],
   "source": [
    "hash('grande')"
   ]
  },
  {
   "cell_type": "code",
   "execution_count": 551,
   "id": "ddef8102-a2df-4673-8483-ffe7745a7d94",
   "metadata": {},
   "outputs": [
    {
     "data": {
      "text/plain": [
       "-8247250600847548305"
      ]
     },
     "execution_count": 551,
     "metadata": {},
     "output_type": "execute_result"
    }
   ],
   "source": [
    "hash('tall')"
   ]
  },
  {
   "cell_type": "code",
   "execution_count": 553,
   "id": "79145759-20e5-45d4-ba51-26de64e5a6b1",
   "metadata": {},
   "outputs": [
    {
     "data": {
      "text/plain": [
       "-854427620628178301"
      ]
     },
     "execution_count": 553,
     "metadata": {},
     "output_type": "execute_result"
    }
   ],
   "source": [
    "hash('Guido')"
   ]
  },
  {
   "cell_type": "code",
   "execution_count": 555,
   "id": "77292d7f-7279-4a58-9f54-804cbb413ed5",
   "metadata": {},
   "outputs": [
    {
     "data": {
      "text/plain": [
       "1"
      ]
     },
     "execution_count": 555,
     "metadata": {},
     "output_type": "execute_result"
    }
   ],
   "source": [
    "hash(1)"
   ]
  },
  {
   "cell_type": "code",
   "execution_count": 557,
   "id": "a7a4abfd-9cf5-4508-82d8-627129ec7ada",
   "metadata": {},
   "outputs": [
    {
     "data": {
      "text/plain": [
       "2"
      ]
     },
     "execution_count": 557,
     "metadata": {},
     "output_type": "execute_result"
    }
   ],
   "source": [
    "hash(2)"
   ]
  },
  {
   "cell_type": "code",
   "execution_count": 559,
   "id": "71f969e4-4b15-4292-bd99-26ce1aae237d",
   "metadata": {},
   "outputs": [
    {
     "data": {
      "text/plain": [
       "322818021289917443"
      ]
     },
     "execution_count": 559,
     "metadata": {},
     "output_type": "execute_result"
    }
   ],
   "source": [
    "hash(3.14)"
   ]
  },
  {
   "cell_type": "code",
   "execution_count": 561,
   "id": "68ad00e0-55a0-4d28-9c04-f083add1019c",
   "metadata": {},
   "outputs": [
    {
     "data": {
      "text/plain": [
       "1314330515251805186"
      ]
     },
     "execution_count": 561,
     "metadata": {},
     "output_type": "execute_result"
    }
   ],
   "source": [
    "hash(2.57)"
   ]
  },
  {
   "cell_type": "code",
   "execution_count": 563,
   "id": "f3eb90d8-7718-42fd-8048-fb05cb03f8d2",
   "metadata": {},
   "outputs": [
    {
     "data": {
      "text/plain": [
       "783986623132655618"
      ]
     },
     "execution_count": 563,
     "metadata": {},
     "output_type": "execute_result"
    }
   ],
   "source": [
    "hash(2.34)"
   ]
  },
  {
   "cell_type": "code",
   "execution_count": null,
   "id": "d47d15f7-7f5b-4114-9628-3be1ad3d6eac",
   "metadata": {},
   "outputs": [],
   "source": [
    "nums = [random.randint(1, 100) for count in range(100)]"
   ]
  },
  {
   "cell_type": "code",
   "execution_count": 565,
   "id": "2e690a5c-88d8-4f78-995f-95869403ebda",
   "metadata": {},
   "outputs": [
    {
     "data": {
      "text/plain": [
       "['BPF',\n",
       " 'LOG4',\n",
       " 'NV_MAGICCONST',\n",
       " 'RECIP_BPF',\n",
       " 'Random',\n",
       " 'SG_MAGICCONST',\n",
       " 'SystemRandom',\n",
       " 'TWOPI',\n",
       " '_ONE',\n",
       " '_Sequence',\n",
       " '_Set',\n",
       " '__all__',\n",
       " '__builtins__',\n",
       " '__cached__',\n",
       " '__doc__',\n",
       " '__file__',\n",
       " '__loader__',\n",
       " '__name__',\n",
       " '__package__',\n",
       " '__spec__',\n",
       " '_accumulate',\n",
       " '_acos',\n",
       " '_bisect',\n",
       " '_ceil',\n",
       " '_cos',\n",
       " '_e',\n",
       " '_exp',\n",
       " '_floor',\n",
       " '_index',\n",
       " '_inst',\n",
       " '_isfinite',\n",
       " '_log',\n",
       " '_os',\n",
       " '_pi',\n",
       " '_random',\n",
       " '_repeat',\n",
       " '_sha512',\n",
       " '_sin',\n",
       " '_sqrt',\n",
       " '_test',\n",
       " '_test_generator',\n",
       " '_urandom',\n",
       " '_warn',\n",
       " 'betavariate',\n",
       " 'choice',\n",
       " 'choices',\n",
       " 'expovariate',\n",
       " 'gammavariate',\n",
       " 'gauss',\n",
       " 'getrandbits',\n",
       " 'getstate',\n",
       " 'lognormvariate',\n",
       " 'normalvariate',\n",
       " 'paretovariate',\n",
       " 'randbytes',\n",
       " 'randint',\n",
       " 'random',\n",
       " 'randrange',\n",
       " 'sample',\n",
       " 'seed',\n",
       " 'setstate',\n",
       " 'shuffle',\n",
       " 'triangular',\n",
       " 'uniform',\n",
       " 'vonmisesvariate',\n",
       " 'weibullvariate']"
      ]
     },
     "execution_count": 565,
     "metadata": {},
     "output_type": "execute_result"
    }
   ],
   "source": [
    "dir(random)"
   ]
  },
  {
   "cell_type": "code",
   "execution_count": 567,
   "id": "434d2b04-3a96-4925-bfe4-45c010ec4d98",
   "metadata": {},
   "outputs": [
    {
     "name": "stdout",
     "output_type": "stream",
     "text": [
      "Help on built-in function random:\n",
      "\n",
      "random() method of random.Random instance\n",
      "    random() -> x in the interval [0, 1).\n",
      "\n"
     ]
    }
   ],
   "source": [
    "help(random.random)"
   ]
  },
  {
   "cell_type": "code",
   "execution_count": 569,
   "id": "e1441138-33e3-46e9-8f40-df4d2526ce1a",
   "metadata": {},
   "outputs": [],
   "source": [
    "floats = [random.random() for count in range(100)]"
   ]
  },
  {
   "cell_type": "code",
   "execution_count": 571,
   "id": "dcb2c203-f51a-4473-963b-cafe82123de7",
   "metadata": {},
   "outputs": [
    {
     "name": "stdout",
     "output_type": "stream",
     "text": [
      "[0.17950314661820788, 0.9310790687374448, 0.15763625521926383, 0.8766351186889303, 0.7724571765313002, 0.12106182013880418, 0.9921353536320584, 0.6635859324139185, 0.5623001072504645, 0.7897628138027462, 0.5816992095514765, 0.1452398920133946, 0.17535801507645343, 0.8630577775538054, 0.9122006871554353, 0.1148733016961877, 0.27164143213457037, 0.8203085776497544, 0.33790916136914473, 0.12367551322427017, 0.7721499710355046, 0.9442777429908508, 0.16390134171681858, 0.7380999103188871, 0.09962703317847565, 0.6868130419791632, 0.7143516674829877, 0.5922680144556618, 0.12362163213179977, 0.6321387035456354, 0.8489863588953053, 0.985208958850298, 0.13880955184528443, 0.32099597331941465, 0.8659554886001614, 0.627712102557937, 0.5718965666992833, 0.4505216248026779, 0.9850591818121404, 0.8618128556131309, 0.39169452140926486, 0.8407402343608185, 0.2974535543517104, 0.8251526834158708, 0.8269171678126638, 0.2772531495008438, 0.7391837441945561, 0.5644355075786917, 0.04316320604733548, 0.7194881750918307, 0.6369862041192786, 0.14263141842654992, 0.08794825570180098, 0.34230126058840704, 0.6514165566970929, 0.7126748909791298, 0.17264686716589583, 0.7090018315670255, 0.019969202473488767, 0.5254270161505676, 0.8295398954393555, 0.04229220941719736, 0.4336055076060229, 0.431155046730188, 0.26036276266588065, 0.4203404813352908, 0.40273833952496463, 0.5588609311890033, 0.1813744970577692, 0.4780662843084381, 0.15278327768179967, 0.6684350583665162, 0.7314803295400024, 0.8262648804912467, 0.3609022169130003, 0.7186382013366753, 0.9128877707549221, 0.36728916699144554, 0.8994138815347809, 0.4672417654870613, 0.9795032620383678, 0.9051796569167243, 0.33034575713169323, 0.6641350848624717, 0.3089270189461759, 0.4734378415018282, 0.9967877726013644, 0.1534696150994761, 0.6730183217634553, 0.9853278434325646, 0.6966488619385, 0.1370514633929112, 0.924417798908076, 0.6169969993518362, 0.42155768591423715, 0.27580977749177205, 0.9872545707851241, 0.8830345861497598, 0.7975879751816113, 0.3852608562729041]\n"
     ]
    }
   ],
   "source": [
    "print(floats)"
   ]
  },
  {
   "cell_type": "code",
   "execution_count": 573,
   "id": "2aa27141-397c-4e37-8e49-f08457833691",
   "metadata": {},
   "outputs": [
    {
     "name": "stdout",
     "output_type": "stream",
     "text": [
      "{0.9310790687374448, 0.15763625521926383, 0.8766351186889303, 0.7724571765313002, 0.5623001072504645, 0.7897628138027462, 0.9122006871554353, 0.9850591818121404, 0.34230126058840704, 0.5254270161505676, 0.6321387035456354, 0.8659554886001614, 0.8269171678126638, 0.7314803295400024, 0.8994138815347809, 0.9795032620383678, 0.7391837441945561, 0.7143516674829877, 0.17264686716589583, 0.15278327768179967, 0.985208958850298, 0.7721499710355046, 0.39169452140926486, 0.9128877707549221, 0.4672417654870613, 0.1534696150994761, 0.8830345861497598, 0.1452398920133946, 0.4336055076060229, 0.431155046730188, 0.4780662843084381, 0.5644355075786917, 0.9051796569167243, 0.924417798908076, 0.17535801507645343, 0.8262648804912467, 0.8489863588953053, 0.9967877726013644, 0.6641350848624717, 0.1370514633929112, 0.26036276266588065, 0.3609022169130003, 0.8630577775538054, 0.7090018315670255, 0.8618128556131309, 0.8203085776497544, 0.17950314661820788, 0.12106182013880418, 0.9921353536320584, 0.6635859324139185, 0.9442777429908508, 0.7380999103188871, 0.13880955184528443, 0.2974535543517104, 0.8251526834158708, 0.2772531495008438, 0.04316320604733548, 0.9853278434325646, 0.3852608562729041, 0.6369862041192786, 0.6684350583665162, 0.09962703317847565, 0.627712102557937, 0.5588609311890033, 0.08794825570180098, 0.3089270189461759, 0.6966488619385, 0.33790916136914473, 0.7975879751816113, 0.4734378415018282, 0.36728916699144554, 0.33034575713169323, 0.6730183217634553, 0.7186382013366753, 0.27164143213457037, 0.7194881750918307, 0.9872545707851241, 0.1813744970577692, 0.1148733016961877, 0.32099597331941465, 0.8295398954393555, 0.12362163213179977, 0.019969202473488767, 0.4505216248026779, 0.40273833952496463, 0.6169969993518362, 0.6868130419791632, 0.27580977749177205, 0.16390134171681858, 0.04229220941719736, 0.5816992095514765, 0.8407402343608185, 0.12367551322427017, 0.5922680144556618, 0.7126748909791298, 0.5718965666992833, 0.4203404813352908, 0.6514165566970929, 0.42155768591423715, 0.14263141842654992}\n"
     ]
    }
   ],
   "source": [
    "print(set(floats))"
   ]
  },
  {
   "cell_type": "markdown",
   "id": "5d153d56-4657-40ea-aad3-ba7b940d3f2d",
   "metadata": {},
   "source": [
    "## Lab: Sets\n",
    "* Use a set to find all of the unique words in the input and print them out in sorted order\n",
    "* If the user entered __There is no there there__, your program should print out \n",
    "   <pre><b>\n",
    "   is\n",
    "   no\n",
    "   there\n",
    "   </b></pre>\n",
    "* Note that `There` and `there` should be counted as the same word."
   ]
  },
  {
   "cell_type": "code",
   "execution_count": 602,
   "id": "67b9ca24-b898-4150-b86c-9773a3fe97ee",
   "metadata": {},
   "outputs": [
    {
     "name": "stdin",
     "output_type": "stream",
     "text": [
      "Enter some words:  There is no there there\n"
     ]
    }
   ],
   "source": [
    "words = input('Enter some words: ').lower().split()"
   ]
  },
  {
   "cell_type": "code",
   "execution_count": 604,
   "id": "747f5bbc-6633-4764-ba0e-c5dd7999444e",
   "metadata": {},
   "outputs": [
    {
     "data": {
      "text/plain": [
       "['there', 'is', 'no', 'there', 'there']"
      ]
     },
     "execution_count": 604,
     "metadata": {},
     "output_type": "execute_result"
    }
   ],
   "source": [
    "words"
   ]
  },
  {
   "cell_type": "code",
   "execution_count": 608,
   "id": "21eb8493-ad80-4164-9654-785fb40d56a6",
   "metadata": {},
   "outputs": [
    {
     "data": {
      "text/plain": [
       "['is', 'no', 'there']"
      ]
     },
     "execution_count": 608,
     "metadata": {},
     "output_type": "execute_result"
    }
   ],
   "source": [
    "words = sorted(set(words)) # sorted always returns a list\n",
    "words"
   ]
  },
  {
   "cell_type": "code",
   "execution_count": 594,
   "id": "cec0f837-ff2e-4ffd-b90a-0eb77f29af8e",
   "metadata": {},
   "outputs": [],
   "source": [
    "# how to print nicely?\n",
    "# .join(...)\n",
    "# or * operator"
   ]
  },
  {
   "cell_type": "code",
   "execution_count": 598,
   "id": "801976af-bd99-4713-bbd1-d3b6f26ef9ac",
   "metadata": {},
   "outputs": [
    {
     "name": "stdout",
     "output_type": "stream",
     "text": [
      "is\n",
      "no\n",
      "there\n"
     ]
    }
   ],
   "source": [
    "print('\\n'.join(words))"
   ]
  },
  {
   "cell_type": "code",
   "execution_count": 600,
   "id": "26b447d7-4411-4772-9c53-a40df0ce4b44",
   "metadata": {},
   "outputs": [
    {
     "name": "stdout",
     "output_type": "stream",
     "text": [
      "is\n",
      "no\n",
      "there\n"
     ]
    }
   ],
   "source": [
    "print(*words, sep='\\n')"
   ]
  },
  {
   "cell_type": "code",
   "execution_count": 1,
   "id": "8fe4e8f0-c979-438a-ac7c-6c3aaffb95ef",
   "metadata": {},
   "outputs": [],
   "source": [
    "s = { 1, 2, 3 }"
   ]
  },
  {
   "cell_type": "code",
   "execution_count": 2,
   "id": "5cc25db7-d1cc-40f2-8719-b9381b9993ce",
   "metadata": {},
   "outputs": [
    {
     "data": {
      "text/plain": [
       "3"
      ]
     },
     "execution_count": 2,
     "metadata": {},
     "output_type": "execute_result"
    }
   ],
   "source": [
    "len(s)"
   ]
  },
  {
   "cell_type": "code",
   "execution_count": 3,
   "id": "9899cb13-14ff-47de-ae5d-75d1bb56fc35",
   "metadata": {},
   "outputs": [
    {
     "ename": "TypeError",
     "evalue": "'set' object is not subscriptable",
     "output_type": "error",
     "traceback": [
      "\u001b[0;31m---------------------------------------------------------------------------\u001b[0m",
      "\u001b[0;31mTypeError\u001b[0m                                 Traceback (most recent call last)",
      "Input \u001b[0;32mIn [3]\u001b[0m, in \u001b[0;36m<cell line: 1>\u001b[0;34m()\u001b[0m\n\u001b[0;32m----> 1\u001b[0m \u001b[43ms\u001b[49m\u001b[43m[\u001b[49m\u001b[38;5;241;43m0\u001b[39;49m\u001b[43m]\u001b[49m\n",
      "\u001b[0;31mTypeError\u001b[0m: 'set' object is not subscriptable"
     ]
    }
   ],
   "source": [
    "s[0]"
   ]
  },
  {
   "cell_type": "code",
   "execution_count": 5,
   "id": "3b5e89fd-e018-4040-bc8e-7a0719dc4df5",
   "metadata": {},
   "outputs": [],
   "source": [
    "wither = 1"
   ]
  },
  {
   "cell_type": "code",
   "execution_count": 6,
   "id": "c9ab36bc-8e24-4bf4-a6e1-0d3eeba14d4c",
   "metadata": {},
   "outputs": [],
   "source": [
    "import sys"
   ]
  },
  {
   "cell_type": "code",
   "execution_count": 7,
   "id": "7e8577dd-5acf-4449-89eb-aa36dc21239a",
   "metadata": {},
   "outputs": [
    {
     "data": {
      "text/plain": [
       "'3.9.12 (main, Apr  5 2022, 01:53:17) \\n[Clang 12.0.0 ]'"
      ]
     },
     "execution_count": 7,
     "metadata": {},
     "output_type": "execute_result"
    }
   ],
   "source": [
    "sys.version"
   ]
  },
  {
   "cell_type": "code",
   "execution_count": 8,
   "id": "4248cb38-9450-45c0-b1e4-0bd36d0917d3",
   "metadata": {},
   "outputs": [],
   "source": [
    "import keyword"
   ]
  },
  {
   "cell_type": "code",
   "execution_count": 9,
   "id": "bada8600-e3de-4b22-8fb8-31775f6bddb3",
   "metadata": {},
   "outputs": [
    {
     "data": {
      "text/plain": [
       "['__all__',\n",
       " '__builtins__',\n",
       " '__cached__',\n",
       " '__doc__',\n",
       " '__file__',\n",
       " '__loader__',\n",
       " '__name__',\n",
       " '__package__',\n",
       " '__spec__',\n",
       " 'iskeyword',\n",
       " 'issoftkeyword',\n",
       " 'kwlist',\n",
       " 'softkwlist']"
      ]
     },
     "execution_count": 9,
     "metadata": {},
     "output_type": "execute_result"
    }
   ],
   "source": [
    "dir(keyword)"
   ]
  },
  {
   "cell_type": "code",
   "execution_count": 11,
   "id": "7c451b78-756f-495b-998f-f8e916ae622d",
   "metadata": {},
   "outputs": [
    {
     "name": "stdout",
     "output_type": "stream",
     "text": [
      "['False', 'None', 'True', '__peg_parser__', 'and', 'as', 'assert', 'async', 'await', 'break', 'class', 'continue', 'def', 'del', 'elif', 'else', 'except', 'finally', 'for', 'from', 'global', 'if', 'import', 'in', 'is', 'lambda', 'nonlocal', 'not', 'or', 'pass', 'raise', 'return', 'try', 'while', 'with', 'yield']\n"
     ]
    }
   ],
   "source": [
    "print(keyword.kwlist)"
   ]
  },
  {
   "cell_type": "code",
   "execution_count": 12,
   "id": "fa114471-1ffe-44d6-a2df-d2fe4703d91f",
   "metadata": {},
   "outputs": [],
   "source": [
    "lines = [\n",
    "    'Line 1\\n',\n",
    "    'Line 2\\n',\n",
    "    'Line 3\\n'\n",
    "]"
   ]
  },
  {
   "cell_type": "code",
   "execution_count": 13,
   "id": "8952e4f0-0fc4-42ea-b596-096f832ac1e4",
   "metadata": {},
   "outputs": [
    {
     "data": {
      "text/plain": [
       "['Line 1\\n', 'Line 2\\n', 'Line 3\\n']"
      ]
     },
     "execution_count": 13,
     "metadata": {},
     "output_type": "execute_result"
    }
   ],
   "source": [
    "lines"
   ]
  },
  {
   "cell_type": "code",
   "execution_count": 14,
   "id": "e62cb62d-3a78-481c-a210-d1001c7c48ce",
   "metadata": {},
   "outputs": [
    {
     "data": {
      "text/plain": [
       "['Line 3\\n', 'Line 2\\n', 'Line 1\\n']"
      ]
     },
     "execution_count": 14,
     "metadata": {},
     "output_type": "execute_result"
    }
   ],
   "source": [
    "lines[::-1]"
   ]
  },
  {
   "cell_type": "code",
   "execution_count": 15,
   "id": "1f81f8f0-0c8d-4a64-9c8e-d158d1f97773",
   "metadata": {},
   "outputs": [],
   "source": [
    "lines.reverse()"
   ]
  },
  {
   "cell_type": "code",
   "execution_count": 16,
   "id": "ce171dd1-26e7-4b4c-862b-5423401a5eb0",
   "metadata": {},
   "outputs": [
    {
     "data": {
      "text/plain": [
       "['Line 3\\n', 'Line 2\\n', 'Line 1\\n']"
      ]
     },
     "execution_count": 16,
     "metadata": {},
     "output_type": "execute_result"
    }
   ],
   "source": [
    "lines"
   ]
  },
  {
   "cell_type": "markdown",
   "id": "ef026d6f-045e-4207-a924-e577bf2a57db",
   "metadata": {},
   "source": [
    "## Quick Lab: File I/O\n",
    "* write a Python program which prompts the user for a filename, then opens that file and writes the contents of the file to a new file, in reverse order, i.e.,\n",
    "\n",
    "<pre><b>\n",
    "    Original file       Reversed file\n",
    "    Line 1              Line 4\n",
    "    Line 2              Line 3\n",
    "    Line 3              Line 2\n",
    "    Line 4              Line 1\n",
    "</b></pre>"
   ]
  },
  {
   "cell_type": "code",
   "execution_count": 639,
   "id": "732e8ff2-a005-4290-9e63-fa606fe915d4",
   "metadata": {},
   "outputs": [
    {
     "name": "stdin",
     "output_type": "stream",
     "text": [
      "Enter a filename and I will reverse it:  hamlet.txt\n"
     ]
    }
   ],
   "source": [
    "filename = input('Enter a filename and I will reverse it: ').lower()"
   ]
  },
  {
   "cell_type": "code",
   "execution_count": 641,
   "id": "4799c67e-4406-4c47-8ed9-bfaaa57af343",
   "metadata": {},
   "outputs": [],
   "source": [
    "with open(filename) as infile: # open for reading\n",
    "    lines = infile.readlines() # read ALL lines into a list"
   ]
  },
  {
   "cell_type": "code",
   "execution_count": 643,
   "id": "67a58c34-87f9-405a-b332-197497e1516a",
   "metadata": {},
   "outputs": [
    {
     "data": {
      "text/plain": [
       "['The Tragedy of Hamlet, Prince of Denmark Shakespeare homepage |\\n',\n",
       " 'Hamlet | Entire play ACT I\\n',\n",
       " '\\n',\n",
       " 'SCENE I. Elsinore. A platform before the castle.\\n',\n",
       " '\\n']"
      ]
     },
     "execution_count": 643,
     "metadata": {},
     "output_type": "execute_result"
    }
   ],
   "source": [
    "lines[:5] # check!"
   ]
  },
  {
   "cell_type": "code",
   "execution_count": 648,
   "id": "7c7f619d-8f88-41d2-9ec4-fc1a8ba27f6d",
   "metadata": {},
   "outputs": [],
   "source": [
    "with open(filename + '.rev', 'w') as outfile: # open for writing, add .rev extension\n",
    "    print(''.join(lines[::-1]), file=outfile)"
   ]
  },
  {
   "cell_type": "code",
   "execution_count": 651,
   "id": "ca5b37c5-7235-4eef-bd44-48756df07a96",
   "metadata": {},
   "outputs": [],
   "source": [
    "with open(filename + '.rev', 'w') as outfile: # open for writing, add .rev extension\n",
    "    for line in lines[::-1]:\n",
    "        print(line, end='', file=outfile)"
   ]
  },
  {
   "cell_type": "markdown",
   "id": "1da1a6d6-8d77-42ae-872c-5ce42bdf5c37",
   "metadata": {},
   "source": [
    "## Group Lab: File I/O + dicts\n",
    "* write a Python program to read a file and count the number of occurrences of each word in the file\n",
    "* use a __`dict`__, indexed by word, to count the occurrences\n",
    "* remember __`d.get(key)`__ will return __`None`__ if there is no such key in the dict (vs. __`d[key]`__ which will throw an exception) and also the __`in`__ operator\n",
    "  * or use a __`collections.defaultdict`__ if we've covered it\n",
    "* treat __The__ and __the__ as the same word when counting\n",
    "* print out words and counts, from most common to least common\n",
    "* __EXTRA:__ remove punctuation, so __Hamlet,__ == __Hamlet__ # refer back to \"import this\"\n",
    "* The Road Not Taken and Hamlet are in your materials"
   ]
  },
  {
   "cell_type": "code",
   "execution_count": 667,
   "id": "ffc9192c-ae29-4c58-a7dd-c84f75c4a1cc",
   "metadata": {},
   "outputs": [],
   "source": [
    "wordcounts = {}"
   ]
  },
  {
   "cell_type": "code",
   "execution_count": 659,
   "id": "16cfbc9e-e76c-45dd-9af3-d8ccf3fa3f31",
   "metadata": {},
   "outputs": [],
   "source": [
    "if 'the' in wordcounts:\n",
    "    wordcounts['the'] += 1\n",
    "else: # not seen before\n",
    "    wordcounts['the'] = 1"
   ]
  },
  {
   "cell_type": "code",
   "execution_count": 661,
   "id": "4e1e7177-c265-471b-8c6b-46744b00329e",
   "metadata": {},
   "outputs": [
    {
     "data": {
      "text/plain": [
       "{'the': 1}"
      ]
     },
     "execution_count": 661,
     "metadata": {},
     "output_type": "execute_result"
    }
   ],
   "source": [
    "wordcounts"
   ]
  },
  {
   "cell_type": "code",
   "execution_count": 663,
   "id": "bd66a824-1c81-4544-8945-d80597132e31",
   "metadata": {},
   "outputs": [],
   "source": [
    "wordcounts['the'] += 1"
   ]
  },
  {
   "cell_type": "code",
   "execution_count": 665,
   "id": "cf6a00ff-9133-41b7-a9b6-af1f7dd382aa",
   "metadata": {},
   "outputs": [
    {
     "data": {
      "text/plain": [
       "{'the': 2}"
      ]
     },
     "execution_count": 665,
     "metadata": {},
     "output_type": "execute_result"
    }
   ],
   "source": [
    "wordcounts"
   ]
  },
  {
   "cell_type": "code",
   "execution_count": 685,
   "id": "2097a607-fc29-43c1-b452-daab42e744c9",
   "metadata": {},
   "outputs": [
    {
     "name": "stdin",
     "output_type": "stream",
     "text": [
      "What file should I count?  hamlet.txt\n"
     ]
    }
   ],
   "source": [
    "filename = input('What file should I count? ')"
   ]
  },
  {
   "cell_type": "code",
   "execution_count": 687,
   "id": "ffbf763b-fe6f-4b80-8284-39b57bf4bde3",
   "metadata": {},
   "outputs": [],
   "source": [
    "wordcounts = {}\n",
    "\n",
    "with open(filename) as infile:\n",
    "    for line in infile: # grab the next line of text and let Python do the work\n",
    "        for word in line.lower().split():\n",
    "            if word in wordcounts:\n",
    "                wordcounts[word] += 1\n",
    "            else: # not seen before\n",
    "                wordcounts[word] = 1"
   ]
  },
  {
   "cell_type": "code",
   "execution_count": 677,
   "id": "0e2f53a1-6f4c-4291-a701-cac33ce2ff20",
   "metadata": {},
   "outputs": [
    {
     "data": {
      "text/plain": [
       "{'two': 2,\n",
       " 'roads': 2,\n",
       " 'diverged': 2,\n",
       " 'in': 4,\n",
       " 'a': 3,\n",
       " 'yellow': 1,\n",
       " 'wood,': 2,\n",
       " 'and': 9,\n",
       " 'sorry': 1,\n",
       " 'i': 8,\n",
       " 'could': 2,\n",
       " 'not': 1,\n",
       " 'travel': 1,\n",
       " 'both': 2,\n",
       " 'be': 2,\n",
       " 'one': 3,\n",
       " 'traveler,': 1,\n",
       " 'long': 1,\n",
       " 'stood': 1,\n",
       " 'looked': 1,\n",
       " 'down': 1,\n",
       " 'as': 5,\n",
       " 'far': 1,\n",
       " 'to': 2,\n",
       " 'where': 1,\n",
       " 'it': 2,\n",
       " 'bent': 1,\n",
       " 'the': 8,\n",
       " 'undergrowth;': 1,\n",
       " 'then': 1,\n",
       " 'took': 2,\n",
       " 'other,': 1,\n",
       " 'just': 1,\n",
       " 'fair,': 1,\n",
       " 'having': 1,\n",
       " 'perhaps': 1,\n",
       " 'better': 1,\n",
       " 'claim,': 1,\n",
       " 'because': 1,\n",
       " 'was': 1,\n",
       " 'grassy': 1,\n",
       " 'wanted': 1,\n",
       " 'wear;': 1,\n",
       " 'though': 1,\n",
       " 'for': 2,\n",
       " 'that': 3,\n",
       " 'passing': 1,\n",
       " 'there': 1,\n",
       " 'had': 2,\n",
       " 'worn': 1,\n",
       " 'them': 1,\n",
       " 'really': 1,\n",
       " 'about': 1,\n",
       " 'same,': 1,\n",
       " 'morning': 1,\n",
       " 'equally': 1,\n",
       " 'lay': 1,\n",
       " 'leaves': 1,\n",
       " 'no': 1,\n",
       " 'step': 1,\n",
       " 'trodden': 1,\n",
       " 'black.': 1,\n",
       " 'oh,': 1,\n",
       " 'kept': 1,\n",
       " 'first': 1,\n",
       " 'another': 1,\n",
       " 'day!': 1,\n",
       " 'yet': 1,\n",
       " 'knowing': 1,\n",
       " 'how': 1,\n",
       " 'way': 1,\n",
       " 'leads': 1,\n",
       " 'on': 1,\n",
       " 'way,': 1,\n",
       " 'doubted': 1,\n",
       " 'if': 1,\n",
       " 'should': 1,\n",
       " 'ever': 1,\n",
       " 'come': 1,\n",
       " 'back.': 1,\n",
       " 'shall': 1,\n",
       " 'telling': 1,\n",
       " 'this': 1,\n",
       " 'with': 1,\n",
       " 'sigh': 1,\n",
       " 'somewhere': 1,\n",
       " 'ages': 2,\n",
       " 'hence:': 1,\n",
       " 'i—': 1,\n",
       " 'less': 1,\n",
       " 'traveled': 1,\n",
       " 'by,': 1,\n",
       " 'has': 1,\n",
       " 'made': 1,\n",
       " 'all': 1,\n",
       " 'difference.': 1}"
      ]
     },
     "execution_count": 677,
     "metadata": {},
     "output_type": "execute_result"
    }
   ],
   "source": [
    "wordcounts"
   ]
  },
  {
   "cell_type": "code",
   "execution_count": 681,
   "id": "5fb9b1de-689a-41ae-87a8-7f1853923f77",
   "metadata": {},
   "outputs": [
    {
     "name": "stdout",
     "output_type": "stream",
     "text": [
      "a 3\n",
      "about 1\n",
      "ages 2\n",
      "all 1\n",
      "and 9\n",
      "another 1\n",
      "as 5\n",
      "back. 1\n",
      "be 2\n",
      "because 1\n",
      "bent 1\n",
      "better 1\n",
      "black. 1\n",
      "both 2\n",
      "by, 1\n",
      "claim, 1\n",
      "come 1\n",
      "could 2\n",
      "day! 1\n",
      "difference. 1\n",
      "diverged 2\n",
      "doubted 1\n",
      "down 1\n",
      "equally 1\n",
      "ever 1\n",
      "fair, 1\n",
      "far 1\n",
      "first 1\n",
      "for 2\n",
      "grassy 1\n",
      "had 2\n",
      "has 1\n",
      "having 1\n",
      "hence: 1\n",
      "how 1\n",
      "i 8\n",
      "if 1\n",
      "in 4\n",
      "it 2\n",
      "i— 1\n",
      "just 1\n",
      "kept 1\n",
      "knowing 1\n",
      "lay 1\n",
      "leads 1\n",
      "leaves 1\n",
      "less 1\n",
      "long 1\n",
      "looked 1\n",
      "made 1\n",
      "morning 1\n",
      "no 1\n",
      "not 1\n",
      "oh, 1\n",
      "on 1\n",
      "one 3\n",
      "other, 1\n",
      "passing 1\n",
      "perhaps 1\n",
      "really 1\n",
      "roads 2\n",
      "same, 1\n",
      "shall 1\n",
      "should 1\n",
      "sigh 1\n",
      "somewhere 1\n",
      "sorry 1\n",
      "step 1\n",
      "stood 1\n",
      "telling 1\n",
      "that 3\n",
      "the 8\n",
      "them 1\n",
      "then 1\n",
      "there 1\n",
      "this 1\n",
      "though 1\n",
      "to 2\n",
      "took 2\n",
      "travel 1\n",
      "traveled 1\n",
      "traveler, 1\n",
      "trodden 1\n",
      "two 2\n",
      "undergrowth; 1\n",
      "wanted 1\n",
      "was 1\n",
      "way 1\n",
      "way, 1\n",
      "wear; 1\n",
      "where 1\n",
      "with 1\n",
      "wood, 2\n",
      "worn 1\n",
      "yellow 1\n",
      "yet 1\n"
     ]
    }
   ],
   "source": [
    "for word in sorted(wordcounts):\n",
    "    print(word, wordcounts[word])"
   ]
  },
  {
   "cell_type": "code",
   "execution_count": 693,
   "id": "7f9c13d9-3c75-44ad-8679-e7a6a8b7f6f0",
   "metadata": {},
   "outputs": [
    {
     "name": "stdout",
     "output_type": "stream",
     "text": [
      "the 1137\n",
      "and 936\n",
      "to 728\n",
      "of 664\n",
      "a 527\n",
      "i 513\n",
      "my 513\n",
      "in 423\n",
      "you 405\n",
      "hamlet 401\n",
      "that 345\n",
      "it 325\n",
      "is 318\n",
      "his 294\n",
      "not 274\n",
      "with 263\n",
      "this 249\n",
      "your 242\n",
      "but 229\n",
      "for 228\n",
      "as 217\n",
      "be 208\n",
      "he 204\n",
      "what 187\n",
      "have 173\n",
      "king 157\n",
      "will 150\n",
      "so 141\n",
      "me 139\n",
      "we 136\n",
      "do 130\n",
      "are 127\n",
      "horatio 125\n",
      "him 118\n",
      "our 118\n",
      "by 114\n",
      "if 111\n",
      "claudius 109\n",
      "on 108\n",
      "or 108\n",
      "no 107\n",
      "polonius 107\n",
      "shall 106\n",
      "lord 106\n",
      "queen 103\n",
      "they 101\n",
      "all 100\n",
      "good 97\n",
      "let 95\n",
      "from 94\n",
      "thou 94\n",
      "at 87\n",
      "how 87\n",
      "thy 87\n",
      "lord, 84\n",
      "most 82\n",
      "you, 77\n",
      "her 76\n",
      "like 75\n",
      "more 75\n",
      "would 74\n",
      "was 73\n",
      "laertes 73\n",
      "gertrude 73\n",
      "'tis 70\n",
      "o, 65\n",
      "may 65\n",
      "rosencrantz 65\n",
      "enter 64\n",
      "ophelia 64\n",
      "very 63\n",
      "hath 60\n",
      "first 60\n",
      "did 58\n",
      "lord. 58\n",
      "give 57\n",
      "must 57\n",
      "should 57\n",
      "their 57\n",
      "an 56\n",
      "know 56\n",
      "i'll 56\n",
      "come 54\n",
      "make 54\n",
      "which 54\n",
      "some 54\n",
      "upon 53\n",
      "when 53\n",
      "where 52\n",
      "there 52\n",
      "guildenstern 52\n",
      "than 51\n",
      "such 51\n",
      "now 50\n",
      "am 50\n",
      "go 47\n",
      "clown 47\n",
      "much 46\n",
      "had 45\n",
      "us 45\n",
      "these 45\n",
      "o 45\n",
      "them 42\n",
      "speak 42\n",
      "she 42\n",
      "marcellus 41\n",
      "out 41\n",
      "love 41\n",
      "tell 40\n",
      "sir, 40\n",
      "think 39\n",
      "exit 39\n",
      "but, 39\n",
      "yet 38\n",
      "it, 37\n",
      "me, 37\n",
      "nor 37\n",
      "ay, 37\n",
      "then 36\n",
      "too 36\n",
      "take 35\n",
      "exeunt 35\n",
      "thee 34\n",
      "come, 34\n",
      "own 34\n",
      "can 34\n",
      "here 33\n",
      "say 33\n",
      "one 33\n",
      "man 33\n",
      "who 31\n",
      "now, 31\n",
      "why 31\n",
      "whose 31\n",
      "well 31\n",
      "see 31\n",
      "into 30\n",
      "could 30\n",
      "might 29\n",
      "mine 29\n",
      "thus 29\n",
      "him, 29\n",
      "no, 29\n",
      "time 28\n",
      "dear 28\n",
      "were 28\n",
      "lord? 28\n",
      "hamlet, 27\n",
      "bernardo 27\n",
      "him. 27\n",
      "doth 27\n",
      "been 27\n",
      "up 27\n",
      "and, 27\n",
      "why, 27\n",
      "osric 27\n",
      "it. 26\n",
      "made 26\n",
      "ghost 26\n",
      "father 26\n",
      "pray 26\n",
      "you. 26\n",
      "play 25\n",
      "hold 25\n",
      "look 25\n",
      "does 25\n",
      "that, 25\n",
      "nay, 24\n",
      "hear 24\n",
      "cannot 24\n",
      "i' 24\n",
      "great 24\n",
      "put 24\n",
      "never 24\n",
      "scene 23\n",
      "me. 23\n",
      "well, 22\n",
      "against 22\n",
      "two 22\n",
      "even 22\n",
      "though 22\n",
      "itself 22\n",
      "second 22\n",
      "set 22\n",
      "part 21\n",
      "those 21\n",
      "leave 21\n",
      "so, 21\n",
      "both 21\n",
      "call 21\n",
      "heaven 20\n",
      "within 20\n",
      "till 20\n",
      "poor 20\n",
      "player 20\n",
      "comes 19\n",
      "show 19\n",
      "old 19\n",
      "sweet 19\n",
      "nothing 19\n",
      "thing 18\n",
      "gertrude, 18\n",
      "father's 18\n",
      "makes 18\n",
      "there's 18\n",
      "before 17\n",
      "seen 17\n",
      "believe 17\n",
      "without 17\n",
      "world 17\n",
      "young 17\n",
      "this, 17\n",
      "head 17\n",
      "any 17\n",
      "god 17\n",
      "find 17\n",
      "noble 17\n",
      "not, 17\n",
      "many 17\n",
      "has 16\n",
      "that's 16\n",
      "fair 16\n",
      "dead 16\n",
      "then, 16\n",
      "laertes, 16\n",
      "horatio, 16\n",
      "soul 16\n",
      "keep 16\n",
      "say, 15\n",
      "what, 15\n",
      "king, 15\n",
      "little 15\n",
      "hast 15\n",
      "use 15\n",
      "about 15\n",
      "death 15\n",
      "nature 15\n",
      "here, 15\n",
      "between 15\n",
      "follow 15\n",
      "reynaldo 15\n",
      "players 15\n",
      "therefore 14\n",
      "art 14\n",
      "true 14\n",
      "us, 14\n",
      "do, 14\n",
      "lord; 14\n",
      "love, 14\n",
      "means 14\n",
      "off 14\n",
      "i, 14\n",
      "dost 14\n",
      "castle. 13\n",
      "me: 13\n",
      "you? 13\n",
      "fear 13\n",
      "hand 13\n",
      "ere 13\n",
      "room 13\n",
      "bear 13\n",
      "thoughts 13\n",
      "mother, 13\n",
      "mother 13\n",
      "you: 13\n",
      "indeed, 13\n",
      "marry, 13\n",
      "since 13\n",
      "go, 13\n",
      "act 12\n",
      "long 12\n",
      "live 12\n",
      "night 12\n",
      "night, 12\n",
      "know, 12\n",
      "life, 12\n",
      "still 12\n",
      "earth 12\n",
      "life 12\n",
      "death, 12\n",
      "it: 12\n",
      "o'er 12\n",
      "for, 12\n",
      "what's 12\n",
      "sir. 12\n",
      "we'll 12\n",
      "this? 12\n",
      "else 12\n",
      "words 12\n",
      "bring 12\n",
      "soul, 12\n",
      "another 12\n",
      "day 12\n",
      "sent 12\n",
      "them. 11\n",
      "down 11\n",
      "once 11\n",
      "form 11\n",
      "majesty 11\n",
      "something 11\n",
      "other 11\n",
      "e'en 11\n",
      "oft 11\n",
      "being 11\n",
      "is, 11\n",
      "ever 11\n",
      "better 11\n",
      "things 11\n",
      "heaven, 11\n",
      "heart 11\n",
      "saw 11\n",
      "stand 11\n",
      "each 11\n",
      "youth 11\n",
      "mad 11\n",
      "o' 11\n",
      "cause 11\n",
      "madness 11\n",
      "matter 11\n",
      "after 11\n",
      "eyes 10\n",
      "down, 10\n",
      "last 10\n",
      "same 10\n",
      "look, 10\n",
      "question 10\n",
      "is't 10\n",
      "so. 10\n",
      "almost 10\n",
      "let's 10\n",
      "claudius, 10\n",
      "far 10\n",
      "indeed 10\n",
      "man, 10\n",
      "them, 10\n",
      "virtue 10\n",
      "himself 10\n",
      "body 10\n",
      "ophelia, 10\n",
      "every 10\n",
      "you; 10\n",
      "given 10\n",
      "lord! 10\n",
      "he's 10\n",
      "well. 10\n",
      "rest 10\n",
      "thousand 10\n",
      "kind 10\n",
      "gentleman 10\n",
      "denmark 9\n",
      "francisco 9\n",
      "get 9\n",
      "mark 9\n",
      "together 9\n",
      "thee, 9\n",
      "haste 9\n",
      "me? 9\n",
      "goes 9\n",
      "fortinbras 9\n",
      "which, 9\n",
      "hamlet. 9\n",
      "so: 9\n",
      "through 9\n",
      "done, 9\n",
      "grace 9\n",
      "heard 9\n",
      "grief 9\n",
      "further 9\n",
      "full 9\n",
      "doubt 9\n",
      "reason 9\n",
      "came 9\n",
      "duty 9\n",
      "best 9\n",
      "[aside] 9\n",
      "seek 9\n",
      "be, 9\n",
      "seem 9\n",
      "excellent 9\n",
      "ear 9\n",
      "foul 9\n",
      "wind 9\n",
      "please 9\n",
      "draw 9\n",
      "wilt 9\n",
      "alas, 9\n",
      "lay 9\n",
      "him: 9\n",
      "end 9\n",
      "ourselves 9\n",
      "three 9\n",
      "thank 9\n",
      "answer 8\n",
      "ho! 8\n",
      "again 8\n",
      "sit 8\n",
      "all, 8\n",
      "fell 8\n",
      "re-enter 8\n",
      "walk 8\n",
      "spirit 8\n",
      "attendants 8\n",
      "'twere 8\n",
      "business 8\n",
      "madam, 8\n",
      "nature, 8\n",
      "come; 8\n",
      "king's 8\n",
      "again. 8\n",
      "time, 8\n",
      "will. 8\n",
      "none 8\n",
      "not. 8\n",
      "said 8\n",
      "yourself 8\n",
      "free 8\n",
      "blood 8\n",
      "takes 8\n",
      "away 8\n",
      "grave 8\n",
      "here's 8\n",
      "age 8\n",
      "rosencrantz, 8\n",
      "hamlet's 8\n",
      "in. 8\n",
      "fine 8\n",
      "gave 8\n",
      "speech 8\n",
      "lie 8\n",
      "mother. 8\n",
      "sings 8\n",
      "skull 8\n",
      "prince 7\n",
      "i. 7\n",
      "night. 7\n",
      "welcome, 7\n",
      "says 7\n",
      "watch 7\n",
      "away! 7\n",
      "god, 7\n",
      "particular 7\n",
      "thought 7\n",
      "norway, 7\n",
      "unto 7\n",
      "blood, 7\n",
      "whether 7\n",
      "power 7\n",
      "brother's 7\n",
      "memory 7\n",
      "whole 7\n",
      "queen, 7\n",
      "father, 7\n",
      "who, 7\n",
      "farewell. 7\n",
      "beseech 7\n",
      "thine 7\n",
      "shows 7\n",
      "mind 7\n",
      "dead, 7\n",
      "son, 7\n",
      "stay 7\n",
      "again, 7\n",
      "faith, 7\n",
      "gentlemen, 7\n",
      "hands 7\n",
      "there. 7\n",
      "while 7\n",
      "that? 7\n",
      "so? 7\n",
      "grow 7\n",
      "shot 7\n",
      "way 7\n",
      "remember 7\n",
      "understand 7\n",
      "daughter 7\n",
      "it; 7\n",
      "mean, 7\n",
      "custom 7\n",
      "action 7\n",
      "out, 7\n",
      "fit 7\n",
      "[within] 7\n",
      "needs 7\n",
      "times 7\n",
      "shall, 7\n",
      "him; 7\n",
      "ophelia! 7\n",
      "men 7\n",
      "receive 7\n",
      "he, 7\n",
      "gives 7\n",
      "son 7\n",
      "lady, 7\n",
      "sir; 7\n",
      "more, 7\n",
      "deed 7\n",
      "now! 7\n",
      "dies 7\n",
      "sense 7\n",
      "captain 7\n",
      "[sings] 7\n",
      "bid 6\n",
      "friends 6\n",
      "honest 6\n",
      "break 6\n",
      "charge 6\n",
      "speak, 6\n",
      "gone, 6\n",
      "cast 6\n",
      "fortinbras, 6\n",
      "state 6\n",
      "on, 6\n",
      "earth, 6\n",
      "wherein 6\n",
      "eye, 6\n",
      "writ 6\n",
      "news 6\n",
      "wouldst 6\n",
      "heart, 6\n",
      "father. 6\n",
      "go. 6\n",
      "less 6\n",
      "alone 6\n",
      "back 6\n",
      "rank 6\n",
      "face 6\n",
      "name 6\n",
      "tears 6\n",
      "wicked 6\n",
      "well: 6\n",
      "drink 6\n",
      "mother's 6\n",
      "king. 6\n",
      "word 6\n",
      "top 6\n",
      "pale 6\n",
      "fare 6\n",
      "fashion 6\n",
      "lies 6\n",
      "double 6\n",
      "thee. 6\n",
      "that. 6\n",
      "false 6\n",
      "speech, 6\n",
      "tongue 6\n",
      "light 6\n",
      "near 6\n",
      "general 6\n",
      "desperate 6\n",
      "ears 6\n",
      "murder 6\n",
      "me; 6\n",
      "wholesome 6\n",
      "damned 6\n",
      "ho, 6\n",
      "come. 6\n",
      "friends, 6\n",
      "indeed. 6\n",
      "swear. 6\n",
      "there, 6\n",
      "fellow 6\n",
      "will, 6\n",
      "passion 6\n",
      "whom 6\n",
      "madness, 6\n",
      "round 6\n",
      "her, 6\n",
      "sir: 6\n",
      "either 6\n",
      "sure, 6\n",
      "loved 6\n",
      "quick 6\n",
      "england 6\n",
      "play. 6\n",
      "poison 6\n",
      "husband 6\n",
      "sir? 6\n",
      "on. 6\n",
      "help, 6\n",
      "hamlet! 6\n",
      "noise 6\n",
      "death. 6\n",
      "watch, 5\n",
      "this. 5\n",
      "myself, 5\n",
      "horatio. 5\n",
      "looks 5\n",
      "king? 5\n",
      "warlike 5\n",
      "buried 5\n",
      "speak! 5\n",
      "see, 5\n",
      "horatio! 5\n",
      "work 5\n",
      "strange 5\n",
      "was, 5\n",
      "known 5\n",
      "hot 5\n",
      "stands 5\n",
      "prologue 5\n",
      "air, 5\n",
      "heard, 5\n",
      "'gainst 5\n",
      "season 5\n",
      "ii. 5\n",
      "polonius, 5\n",
      "late 5\n",
      "voltimand 5\n",
      "told 5\n",
      "is't, 5\n",
      "laertes? 5\n",
      "dread 5\n",
      "toward 5\n",
      "denmark. 5\n",
      "father; 5\n",
      "common 5\n",
      "lose 5\n",
      "hamlet: 5\n",
      "gentle 5\n",
      "health 5\n",
      "god! 5\n",
      "visit 5\n",
      "yet, 5\n",
      "eyes, 5\n",
      "heart; 5\n",
      "report 5\n",
      "teach 5\n",
      "day, 5\n",
      "hear. 5\n",
      "knew 5\n",
      "it? 5\n",
      "speak; 5\n",
      "yes, 5\n",
      "well; 5\n",
      "sweet, 5\n",
      "more. 5\n",
      "more; 5\n",
      "choice 5\n",
      "voice 5\n",
      "wisdom 5\n",
      "honour 5\n",
      "then; 5\n",
      "heaven; 5\n",
      "dull 5\n",
      "man's 5\n",
      "neither 5\n",
      "humbly 5\n",
      "hour 5\n",
      "not: 5\n",
      "keeps 5\n",
      "phrase 5\n",
      "fortune's 5\n",
      "hell, 5\n",
      "puts 5\n",
      "shalt 5\n",
      "done 5\n",
      "days 5\n",
      "fat 5\n",
      "went 5\n",
      "soft! 5\n",
      "be. 5\n",
      "sudden 5\n",
      "vile 5\n",
      "her. 5\n",
      "words, 5\n",
      "offence 5\n",
      "too. 5\n",
      "sword, 5\n",
      "ah, 5\n",
      "hither, 5\n",
      "aught 5\n",
      "in's 5\n",
      "not? 5\n",
      "falls 5\n",
      "lack 5\n",
      "move 5\n",
      "love. 5\n",
      "brought 5\n",
      "awhile, 5\n",
      "think, 5\n",
      "whereon 5\n",
      "pass 5\n",
      "welcome 5\n",
      "all. 5\n",
      "ill 5\n",
      "& 5\n",
      "herself 5\n",
      "try 5\n",
      "behind 5\n",
      "arras 5\n",
      "save 5\n",
      "fortune, 5\n",
      "ambition 5\n",
      "'twas 5\n",
      "only 5\n",
      "'the 5\n",
      "black 5\n",
      "fall 5\n",
      "drown 5\n",
      "cause, 5\n",
      "devil 5\n",
      "dangerous 5\n",
      "joy 5\n",
      "purpose 5\n",
      "hope 5\n",
      "others 5\n",
      "turn 5\n",
      "us. 5\n",
      "woe 5\n",
      "danish 5\n",
      "beg 5\n",
      "drink, 5\n",
      "letters 5\n",
      "laid 5\n",
      "messenger 5\n",
      "woo't 5\n",
      "elsinore. 4\n",
      "there? 4\n",
      "struck 4\n",
      "bed, 4\n",
      "sick 4\n",
      "quiet 4\n",
      "meet 4\n",
      "farewell, 4\n",
      "piece 4\n",
      "twice 4\n",
      "star 4\n",
      "course 4\n",
      "dead. 4\n",
      "sometimes 4\n",
      "land, 4\n",
      "seal'd 4\n",
      "lands 4\n",
      "stood 4\n",
      "king; 4\n",
      "coming 4\n",
      "voice, 4\n",
      "treasure 4\n",
      "stop 4\n",
      "guilty 4\n",
      "trumpet 4\n",
      "sea 4\n",
      "fire, 4\n",
      "truth 4\n",
      "stir 4\n",
      "gracious 4\n",
      "time. 4\n",
      "impart 4\n",
      "hamlet; 4\n",
      "do't, 4\n",
      "morning 4\n",
      "sorrow 4\n",
      "sister, 4\n",
      "state, 4\n",
      "thinking 4\n",
      "dream 4\n",
      "lost 4\n",
      "brother. 4\n",
      "uncle 4\n",
      "giving 4\n",
      "commend 4\n",
      "cornelius 4\n",
      "native 4\n",
      "mouth, 4\n",
      "hard 4\n",
      "off, 4\n",
      "eye 4\n",
      "lives 4\n",
      "seems 4\n",
      "fault 4\n",
      "throw 4\n",
      "son. 4\n",
      "obey 4\n",
      "heavens 4\n",
      "away. 4\n",
      "flesh 4\n",
      "grows 4\n",
      "grown 4\n",
      "on: 4\n",
      "discourse 4\n",
      "glad 4\n",
      "servant 4\n",
      "deep 4\n",
      "mock 4\n",
      "ear, 4\n",
      "point 4\n",
      "march 4\n",
      "thrice 4\n",
      "whilst 4\n",
      "did; 4\n",
      "kept 4\n",
      "thing, 4\n",
      "countenance 4\n",
      "beard 4\n",
      "perchance 4\n",
      "warrant 4\n",
      "assume 4\n",
      "hell 4\n",
      "still, 4\n",
      "service 4\n",
      "perhaps 4\n",
      "himself; 4\n",
      "place 4\n",
      "beauty 4\n",
      "effect 4\n",
      "blessing 4\n",
      "grace, 4\n",
      "for. 4\n",
      "there; 4\n",
      "thee! 4\n",
      "entertainment 4\n",
      "habit 4\n",
      "friend, 4\n",
      "man. 4\n",
      "them? 4\n",
      "command 4\n",
      "air 4\n",
      "mind, 4\n",
      "choose 4\n",
      "infinite 4\n",
      "me! 4\n",
      "thou, 4\n",
      "desire 4\n",
      "direct 4\n",
      "lead 4\n",
      "lend 4\n",
      "tale 4\n",
      "didst 4\n",
      "revenge 4\n",
      "youth, 4\n",
      "natural 4\n",
      "court 4\n",
      "cursed 4\n",
      "holds 4\n",
      "instant 4\n",
      "body. 4\n",
      "crown, 4\n",
      "act, 4\n",
      "hold, 4\n",
      "yea, 4\n",
      "lord,-- 4\n",
      "him! 4\n",
      "sword. 4\n",
      "[beneath] 4\n",
      "seen, 4\n",
      "swear 4\n",
      "help 4\n",
      "thus, 4\n",
      "note 4\n",
      "means, 4\n",
      "'faith, 4\n",
      "mass, 4\n",
      "wi' 4\n",
      "took 4\n",
      "last, 4\n",
      "over 4\n",
      "violent 4\n",
      "under 4\n",
      "judgment 4\n",
      "hide 4\n",
      "guildenstern, 4\n",
      "sith 4\n",
      "found 4\n",
      "truly 4\n",
      "sends 4\n",
      "matter, 4\n",
      "reads 4\n",
      "white 4\n",
      "sun 4\n",
      "fain 4\n",
      "thence 4\n",
      "four 4\n",
      "hamlet? 4\n",
      "ten 4\n",
      "honesty 4\n",
      "except 4\n",
      "life. 4\n",
      "neither, 4\n",
      "one. 4\n",
      "bad 4\n",
      "speak. 4\n",
      "enough 4\n",
      "laugh 4\n",
      "lady 4\n",
      "cry 4\n",
      "dare 4\n",
      "themselves 4\n",
      "out. 4\n",
      "lest 4\n",
      "them; 4\n",
      "french 4\n",
      "fly 4\n",
      "or, 4\n",
      "speaks 4\n",
      "purpose, 4\n",
      "pyrrhus 4\n",
      "sword 4\n",
      "prithee, 4\n",
      "mortal 4\n",
      "passion, 4\n",
      "calls 4\n",
      "pate 4\n",
      "ha! 4\n",
      "conscience 4\n",
      "confess 4\n",
      "matter. 4\n",
      "too; 4\n",
      "bestow 4\n",
      "himself. 4\n",
      "heavy 4\n",
      "sleep 4\n",
      "all; 4\n",
      "thought, 4\n",
      "right 4\n",
      "breath 4\n",
      "fool 4\n",
      "too, 4\n",
      "one, 4\n",
      "send 4\n",
      "feed 4\n",
      "nothing, 4\n",
      "wear 4\n",
      "kill 4\n",
      "half 4\n",
      "up, 4\n",
      "imports 4\n",
      "shame 4\n",
      "shortly 4\n",
      "pardon 4\n",
      "stronger 4\n",
      "whereto 4\n",
      "then? 4\n",
      "bloody 4\n",
      "england; 4\n",
      "meet. 4\n",
      "mark. 4\n",
      "danes 4\n",
      "bore 4\n",
      "sing 4\n",
      "christian 4\n",
      "wager 4\n",
      "water 4\n",
      "alexander 4\n",
      "lordship 4\n",
      "six 4\n",
      "stand, 3\n",
      "yourself. 3\n",
      "heart. 3\n",
      "haste. 3\n",
      "ground. 3\n",
      "appear'd 3\n",
      "nothing. 3\n",
      "touching 3\n",
      "sight, 3\n",
      "'twill 3\n",
      "awhile; 3\n",
      "nights 3\n",
      "peace, 3\n",
      "to. 3\n",
      "offended. 3\n",
      "on't? 3\n",
      "eyes. 3\n",
      "armour 3\n",
      "norway 3\n",
      "before, 3\n",
      "gone 3\n",
      "not; 3\n",
      "gross 3\n",
      "sore 3\n",
      "image 3\n",
      "law 3\n",
      "as, 3\n",
      "list 3\n",
      "in't; 3\n",
      "recover 3\n",
      "strong 3\n",
      "terms 3\n",
      "main 3\n",
      "chief 3\n",
      "sort 3\n",
      "eye. 3\n",
      "high 3\n",
      "sound, 3\n",
      "cock 3\n",
      "spirits 3\n",
      "wrong, 3\n",
      "herein 3\n",
      "present 3\n",
      "up; 3\n",
      "to-night 3\n",
      "spirit, 3\n",
      "voltimand, 3\n",
      "wisest 3\n",
      "ourselves. 3\n",
      "delight 3\n",
      "importing 3\n",
      "hears 3\n",
      "have, 3\n",
      "favour 3\n",
      "return 3\n",
      "bend 3\n",
      "polonius? 3\n",
      "slow 3\n",
      "thine, 3\n",
      "cousin 3\n",
      "hang 3\n",
      "colour 3\n",
      "friend 3\n",
      "die, 3\n",
      "passing 3\n",
      "is; 3\n",
      "solemn 3\n",
      "black, 3\n",
      "shapes 3\n",
      "bound 3\n",
      "sense, 3\n",
      "fie! 3\n",
      "cheer 3\n",
      "loving 3\n",
      "sits 3\n",
      "cannon 3\n",
      "fix'd 3\n",
      "flat 3\n",
      "uses 3\n",
      "fie 3\n",
      "this! 3\n",
      "months 3\n",
      "dead: 3\n",
      "much, 3\n",
      "winds 3\n",
      "she, 3\n",
      "beast, 3\n",
      "reason, 3\n",
      "tongue. 3\n",
      "forget 3\n",
      "change 3\n",
      "thrift, 3\n",
      "forth 3\n",
      "goodly 3\n",
      "awhile 3\n",
      "god's 3\n",
      "them: 3\n",
      "fear, 3\n",
      "dreadful 3\n",
      "methought 3\n",
      "sound 3\n",
      "away, 3\n",
      "honour'd 3\n",
      "up. 3\n",
      "look'd 3\n",
      "stay'd 3\n",
      "peace. 3\n",
      "silence 3\n",
      "honour. 3\n",
      "men's 3\n",
      "iii. 3\n",
      "polonius' 3\n",
      "house. 3\n",
      "inward 3\n",
      "withal. 3\n",
      "loves 3\n",
      "will: 3\n",
      "safety 3\n",
      "head. 3\n",
      "chaste 3\n",
      "danger 3\n",
      "maid 3\n",
      "occasion 3\n",
      "leave. 3\n",
      "shame! 3\n",
      "tongue, 3\n",
      "in, 3\n",
      "generous 3\n",
      "all: 3\n",
      "canst 3\n",
      "audience 3\n",
      "ta'en 3\n",
      "tender 3\n",
      "phrase, 3\n",
      "to, 3\n",
      "heaven. 3\n",
      "both, 3\n",
      "mere 3\n",
      "pious 3\n",
      "obey, 3\n",
      "iv. 3\n",
      "now? 3\n",
      "wont 3\n",
      "flourish 3\n",
      "ordnance 3\n",
      "pith 3\n",
      "men, 3\n",
      "censure 3\n",
      "defend 3\n",
      "shape 3\n",
      "royal 3\n",
      "burst 3\n",
      "bones, 3\n",
      "making 3\n",
      "disposition 3\n",
      "do? 3\n",
      "waves 3\n",
      "tempt 3\n",
      "base 3\n",
      "motive, 3\n",
      "cries 3\n",
      "lets 3\n",
      "pity 3\n",
      "hearing 3\n",
      "revenge, 3\n",
      "certain 3\n",
      "crimes 3\n",
      "start 3\n",
      "end, 3\n",
      "blood. 3\n",
      "list, 3\n",
      "sleeping 3\n",
      "soul! 3\n",
      "wit, 3\n",
      "wretch 3\n",
      "angel 3\n",
      "methinks 3\n",
      "made, 3\n",
      "horrible! 3\n",
      "fire: 3\n",
      "adieu! 3\n",
      "else? 3\n",
      "ghost, 3\n",
      "commandment 3\n",
      "matter: 3\n",
      "villain! 3\n",
      "i'm 3\n",
      "sure 3\n",
      "'t. 3\n",
      "it! 3\n",
      "you'll 3\n",
      "ne'er 3\n",
      "villain 3\n",
      "circumstance 3\n",
      "part, 3\n",
      "saint 3\n",
      "'t 3\n",
      "soldiers, 3\n",
      "said, 3\n",
      "friends. 3\n",
      "wondrous 3\n",
      "welcome. 3\n",
      "arms 3\n",
      "mercy 3\n",
      "need 3\n",
      "express 3\n",
      "fingers 3\n",
      "drift 3\n",
      "touch 3\n",
      "'i 3\n",
      "that; 3\n",
      "breathe 3\n",
      "liberty, 3\n",
      "fiery 3\n",
      "thus: 3\n",
      "now; 3\n",
      "observe 3\n",
      "farewell! 3\n",
      "matter? 3\n",
      "hat 3\n",
      "piteous 3\n",
      "know; 3\n",
      "doors 3\n",
      "ecstasy 3\n",
      "property 3\n",
      "meant 3\n",
      "king: 3\n",
      "guildenstern! 3\n",
      "entreat 3\n",
      "vouchsafe 3\n",
      "sovereign 3\n",
      "thanks, 3\n",
      "is. 3\n",
      "brother 3\n",
      "borne 3\n",
      "hand, 3\n",
      "majesty. 3\n",
      "down. 3\n",
      "likes 3\n",
      "read, 3\n",
      "answer, 3\n",
      "mad, 3\n",
      "true: 3\n",
      "foolish 3\n",
      "effect, 3\n",
      "rather 3\n",
      "this: 3\n",
      "her? 3\n",
      "hamlet.' 3\n",
      "place, 3\n",
      "ear. 3\n",
      "received 3\n",
      "short 3\n",
      "presently. 3\n",
      "yourself, 3\n",
      "ye 3\n",
      "indifferent 3\n",
      "secret 3\n",
      "parts 3\n",
      "denmark's 3\n",
      "count 3\n",
      "myself 3\n",
      "quality 3\n",
      "justly 3\n",
      "confession 3\n",
      "golden 3\n",
      "longer 3\n",
      "unless 3\n",
      "carry 3\n",
      "hands, 3\n",
      "players, 3\n",
      "hadst 3\n",
      "daughter. 3\n",
      "denmark? 3\n",
      "to't 3\n",
      "see: 3\n",
      "play, 3\n",
      "modesty 3\n",
      "memory, 3\n",
      "horse, 3\n",
      "finds 3\n",
      "pyrrhus' 3\n",
      "anon 3\n",
      "proof 3\n",
      "good; 3\n",
      "good. 3\n",
      "treason 3\n",
      "sport 3\n",
      "to-morrow 3\n",
      "dozen 3\n",
      "in't, 3\n",
      "night: 3\n",
      "slave 3\n",
      "conceit 3\n",
      "visage 3\n",
      "damn'd 3\n",
      "bloody, 3\n",
      "ass 3\n",
      "cunning 3\n",
      "gentleman. 3\n",
      "suffers 3\n",
      "wish 3\n",
      "suffer 3\n",
      "sleep: 3\n",
      "yours, 3\n",
      "again; 3\n",
      "fair, 3\n",
      "imagination 3\n",
      "fellows 3\n",
      "heavens! 3\n",
      "nunnery, 3\n",
      "rose 3\n",
      "quite 3\n",
      "speed 3\n",
      "england, 3\n",
      "fit, 3\n",
      "special 3\n",
      "nature; 3\n",
      "quantity 3\n",
      "mean 3\n",
      "election 3\n",
      "lord: 3\n",
      "pay 3\n",
      "eat 3\n",
      "now. 3\n",
      "thirty 3\n",
      "ground, 3\n",
      "do: 3\n",
      "kill'd 3\n",
      "bed. 3\n",
      "hence 3\n",
      "sleeps 3\n",
      "begin, 3\n",
      "cannot. 3\n",
      "heels 3\n",
      "door 3\n",
      "pluck 3\n",
      "bless 3\n",
      "by. 3\n",
      "prepare 3\n",
      "bodies 3\n",
      "do't. 3\n",
      "bed; 3\n",
      "wife; 3\n",
      "mountain 3\n",
      "more: 3\n",
      "vice 3\n",
      "soldiers 3\n",
      "see. 3\n",
      "next 3\n",
      "alack, 3\n",
      "done. 3\n",
      "touch, 3\n",
      "england! 3\n",
      "twenty 3\n",
      "maid, 3\n",
      "ha' 3\n",
      "laertes. 3\n",
      "becomes 3\n",
      "patience 3\n",
      "practise 3\n",
      "sight 3\n",
      "c 3\n",
      "burial. 3\n",
      "argal, 3\n",
      "gallows 3\n",
      "knave 3\n",
      "dust 3\n",
      "carriages, 3\n",
      "| 2\n",
      "platform 2\n",
      "who's 2\n",
      "unfold 2\n",
      "king! 2\n",
      "he. 2\n",
      "thanks: 2\n",
      "bitter 2\n",
      "cold, 2\n",
      "marcellus, 2\n",
      "dane. 2\n",
      "place. 2\n",
      "horatio: 2\n",
      "marcellus. 2\n",
      "to-night? 2\n",
      "along 2\n",
      "apparition 2\n",
      "approve 2\n",
      "tush, 2\n",
      "ears, 2\n",
      "story 2\n",
      "pole 2\n",
      "burns, 2\n",
      "bell 2\n",
      "beating 2\n",
      "again! 2\n",
      "spoke 2\n",
      "answer. 2\n",
      "tremble 2\n",
      "sensible 2\n",
      "ambitious 2\n",
      "once, 2\n",
      "strange. 2\n",
      "jump 2\n",
      "hour, 2\n",
      "scope 2\n",
      "state. 2\n",
      "knows, 2\n",
      "strict 2\n",
      "subject 2\n",
      "divide 2\n",
      "inform 2\n",
      "i; 2\n",
      "valiant 2\n",
      "fortinbras; 2\n",
      "return'd 2\n",
      "full, 2\n",
      "lawless 2\n",
      "appear 2\n",
      "motive 2\n",
      "source 2\n",
      "figure 2\n",
      "armed 2\n",
      "watch; 2\n",
      "trouble 2\n",
      "mind's 2\n",
      "julius 2\n",
      "graves 2\n",
      "roman 2\n",
      "stars 2\n",
      "fire 2\n",
      "neptune's 2\n",
      "empire 2\n",
      "doomsday 2\n",
      "fates 2\n",
      "lo, 2\n",
      "blast 2\n",
      "stay, 2\n",
      "ease 2\n",
      "here! 2\n",
      "offer 2\n",
      "violence; 2\n",
      "blows 2\n",
      "malicious 2\n",
      "cock, 2\n",
      "morn, 2\n",
      "throat 2\n",
      "long: 2\n",
      "takes, 2\n",
      "walks 2\n",
      "dew 2\n",
      "advice, 2\n",
      "dumb 2\n",
      "consent 2\n",
      "needful 2\n",
      "loves, 2\n",
      "cornelius, 2\n",
      "lords, 2\n",
      "hearts 2\n",
      "kingdom 2\n",
      "brow 2\n",
      "woe, 2\n",
      "discretion 2\n",
      "remembrance 2\n",
      "sometime 2\n",
      "funeral 2\n",
      "marriage, 2\n",
      "equal 2\n",
      "scale 2\n",
      "taken 2\n",
      "freely 2\n",
      "affair 2\n",
      "follows, 2\n",
      "weak 2\n",
      "worth, 2\n",
      "frame, 2\n",
      "ourself 2\n",
      "is: 2\n",
      "nephew's 2\n",
      "suppress 2\n",
      "gait 2\n",
      "bearers 2\n",
      "duty. 2\n",
      "nothing: 2\n",
      "dane, 2\n",
      "loose 2\n",
      "beg, 2\n",
      "france; 2\n",
      "willingly 2\n",
      "denmark, 2\n",
      "france 2\n",
      "bow 2\n",
      "leave? 2\n",
      "hath, 2\n",
      "laertes; 2\n",
      "clouds 2\n",
      "know'st 2\n",
      "thee? 2\n",
      "madam! 2\n",
      "nay 2\n",
      "suits 2\n",
      "forced 2\n",
      "breath, 2\n",
      "visage, 2\n",
      "forms, 2\n",
      "grief, 2\n",
      "actions 2\n",
      "play: 2\n",
      "father: 2\n",
      "lost, 2\n",
      "obligation 2\n",
      "term 2\n",
      "grief; 2\n",
      "understanding 2\n",
      "opposition 2\n",
      "heart? 2\n",
      "theme 2\n",
      "fathers, 2\n",
      "corse 2\n",
      "died 2\n",
      "to-day, 2\n",
      "'this 2\n",
      "immediate 2\n",
      "dearest 2\n",
      "bears 2\n",
      "going 2\n",
      "wittenberg, 2\n",
      "remain 2\n",
      "courtier, 2\n",
      "prayers, 2\n",
      "smiling 2\n",
      "heart: 2\n",
      "melt 2\n",
      "world! 2\n",
      "earth! 2\n",
      "fed 2\n",
      "month, 2\n",
      "follow'd 2\n",
      "body, 2\n",
      "wants 2\n",
      "uncle, 2\n",
      "brother, 2\n",
      "salt 2\n",
      "left 2\n",
      "galled 2\n",
      "incestuous 2\n",
      "good: 2\n",
      "myself. 2\n",
      "friend; 2\n",
      "even, 2\n",
      "elsinore? 2\n",
      "baked 2\n",
      "coldly 2\n",
      "marriage 2\n",
      "where, 2\n",
      "once; 2\n",
      "who? 2\n",
      "father! 2\n",
      "witness 2\n",
      "middle 2\n",
      "appears 2\n",
      "secrecy 2\n",
      "third 2\n",
      "good, 2\n",
      "like. 2\n",
      "its 2\n",
      "motion, 2\n",
      "loud, 2\n",
      "true; 2\n",
      "sirs, 2\n",
      "arm'd, 2\n",
      "face? 2\n",
      "like, 2\n",
      "long? 2\n",
      "sable 2\n",
      "hitherto 2\n",
      "still; 2\n",
      "to-night, 2\n",
      "tongue: 2\n",
      "requite 2\n",
      "loves. 2\n",
      "'twixt 2\n",
      "soul: 2\n",
      "farewell: 2\n",
      "toy 2\n",
      "perfume 2\n",
      "wide 2\n",
      "soil 2\n",
      "weigh'd, 2\n",
      "fits 2\n",
      "weigh 2\n",
      "open 2\n",
      "affection, 2\n",
      "desire. 2\n",
      "prodigal 2\n",
      "enough, 2\n",
      "moon: 2\n",
      "canker 2\n",
      "disclosed, 2\n",
      "wary 2\n",
      "fear: 2\n",
      "keep, 2\n",
      "puff'd 2\n",
      "comes. 2\n",
      "aboard, 2\n",
      "shoulder 2\n",
      "sail, 2\n",
      "few 2\n",
      "precepts 2\n",
      "character. 2\n",
      "act. 2\n",
      "grapple 2\n",
      "palm 2\n",
      "beware 2\n",
      "opposed 2\n",
      "voice; 2\n",
      "judgment. 2\n",
      "purse 2\n",
      "proclaims 2\n",
      "station 2\n",
      "be; 2\n",
      "above 2\n",
      "true, 2\n",
      "follow, 2\n",
      "go; 2\n",
      "tenders 2\n",
      "think. 2\n",
      "honourable 2\n",
      "holy 2\n",
      "catch 2\n",
      "heat, 2\n",
      "maiden 2\n",
      "show, 2\n",
      "breathing 2\n",
      "plain 2\n",
      "terms, 2\n",
      "forth, 2\n",
      "moment 2\n",
      "leisure, 2\n",
      "talk 2\n",
      "ways. 2\n",
      "platform. 2\n",
      "eager 2\n",
      "air. 2\n",
      "draws 2\n",
      "held 2\n",
      "rhenish 2\n",
      "chances 2\n",
      "guilty, 2\n",
      "manners, 2\n",
      "stamp 2\n",
      "defect, 2\n",
      "nature's 2\n",
      "livery, 2\n",
      "virtues 2\n",
      "pure 2\n",
      "substance 2\n",
      "angels 2\n",
      "damn'd, 2\n",
      "comest 2\n",
      "thee: 2\n",
      "dane: 2\n",
      "moon, 2\n",
      "horridly 2\n",
      "shake 2\n",
      "beyond 2\n",
      "beckons 2\n",
      "alone. 2\n",
      "means. 2\n",
      "again: 2\n",
      "summit 2\n",
      "sea, 2\n",
      "form, 2\n",
      "brain 2\n",
      "on; 2\n",
      "ruled; 2\n",
      "petty 2\n",
      "follow; 2\n",
      "after. 2\n",
      "issue 2\n",
      "rotten 2\n",
      "v. 2\n",
      "flames 2\n",
      "what? 2\n",
      "fast 2\n",
      "forbid 2\n",
      "stars, 2\n",
      "eternal 2\n",
      "unnatural 2\n",
      "murder. 2\n",
      "murder! 2\n",
      "foul, 2\n",
      "swift 2\n",
      "sweep 2\n",
      "revenge. 2\n",
      "shouldst 2\n",
      "orchard, 2\n",
      "serpent 2\n",
      "forged 2\n",
      "sting 2\n",
      "wears 2\n",
      "incestuous, 2\n",
      "witchcraft 2\n",
      "wit 2\n",
      "there! 2\n",
      "vow 2\n",
      "gifts 2\n",
      "virtue, 2\n",
      "celestial 2\n",
      "brief 2\n",
      "secure 2\n",
      "stole, 2\n",
      "mine; 2\n",
      "about, 2\n",
      "smooth 2\n",
      "cut 2\n",
      "head: 2\n",
      "couch 2\n",
      "contrive 2\n",
      "bosom 2\n",
      "adieu, 2\n",
      "heaven! 2\n",
      "distracted 2\n",
      "table 2\n",
      "wipe 2\n",
      "fond 2\n",
      "brain, 2\n",
      "baser 2\n",
      "villain, 2\n",
      "smile, 2\n",
      "villain; 2\n",
      "denmark: 2\n",
      "are. 2\n",
      "hamlet,-- 2\n",
      "hillo, 2\n",
      "boy! 2\n",
      "no; 2\n",
      "arrant 2\n",
      "knave. 2\n",
      "right; 2\n",
      "pray. 2\n",
      "wild 2\n",
      "sorry 2\n",
      "may. 2\n",
      "faith. 2\n",
      "already. 2\n",
      "ha, 2\n",
      "oath, 2\n",
      "fast? 2\n",
      "never, 2\n",
      "odd 2\n",
      "seeing 2\n",
      "could, 2\n",
      "rest, 2\n",
      "willing, 2\n",
      "money 2\n",
      "marvellous 2\n",
      "inquire 2\n",
      "said; 2\n",
      "said. 2\n",
      "finding 2\n",
      "nearer 2\n",
      "'twere, 2\n",
      "if't 2\n",
      "wild; 2\n",
      "please; 2\n",
      "dishonour 2\n",
      "heed 2\n",
      "gaming, 2\n",
      "swearing, 2\n",
      "faults 2\n",
      "wherefore 2\n",
      "believe, 2\n",
      "fetch 2\n",
      "laying 2\n",
      "having 2\n",
      "closes 2\n",
      "'good 2\n",
      "according 2\n",
      "say? 2\n",
      "'closes 2\n",
      "consequence,' 2\n",
      "so,' 2\n",
      "a' 2\n",
      "former 2\n",
      "inclination 2\n",
      "music. 2\n",
      "god? 2\n",
      "closet, 2\n",
      "other; 2\n",
      "love? 2\n",
      "truly, 2\n",
      "he? 2\n",
      "length 2\n",
      "so; 2\n",
      "arm 2\n",
      "sigh 2\n",
      "profound 2\n",
      "go: 2\n",
      "seem'd 2\n",
      "eyes; 2\n",
      "command, 2\n",
      "fetters 2\n",
      "mad. 2\n",
      "proper 2\n",
      "discretion. 2\n",
      "himself, 2\n",
      "time: 2\n",
      "gather, 2\n",
      "aught, 2\n",
      "unknown, 2\n",
      "talk'd 2\n",
      "living 2\n",
      "profit 2\n",
      "hope, 2\n",
      "visitation 2\n",
      "thanks 2\n",
      "majesties 2\n",
      "might, 2\n",
      "bent 2\n",
      "rosencrantz: 2\n",
      "presence 2\n",
      "ambassadors 2\n",
      "liege, 2\n",
      "trail 2\n",
      "fruit 2\n",
      "friends! 2\n",
      "first, 2\n",
      "brief, 2\n",
      "assay 2\n",
      "commission 2\n",
      "allowance 2\n",
      "business. 2\n",
      "feast 2\n",
      "outward 2\n",
      "mad: 2\n",
      "mad? 2\n",
      "art. 2\n",
      "then: 2\n",
      "remains 2\n",
      "thus. 2\n",
      "obedience, 2\n",
      "these, 2\n",
      "best, 2\n",
      "faithful 2\n",
      "prove 2\n",
      "idle 2\n",
      "mistress 2\n",
      "prince, 2\n",
      "lock 2\n",
      "admit 2\n",
      "proved 2\n",
      "know. 2\n",
      "lobby. 2\n",
      "fall'n 2\n",
      "farm 2\n",
      "away: 2\n",
      "honest, 2\n",
      "goes, 2\n",
      "picked 2\n",
      "first; 2\n",
      "love; 2\n",
      "rogue 2\n",
      "purging 2\n",
      "thick 2\n",
      "am, 2\n",
      "grave. 2\n",
      "pregnant 2\n",
      "often 2\n",
      "withal: 2\n",
      "tedious 2\n",
      "[to 2\n",
      "sir! 2\n",
      "cap 2\n",
      "news? 2\n",
      "none, 2\n",
      "prison 2\n",
      "hither? 2\n",
      "prison. 2\n",
      "one; 2\n",
      "bad, 2\n",
      "shell 2\n",
      "dreams 2\n",
      "shadow. 2\n",
      "wait 2\n",
      "beggar 2\n",
      "for? 2\n",
      "purpose. 2\n",
      "rights 2\n",
      "off. 2\n",
      "brave 2\n",
      "pestilent 2\n",
      "delights 2\n",
      "woman 2\n",
      "stuff 2\n",
      "thoughts. 2\n",
      "hither 2\n",
      "service. 2\n",
      "tribute 2\n",
      "wonted 2\n",
      "question, 2\n",
      "rapiers 2\n",
      "scarce 2\n",
      "'em? 2\n",
      "pursue 2\n",
      "while, 2\n",
      "argument, 2\n",
      "question. 2\n",
      "possible? 2\n",
      "hercules 2\n",
      "ducats 2\n",
      "little. 2\n",
      "'sblood, 2\n",
      "trumpets 2\n",
      "comply 2\n",
      "yours. 2\n",
      "deceived. 2\n",
      "prophesy 2\n",
      "right, 2\n",
      "actor 2\n",
      "actors 2\n",
      "tragedy, 2\n",
      "comedy, 2\n",
      "heavy, 2\n",
      "jephthah, 2\n",
      "judge 2\n",
      "five 2\n",
      "by'r 2\n",
      "masters, 2\n",
      "straight: 2\n",
      "passionate 2\n",
      "remember, 2\n",
      "pleased 2\n",
      "judgments 2\n",
      "cried 2\n",
      "author 2\n",
      "especially, 2\n",
      "rugged 2\n",
      "pyrrhus, 2\n",
      "begins 2\n",
      "dismal; 2\n",
      "priam 2\n",
      "accent 2\n",
      "antique 2\n",
      "rebellious 2\n",
      "falls, 2\n",
      "wide; 2\n",
      "senseless 2\n",
      "seeming 2\n",
      "flaming 2\n",
      "stoops 2\n",
      "base, 2\n",
      "painted 2\n",
      "stood, 2\n",
      "heavens, 2\n",
      "below 2\n",
      "sets 2\n",
      "new 2\n",
      "spokes 2\n",
      "wheel, 2\n",
      "mobled 2\n",
      "diadem 2\n",
      "caught 2\n",
      "husband's 2\n",
      "burning 2\n",
      "epitaph 2\n",
      "better: 2\n",
      "'scape 2\n",
      "merit 2\n",
      "peasant 2\n",
      "i! 2\n",
      "force 2\n",
      "have? 2\n",
      "stage 2\n",
      "horrid 2\n",
      "free, 2\n",
      "confound 2\n",
      "defeat 2\n",
      "plucks 2\n",
      "'swounds, 2\n",
      "gall 2\n",
      "must, 2\n",
      "creatures 2\n",
      "presently 2\n",
      "murder, 2\n",
      "organ. 2\n",
      "uncle: 2\n",
      "looks; 2\n",
      "potent 2\n",
      "spirits, 2\n",
      "well? 2\n",
      "him? 2\n",
      "already 2\n",
      "order 2\n",
      "content 2\n",
      "drive 2\n",
      "ophelia: 2\n",
      "frankly 2\n",
      "affliction 2\n",
      "happy 2\n",
      "here. 2\n",
      "read 2\n",
      "exercise 2\n",
      "blame 2\n",
      "this,-- 2\n",
      "withdraw, 2\n",
      "sleep; 2\n",
      "pause: 2\n",
      "respect 2\n",
      "life; 2\n",
      "whips 2\n",
      "proud 2\n",
      "spurns 2\n",
      "patient 2\n",
      "unworthy 2\n",
      "sweat 2\n",
      "country 2\n",
      "currents 2\n",
      "sooner 2\n",
      "proof. 2\n",
      "once. 2\n",
      "relish 2\n",
      "heaven? 2\n",
      "where's 2\n",
      "father? 2\n",
      "snow, 2\n",
      "escape 2\n",
      "marry 2\n",
      "heavenly 2\n",
      "face, 2\n",
      "another: 2\n",
      "sword; 2\n",
      "glass 2\n",
      "wretched, 2\n",
      "music 2\n",
      "vows, 2\n",
      "tune 2\n",
      "tend; 2\n",
      "madness. 2\n",
      "demand 2\n",
      "neglected 2\n",
      "haply 2\n",
      "variable 2\n",
      "expel 2\n",
      "brains 2\n",
      "ones 2\n",
      "hall 2\n",
      "mouth 2\n",
      "tear 2\n",
      "avoid 2\n",
      "suit 2\n",
      "word, 2\n",
      "playing, 2\n",
      "tardy 2\n",
      "laugh, 2\n",
      "though, 2\n",
      "necessary 2\n",
      "just 2\n",
      "hear? 2\n",
      "guilt 2\n",
      "join 2\n",
      "play; 2\n",
      "march. 2\n",
      "fares 2\n",
      "mine. 2\n",
      "played 2\n",
      "killed 2\n",
      "capital 2\n",
      "patience. 2\n",
      "lap? 2\n",
      "cheerfully 2\n",
      "die 2\n",
      "year: 2\n",
      "asleep, 2\n",
      "leaves 2\n",
      "kisses 2\n",
      "pours 2\n",
      "wash 2\n",
      "twelve 2\n",
      "great, 2\n",
      "fears 2\n",
      "powers 2\n",
      "rest! 2\n",
      "fall, 2\n",
      "accident. 2\n",
      "fortunes 2\n",
      "fortune 2\n",
      "enemies. 2\n",
      "want 2\n",
      "directly 2\n",
      "enemy. 2\n",
      "ours, 2\n",
      "trust 2\n",
      "mischance 2\n",
      "play? 2\n",
      "she'll 2\n",
      "word. 2\n",
      "jest, 2\n",
      "knavish 2\n",
      "souls, 2\n",
      "lucianus 2\n",
      "cost 2\n",
      "come: 2\n",
      "creature 2\n",
      "weeds 2\n",
      "for's 2\n",
      "estate. 2\n",
      "murderer 2\n",
      "lights, 2\n",
      "weep, 2\n",
      "runs 2\n",
      "jove 2\n",
      "music! 2\n",
      "recorders! 2\n",
      "choler. 2\n",
      "richer 2\n",
      "signify 2\n",
      "frame 2\n",
      "wildly 2\n",
      "tame, 2\n",
      "command; 2\n",
      "rather, 2\n",
      "mother: 2\n",
      "amazement 2\n",
      "mother! 2\n",
      "desires 2\n",
      "deny 2\n",
      "bold, 2\n",
      "pipe? 2\n",
      "instrument 2\n",
      "yonder 2\n",
      "weasel. 2\n",
      "tis 2\n",
      "world: 2\n",
      "cruel, 2\n",
      "safe 2\n",
      "single 2\n",
      "bound, 2\n",
      "strength 2\n",
      "cease 2\n",
      "sigh, 2\n",
      "process; 2\n",
      "home: 2\n",
      "serves 2\n",
      "offence? 2\n",
      "prayer 2\n",
      "pardon'd 2\n",
      "serve 2\n",
      "queen. 2\n",
      "shuffling, 2\n",
      "forehead 2\n",
      "wretched 2\n",
      "soft 2\n",
      "kills 2\n",
      "broad 2\n",
      "pleasure 2\n",
      "sickly 2\n",
      "home 2\n",
      "with, 2\n",
      "heat 2\n",
      "sconce 2\n",
      "forgot 2\n",
      "[behind] 2\n",
      "done? 2\n",
      "deed! 2\n",
      "rash, 2\n",
      "peace! 2\n",
      "sense. 2\n",
      "rude 2\n",
      "seal, 2\n",
      "assurance 2\n",
      "man: 2\n",
      "eyes? 2\n",
      "it's 2\n",
      "step 2\n",
      "difference. 2\n",
      "was't 2\n",
      "feeling 2\n",
      "proclaim 2\n",
      "charge, 2\n",
      "burn 2\n",
      "corruption, 2\n",
      "precedent 2\n",
      "precious 2\n",
      "lady? 2\n",
      "end. 2\n",
      "flame 2\n",
      "convert 2\n",
      "unction 2\n",
      "spread 2\n",
      "weeds, 2\n",
      "devil, 2\n",
      "scourge 2\n",
      "worse 2\n",
      "wanton 2\n",
      "pair 2\n",
      "neck 2\n",
      "basket 2\n",
      "ape, 2\n",
      "blow 2\n",
      "guts 2\n",
      "wind, 2\n",
      "'a 2\n",
      "providence 2\n",
      "chapel. 2\n",
      "friends; 2\n",
      "sponge, 2\n",
      "dry 2\n",
      "judgment, 2\n",
      "without, 2\n",
      "where? 2\n",
      "worm 2\n",
      "fish 2\n",
      "cat 2\n",
      "england. 2\n",
      "captain, 2\n",
      "promised 2\n",
      "kingdom. 2\n",
      "fortinbras. 2\n",
      "poland, 2\n",
      "gain 2\n",
      "patch 2\n",
      "ground 2\n",
      "yield 2\n",
      "polack 2\n",
      "event, 2\n",
      "delicate 2\n",
      "trick 2\n",
      "fight 2\n",
      "continent 2\n",
      "gone; 2\n",
      "larded 2\n",
      "flowers 2\n",
      "pretty 2\n",
      "this; 2\n",
      "ask 2\n",
      "blame. 2\n",
      "thus? 2\n",
      "cold 2\n",
      "ladies; 2\n",
      "next, 2\n",
      "death; 2\n",
      "wonder, 2\n",
      "stick 2\n",
      "person 2\n",
      "door. 2\n",
      "head, 2\n",
      "tongues, 2\n",
      "calm 2\n",
      "divinity 2\n",
      "would, 2\n",
      "incensed. 2\n",
      "wits 2\n",
      "hey 2\n",
      "nonny, 2\n",
      "rue 2\n",
      "again? 2\n",
      "right. 2\n",
      "sailors, 2\n",
      "sailor 2\n",
      "ambassador 2\n",
      "got 2\n",
      "repair 2\n",
      "knowing 2\n",
      "she's 2\n",
      "moves 2\n",
      "sister 2\n",
      "that: 2\n",
      "hearing, 2\n",
      "envy 2\n",
      "since, 2\n",
      "i've 2\n",
      "rapier 2\n",
      "begun 2\n",
      "excellence 2\n",
      "ease, 2\n",
      "drown'd, 2\n",
      "liberal 2\n",
      "name, 2\n",
      "sat 2\n",
      "drowned 2\n",
      "gentleman? 2\n",
      "dig 2\n",
      "builds 2\n",
      "mason, 2\n",
      "shipwright, 2\n",
      "tell. 2\n",
      "to't. 2\n",
      "throws 2\n",
      "praised 2\n",
      "spade, 2\n",
      "pit 2\n",
      "clay 2\n",
      "guest 2\n",
      "fines, 2\n",
      "liest 2\n",
      "lie, 2\n",
      "woman, 2\n",
      "absolute 2\n",
      "is! 2\n",
      "years. 2\n",
      "nine 2\n",
      "whoreson 2\n",
      "skull, 2\n",
      "trace 2\n",
      "consider 2\n",
      "turn'd 2\n",
      "priest, 2\n",
      "ceremony 2\n",
      "priest 2\n",
      "thrown 2\n",
      "treble 2\n",
      "leaps 2\n",
      "hand. 2\n",
      "thou'lt 2\n",
      "madness: 2\n",
      "plots 2\n",
      "less, 2\n",
      "placed 2\n",
      "quit 2\n",
      "here? 2\n",
      "all's 2\n",
      "did, 2\n",
      "barbary 2\n",
      "assigns, 2\n",
      "trial, 2\n",
      "hall: 2\n",
      "foils 2\n",
      "win 2\n",
      "osric, 2\n",
      "odds. 2\n",
      "foils, 2\n",
      "wrong 2\n",
      "embrace 2\n",
      "laertes: 2\n",
      "hit, 2\n",
      "union 2\n",
      "drink. 2\n",
      "cup: 2\n",
      "wounds 2\n",
      "treason! 2\n",
      "tragedy 1\n",
      "shakespeare 1\n",
      "homepage 1\n",
      "entire 1\n",
      "post. 1\n",
      "bernardo? 1\n",
      "carefully 1\n",
      "hour. 1\n",
      "twelve; 1\n",
      "francisco. 1\n",
      "relief 1\n",
      "guard? 1\n",
      "mouse 1\n",
      "stirring. 1\n",
      "rivals 1\n",
      "liegemen 1\n",
      "soldier: 1\n",
      "relieved 1\n",
      "holla! 1\n",
      "bernardo! 1\n",
      "fantasy, 1\n",
      "belief 1\n",
      "dreaded 1\n",
      "us: 1\n",
      "entreated 1\n",
      "minutes 1\n",
      "night; 1\n",
      "appear. 1\n",
      "assail 1\n",
      "fortified 1\n",
      "seen. 1\n",
      "yond 1\n",
      "westward 1\n",
      "illume 1\n",
      "one,-- 1\n",
      "off; 1\n",
      "figure, 1\n",
      "scholar; 1\n",
      "like: 1\n",
      "harrows 1\n",
      "wonder. 1\n",
      "usurp'st 1\n",
      "march? 1\n",
      "stalks 1\n",
      "stay! 1\n",
      "pale: 1\n",
      "fantasy? 1\n",
      "avouch 1\n",
      "thyself: 1\n",
      "combated; 1\n",
      "frown'd 1\n",
      "when, 1\n",
      "angry 1\n",
      "parle, 1\n",
      "smote 1\n",
      "sledded 1\n",
      "polacks 1\n",
      "ice. 1\n",
      "martial 1\n",
      "stalk 1\n",
      "watch. 1\n",
      "opinion, 1\n",
      "bodes 1\n",
      "eruption 1\n",
      "observant 1\n",
      "nightly 1\n",
      "toils 1\n",
      "daily 1\n",
      "brazen 1\n",
      "cannon, 1\n",
      "foreign 1\n",
      "mart 1\n",
      "implements 1\n",
      "war; 1\n",
      "impress 1\n",
      "shipwrights, 1\n",
      "task 1\n",
      "sunday 1\n",
      "week; 1\n",
      "toward, 1\n",
      "sweaty 1\n",
      "joint-labourer 1\n",
      "day: 1\n",
      "least, 1\n",
      "whisper 1\n",
      "thereto 1\n",
      "prick'd 1\n",
      "emulate 1\n",
      "pride, 1\n",
      "dared 1\n",
      "combat; 1\n",
      "hamlet-- 1\n",
      "side 1\n",
      "esteem'd 1\n",
      "him-- 1\n",
      "slay 1\n",
      "compact, 1\n",
      "ratified 1\n",
      "heraldry, 1\n",
      "forfeit, 1\n",
      "seized 1\n",
      "of, 1\n",
      "conqueror: 1\n",
      "moiety 1\n",
      "competent 1\n",
      "gaged 1\n",
      "inheritance 1\n",
      "vanquisher; 1\n",
      "covenant, 1\n",
      "carriage 1\n",
      "article 1\n",
      "design'd, 1\n",
      "unimproved 1\n",
      "mettle 1\n",
      "skirts 1\n",
      "shark'd 1\n",
      "resolutes, 1\n",
      "food 1\n",
      "diet, 1\n",
      "enterprise 1\n",
      "stomach 1\n",
      "other-- 1\n",
      "state-- 1\n",
      "compulsatory, 1\n",
      "foresaid 1\n",
      "lost: 1\n",
      "preparations, 1\n",
      "post-haste 1\n",
      "romage 1\n",
      "land. 1\n",
      "portentous 1\n",
      "wars. 1\n",
      "mote 1\n",
      "palmy 1\n",
      "rome, 1\n",
      "mightiest 1\n",
      "fell, 1\n",
      "tenantless 1\n",
      "sheeted 1\n",
      "squeak 1\n",
      "gibber 1\n",
      "streets: 1\n",
      "trains 1\n",
      "dews 1\n",
      "disasters 1\n",
      "sun; 1\n",
      "moist 1\n",
      "influence 1\n",
      "eclipse: 1\n",
      "precurse 1\n",
      "fierce 1\n",
      "events, 1\n",
      "harbingers 1\n",
      "preceding 1\n",
      "omen 1\n",
      "demonstrated 1\n",
      "climatures 1\n",
      "countrymen.-- 1\n",
      "soft, 1\n",
      "behold! 1\n",
      "cross 1\n",
      "illusion! 1\n",
      "crows 1\n",
      "privy 1\n",
      "country's 1\n",
      "fate, 1\n",
      "happily, 1\n",
      "foreknowing 1\n",
      "avoid, 1\n",
      "uphoarded 1\n",
      "extorted 1\n",
      "womb 1\n",
      "strike 1\n",
      "partisan? 1\n",
      "stand. 1\n",
      "gone! 1\n",
      "majestical, 1\n",
      "invulnerable, 1\n",
      "vain 1\n",
      "mockery. 1\n",
      "crew. 1\n",
      "started 1\n",
      "fearful 1\n",
      "summons. 1\n",
      "lofty 1\n",
      "shrill-sounding 1\n",
      "awake 1\n",
      "day; 1\n",
      "warning, 1\n",
      "extravagant 1\n",
      "erring 1\n",
      "hies 1\n",
      "confine: 1\n",
      "object 1\n",
      "probation. 1\n",
      "faded 1\n",
      "crowing 1\n",
      "cock. 1\n",
      "saviour's 1\n",
      "birth 1\n",
      "celebrated, 1\n",
      "bird 1\n",
      "dawning 1\n",
      "singeth 1\n",
      "dares 1\n",
      "abroad; 1\n",
      "wholesome; 1\n",
      "planets 1\n",
      "strike, 1\n",
      "fairy 1\n",
      "witch 1\n",
      "charm, 1\n",
      "hallow'd 1\n",
      "russet 1\n",
      "mantle 1\n",
      "clad, 1\n",
      "yon 1\n",
      "eastward 1\n",
      "hill: 1\n",
      "acquaint 1\n",
      "fitting 1\n",
      "duty? 1\n",
      "pray; 1\n",
      "conveniently. 1\n",
      "green, 1\n",
      "befitted 1\n",
      "contracted 1\n",
      "fought 1\n",
      "imperial 1\n",
      "jointress 1\n",
      "we, 1\n",
      "defeated 1\n",
      "joy,-- 1\n",
      "auspicious 1\n",
      "dropping 1\n",
      "mirth 1\n",
      "dirge 1\n",
      "weighing 1\n",
      "dole,-- 1\n",
      "wife: 1\n",
      "barr'd 1\n",
      "wisdoms, 1\n",
      "along. 1\n",
      "thanks. 1\n",
      "holding 1\n",
      "supposal 1\n",
      "disjoint 1\n",
      "colleagued 1\n",
      "advantage, 1\n",
      "fail'd 1\n",
      "pester 1\n",
      "message, 1\n",
      "surrender 1\n",
      "bonds 1\n",
      "law, 1\n",
      "meeting: 1\n",
      "fortinbras,-- 1\n",
      "impotent 1\n",
      "bed-rid, 1\n",
      "scarcely 1\n",
      "purpose,--to 1\n",
      "herein; 1\n",
      "levies, 1\n",
      "lists 1\n",
      "proportions, 1\n",
      "subject: 1\n",
      "dispatch 1\n",
      "greeting 1\n",
      "norway; 1\n",
      "personal 1\n",
      "delated 1\n",
      "articles 1\n",
      "allow. 1\n",
      "heartily 1\n",
      "suit; 1\n",
      "voice: 1\n",
      "offer, 1\n",
      "asking? 1\n",
      "instrumental 1\n",
      "throne 1\n",
      "whence 1\n",
      "coronation, 1\n",
      "confess, 1\n",
      "wishes 1\n",
      "pardon. 1\n",
      "wrung 1\n",
      "laboursome 1\n",
      "petition, 1\n",
      "consent: 1\n",
      "graces 1\n",
      "spend 1\n",
      "will! 1\n",
      "son,-- 1\n",
      "kin, 1\n",
      "kind. 1\n",
      "sun. 1\n",
      "nighted 1\n",
      "vailed 1\n",
      "lids 1\n",
      "dust: 1\n",
      "common; 1\n",
      "eternity. 1\n",
      "common. 1\n",
      "seems, 1\n",
      "'seems.' 1\n",
      "inky 1\n",
      "cloak, 1\n",
      "customary 1\n",
      "windy 1\n",
      "suspiration 1\n",
      "fruitful 1\n",
      "river 1\n",
      "dejected 1\n",
      "'havior 1\n",
      "moods, 1\n",
      "denote 1\n",
      "truly: 1\n",
      "seem, 1\n",
      "passeth 1\n",
      "show; 1\n",
      "trappings 1\n",
      "woe. 1\n",
      "commendable 1\n",
      "mourning 1\n",
      "duties 1\n",
      "his, 1\n",
      "survivor 1\n",
      "filial 1\n",
      "obsequious 1\n",
      "sorrow: 1\n",
      "persever 1\n",
      "obstinate 1\n",
      "condolement 1\n",
      "impious 1\n",
      "stubbornness; 1\n",
      "unmanly 1\n",
      "incorrect 1\n",
      "unfortified, 1\n",
      "impatient, 1\n",
      "simple 1\n",
      "unschool'd: 1\n",
      "vulgar 1\n",
      "peevish 1\n",
      "absurd: 1\n",
      "cried, 1\n",
      "so.' 1\n",
      "unprevailing 1\n",
      "note, 1\n",
      "throne; 1\n",
      "nobility 1\n",
      "intent 1\n",
      "school 1\n",
      "retrograde 1\n",
      "desire: 1\n",
      "comfort 1\n",
      "chiefest 1\n",
      "cousin, 1\n",
      "us; 1\n",
      "wittenberg. 1\n",
      "madam. 1\n",
      "reply: 1\n",
      "unforced 1\n",
      "accord 1\n",
      "whereof, 1\n",
      "jocund 1\n",
      "drinks 1\n",
      "tell, 1\n",
      "rouse 1\n",
      "bruit 1\n",
      "re-speaking 1\n",
      "earthly 1\n",
      "thunder. 1\n",
      "solid 1\n",
      "thaw 1\n",
      "resolve 1\n",
      "dew! 1\n",
      "everlasting 1\n",
      "canon 1\n",
      "self-slaughter! 1\n",
      "weary, 1\n",
      "stale, 1\n",
      "unprofitable, 1\n",
      "on't! 1\n",
      "ah 1\n",
      "unweeded 1\n",
      "garden, 1\n",
      "seed; 1\n",
      "possess 1\n",
      "merely. 1\n",
      "two: 1\n",
      "hyperion 1\n",
      "satyr; 1\n",
      "beteem 1\n",
      "roughly. 1\n",
      "remember? 1\n",
      "increase 1\n",
      "appetite 1\n",
      "month-- 1\n",
      "on't--frailty, 1\n",
      "woman!-- 1\n",
      "shoes 1\n",
      "niobe, 1\n",
      "tears:--why 1\n",
      "she-- 1\n",
      "mourn'd 1\n",
      "longer--married 1\n",
      "hercules: 1\n",
      "month: 1\n",
      "unrighteous 1\n",
      "flushing 1\n",
      "married. 1\n",
      "speed, 1\n",
      "post 1\n",
      "dexterity 1\n",
      "sheets! 1\n",
      "break, 1\n",
      "hail 1\n",
      "lordship! 1\n",
      "horatio,--or 1\n",
      "same, 1\n",
      "ever. 1\n",
      "horatio? 1\n",
      "marcellus? 1\n",
      "lord-- 1\n",
      "wittenberg? 1\n",
      "truant 1\n",
      "disposition, 1\n",
      "enemy 1\n",
      "violence, 1\n",
      "truster 1\n",
      "yourself: 1\n",
      "truant. 1\n",
      "depart. 1\n",
      "funeral. 1\n",
      "fellow-student; 1\n",
      "wedding. 1\n",
      "upon. 1\n",
      "meats 1\n",
      "furnish 1\n",
      "tables. 1\n",
      "met 1\n",
      "foe 1\n",
      "father!--methinks 1\n",
      "yesternight. 1\n",
      "saw? 1\n",
      "admiration 1\n",
      "attent 1\n",
      "deliver, 1\n",
      "marvel 1\n",
      "bernardo, 1\n",
      "vast 1\n",
      "encounter'd. 1\n",
      "exactly, 1\n",
      "cap-a-pe, 1\n",
      "stately 1\n",
      "walk'd 1\n",
      "oppress'd 1\n",
      "fear-surprised 1\n",
      "truncheon's 1\n",
      "length; 1\n",
      "they, 1\n",
      "distilled 1\n",
      "jelly 1\n",
      "deliver'd, 1\n",
      "comes: 1\n",
      "watch'd. 1\n",
      "none: 1\n",
      "lifted 1\n",
      "address 1\n",
      "crew 1\n",
      "shrunk 1\n",
      "vanish'd 1\n",
      "sight. 1\n",
      "live, 1\n",
      "troubles 1\n",
      "toe? 1\n",
      "foot. 1\n",
      "wore 1\n",
      "beaver 1\n",
      "frowningly? 1\n",
      "anger. 1\n",
      "red? 1\n",
      "pale. 1\n",
      "constantly. 1\n",
      "amazed 1\n",
      "moderate 1\n",
      "hundred. 1\n",
      "longer, 1\n",
      "longer. 1\n",
      "saw't. 1\n",
      "grizzled--no? 1\n",
      "silver'd. 1\n",
      "to-night; 1\n",
      "person, 1\n",
      "gape 1\n",
      "conceal'd 1\n",
      "tenable 1\n",
      "whatsoever 1\n",
      "hap 1\n",
      "understanding, 1\n",
      "platform, 1\n",
      "eleven 1\n",
      "twelve, 1\n",
      "arms! 1\n",
      "come! 1\n",
      "deeds 1\n",
      "rise, 1\n",
      "o'erwhelm 1\n",
      "necessaries 1\n",
      "embark'd: 1\n",
      "benefit 1\n",
      "convoy 1\n",
      "assistant, 1\n",
      "sleep, 1\n",
      "trifling 1\n",
      "favour, 1\n",
      "violet 1\n",
      "primy 1\n",
      "forward, 1\n",
      "permanent, 1\n",
      "lasting, 1\n",
      "suppliance 1\n",
      "minute; 1\n",
      "crescent, 1\n",
      "thews 1\n",
      "bulk, 1\n",
      "temple 1\n",
      "waxes, 1\n",
      "cautel 1\n",
      "besmirch 1\n",
      "greatness 1\n",
      "own; 1\n",
      "birth: 1\n",
      "unvalued 1\n",
      "persons 1\n",
      "carve 1\n",
      "depends 1\n",
      "state; 1\n",
      "circumscribed 1\n",
      "yielding 1\n",
      "whereof 1\n",
      "saying 1\n",
      "deed; 1\n",
      "loss 1\n",
      "sustain, 1\n",
      "credent 1\n",
      "songs, 1\n",
      "unmaster'd 1\n",
      "importunity. 1\n",
      "rear 1\n",
      "chariest 1\n",
      "unmask 1\n",
      "'scapes 1\n",
      "calumnious 1\n",
      "strokes: 1\n",
      "galls 1\n",
      "infants 1\n",
      "spring, 1\n",
      "buttons 1\n",
      "morn 1\n",
      "liquid 1\n",
      "contagious 1\n",
      "blastments 1\n",
      "imminent. 1\n",
      "rebels, 1\n",
      "near. 1\n",
      "lesson 1\n",
      "watchman 1\n",
      "ungracious 1\n",
      "pastors 1\n",
      "steep 1\n",
      "thorny 1\n",
      "whiles, 1\n",
      "reckless 1\n",
      "libertine, 1\n",
      "primrose 1\n",
      "path 1\n",
      "dalliance 1\n",
      "treads, 1\n",
      "recks 1\n",
      "rede. 1\n",
      "smiles 1\n",
      "laertes! 1\n",
      "unproportioned 1\n",
      "familiar, 1\n",
      "vulgar. 1\n",
      "hast, 1\n",
      "adoption 1\n",
      "tried, 1\n",
      "hoops 1\n",
      "steel; 1\n",
      "new-hatch'd, 1\n",
      "unfledged 1\n",
      "comrade. 1\n",
      "entrance 1\n",
      "quarrel, 1\n",
      "bear't 1\n",
      "censure, 1\n",
      "reserve 1\n",
      "costly 1\n",
      "buy, 1\n",
      "express'd 1\n",
      "fancy; 1\n",
      "rich, 1\n",
      "gaudy; 1\n",
      "apparel 1\n",
      "select 1\n",
      "borrower 1\n",
      "lender 1\n",
      "loan 1\n",
      "loses 1\n",
      "borrowing 1\n",
      "dulls 1\n",
      "edge 1\n",
      "husbandry. 1\n",
      "ownself 1\n",
      "leave, 1\n",
      "invites 1\n",
      "servants 1\n",
      "tend. 1\n",
      "ophelia; 1\n",
      "lock'd, 1\n",
      "key 1\n",
      "bethought: 1\n",
      "private 1\n",
      "bounteous: 1\n",
      "caution, 1\n",
      "clearly 1\n",
      "behoves 1\n",
      "truth. 1\n",
      "affection 1\n",
      "affection! 1\n",
      "pooh! 1\n",
      "green 1\n",
      "girl, 1\n",
      "unsifted 1\n",
      "perilous 1\n",
      "circumstance. 1\n",
      "tenders, 1\n",
      "baby; 1\n",
      "pay, 1\n",
      "sterling. 1\n",
      "dearly; 1\n",
      "or--not 1\n",
      "crack 1\n",
      "running 1\n",
      "thus--you'll 1\n",
      "fool. 1\n",
      "importuned 1\n",
      "fashion. 1\n",
      "vows 1\n",
      "springes 1\n",
      "woodcocks. 1\n",
      "lends 1\n",
      "vows: 1\n",
      "blazes, 1\n",
      "daughter, 1\n",
      "extinct 1\n",
      "promise, 1\n",
      "a-making, 1\n",
      "fire. 1\n",
      "somewhat 1\n",
      "scanter 1\n",
      "presence; 1\n",
      "entreatments 1\n",
      "higher 1\n",
      "rate 1\n",
      "parley. 1\n",
      "larger 1\n",
      "tether 1\n",
      "few, 1\n",
      "vows; 1\n",
      "brokers, 1\n",
      "dye 1\n",
      "investments 1\n",
      "implorators 1\n",
      "unholy 1\n",
      "suits, 1\n",
      "sanctified 1\n",
      "bawds, 1\n",
      "beguile. 1\n",
      "slander 1\n",
      "to't, 1\n",
      "bites 1\n",
      "shrewdly; 1\n",
      "cold. 1\n",
      "nipping 1\n",
      "lacks 1\n",
      "twelve. 1\n",
      "struck. 1\n",
      "indeed? 1\n",
      "walk. 1\n",
      "trumpets, 1\n",
      "wake 1\n",
      "rouse, 1\n",
      "wassail, 1\n",
      "swaggering 1\n",
      "up-spring 1\n",
      "reels; 1\n",
      "drains 1\n",
      "draughts 1\n",
      "kettle-drum 1\n",
      "bray 1\n",
      "triumph 1\n",
      "pledge. 1\n",
      "custom? 1\n",
      "is't: 1\n",
      "manner 1\n",
      "born, 1\n",
      "breach 1\n",
      "observance. 1\n",
      "heavy-headed 1\n",
      "revel 1\n",
      "east 1\n",
      "west 1\n",
      "traduced 1\n",
      "tax'd 1\n",
      "nations: 1\n",
      "clepe 1\n",
      "drunkards, 1\n",
      "swinish 1\n",
      "addition; 1\n",
      "achievements, 1\n",
      "perform'd 1\n",
      "height, 1\n",
      "marrow 1\n",
      "attribute. 1\n",
      "vicious 1\n",
      "mole 1\n",
      "birth--wherein 1\n",
      "origin-- 1\n",
      "o'ergrowth 1\n",
      "complexion, 1\n",
      "breaking 1\n",
      "pales 1\n",
      "forts 1\n",
      "o'er-leavens 1\n",
      "plausive 1\n",
      "carrying, 1\n",
      "star,-- 1\n",
      "else--be 1\n",
      "undergo-- 1\n",
      "corruption 1\n",
      "fault: 1\n",
      "dram 1\n",
      "eale 1\n",
      "scandal. 1\n",
      "comes! 1\n",
      "ministers 1\n",
      "us! 1\n",
      "goblin 1\n",
      "airs 1\n",
      "blasts 1\n",
      "intents 1\n",
      "charitable, 1\n",
      "questionable 1\n",
      "ignorance; 1\n",
      "canonized 1\n",
      "hearsed 1\n",
      "cerements; 1\n",
      "sepulchre, 1\n",
      "quietly 1\n",
      "inurn'd, 1\n",
      "oped 1\n",
      "ponderous 1\n",
      "marble 1\n",
      "jaws, 1\n",
      "corse, 1\n",
      "complete 1\n",
      "steel 1\n",
      "revisit'st 1\n",
      "glimpses 1\n",
      "hideous; 1\n",
      "fools 1\n",
      "reaches 1\n",
      "souls? 1\n",
      "wherefore? 1\n",
      "impartment 1\n",
      "courteous 1\n",
      "removed 1\n",
      "ground: 1\n",
      "fear? 1\n",
      "pin's 1\n",
      "fee; 1\n",
      "immortal 1\n",
      "itself? 1\n",
      "flood, 1\n",
      "cliff 1\n",
      "beetles 1\n",
      "horrible 1\n",
      "deprive 1\n",
      "sovereignty 1\n",
      "madness? 1\n",
      "toys 1\n",
      "desperation, 1\n",
      "fathoms 1\n",
      "roar 1\n",
      "beneath. 1\n",
      "still. 1\n",
      "hands. 1\n",
      "fate 1\n",
      "artery 1\n",
      "hardy 1\n",
      "nemean 1\n",
      "lion's 1\n",
      "nerve. 1\n",
      "call'd. 1\n",
      "unhand 1\n",
      "gentlemen. 1\n",
      "waxes 1\n",
      "imagination. 1\n",
      "come? 1\n",
      "further. 1\n",
      "sulphurous 1\n",
      "tormenting 1\n",
      "render 1\n",
      "ghost! 1\n",
      "serious 1\n",
      "unfold. 1\n",
      "doom'd 1\n",
      "confined 1\n",
      "fires, 1\n",
      "burnt 1\n",
      "purged 1\n",
      "secrets 1\n",
      "prison-house, 1\n",
      "lightest 1\n",
      "harrow 1\n",
      "freeze 1\n",
      "spheres, 1\n",
      "knotted 1\n",
      "combined 1\n",
      "locks 1\n",
      "hair 1\n",
      "quills 1\n",
      "fretful 1\n",
      "porpentine: 1\n",
      "blazon 1\n",
      "list! 1\n",
      "love-- 1\n",
      "unnatural. 1\n",
      "know't, 1\n",
      "wings 1\n",
      "meditation 1\n",
      "apt; 1\n",
      "duller 1\n",
      "weed 1\n",
      "roots 1\n",
      "lethe 1\n",
      "wharf, 1\n",
      "hear: 1\n",
      "stung 1\n",
      "process 1\n",
      "rankly 1\n",
      "abused: 1\n",
      "crown. 1\n",
      "prophetic 1\n",
      "uncle! 1\n",
      "adulterate 1\n",
      "traitorous 1\n",
      "gifts,-- 1\n",
      "gifts, 1\n",
      "seduce!--won 1\n",
      "shameful 1\n",
      "lust 1\n",
      "seeming-virtuous 1\n",
      "queen: 1\n",
      "falling-off 1\n",
      "dignity 1\n",
      "decline 1\n",
      "mine! 1\n",
      "moved, 1\n",
      "lewdness 1\n",
      "lust, 1\n",
      "radiant 1\n",
      "link'd, 1\n",
      "sate 1\n",
      "prey 1\n",
      "garbage. 1\n",
      "scent 1\n",
      "air; 1\n",
      "always 1\n",
      "afternoon, 1\n",
      "juice 1\n",
      "hebenon 1\n",
      "vial, 1\n",
      "porches 1\n",
      "pour 1\n",
      "leperous 1\n",
      "distilment; 1\n",
      "enmity 1\n",
      "quicksilver 1\n",
      "courses 1\n",
      "gates 1\n",
      "alleys 1\n",
      "vigour 1\n",
      "posset 1\n",
      "curd, 1\n",
      "droppings 1\n",
      "milk, 1\n",
      "thin 1\n",
      "blood: 1\n",
      "tetter 1\n",
      "bark'd 1\n",
      "lazar-like, 1\n",
      "loathsome 1\n",
      "crust, 1\n",
      "sleeping, 1\n",
      "dispatch'd: 1\n",
      "blossoms 1\n",
      "sin, 1\n",
      "unhousel'd, 1\n",
      "disappointed, 1\n",
      "unanel'd, 1\n",
      "reckoning 1\n",
      "account 1\n",
      "imperfections 1\n",
      "bed 1\n",
      "luxury 1\n",
      "incest. 1\n",
      "howsoever 1\n",
      "pursuest 1\n",
      "taint 1\n",
      "aught: 1\n",
      "thorns 1\n",
      "lodge, 1\n",
      "prick 1\n",
      "once! 1\n",
      "glow-worm 1\n",
      "matin 1\n",
      "near, 1\n",
      "'gins 1\n",
      "uneffectual 1\n",
      "host 1\n",
      "couple 1\n",
      "hell? 1\n",
      "sinews, 1\n",
      "old, 1\n",
      "stiffly 1\n",
      "seat 1\n",
      "globe. 1\n",
      "trivial 1\n",
      "records, 1\n",
      "saws 1\n",
      "books, 1\n",
      "pressures 1\n",
      "past, 1\n",
      "observation 1\n",
      "copied 1\n",
      "book 1\n",
      "volume 1\n",
      "unmix'd 1\n",
      "pernicious 1\n",
      "woman! 1\n",
      "smiling, 1\n",
      "tables,--meet 1\n",
      "least 1\n",
      "writing 1\n",
      "word; 1\n",
      "'adieu, 1\n",
      "me.' 1\n",
      "sworn 1\n",
      "bird, 1\n",
      "news, 1\n",
      "wonderful! 1\n",
      "reveal 1\n",
      "secret? 1\n",
      "dwelling 1\n",
      "part: 1\n",
      "desire, 1\n",
      "whirling 1\n",
      "offend 1\n",
      "heartily; 1\n",
      "'faith 1\n",
      "heartily. 1\n",
      "offence, 1\n",
      "patrick, 1\n",
      "vision 1\n",
      "o'ermaster 1\n",
      "scholars 1\n",
      "request. 1\n",
      "to-night. 1\n",
      "swear't. 1\n",
      "sworn, 1\n",
      "say'st 1\n",
      "truepenny? 1\n",
      "on--you 1\n",
      "cellarage-- 1\n",
      "propose 1\n",
      "hic 1\n",
      "et 1\n",
      "ubique? 1\n",
      "shift 1\n",
      "sword: 1\n",
      "mole! 1\n",
      "worthy 1\n",
      "pioner! 1\n",
      "remove, 1\n",
      "strange! 1\n",
      "stranger 1\n",
      "dreamt 1\n",
      "philosophy. 1\n",
      "mercy, 1\n",
      "soe'er 1\n",
      "hereafter 1\n",
      "antic 1\n",
      "encumber'd 1\n",
      "headshake, 1\n",
      "pronouncing 1\n",
      "doubtful 1\n",
      "'well, 1\n",
      "know,' 1\n",
      "'we 1\n",
      "would,' 1\n",
      "'if 1\n",
      "speak,' 1\n",
      "'there 1\n",
      "might,' 1\n",
      "ambiguous 1\n",
      "perturbed 1\n",
      "spirit! 1\n",
      "friending 1\n",
      "lack. 1\n",
      "together; 1\n",
      "lips, 1\n",
      "joint: 1\n",
      "spite, 1\n",
      "born 1\n",
      "right! 1\n",
      "together. 1\n",
      "ii 1\n",
      "notes, 1\n",
      "reynaldo. 1\n",
      "wisely, 1\n",
      "reynaldo, 1\n",
      "behavior. 1\n",
      "intend 1\n",
      "danskers 1\n",
      "paris; 1\n",
      "how, 1\n",
      "company, 1\n",
      "expense; 1\n",
      "encompassment 1\n",
      "demands 1\n",
      "distant 1\n",
      "knowledge 1\n",
      "' 1\n",
      "reynaldo? 1\n",
      "'and 1\n",
      "but' 1\n",
      "'not 1\n",
      "addicted 1\n",
      "so:' 1\n",
      "forgeries 1\n",
      "wanton, 1\n",
      "usual 1\n",
      "slips 1\n",
      "companions 1\n",
      "noted 1\n",
      "liberty. 1\n",
      "drinking, 1\n",
      "fencing, 1\n",
      "quarrelling, 1\n",
      "drabbing: 1\n",
      "far. 1\n",
      "scandal 1\n",
      "incontinency; 1\n",
      "meaning: 1\n",
      "quaintly 1\n",
      "taints 1\n",
      "flash 1\n",
      "outbreak 1\n",
      "savageness 1\n",
      "unreclaimed 1\n",
      "assault. 1\n",
      "drift; 1\n",
      "wit: 1\n",
      "slight 1\n",
      "sullies 1\n",
      "soil'd 1\n",
      "working, 1\n",
      "party 1\n",
      "converse, 1\n",
      "prenominate 1\n",
      "assured 1\n",
      "consequence; 1\n",
      "sir,' 1\n",
      "'friend,' 1\n",
      "'gentleman,' 1\n",
      "addition 1\n",
      "country. 1\n",
      "this--he 1\n",
      "does--what 1\n",
      "something: 1\n",
      "'friend 1\n",
      "'gentleman.' 1\n",
      "marry; 1\n",
      "gentleman; 1\n",
      "yesterday, 1\n",
      "t' 1\n",
      "such, 1\n",
      "such; 1\n",
      "gaming; 1\n",
      "o'ertook 1\n",
      "rouse; 1\n",
      "falling 1\n",
      "tennis:' 1\n",
      "perchance, 1\n",
      "house 1\n",
      "sale,' 1\n",
      "videlicet, 1\n",
      "brothel, 1\n",
      "forth. 1\n",
      "bait 1\n",
      "falsehood 1\n",
      "carp 1\n",
      "truth: 1\n",
      "reach, 1\n",
      "windlasses 1\n",
      "assays 1\n",
      "bias, 1\n",
      "indirections 1\n",
      "directions 1\n",
      "out: 1\n",
      "lecture 1\n",
      "have. 1\n",
      "ply 1\n",
      "affrighted! 1\n",
      "sewing 1\n",
      "doublet 1\n",
      "unbraced; 1\n",
      "head; 1\n",
      "stockings 1\n",
      "foul'd, 1\n",
      "ungarter'd, 1\n",
      "down-gyved 1\n",
      "ancle; 1\n",
      "shirt; 1\n",
      "knees 1\n",
      "knocking 1\n",
      "purport 1\n",
      "loosed 1\n",
      "horrors,--he 1\n",
      "wrist 1\n",
      "hard; 1\n",
      "arm; 1\n",
      "brow, 1\n",
      "perusal 1\n",
      "shaking 1\n",
      "waving 1\n",
      "raised 1\n",
      "shatter 1\n",
      "bulk 1\n",
      "being: 1\n",
      "turn'd, 1\n",
      "helps, 1\n",
      "bended 1\n",
      "fordoes 1\n",
      "leads 1\n",
      "undertakings 1\n",
      "afflict 1\n",
      "natures. 1\n",
      "sorry. 1\n",
      "late? 1\n",
      "repel 1\n",
      "denied 1\n",
      "access 1\n",
      "quoted 1\n",
      "fear'd 1\n",
      "trifle, 1\n",
      "wreck 1\n",
      "thee; 1\n",
      "beshrew 1\n",
      "jealousy! 1\n",
      "opinions 1\n",
      "younger 1\n",
      "known; 1\n",
      "close, 1\n",
      "hate 1\n",
      "utter 1\n",
      "moreover 1\n",
      "provoke 1\n",
      "hasty 1\n",
      "sending. 1\n",
      "transformation; 1\n",
      "exterior 1\n",
      "resembles 1\n",
      "was. 1\n",
      "of: 1\n",
      "neighbour'd 1\n",
      "havior, 1\n",
      "companies 1\n",
      "pleasures, 1\n",
      "glean, 1\n",
      "afflicts 1\n",
      "open'd, 1\n",
      "remedy. 1\n",
      "adheres. 1\n",
      "gentry 1\n",
      "expend 1\n",
      "supply 1\n",
      "remembrance. 1\n",
      "pleasures 1\n",
      "entreaty. 1\n",
      "ourselves, 1\n",
      "feet, 1\n",
      "commanded. 1\n",
      "guildenstern. 1\n",
      "instantly 1\n",
      "changed 1\n",
      "gentlemen 1\n",
      "practises 1\n",
      "pleasant 1\n",
      "helpful 1\n",
      "amen! 1\n",
      "joyfully 1\n",
      "return'd. 1\n",
      "news. 1\n",
      "assure 1\n",
      "duty, 1\n",
      "hunts 1\n",
      "policy 1\n",
      "used 1\n",
      "lunacy. 1\n",
      "admittance 1\n",
      "ambassadors; 1\n",
      "feast. 1\n",
      "thyself 1\n",
      "tells 1\n",
      "son's 1\n",
      "distemper. 1\n",
      "main; 1\n",
      "o'erhasty 1\n",
      "marriage. 1\n",
      "sift 1\n",
      "norway? 1\n",
      "greetings 1\n",
      "desires. 1\n",
      "levies; 1\n",
      "preparation 1\n",
      "polack; 1\n",
      "into, 1\n",
      "highness: 1\n",
      "whereat 1\n",
      "grieved, 1\n",
      "sickness, 1\n",
      "impotence 1\n",
      "falsely 1\n",
      "arrests 1\n",
      "obeys; 1\n",
      "receives 1\n",
      "rebuke 1\n",
      "overcome 1\n",
      "joy, 1\n",
      "crowns 1\n",
      "annual 1\n",
      "fee, 1\n",
      "employ 1\n",
      "levied 1\n",
      "polack: 1\n",
      "entreaty, 1\n",
      "shown, 1\n",
      "paper 1\n",
      "dominions 1\n",
      "enterprise, 1\n",
      "regards 1\n",
      "therein 1\n",
      "consider'd 1\n",
      "meantime 1\n",
      "well-took 1\n",
      "labour: 1\n",
      "rest; 1\n",
      "together: 1\n",
      "home! 1\n",
      "ended. 1\n",
      "expostulate 1\n",
      "waste 1\n",
      "therefore, 1\n",
      "brevity 1\n",
      "tediousness 1\n",
      "limbs 1\n",
      "flourishes, 1\n",
      "brief: 1\n",
      "define 1\n",
      "pity; 1\n",
      "figure; 1\n",
      "farewell 1\n",
      "grant 1\n",
      "defective 1\n",
      "cause: 1\n",
      "remains, 1\n",
      "remainder 1\n",
      "perpend. 1\n",
      "daughter--have 1\n",
      "mine-- 1\n",
      "mark, 1\n",
      "surmise. 1\n",
      "'to 1\n",
      "soul's 1\n",
      "idol, 1\n",
      "beautified 1\n",
      "ophelia,'-- 1\n",
      "phrase; 1\n",
      "'beautified' 1\n",
      "phrase: 1\n",
      "'in 1\n",
      "bosom, 1\n",
      "c.' 1\n",
      "faithful. 1\n",
      "'doubt 1\n",
      "fire; 1\n",
      "move; 1\n",
      "liar; 1\n",
      "'o 1\n",
      "numbers; 1\n",
      "reckon 1\n",
      "groans: 1\n",
      "adieu. 1\n",
      "'thine 1\n",
      "evermore 1\n",
      "machine 1\n",
      "shown 1\n",
      "above, 1\n",
      "solicitings, 1\n",
      "honourable. 1\n",
      "wing-- 1\n",
      "perceived 1\n",
      "me--what 1\n",
      "play'd 1\n",
      "desk 1\n",
      "table-book, 1\n",
      "winking, 1\n",
      "mute 1\n",
      "dumb, 1\n",
      "sight; 1\n",
      "think? 1\n",
      "work, 1\n",
      "bespeak: 1\n",
      "'lord 1\n",
      "star; 1\n",
      "be:' 1\n",
      "resort, 1\n",
      "messengers, 1\n",
      "tokens. 1\n",
      "fruits 1\n",
      "advice; 1\n",
      "repulsed--a 1\n",
      "make-- 1\n",
      "sadness, 1\n",
      "fast, 1\n",
      "weakness, 1\n",
      "lightness, 1\n",
      "declension, 1\n",
      "raves, 1\n",
      "mourn 1\n",
      "likely. 1\n",
      "time--i'd 1\n",
      "that-- 1\n",
      "positively 1\n",
      "otherwise? 1\n",
      "[pointing 1\n",
      "shoulder] 1\n",
      "otherwise: 1\n",
      "circumstances 1\n",
      "hid, 1\n",
      "hid 1\n",
      "centre. 1\n",
      "further? 1\n",
      "hours 1\n",
      "encounter: 1\n",
      "thereon, 1\n",
      "assistant 1\n",
      "carters. 1\n",
      "sadly 1\n",
      "reading. 1\n",
      "board 1\n",
      "reading 1\n",
      "leave: 1\n",
      "god-a-mercy. 1\n",
      "fishmonger. 1\n",
      "thousand. 1\n",
      "breed 1\n",
      "maggots 1\n",
      "dog, 1\n",
      "kissing 1\n",
      "carrion,--have 1\n",
      "daughter? 1\n",
      "sun: 1\n",
      "conception 1\n",
      "blessing: 1\n",
      "conceive. 1\n",
      "harping 1\n",
      "daughter: 1\n",
      "fishmonger: 1\n",
      "gone: 1\n",
      "suffered 1\n",
      "extremity 1\n",
      "words. 1\n",
      "slanders, 1\n",
      "satirical 1\n",
      "grey 1\n",
      "beards, 1\n",
      "faces 1\n",
      "wrinkled, 1\n",
      "amber 1\n",
      "plum-tree 1\n",
      "gum 1\n",
      "plentiful 1\n",
      "hams: 1\n",
      "powerfully 1\n",
      "potently 1\n",
      "crab 1\n",
      "backward. 1\n",
      "method 1\n",
      "aside 1\n",
      "replies 1\n",
      "are! 1\n",
      "happiness 1\n",
      "hits 1\n",
      "sanity 1\n",
      "prosperously 1\n",
      "delivered 1\n",
      "of. 1\n",
      "suddenly 1\n",
      "meeting 1\n",
      "daughter.--my 1\n",
      "cannot, 1\n",
      "fools! 1\n",
      "polonius] 1\n",
      "honoured 1\n",
      "guildenstern? 1\n",
      "rosencrantz! 1\n",
      "lads, 1\n",
      "both? 1\n",
      "children 1\n",
      "earth. 1\n",
      "happy, 1\n",
      "over-happy; 1\n",
      "button. 1\n",
      "soles 1\n",
      "shoe? 1\n",
      "waist, 1\n",
      "favours? 1\n",
      "privates 1\n",
      "we. 1\n",
      "fortune? 1\n",
      "strumpet. 1\n",
      "world's 1\n",
      "honest. 1\n",
      "near: 1\n",
      "true. 1\n",
      "particular: 1\n",
      "deserved 1\n",
      "prison, 1\n",
      "confines, 1\n",
      "wards 1\n",
      "dungeons, 1\n",
      "worst. 1\n",
      "narrow 1\n",
      "mind. 1\n",
      "bounded 1\n",
      "nut 1\n",
      "space, 1\n",
      "dreams. 1\n",
      "ambition, 1\n",
      "merely 1\n",
      "shadow 1\n",
      "dream. 1\n",
      "airy 1\n",
      "shadow's 1\n",
      "beggars 1\n",
      "bodies, 1\n",
      "monarchs 1\n",
      "outstretched 1\n",
      "heroes 1\n",
      "beggars' 1\n",
      "shadows. 1\n",
      "court? 1\n",
      "fay, 1\n",
      "reason. 1\n",
      "servants, 1\n",
      "dreadfully 1\n",
      "attended. 1\n",
      "beaten 1\n",
      "friendship, 1\n",
      "occasion. 1\n",
      "thanks; 1\n",
      "halfpenny. 1\n",
      "inclining? 1\n",
      "visitation? 1\n",
      "deal 1\n",
      "for; 1\n",
      "modesties 1\n",
      "craft 1\n",
      "colour: 1\n",
      "conjure 1\n",
      "fellowship, 1\n",
      "consonancy 1\n",
      "ever-preserved 1\n",
      "proposer 1\n",
      "withal, 1\n",
      "no? 1\n",
      "[aside 1\n",
      "guildenstern] 1\n",
      "you.--if 1\n",
      "why; 1\n",
      "anticipation 1\n",
      "prevent 1\n",
      "discovery, 1\n",
      "moult 1\n",
      "feather. 1\n",
      "late--but 1\n",
      "not--lost 1\n",
      "mirth, 1\n",
      "forgone 1\n",
      "exercises; 1\n",
      "heavily 1\n",
      "sterile 1\n",
      "promontory, 1\n",
      "canopy, 1\n",
      "o'erhanging 1\n",
      "firmament, 1\n",
      "majestical 1\n",
      "roof 1\n",
      "fretted 1\n",
      "congregation 1\n",
      "vapours. 1\n",
      "man! 1\n",
      "reason! 1\n",
      "faculty! 1\n",
      "moving 1\n",
      "admirable! 1\n",
      "angel! 1\n",
      "apprehension 1\n",
      "paragon 1\n",
      "animals! 1\n",
      "quintessence 1\n",
      "dust? 1\n",
      "'man 1\n",
      "me'? 1\n",
      "lenten 1\n",
      "coted 1\n",
      "way; 1\n",
      "coming, 1\n",
      "plays 1\n",
      "welcome; 1\n",
      "adventurous 1\n",
      "knight 1\n",
      "foil 1\n",
      "target; 1\n",
      "lover 1\n",
      "gratis; 1\n",
      "humourous 1\n",
      "peace; 1\n",
      "lungs 1\n",
      "tickled 1\n",
      "sere; 1\n",
      "freely, 1\n",
      "blank 1\n",
      "verse 1\n",
      "halt 1\n",
      "for't. 1\n",
      "they? 1\n",
      "tragedians 1\n",
      "city. 1\n",
      "travel? 1\n",
      "residence, 1\n",
      "reputation 1\n",
      "profit, 1\n",
      "inhibition 1\n",
      "innovation. 1\n",
      "estimation 1\n",
      "city? 1\n",
      "followed? 1\n",
      "rusty? 1\n",
      "endeavour 1\n",
      "pace: 1\n",
      "aery 1\n",
      "children, 1\n",
      "eyases, 1\n",
      "tyrannically 1\n",
      "clapped 1\n",
      "for't: 1\n",
      "fashion, 1\n",
      "berattle 1\n",
      "stages--so 1\n",
      "them--that 1\n",
      "wearing 1\n",
      "afraid 1\n",
      "goose-quills 1\n",
      "thither. 1\n",
      "children? 1\n",
      "maintains 1\n",
      "escoted? 1\n",
      "sing? 1\n",
      "afterwards, 1\n",
      "players--as 1\n",
      "better--their 1\n",
      "writers 1\n",
      "exclaim 1\n",
      "succession? 1\n",
      "sides; 1\n",
      "nation 1\n",
      "sin 1\n",
      "tarre 1\n",
      "controversy: 1\n",
      "poet 1\n",
      "cuffs 1\n",
      "throwing 1\n",
      "brains. 1\n",
      "boys 1\n",
      "away? 1\n",
      "load 1\n",
      "strange; 1\n",
      "mows 1\n",
      "lived, 1\n",
      "twenty, 1\n",
      "forty, 1\n",
      "fifty, 1\n",
      "hundred 1\n",
      "a-piece 1\n",
      "picture 1\n",
      "natural, 1\n",
      "philosophy 1\n",
      "players. 1\n",
      "appurtenance 1\n",
      "ceremony: 1\n",
      "garb, 1\n",
      "extent 1\n",
      "fairly 1\n",
      "outward, 1\n",
      "welcome: 1\n",
      "uncle-father 1\n",
      "aunt-mother 1\n",
      "north-north-west: 1\n",
      "southerly 1\n",
      "hawk 1\n",
      "handsaw. 1\n",
      "gentlemen! 1\n",
      "hark 1\n",
      "guildenstern; 1\n",
      "too: 1\n",
      "hearer: 1\n",
      "baby 1\n",
      "swaddling-clouts. 1\n",
      "happily 1\n",
      "child. 1\n",
      "players; 1\n",
      "monday 1\n",
      "morning; 1\n",
      "roscius 1\n",
      "rome,-- 1\n",
      "buz, 1\n",
      "buz! 1\n",
      "honour,-- 1\n",
      "ass,-- 1\n",
      "world, 1\n",
      "history, 1\n",
      "pastoral, 1\n",
      "pastoral-comical, 1\n",
      "historical-pastoral, 1\n",
      "tragical-historical, 1\n",
      "tragical- 1\n",
      "comical-historical-pastoral, 1\n",
      "individable, 1\n",
      "poem 1\n",
      "unlimited: 1\n",
      "seneca 1\n",
      "plautus 1\n",
      "light. 1\n",
      "men. 1\n",
      "israel, 1\n",
      "thou! 1\n",
      "'one 1\n",
      "well.' 1\n",
      "jephthah? 1\n",
      "follows 1\n",
      "'as 1\n",
      "lot, 1\n",
      "wot,' 1\n",
      "'it 1\n",
      "pass, 1\n",
      "was,'-- 1\n",
      "row 1\n",
      "chanson 1\n",
      "abridgement 1\n",
      "masters; 1\n",
      "friend! 1\n",
      "valenced 1\n",
      "last: 1\n",
      "mistress! 1\n",
      "ladyship 1\n",
      "altitude 1\n",
      "chopine. 1\n",
      "apiece 1\n",
      "uncurrent 1\n",
      "gold, 1\n",
      "cracked 1\n",
      "ring. 1\n",
      "falconers, 1\n",
      "taste 1\n",
      "quality; 1\n",
      "speech. 1\n",
      "acted; 1\n",
      "million; 1\n",
      "caviare 1\n",
      "general: 1\n",
      "was--as 1\n",
      "others, 1\n",
      "matters 1\n",
      "mine--an 1\n",
      "digested 1\n",
      "scenes, 1\n",
      "cunning. 1\n",
      "sallets 1\n",
      "lines 1\n",
      "savoury, 1\n",
      "indict 1\n",
      "affectation; 1\n",
      "called 1\n",
      "method, 1\n",
      "handsome 1\n",
      "fine. 1\n",
      "chiefly 1\n",
      "loved: 1\n",
      "aeneas' 1\n",
      "dido; 1\n",
      "thereabout 1\n",
      "priam's 1\n",
      "slaughter: 1\n",
      "begin 1\n",
      "line: 1\n",
      "see-- 1\n",
      "hyrcanian 1\n",
      "beast,'-- 1\n",
      "so:--it 1\n",
      "pyrrhus:-- 1\n",
      "arms, 1\n",
      "resemble 1\n",
      "couched 1\n",
      "ominous 1\n",
      "complexion 1\n",
      "smear'd 1\n",
      "heraldry 1\n",
      "foot 1\n",
      "total 1\n",
      "gules; 1\n",
      "trick'd 1\n",
      "mothers, 1\n",
      "daughters, 1\n",
      "sons, 1\n",
      "impasted 1\n",
      "parching 1\n",
      "streets, 1\n",
      "tyrannous 1\n",
      "lord's 1\n",
      "murder: 1\n",
      "roasted 1\n",
      "wrath 1\n",
      "o'er-sized 1\n",
      "coagulate 1\n",
      "gore, 1\n",
      "carbuncles, 1\n",
      "hellish 1\n",
      "grandsire 1\n",
      "seeks.' 1\n",
      "proceed 1\n",
      "'fore 1\n",
      "spoken, 1\n",
      "'anon 1\n",
      "striking 1\n",
      "greeks; 1\n",
      "arm, 1\n",
      "repugnant 1\n",
      "command: 1\n",
      "unequal 1\n",
      "match'd, 1\n",
      "drives; 1\n",
      "rage 1\n",
      "strikes 1\n",
      "whiff 1\n",
      "unnerved 1\n",
      "falls. 1\n",
      "ilium, 1\n",
      "feel 1\n",
      "blow, 1\n",
      "hideous 1\n",
      "crash 1\n",
      "prisoner 1\n",
      "ear: 1\n",
      "lo! 1\n",
      "declining 1\n",
      "milky 1\n",
      "reverend 1\n",
      "priam, 1\n",
      "stick: 1\n",
      "tyrant, 1\n",
      "neutral 1\n",
      "storm, 1\n",
      "rack 1\n",
      "bold 1\n",
      "speechless 1\n",
      "orb 1\n",
      "hush 1\n",
      "thunder 1\n",
      "rend 1\n",
      "region, 1\n",
      "pause, 1\n",
      "aroused 1\n",
      "vengeance 1\n",
      "a-work; 1\n",
      "cyclops' 1\n",
      "hammers 1\n",
      "mars's 1\n",
      "eterne 1\n",
      "remorse 1\n",
      "bleeding 1\n",
      "priam. 1\n",
      "strumpet, 1\n",
      "fortune! 1\n",
      "gods, 1\n",
      "synod 1\n",
      "'take 1\n",
      "power; 1\n",
      "fellies 1\n",
      "bowl 1\n",
      "nave 1\n",
      "hill 1\n",
      "low 1\n",
      "fiends!' 1\n",
      "long. 1\n",
      "barber's, 1\n",
      "beard. 1\n",
      "jig 1\n",
      "bawdry, 1\n",
      "sleeps: 1\n",
      "hecuba. 1\n",
      "'but 1\n",
      "queen--' 1\n",
      "queen?' 1\n",
      "'mobled 1\n",
      "queen' 1\n",
      "'run 1\n",
      "barefoot 1\n",
      "threatening 1\n",
      "bisson 1\n",
      "rheum; 1\n",
      "clout 1\n",
      "robe, 1\n",
      "lank 1\n",
      "o'er-teemed 1\n",
      "loins, 1\n",
      "blanket, 1\n",
      "alarm 1\n",
      "venom 1\n",
      "steep'd, 1\n",
      "pronounced: 1\n",
      "gods 1\n",
      "mincing 1\n",
      "limbs, 1\n",
      "clamour 1\n",
      "milch 1\n",
      "gods.' 1\n",
      "turned 1\n",
      "soon. 1\n",
      "bestowed? 1\n",
      "hear, 1\n",
      "used; 1\n",
      "abstract 1\n",
      "chronicles 1\n",
      "live. 1\n",
      "desert. 1\n",
      "bodykins, 1\n",
      "desert, 1\n",
      "whipping? 1\n",
      "dignity: 1\n",
      "deserve, 1\n",
      "bounty. 1\n",
      "sirs. 1\n",
      "friends: 1\n",
      "to-morrow. 1\n",
      "gonzago? 1\n",
      "ha't 1\n",
      "need, 1\n",
      "study 1\n",
      "sixteen 1\n",
      "lines, 1\n",
      "insert 1\n",
      "ye; 1\n",
      "monstrous 1\n",
      "fiction, 1\n",
      "working 1\n",
      "wann'd, 1\n",
      "distraction 1\n",
      "aspect, 1\n",
      "broken 1\n",
      "function 1\n",
      "suiting 1\n",
      "forms 1\n",
      "conceit? 1\n",
      "nothing! 1\n",
      "hecuba! 1\n",
      "hecuba 1\n",
      "hecuba, 1\n",
      "weep 1\n",
      "cue 1\n",
      "cleave 1\n",
      "appal 1\n",
      "ignorant, 1\n",
      "amaze 1\n",
      "faculties 1\n",
      "ears. 1\n",
      "muddy-mettled 1\n",
      "rascal, 1\n",
      "peak, 1\n",
      "john-a-dreams, 1\n",
      "unpregnant 1\n",
      "nothing; 1\n",
      "made. 1\n",
      "coward? 1\n",
      "villain? 1\n",
      "breaks 1\n",
      "across? 1\n",
      "beard, 1\n",
      "tweaks 1\n",
      "nose? 1\n",
      "throat, 1\n",
      "lungs? 1\n",
      "pigeon-liver'd 1\n",
      "oppression 1\n",
      "bitter, 1\n",
      "fatted 1\n",
      "region 1\n",
      "kites 1\n",
      "slave's 1\n",
      "offal: 1\n",
      "bawdy 1\n",
      "remorseless, 1\n",
      "treacherous, 1\n",
      "lecherous, 1\n",
      "kindless 1\n",
      "vengeance! 1\n",
      "brave, 1\n",
      "murder'd, 1\n",
      "prompted 1\n",
      "whore, 1\n",
      "unpack 1\n",
      "a-cursing, 1\n",
      "drab, 1\n",
      "scullion! 1\n",
      "upon't! 1\n",
      "foh! 1\n",
      "brain! 1\n",
      "sitting 1\n",
      "proclaim'd 1\n",
      "malefactions; 1\n",
      "miraculous 1\n",
      "tent 1\n",
      "quick: 1\n",
      "blench, 1\n",
      "course. 1\n",
      "devil: 1\n",
      "pleasing 1\n",
      "shape; 1\n",
      "weakness 1\n",
      "melancholy, 1\n",
      "abuses 1\n",
      "damn 1\n",
      "grounds 1\n",
      "relative 1\n",
      "'s 1\n",
      "iii 1\n",
      "circumstance, 1\n",
      "confusion, 1\n",
      "grating 1\n",
      "harshly 1\n",
      "turbulent 1\n",
      "lunacy? 1\n",
      "feels 1\n",
      "distracted; 1\n",
      "forward 1\n",
      "sounded, 1\n",
      "crafty 1\n",
      "aloof, 1\n",
      "forcing 1\n",
      "disposition. 1\n",
      "niggard 1\n",
      "question; 1\n",
      "demands, 1\n",
      "reply. 1\n",
      "pastime? 1\n",
      "o'er-raught 1\n",
      "way: 1\n",
      "court, 1\n",
      "beseech'd 1\n",
      "inclined. 1\n",
      "edge, 1\n",
      "delights. 1\n",
      "closely 1\n",
      "accident, 1\n",
      "affront 1\n",
      "lawful 1\n",
      "espials, 1\n",
      "seeing, 1\n",
      "unseen, 1\n",
      "encounter 1\n",
      "judge, 1\n",
      "gather 1\n",
      "behaved, 1\n",
      "beauties 1\n",
      "wildness: 1\n",
      "honours. 1\n",
      "gracious, 1\n",
      "book; 1\n",
      "loneliness. 1\n",
      "proved--that 1\n",
      "devotion's 1\n",
      "sugar 1\n",
      "true! 1\n",
      "smart 1\n",
      "lash 1\n",
      "conscience! 1\n",
      "harlot's 1\n",
      "cheek, 1\n",
      "beautied 1\n",
      "plastering 1\n",
      "art, 1\n",
      "ugly 1\n",
      "helps 1\n",
      "word: 1\n",
      "burthen! 1\n",
      "coming: 1\n",
      "be: 1\n",
      "question: 1\n",
      "nobler 1\n",
      "slings 1\n",
      "arrows 1\n",
      "outrageous 1\n",
      "troubles, 1\n",
      "opposing 1\n",
      "die: 1\n",
      "heart-ache 1\n",
      "shocks 1\n",
      "heir 1\n",
      "consummation 1\n",
      "devoutly 1\n",
      "wish'd. 1\n",
      "dream: 1\n",
      "rub; 1\n",
      "shuffled 1\n",
      "coil, 1\n",
      "calamity 1\n",
      "scorns 1\n",
      "oppressor's 1\n",
      "contumely, 1\n",
      "pangs 1\n",
      "despised 1\n",
      "law's 1\n",
      "delay, 1\n",
      "insolence 1\n",
      "office 1\n",
      "quietus 1\n",
      "bare 1\n",
      "bodkin? 1\n",
      "fardels 1\n",
      "bear, 1\n",
      "grunt 1\n",
      "weary 1\n",
      "undiscover'd 1\n",
      "bourn 1\n",
      "traveller 1\n",
      "returns, 1\n",
      "puzzles 1\n",
      "ills 1\n",
      "of? 1\n",
      "cowards 1\n",
      "hue 1\n",
      "resolution 1\n",
      "sicklied 1\n",
      "enterprises 1\n",
      "regard 1\n",
      "awry, 1\n",
      "action.--soft 1\n",
      "nymph, 1\n",
      "orisons 1\n",
      "sins 1\n",
      "remember'd. 1\n",
      "day? 1\n",
      "remembrances 1\n",
      "longed 1\n",
      "re-deliver; 1\n",
      "aught. 1\n",
      "composed 1\n",
      "rich: 1\n",
      "rich 1\n",
      "wax 1\n",
      "givers 1\n",
      "unkind. 1\n",
      "honest? 1\n",
      "fair? 1\n",
      "lordship? 1\n",
      "beauty. 1\n",
      "beauty, 1\n",
      "commerce 1\n",
      "honesty? 1\n",
      "truly; 1\n",
      "transform 1\n",
      "bawd 1\n",
      "translate 1\n",
      "likeness: 1\n",
      "paradox, 1\n",
      "believed 1\n",
      "inoculate 1\n",
      "stock 1\n",
      "nunnery: 1\n",
      "breeder 1\n",
      "sinners? 1\n",
      "honest; 1\n",
      "accuse 1\n",
      "proud, 1\n",
      "revengeful, 1\n",
      "ambitious, 1\n",
      "offences 1\n",
      "beck 1\n",
      "shape, 1\n",
      "crawling 1\n",
      "knaves, 1\n",
      "ways 1\n",
      "nunnery. 1\n",
      "home, 1\n",
      "shut 1\n",
      "plague 1\n",
      "dowry: 1\n",
      "ice, 1\n",
      "calumny. 1\n",
      "fool; 1\n",
      "wise 1\n",
      "monsters 1\n",
      "quickly 1\n",
      "powers, 1\n",
      "restore 1\n",
      "paintings 1\n",
      "enough; 1\n",
      "yourselves 1\n",
      "jig, 1\n",
      "amble, 1\n",
      "lisp, 1\n",
      "nick-name 1\n",
      "creatures, 1\n",
      "wantonness 1\n",
      "ignorance. 1\n",
      "on't; 1\n",
      "marriages: 1\n",
      "married 1\n",
      "already, 1\n",
      "live; 1\n",
      "o'erthrown! 1\n",
      "courtier's, 1\n",
      "soldier's, 1\n",
      "scholar's, 1\n",
      "expectancy 1\n",
      "mould 1\n",
      "observed 1\n",
      "observers, 1\n",
      "quite, 1\n",
      "down! 1\n",
      "ladies 1\n",
      "deject 1\n",
      "suck'd 1\n",
      "honey 1\n",
      "bells 1\n",
      "jangled, 1\n",
      "harsh; 1\n",
      "unmatch'd 1\n",
      "feature 1\n",
      "blown 1\n",
      "blasted 1\n",
      "ecstasy: 1\n",
      "see! 1\n",
      "love! 1\n",
      "affections 1\n",
      "spake, 1\n",
      "lack'd 1\n",
      "little, 1\n",
      "melancholy 1\n",
      "brood; 1\n",
      "hatch 1\n",
      "disclose 1\n",
      "danger: 1\n",
      "prevent, 1\n",
      "determination 1\n",
      "down: 1\n",
      "seas 1\n",
      "countries 1\n",
      "different 1\n",
      "objects 1\n",
      "something-settled 1\n",
      "origin 1\n",
      "commencement 1\n",
      "sprung 1\n",
      "grief: 1\n",
      "placed, 1\n",
      "conference. 1\n",
      "confine 1\n",
      "unwatch'd 1\n",
      "pronounced 1\n",
      "trippingly 1\n",
      "lief 1\n",
      "town-crier 1\n",
      "lines. 1\n",
      "gently; 1\n",
      "torrent, 1\n",
      "tempest, 1\n",
      "whirlwind 1\n",
      "acquire 1\n",
      "beget 1\n",
      "temperance 1\n",
      "smoothness. 1\n",
      "offends 1\n",
      "robustious 1\n",
      "periwig-pated 1\n",
      "tatters, 1\n",
      "rags, 1\n",
      "split 1\n",
      "groundlings, 1\n",
      "capable 1\n",
      "inexplicable 1\n",
      "dumbshows 1\n",
      "noise: 1\n",
      "whipped 1\n",
      "o'erdoing 1\n",
      "termagant; 1\n",
      "out-herods 1\n",
      "herod: 1\n",
      "tame 1\n",
      "tutor: 1\n",
      "action; 1\n",
      "o'erstep 1\n",
      "nature: 1\n",
      "overdone 1\n",
      "mirror 1\n",
      "feature, 1\n",
      "scorn 1\n",
      "image, 1\n",
      "pressure. 1\n",
      "overdone, 1\n",
      "unskilful 1\n",
      "judicious 1\n",
      "grieve; 1\n",
      "o'erweigh 1\n",
      "theatre 1\n",
      "others. 1\n",
      "praise, 1\n",
      "highly, 1\n",
      "profanely, 1\n",
      "christians 1\n",
      "christian, 1\n",
      "pagan, 1\n",
      "strutted 1\n",
      "bellowed 1\n",
      "journeymen 1\n",
      "imitated 1\n",
      "humanity 1\n",
      "abominably. 1\n",
      "reformed 1\n",
      "indifferently 1\n",
      "reform 1\n",
      "altogether. 1\n",
      "clowns 1\n",
      "barren 1\n",
      "spectators 1\n",
      "considered: 1\n",
      "villanous, 1\n",
      "pitiful 1\n",
      "ready. 1\n",
      "work? 1\n",
      "hasten 1\n",
      "e'er 1\n",
      "conversation 1\n",
      "coped 1\n",
      "flatter; 1\n",
      "advancement 1\n",
      "revenue 1\n",
      "clothe 1\n",
      "flatter'd? 1\n",
      "candied 1\n",
      "lick 1\n",
      "absurd 1\n",
      "pomp, 1\n",
      "crook 1\n",
      "hinges 1\n",
      "knee 1\n",
      "thrift 1\n",
      "fawning. 1\n",
      "distinguish, 1\n",
      "herself; 1\n",
      "suffering 1\n",
      "buffets 1\n",
      "rewards 1\n",
      "blest 1\n",
      "commingled, 1\n",
      "pipe 1\n",
      "finger 1\n",
      "please. 1\n",
      "passion's 1\n",
      "slave, 1\n",
      "heart's 1\n",
      "core, 1\n",
      "thee.--something 1\n",
      "this.-- 1\n",
      "death: 1\n",
      "seest 1\n",
      "afoot, 1\n",
      "comment 1\n",
      "occulted 1\n",
      "unkennel 1\n",
      "imaginations 1\n",
      "vulcan's 1\n",
      "stithy. 1\n",
      "heedful 1\n",
      "note; 1\n",
      "rivet 1\n",
      "seeming. 1\n",
      "steal 1\n",
      "detecting, 1\n",
      "theft. 1\n",
      "idle: 1\n",
      "flourish. 1\n",
      "excellent, 1\n",
      "faith; 1\n",
      "chameleon's 1\n",
      "dish: 1\n",
      "promise-crammed: 1\n",
      "capons 1\n",
      "university, 1\n",
      "accounted 1\n",
      "actor. 1\n",
      "enact? 1\n",
      "enact 1\n",
      "caesar: 1\n",
      "capitol; 1\n",
      "brutus 1\n",
      "brute 1\n",
      "calf 1\n",
      "ready? 1\n",
      "metal 1\n",
      "attractive. 1\n",
      "claudius] 1\n",
      "lying 1\n",
      "ophelia's 1\n",
      "feet 1\n",
      "matters? 1\n",
      "maids' 1\n",
      "legs. 1\n",
      "merry, 1\n",
      "i? 1\n",
      "jig-maker. 1\n",
      "merry? 1\n",
      "looks, 1\n",
      "hours. 1\n",
      "months, 1\n",
      "sables. 1\n",
      "ago, 1\n",
      "forgotten 1\n",
      "yet? 1\n",
      "outlive 1\n",
      "build 1\n",
      "churches, 1\n",
      "hobby-horse, 1\n",
      "'for, 1\n",
      "hobby-horse 1\n",
      "forgot.' 1\n",
      "hautboys 1\n",
      "dumb-show 1\n",
      "enters 1\n",
      "lovingly; 1\n",
      "embracing 1\n",
      "kneels, 1\n",
      "protestation 1\n",
      "declines 1\n",
      "neck: 1\n",
      "lays 1\n",
      "bank 1\n",
      "flowers: 1\n",
      "fellow, 1\n",
      "exit. 1\n",
      "returns; 1\n",
      "action. 1\n",
      "poisoner, 1\n",
      "mutes, 1\n",
      "lament 1\n",
      "carried 1\n",
      "poisoner 1\n",
      "wooes 1\n",
      "gifts: 1\n",
      "loath 1\n",
      "unwilling 1\n",
      "accepts 1\n",
      "miching 1\n",
      "mallecho; 1\n",
      "mischief. 1\n",
      "belike 1\n",
      "argument 1\n",
      "fellow: 1\n",
      "counsel; 1\n",
      "they'll 1\n",
      "meant? 1\n",
      "ashamed 1\n",
      "he'll 1\n",
      "naught, 1\n",
      "naught: 1\n",
      "stooping 1\n",
      "clemency, 1\n",
      "patiently. 1\n",
      "prologue, 1\n",
      "posy 1\n",
      "ring? 1\n",
      "woman's 1\n",
      "phoebus' 1\n",
      "cart 1\n",
      "tellus' 1\n",
      "orbed 1\n",
      "moons 1\n",
      "borrow'd 1\n",
      "sheen 1\n",
      "thirties 1\n",
      "been, 1\n",
      "hymen 1\n",
      "unite 1\n",
      "commutual 1\n",
      "sacred 1\n",
      "bands. 1\n",
      "journeys 1\n",
      "moon 1\n",
      "done! 1\n",
      "late, 1\n",
      "distrust 1\n",
      "distrust, 1\n",
      "discomfort 1\n",
      "must: 1\n",
      "women's 1\n",
      "quantity; 1\n",
      "extremity. 1\n",
      "sized, 1\n",
      "littlest 1\n",
      "doubts 1\n",
      "fear; 1\n",
      "operant 1\n",
      "functions 1\n",
      "behind, 1\n",
      "honour'd, 1\n",
      "beloved; 1\n",
      "thou-- 1\n",
      "breast: 1\n",
      "accurst! 1\n",
      "wed 1\n",
      "first. 1\n",
      "wormwood, 1\n",
      "wormwood. 1\n",
      "instances 1\n",
      "respects 1\n",
      "love: 1\n",
      "determine 1\n",
      "break. 1\n",
      "birth, 1\n",
      "validity; 1\n",
      "unripe, 1\n",
      "sticks 1\n",
      "tree; 1\n",
      "unshaken, 1\n",
      "mellow 1\n",
      "debt: 1\n",
      "propose, 1\n",
      "ending, 1\n",
      "lose. 1\n",
      "violence 1\n",
      "enactures 1\n",
      "destroy: 1\n",
      "revels, 1\n",
      "lament; 1\n",
      "joys, 1\n",
      "grieves, 1\n",
      "slender 1\n",
      "aye, 1\n",
      "change; 1\n",
      "prove, 1\n",
      "favourite 1\n",
      "flies; 1\n",
      "advanced 1\n",
      "hollow 1\n",
      "try, 1\n",
      "seasons 1\n",
      "orderly 1\n",
      "begun, 1\n",
      "wills 1\n",
      "contrary 1\n",
      "run 1\n",
      "devices 1\n",
      "overthrown; 1\n",
      "ends 1\n",
      "own: 1\n",
      "wed; 1\n",
      "food, 1\n",
      "light! 1\n",
      "repose 1\n",
      "night! 1\n",
      "desperation 1\n",
      "hope! 1\n",
      "anchor's 1\n",
      "scope! 1\n",
      "opposite 1\n",
      "blanks 1\n",
      "destroy! 1\n",
      "lasting 1\n",
      "strife, 1\n",
      "if, 1\n",
      "widow, 1\n",
      "wife! 1\n",
      "deeply 1\n",
      "sworn. 1\n",
      "dull, 1\n",
      "beguile 1\n",
      "sleep. 1\n",
      "rock 1\n",
      "twain! 1\n",
      "protests 1\n",
      "methinks. 1\n",
      "argument? 1\n",
      "'t? 1\n",
      "jest; 1\n",
      "world. 1\n",
      "mouse-trap. 1\n",
      "how? 1\n",
      "tropically. 1\n",
      "vienna: 1\n",
      "gonzago 1\n",
      "duke's 1\n",
      "name; 1\n",
      "wife, 1\n",
      "baptista: 1\n",
      "anon; 1\n",
      "work: 1\n",
      "touches 1\n",
      "jade 1\n",
      "wince, 1\n",
      "withers 1\n",
      "unwrung. 1\n",
      "lucianus, 1\n",
      "nephew 1\n",
      "chorus, 1\n",
      "interpret 1\n",
      "puppets 1\n",
      "dallying. 1\n",
      "keen, 1\n",
      "keen. 1\n",
      "groaning 1\n",
      "edge. 1\n",
      "better, 1\n",
      "worse. 1\n",
      "husbands. 1\n",
      "murderer; 1\n",
      "pox, 1\n",
      "damnable 1\n",
      "faces, 1\n",
      "begin. 1\n",
      "croaking 1\n",
      "raven 1\n",
      "bellow 1\n",
      "revenge.' 1\n",
      "apt, 1\n",
      "drugs 1\n",
      "agreeing; 1\n",
      "confederate 1\n",
      "season, 1\n",
      "seeing; 1\n",
      "mixture 1\n",
      "rank, 1\n",
      "midnight 1\n",
      "collected, 1\n",
      "hecate's 1\n",
      "ban 1\n",
      "blasted, 1\n",
      "infected, 1\n",
      "magic 1\n",
      "dire 1\n",
      "property, 1\n",
      "usurp 1\n",
      "immediately. 1\n",
      "sleeper's 1\n",
      "poisons 1\n",
      "garden 1\n",
      "name's 1\n",
      "gonzago: 1\n",
      "extant, 1\n",
      "italian: 1\n",
      "gets 1\n",
      "gonzago's 1\n",
      "wife. 1\n",
      "rises. 1\n",
      "frighted 1\n",
      "fire! 1\n",
      "light: 1\n",
      "lights! 1\n",
      "stricken 1\n",
      "deer 1\n",
      "hart 1\n",
      "ungalled 1\n",
      "forest 1\n",
      "feathers-- 1\n",
      "turk 1\n",
      "me--with 1\n",
      "provincial 1\n",
      "roses 1\n",
      "razed 1\n",
      "shoes, 1\n",
      "fellowship 1\n",
      "share. 1\n",
      "damon 1\n",
      "dear, 1\n",
      "realm 1\n",
      "dismantled 1\n",
      "reigns 1\n",
      "very, 1\n",
      "very--pajock. 1\n",
      "rhymed. 1\n",
      "ghost's 1\n",
      "pound. 1\n",
      "perceive? 1\n",
      "poisoning? 1\n",
      "belike, 1\n",
      "perdy. 1\n",
      "history. 1\n",
      "sir,-- 1\n",
      "retirement 1\n",
      "distempered. 1\n",
      "doctor; 1\n",
      "purgation 1\n",
      "plunge 1\n",
      "affair. 1\n",
      "pronounce. 1\n",
      "courtesy 1\n",
      "breed. 1\n",
      "commandment: 1\n",
      "answer; 1\n",
      "wit's 1\n",
      "diseased: 1\n",
      "make, 1\n",
      "say,-- 1\n",
      "says; 1\n",
      "behavior 1\n",
      "admiration. 1\n",
      "wonderful 1\n",
      "astonish 1\n",
      "sequel 1\n",
      "admiration? 1\n",
      "impart. 1\n",
      "trade 1\n",
      "us? 1\n",
      "pickers 1\n",
      "stealers. 1\n",
      "distemper? 1\n",
      "surely, 1\n",
      "bar 1\n",
      "griefs 1\n",
      "friend. 1\n",
      "advancement. 1\n",
      "succession 1\n",
      "'while 1\n",
      "grass 1\n",
      "grows,'--the 1\n",
      "proverb 1\n",
      "musty. 1\n",
      "recorders 1\n",
      "withdraw 1\n",
      "you:--why 1\n",
      "toil? 1\n",
      "unmannerly. 1\n",
      "easy 1\n",
      "lying: 1\n",
      "govern 1\n",
      "ventages 1\n",
      "lingers 1\n",
      "thumb, 1\n",
      "eloquent 1\n",
      "stops. 1\n",
      "utterance 1\n",
      "harmony; 1\n",
      "skill. 1\n",
      "stops; 1\n",
      "mystery; 1\n",
      "lowest 1\n",
      "compass: 1\n",
      "music, 1\n",
      "organ; 1\n",
      "easier 1\n",
      "fret 1\n",
      "cloud 1\n",
      "camel? 1\n",
      "camel, 1\n",
      "backed 1\n",
      "whale? 1\n",
      "whale. 1\n",
      "bent. 1\n",
      "easily 1\n",
      "witching 1\n",
      "churchyards 1\n",
      "yawn 1\n",
      "breathes 1\n",
      "contagion 1\n",
      "quake 1\n",
      "nero 1\n",
      "firm 1\n",
      "bosom: 1\n",
      "unnatural: 1\n",
      "daggers 1\n",
      "none; 1\n",
      "hypocrites; 1\n",
      "soever 1\n",
      "shent, 1\n",
      "seals 1\n",
      "consent! 1\n",
      "range. 1\n",
      "forthwith 1\n",
      "dispatch, 1\n",
      "estate 1\n",
      "endure 1\n",
      "hazard 1\n",
      "hourly 1\n",
      "lunacies. 1\n",
      "provide: 1\n",
      "religious 1\n",
      "peculiar 1\n",
      "noyance; 1\n",
      "weal 1\n",
      "depend 1\n",
      "many. 1\n",
      "alone; 1\n",
      "gulf, 1\n",
      "massy 1\n",
      "highest 1\n",
      "mount, 1\n",
      "huge 1\n",
      "lesser 1\n",
      "mortised 1\n",
      "adjoin'd; 1\n",
      "small 1\n",
      "annexment, 1\n",
      "consequence, 1\n",
      "attends 1\n",
      "boisterous 1\n",
      "ruin. 1\n",
      "groan. 1\n",
      "speedy 1\n",
      "voyage; 1\n",
      "free-footed. 1\n",
      "closet: 1\n",
      "convey 1\n",
      "tax 1\n",
      "wisely 1\n",
      "partial, 1\n",
      "o'erhear 1\n",
      "vantage. 1\n",
      "liege: 1\n",
      "smells 1\n",
      "primal 1\n",
      "eldest 1\n",
      "curse 1\n",
      "upon't, 1\n",
      "sharp 1\n",
      "defeats 1\n",
      "intent; 1\n",
      "pause 1\n",
      "neglect. 1\n",
      "thicker 1\n",
      "rain 1\n",
      "snow? 1\n",
      "confront 1\n",
      "two-fold 1\n",
      "force, 1\n",
      "forestalled 1\n",
      "down? 1\n",
      "past. 1\n",
      "turn? 1\n",
      "'forgive 1\n",
      "murder'? 1\n",
      "possess'd 1\n",
      "effects 1\n",
      "retain 1\n",
      "corrupted 1\n",
      "offence's 1\n",
      "gilded 1\n",
      "shove 1\n",
      "justice, 1\n",
      "prize 1\n",
      "buys 1\n",
      "law: 1\n",
      "above; 1\n",
      "compell'd, 1\n",
      "teeth 1\n",
      "faults, 1\n",
      "evidence. 1\n",
      "rests? 1\n",
      "repentance 1\n",
      "can: 1\n",
      "repent? 1\n",
      "state! 1\n",
      "death! 1\n",
      "limed 1\n",
      "struggling 1\n",
      "engaged! 1\n",
      "angels! 1\n",
      "assay! 1\n",
      "bow, 1\n",
      "stubborn 1\n",
      "knees; 1\n",
      "strings 1\n",
      "steel, 1\n",
      "sinews 1\n",
      "newborn 1\n",
      "babe! 1\n",
      "retires 1\n",
      "kneels 1\n",
      "pat, 1\n",
      "praying; 1\n",
      "revenged. 1\n",
      "scann'd: 1\n",
      "sole 1\n",
      "hire 1\n",
      "salary, 1\n",
      "grossly, 1\n",
      "bread; 1\n",
      "blown, 1\n",
      "flush 1\n",
      "may; 1\n",
      "audit 1\n",
      "knows 1\n",
      "revenged, 1\n",
      "season'd 1\n",
      "passage? 1\n",
      "no! 1\n",
      "hent: 1\n",
      "drunk 1\n",
      "rage, 1\n",
      "salvation 1\n",
      "trip 1\n",
      "kick 1\n",
      "goes. 1\n",
      "stays: 1\n",
      "physic 1\n",
      "prolongs 1\n",
      "days. 1\n",
      "[rising] 1\n",
      "below: 1\n",
      "queen's 1\n",
      "closet. 1\n",
      "straight. 1\n",
      "pranks 1\n",
      "screen'd 1\n",
      "coming. 1\n",
      "hides 1\n",
      "rood, 1\n",
      "and--would 1\n",
      "so!--you 1\n",
      "down; 1\n",
      "budge; 1\n",
      "inmost 1\n",
      "help! 1\n",
      "[drawing] 1\n",
      "rat? 1\n",
      "ducat, 1\n",
      "dead! 1\n",
      "slain! 1\n",
      "rash 1\n",
      "lifts 1\n",
      "array 1\n",
      "discovers 1\n",
      "intruding 1\n",
      "fool, 1\n",
      "fortune; 1\n",
      "find'st 1\n",
      "busy 1\n",
      "danger. 1\n",
      "wringing 1\n",
      "hands: 1\n",
      "wring 1\n",
      "penetrable 1\n",
      "stuff, 1\n",
      "brass'd 1\n",
      "bulwark 1\n",
      "darest 1\n",
      "wag 1\n",
      "blurs 1\n",
      "blush 1\n",
      "modesty, 1\n",
      "hypocrite, 1\n",
      "innocent 1\n",
      "blister 1\n",
      "marriage-vows 1\n",
      "dicers' 1\n",
      "oaths: 1\n",
      "contraction 1\n",
      "religion 1\n",
      "rhapsody 1\n",
      "words: 1\n",
      "heaven's 1\n",
      "glow: 1\n",
      "solidity 1\n",
      "compound 1\n",
      "tristful 1\n",
      "doom, 1\n",
      "thought-sick 1\n",
      "ay 1\n",
      "roars 1\n",
      "thunders 1\n",
      "index? 1\n",
      "picture, 1\n",
      "counterfeit 1\n",
      "presentment 1\n",
      "brothers. 1\n",
      "seated 1\n",
      "brow; 1\n",
      "hyperion's 1\n",
      "curls; 1\n",
      "front 1\n",
      "mars, 1\n",
      "threaten 1\n",
      "herald 1\n",
      "mercury 1\n",
      "new-lighted 1\n",
      "heaven-kissing 1\n",
      "hill; 1\n",
      "combination 1\n",
      "husband. 1\n",
      "follows: 1\n",
      "husband; 1\n",
      "mildew'd 1\n",
      "blasting 1\n",
      "feed, 1\n",
      "batten 1\n",
      "moor? 1\n",
      "hey-day 1\n",
      "humble, 1\n",
      "waits 1\n",
      "judgment: 1\n",
      "motion; 1\n",
      "apoplex'd; 1\n",
      "err, 1\n",
      "thrall'd 1\n",
      "reserved 1\n",
      "choice, 1\n",
      "cozen'd 1\n",
      "hoodman-blind? 1\n",
      "feeling, 1\n",
      "smelling 1\n",
      "sans 1\n",
      "mope. 1\n",
      "blush? 1\n",
      "mutine 1\n",
      "matron's 1\n",
      "wax, 1\n",
      "compulsive 1\n",
      "ardour 1\n",
      "frost 1\n",
      "actively 1\n",
      "panders 1\n",
      "turn'st 1\n",
      "soul; 1\n",
      "grained 1\n",
      "spots 1\n",
      "tinct. 1\n",
      "enseamed 1\n",
      "stew'd 1\n",
      "honeying 1\n",
      "nasty 1\n",
      "sty,-- 1\n",
      "daggers, 1\n",
      "ears; 1\n",
      "twentieth 1\n",
      "tithe 1\n",
      "kings; 1\n",
      "cutpurse 1\n",
      "rule, 1\n",
      "shelf 1\n",
      "pocket! 1\n",
      "more! 1\n",
      "shreds 1\n",
      "patches,-- 1\n",
      "hover 1\n",
      "wings, 1\n",
      "guards! 1\n",
      "figure? 1\n",
      "mad! 1\n",
      "chide, 1\n",
      "lapsed 1\n",
      "important 1\n",
      "acting 1\n",
      "command? 1\n",
      "say! 1\n",
      "forget: 1\n",
      "whet 1\n",
      "blunted 1\n",
      "sits: 1\n",
      "fighting 1\n",
      "weakest 1\n",
      "strongest 1\n",
      "works: 1\n",
      "vacancy 1\n",
      "incorporal 1\n",
      "discourse? 1\n",
      "peep; 1\n",
      "alarm, 1\n",
      "bedded 1\n",
      "hair, 1\n",
      "excrements, 1\n",
      "starts 1\n",
      "distemper 1\n",
      "sprinkle 1\n",
      "cool 1\n",
      "look? 1\n",
      "glares! 1\n",
      "conjoin'd, 1\n",
      "preaching 1\n",
      "stones, 1\n",
      "capable. 1\n",
      "stern 1\n",
      "effects: 1\n",
      "colour; 1\n",
      "steals 1\n",
      "lived! 1\n",
      "portal! 1\n",
      "coinage 1\n",
      "brain: 1\n",
      "bodiless 1\n",
      "creation 1\n",
      "ecstasy! 1\n",
      "pulse, 1\n",
      "temperately 1\n",
      "healthful 1\n",
      "music: 1\n",
      "utter'd: 1\n",
      "test, 1\n",
      "re-word; 1\n",
      "gambol 1\n",
      "from. 1\n",
      "mattering 1\n",
      "trespass, 1\n",
      "speaks: 1\n",
      "skin 1\n",
      "film 1\n",
      "ulcerous 1\n",
      "mining 1\n",
      "within, 1\n",
      "infects 1\n",
      "unseen. 1\n",
      "repent 1\n",
      "past; 1\n",
      "compost 1\n",
      "ranker. 1\n",
      "forgive 1\n",
      "virtue; 1\n",
      "fatness 1\n",
      "pursy 1\n",
      "curb 1\n",
      "woo 1\n",
      "cleft 1\n",
      "twain. 1\n",
      "worser 1\n",
      "purer 1\n",
      "half. 1\n",
      "uncle's 1\n",
      "monster, 1\n",
      "custom, 1\n",
      "eat, 1\n",
      "habits 1\n",
      "likewise 1\n",
      "frock 1\n",
      "aptly 1\n",
      "refrain 1\n",
      "easiness 1\n",
      "abstinence: 1\n",
      "easy; 1\n",
      "[ 1\n",
      "] 1\n",
      "potency. 1\n",
      "desirous 1\n",
      "bless'd, 1\n",
      "pointing 1\n",
      "repent: 1\n",
      "punish 1\n",
      "minister. 1\n",
      "kind: 1\n",
      "behind. 1\n",
      "lady. 1\n",
      "bloat 1\n",
      "pinch 1\n",
      "cheek; 1\n",
      "mouse; 1\n",
      "reechy 1\n",
      "kisses, 1\n",
      "paddling 1\n",
      "fingers, 1\n",
      "ravel 1\n",
      "essentially 1\n",
      "craft. 1\n",
      "sober, 1\n",
      "wise, 1\n",
      "paddock, 1\n",
      "bat, 1\n",
      "gib, 1\n",
      "concernings 1\n",
      "hide? 1\n",
      "despite 1\n",
      "secrecy, 1\n",
      "unpeg 1\n",
      "house's 1\n",
      "top. 1\n",
      "birds 1\n",
      "fly, 1\n",
      "famous 1\n",
      "conclusions, 1\n",
      "creep, 1\n",
      "assured, 1\n",
      "forgot: 1\n",
      "concluded 1\n",
      "seal'd: 1\n",
      "schoolfellows, 1\n",
      "adders 1\n",
      "fang'd, 1\n",
      "mandate; 1\n",
      "way, 1\n",
      "marshal 1\n",
      "knavery. 1\n",
      "work; 1\n",
      "engineer 1\n",
      "hoist 1\n",
      "petard: 1\n",
      "delve 1\n",
      "yard 1\n",
      "mines, 1\n",
      "line 1\n",
      "crafts 1\n",
      "packing: 1\n",
      "lug 1\n",
      "neighbour 1\n",
      "room. 1\n",
      "counsellor 1\n",
      "grave, 1\n",
      "prating 1\n",
      "severally; 1\n",
      "dragging 1\n",
      "iv 1\n",
      "sighs, 1\n",
      "heaves: 1\n",
      "translate: 1\n",
      "son? 1\n",
      "while. 1\n",
      "to-night! 1\n",
      "gertrude? 1\n",
      "contend 1\n",
      "mightier: 1\n",
      "stir, 1\n",
      "rapier, 1\n",
      "cries, 1\n",
      "rat, 1\n",
      "rat!' 1\n",
      "brainish 1\n",
      "apprehension, 1\n",
      "unseen 1\n",
      "there: 1\n",
      "liberty 1\n",
      "threats 1\n",
      "answer'd? 1\n",
      "short, 1\n",
      "restrain'd 1\n",
      "haunt, 1\n",
      "fit; 1\n",
      "owner 1\n",
      "disease, 1\n",
      "divulging, 1\n",
      "gone? 1\n",
      "apart 1\n",
      "kill'd: 1\n",
      "ore 1\n",
      "among 1\n",
      "mineral 1\n",
      "metals 1\n",
      "pure; 1\n",
      "weeps 1\n",
      "mountains 1\n",
      "ship 1\n",
      "hence: 1\n",
      "skill, 1\n",
      "excuse. 1\n",
      "aid: 1\n",
      "slain, 1\n",
      "closet 1\n",
      "dragg'd 1\n",
      "out; 1\n",
      "untimely 1\n",
      "discord 1\n",
      "dismay. 1\n",
      "safely 1\n",
      "stowed. 1\n",
      "guildenstern: 1\n",
      "noise? 1\n",
      "body? 1\n",
      "compounded 1\n",
      "dust, 1\n",
      "kin. 1\n",
      "'tis, 1\n",
      "counsel 1\n",
      "own. 1\n",
      "besides, 1\n",
      "demanded 1\n",
      "sponge! 1\n",
      "replication 1\n",
      "soaks 1\n",
      "countenance, 1\n",
      "rewards, 1\n",
      "authorities. 1\n",
      "officers 1\n",
      "end: 1\n",
      "corner 1\n",
      "jaw; 1\n",
      "mouthed, 1\n",
      "swallowed: 1\n",
      "gleaned, 1\n",
      "squeezing 1\n",
      "thing-- 1\n",
      "fox, 1\n",
      "attended 1\n",
      "loose! 1\n",
      "multitude, 1\n",
      "offender's 1\n",
      "offence. 1\n",
      "sending 1\n",
      "deliberate 1\n",
      "diseases 1\n",
      "appliance 1\n",
      "relieved, 1\n",
      "befall'n? 1\n",
      "bestow'd, 1\n",
      "guarded, 1\n",
      "pleasure. 1\n",
      "supper. 1\n",
      "supper! 1\n",
      "eats, 1\n",
      "eaten: 1\n",
      "convocation 1\n",
      "politic 1\n",
      "worms 1\n",
      "emperor 1\n",
      "diet: 1\n",
      "maggots: 1\n",
      "lean 1\n",
      "service, 1\n",
      "dishes, 1\n",
      "table: 1\n",
      "alas! 1\n",
      "worm. 1\n",
      "progress 1\n",
      "beggar. 1\n",
      "nose 1\n",
      "stairs 1\n",
      "deed, 1\n",
      "especial 1\n",
      "safety,-- 1\n",
      "tender, 1\n",
      "dearly 1\n",
      "grieve 1\n",
      "done,--must 1\n",
      "quickness: 1\n",
      "thyself; 1\n",
      "bark 1\n",
      "ready, 1\n",
      "associates 1\n",
      "tend, 1\n",
      "knew'st 1\n",
      "purposes. 1\n",
      "cherub 1\n",
      "sees 1\n",
      "wife 1\n",
      "flesh; 1\n",
      "foot; 1\n",
      "aboard; 1\n",
      "delay 1\n",
      "to-night: 1\n",
      "leans 1\n",
      "affair: 1\n",
      "hold'st 1\n",
      "aught-- 1\n",
      "thereof 1\n",
      "cicatrice 1\n",
      "raw 1\n",
      "red 1\n",
      "awe 1\n",
      "pays 1\n",
      "homage 1\n",
      "us--thou 1\n",
      "mayst 1\n",
      "congruing 1\n",
      "hectic 1\n",
      "rages, 1\n",
      "cure 1\n",
      "howe'er 1\n",
      "haps, 1\n",
      "joys 1\n",
      "begun. 1\n",
      "marching 1\n",
      "greet 1\n",
      "licence, 1\n",
      "craves 1\n",
      "conveyance 1\n",
      "rendezvous. 1\n",
      "eye; 1\n",
      "softly 1\n",
      "these? 1\n",
      "purposed, 1\n",
      "poland. 1\n",
      "commands 1\n",
      "nephews 1\n",
      "frontier? 1\n",
      "addition, 1\n",
      "name. 1\n",
      "ducats, 1\n",
      "five, 1\n",
      "ranker 1\n",
      "rate, 1\n",
      "sold 1\n",
      "fee. 1\n",
      "garrison'd. 1\n",
      "souls 1\n",
      "debate 1\n",
      "straw: 1\n",
      "imposthume 1\n",
      "wealth 1\n",
      "breaks, 1\n",
      "dies. 1\n",
      "straight 1\n",
      "before. 1\n",
      "occasions 1\n",
      "spur 1\n",
      "revenge! 1\n",
      "market 1\n",
      "feed? 1\n",
      "large 1\n",
      "discourse, 1\n",
      "looking 1\n",
      "after, 1\n",
      "capability 1\n",
      "god-like 1\n",
      "fust 1\n",
      "unused. 1\n",
      "bestial 1\n",
      "oblivion, 1\n",
      "craven 1\n",
      "scruple 1\n",
      "precisely 1\n",
      "quarter'd, 1\n",
      "coward, 1\n",
      "thing's 1\n",
      "do;' 1\n",
      "examples 1\n",
      "exhort 1\n",
      "army 1\n",
      "mass 1\n",
      "led 1\n",
      "divine 1\n",
      "mouths 1\n",
      "invisible 1\n",
      "exposing 1\n",
      "unsure 1\n",
      "dare, 1\n",
      "egg-shell. 1\n",
      "rightly 1\n",
      "greatly 1\n",
      "quarrel 1\n",
      "straw 1\n",
      "honour's 1\n",
      "stake. 1\n",
      "kill'd, 1\n",
      "stain'd, 1\n",
      "excitements 1\n",
      "sleep? 1\n",
      "shame, 1\n",
      "imminent 1\n",
      "fantasy 1\n",
      "fame, 1\n",
      "beds, 1\n",
      "plot 1\n",
      "numbers 1\n",
      "tomb 1\n",
      "slain? 1\n",
      "worth! 1\n",
      "importunate, 1\n",
      "distract: 1\n",
      "mood 1\n",
      "pitied. 1\n",
      "tricks 1\n",
      "world; 1\n",
      "hems, 1\n",
      "beats 1\n",
      "enviously 1\n",
      "straws; 1\n",
      "doubt, 1\n",
      "sense: 1\n",
      "unshaped 1\n",
      "hearers 1\n",
      "collection; 1\n",
      "aim 1\n",
      "botch 1\n",
      "thoughts; 1\n",
      "winks, 1\n",
      "nods, 1\n",
      "gestures 1\n",
      "unhappily. 1\n",
      "spoken 1\n",
      "with; 1\n",
      "strew 1\n",
      "conjectures 1\n",
      "ill-breeding 1\n",
      "minds. 1\n",
      "sin's 1\n",
      "amiss: 1\n",
      "artless 1\n",
      "jealousy 1\n",
      "guilt, 1\n",
      "spills 1\n",
      "fearing 1\n",
      "spilt. 1\n",
      "beauteous 1\n",
      "one? 1\n",
      "cockle 1\n",
      "staff, 1\n",
      "sandal 1\n",
      "shoon. 1\n",
      "song? 1\n",
      "grass-green 1\n",
      "turf, 1\n",
      "stone. 1\n",
      "ophelia,-- 1\n",
      "shroud 1\n",
      "snow,-- 1\n",
      "bewept 1\n",
      "true-love 1\n",
      "showers. 1\n",
      "'ild 1\n",
      "you! 1\n",
      "owl 1\n",
      "baker's 1\n",
      "are, 1\n",
      "table! 1\n",
      "valentine's 1\n",
      "betime, 1\n",
      "window, 1\n",
      "valentine. 1\n",
      "rose, 1\n",
      "donn'd 1\n",
      "clothes, 1\n",
      "dupp'd 1\n",
      "chamber-door; 1\n",
      "departed 1\n",
      "la, 1\n",
      "on't: 1\n",
      "gis 1\n",
      "charity, 1\n",
      "to't; 1\n",
      "quoth 1\n",
      "tumbled 1\n",
      "wed. 1\n",
      "sun, 1\n",
      "patient: 1\n",
      "counsel. 1\n",
      "coach! 1\n",
      "close; 1\n",
      "springs 1\n",
      "sorrows 1\n",
      "spies 1\n",
      "battalions. 1\n",
      "slain: 1\n",
      "remove: 1\n",
      "people 1\n",
      "muddied, 1\n",
      "unwholesome 1\n",
      "whispers, 1\n",
      "greenly, 1\n",
      "hugger-mugger 1\n",
      "inter 1\n",
      "divided 1\n",
      "pictures, 1\n",
      "beasts: 1\n",
      "containing 1\n",
      "feeds 1\n",
      "clouds, 1\n",
      "buzzers 1\n",
      "infect 1\n",
      "speeches 1\n",
      "necessity, 1\n",
      "beggar'd, 1\n",
      "arraign 1\n",
      "murdering-piece, 1\n",
      "places 1\n",
      "superfluous 1\n",
      "switzers? 1\n",
      "guard 1\n",
      "ocean, 1\n",
      "overpeering 1\n",
      "eats 1\n",
      "flats 1\n",
      "impetuous 1\n",
      "riotous 1\n",
      "o'erbears 1\n",
      "officers. 1\n",
      "rabble 1\n",
      "antiquity 1\n",
      "forgot, 1\n",
      "known, 1\n",
      "ratifiers 1\n",
      "props 1\n",
      "'choose 1\n",
      "we: 1\n",
      "king:' 1\n",
      "caps, 1\n",
      "applaud 1\n",
      "clouds: 1\n",
      "'laertes 1\n",
      "king!' 1\n",
      "cry! 1\n",
      "counter, 1\n",
      "dogs! 1\n",
      "broke. 1\n",
      "armed; 1\n",
      "following 1\n",
      "without. 1\n",
      "retire 1\n",
      "calmly, 1\n",
      "drop 1\n",
      "bastard, 1\n",
      "cuckold 1\n",
      "brands 1\n",
      "harlot 1\n",
      "unsmirched 1\n",
      "rebellion 1\n",
      "giant-like? 1\n",
      "gertrude; 1\n",
      "person: 1\n",
      "hedge 1\n",
      "peep 1\n",
      "acts 1\n",
      "gertrude. 1\n",
      "fill. 1\n",
      "dead? 1\n",
      "juggled 1\n",
      "with: 1\n",
      "allegiance! 1\n",
      "blackest 1\n",
      "devil! 1\n",
      "profoundest 1\n",
      "pit! 1\n",
      "damnation. 1\n",
      "worlds 1\n",
      "negligence, 1\n",
      "comes; 1\n",
      "revenged 1\n",
      "thoroughly 1\n",
      "certainty 1\n",
      "swoopstake, 1\n",
      "foe, 1\n",
      "winner 1\n",
      "loser? 1\n",
      "ope 1\n",
      "arms; 1\n",
      "life-rendering 1\n",
      "pelican, 1\n",
      "repast 1\n",
      "child 1\n",
      "guiltless 1\n",
      "level 1\n",
      "pierce 1\n",
      "brains! 1\n",
      "seven 1\n",
      "salt, 1\n",
      "eye! 1\n",
      "paid 1\n",
      "weight, 1\n",
      "beam. 1\n",
      "may! 1\n",
      "possible, 1\n",
      "maid's 1\n",
      "moral 1\n",
      "life? 1\n",
      "fine, 1\n",
      "instance 1\n",
      "barefaced 1\n",
      "bier; 1\n",
      "non 1\n",
      "nonny; 1\n",
      "rain'd 1\n",
      "tear:-- 1\n",
      "dove! 1\n",
      "wits, 1\n",
      "persuade 1\n",
      "a-down 1\n",
      "a-down, 1\n",
      "a-down-a. 1\n",
      "wheel 1\n",
      "steward, 1\n",
      "stole 1\n",
      "master's 1\n",
      "nothing's 1\n",
      "rosemary, 1\n",
      "remembrance; 1\n",
      "pray, 1\n",
      "remember: 1\n",
      "pansies. 1\n",
      "document 1\n",
      "fitted. 1\n",
      "fennel 1\n",
      "columbines: 1\n",
      "herb-grace 1\n",
      "sundays: 1\n",
      "daisy: 1\n",
      "violets, 1\n",
      "withered 1\n",
      "died: 1\n",
      "end,-- 1\n",
      "bonny 1\n",
      "robin 1\n",
      "joy. 1\n",
      "affliction, 1\n",
      "itself, 1\n",
      "turns 1\n",
      "prettiness. 1\n",
      "death-bed: 1\n",
      "flaxen 1\n",
      "poll: 1\n",
      "moan: 1\n",
      "god. 1\n",
      "ye. 1\n",
      "commune 1\n",
      "apart, 1\n",
      "collateral 1\n",
      "touch'd, 1\n",
      "give, 1\n",
      "satisfaction; 1\n",
      "jointly 1\n",
      "labour 1\n",
      "due 1\n",
      "content. 1\n",
      "obscure 1\n",
      "funeral-- 1\n",
      "trophy, 1\n",
      "hatchment 1\n",
      "rite 1\n",
      "formal 1\n",
      "ostentation-- 1\n",
      "call't 1\n",
      "shall; 1\n",
      "axe 1\n",
      "fall. 1\n",
      "vi. 1\n",
      "greeted, 1\n",
      "sailors 1\n",
      "an't 1\n",
      "letter 1\n",
      "[reads] 1\n",
      "'horatio, 1\n",
      "overlooked 1\n",
      "pirate 1\n",
      "appointment 1\n",
      "chase. 1\n",
      "compelled 1\n",
      "valour, 1\n",
      "boarded 1\n",
      "clear 1\n",
      "ship; 1\n",
      "became 1\n",
      "prisoner. 1\n",
      "dealt 1\n",
      "thieves 1\n",
      "mercy: 1\n",
      "sent; 1\n",
      "dumb; 1\n",
      "am. 1\n",
      "england: 1\n",
      "'he 1\n",
      "knowest 1\n",
      "letters; 1\n",
      "do't 1\n",
      "speedier, 1\n",
      "vii. 1\n",
      "acquaintance 1\n",
      "slain 1\n",
      "pursued 1\n",
      "appears: 1\n",
      "proceeded 1\n",
      "feats, 1\n",
      "crimeful 1\n",
      "safety, 1\n",
      "wisdom, 1\n",
      "else, 1\n",
      "mainly 1\n",
      "stirr'd 1\n",
      "reasons; 1\n",
      "perhaps, 1\n",
      "unsinew'd, 1\n",
      "strong. 1\n",
      "myself-- 1\n",
      "plague, 1\n",
      "which-- 1\n",
      "conjunctive 1\n",
      "sphere, 1\n",
      "public 1\n",
      "gender 1\n",
      "dipping 1\n",
      "spring 1\n",
      "turneth 1\n",
      "wood 1\n",
      "stone, 1\n",
      "gyves 1\n",
      "graces; 1\n",
      "arrows, 1\n",
      "slightly 1\n",
      "timber'd 1\n",
      "loud 1\n",
      "reverted 1\n",
      "aim'd 1\n",
      "lost; 1\n",
      "driven 1\n",
      "praises 1\n",
      "challenger 1\n",
      "mount 1\n",
      "perfections: 1\n",
      "shook 1\n",
      "pastime. 1\n",
      "ourself; 1\n",
      "imagine-- 1\n",
      "letters, 1\n",
      "majesty; 1\n",
      "say; 1\n",
      "claudio; 1\n",
      "'high 1\n",
      "mighty, 1\n",
      "naked 1\n",
      "kingly 1\n",
      "eyes: 1\n",
      "asking 1\n",
      "thereunto, 1\n",
      "recount 1\n",
      "return. 1\n",
      "'hamlet.' 1\n",
      "mean? 1\n",
      "back? 1\n",
      "abuse, 1\n",
      "thing? 1\n",
      "hand? 1\n",
      "hamlets 1\n",
      "'naked! 1\n",
      "postscript 1\n",
      "'alone.' 1\n",
      "advise 1\n",
      "warms 1\n",
      "sickness 1\n",
      "teeth, 1\n",
      "'thus 1\n",
      "didest 1\n",
      "thou.' 1\n",
      "laertes-- 1\n",
      "otherwise?-- 1\n",
      "ruled 1\n",
      "o'errule 1\n",
      "return'd, 1\n",
      "checking 1\n",
      "voyage, 1\n",
      "undertake 1\n",
      "exploit, 1\n",
      "ripe 1\n",
      "device, 1\n",
      "fall: 1\n",
      "breathe, 1\n",
      "uncharge 1\n",
      "devise 1\n",
      "travel 1\n",
      "wherein, 1\n",
      "shine: 1\n",
      "sum 1\n",
      "regard, 1\n",
      "unworthiest 1\n",
      "siege. 1\n",
      "riband 1\n",
      "careless 1\n",
      "livery 1\n",
      "settled 1\n",
      "sables 1\n",
      "graveness. 1\n",
      "normandy:-- 1\n",
      "served 1\n",
      "against, 1\n",
      "french, 1\n",
      "horseback: 1\n",
      "gallant 1\n",
      "grew 1\n",
      "seat; 1\n",
      "doing 1\n",
      "incorpsed 1\n",
      "demi-natured 1\n",
      "beast: 1\n",
      "topp'd 1\n",
      "forgery 1\n",
      "tricks, 1\n",
      "did. 1\n",
      "norman 1\n",
      "was't? 1\n",
      "norman. 1\n",
      "lamond. 1\n",
      "same. 1\n",
      "brooch 1\n",
      "gem 1\n",
      "nation. 1\n",
      "masterly 1\n",
      "defence 1\n",
      "'twould 1\n",
      "match 1\n",
      "scrimers 1\n",
      "nation, 1\n",
      "swore, 1\n",
      "guard, 1\n",
      "envenom 1\n",
      "o'er, 1\n",
      "painting 1\n",
      "sorrow, 1\n",
      "time; 1\n",
      "passages 1\n",
      "proof, 1\n",
      "qualifies 1\n",
      "spark 1\n",
      "wick 1\n",
      "snuff 1\n",
      "abate 1\n",
      "goodness 1\n",
      "goodness, 1\n",
      "growing 1\n",
      "plurisy, 1\n",
      "much: 1\n",
      "would; 1\n",
      "'would' 1\n",
      "changes 1\n",
      "abatements 1\n",
      "delays 1\n",
      "accidents; 1\n",
      "'should' 1\n",
      "spendthrift 1\n",
      "hurts 1\n",
      "easing. 1\n",
      "ulcer:-- 1\n",
      "back: 1\n",
      "undertake, 1\n",
      "words? 1\n",
      "church. 1\n",
      "sanctuarize; 1\n",
      "bounds. 1\n",
      "close 1\n",
      "chamber. 1\n",
      "praise 1\n",
      "varnish 1\n",
      "fame 1\n",
      "frenchman 1\n",
      "heads: 1\n",
      "remiss, 1\n",
      "contriving, 1\n",
      "peruse 1\n",
      "foils; 1\n",
      "unbated, 1\n",
      "do't: 1\n",
      "anoint 1\n",
      "bought 1\n",
      "mountebank, 1\n",
      "dip 1\n",
      "knife 1\n",
      "cataplasm 1\n",
      "rare, 1\n",
      "collected 1\n",
      "simples 1\n",
      "scratch'd 1\n",
      "contagion, 1\n",
      "slightly, 1\n",
      "convenience 1\n",
      "shape: 1\n",
      "fail, 1\n",
      "performance, 1\n",
      "assay'd: 1\n",
      "project 1\n",
      "second, 1\n",
      "cunnings: 1\n",
      "ha't. 1\n",
      "motion 1\n",
      "dry-- 1\n",
      "bouts 1\n",
      "end-- 1\n",
      "prepared 1\n",
      "chalice 1\n",
      "nonce, 1\n",
      "sipping, 1\n",
      "chance 1\n",
      "venom'd 1\n",
      "stuck, 1\n",
      "queen! 1\n",
      "tread 1\n",
      "another's 1\n",
      "heel, 1\n",
      "sister's 1\n",
      "drown'd! 1\n",
      "willow 1\n",
      "aslant 1\n",
      "brook, 1\n",
      "hoar 1\n",
      "glassy 1\n",
      "stream; 1\n",
      "fantastic 1\n",
      "garlands 1\n",
      "crow-flowers, 1\n",
      "nettles, 1\n",
      "daisies, 1\n",
      "purples 1\n",
      "shepherds 1\n",
      "grosser 1\n",
      "maids 1\n",
      "pendent 1\n",
      "boughs 1\n",
      "coronet 1\n",
      "clambering 1\n",
      "hang, 1\n",
      "envious 1\n",
      "sliver 1\n",
      "broke; 1\n",
      "weedy 1\n",
      "trophies 1\n",
      "weeping 1\n",
      "brook. 1\n",
      "clothes 1\n",
      "mermaid-like, 1\n",
      "up: 1\n",
      "chanted 1\n",
      "snatches 1\n",
      "tunes; 1\n",
      "incapable 1\n",
      "distress, 1\n",
      "indued 1\n",
      "element: 1\n",
      "garments, 1\n",
      "pull'd 1\n",
      "melodious 1\n",
      "muddy 1\n",
      "drown'd? 1\n",
      "drown'd. 1\n",
      "tears: 1\n",
      "trick; 1\n",
      "holds, 1\n",
      "blaze, 1\n",
      "folly 1\n",
      "douts 1\n",
      "gertrude: 1\n",
      "rage! 1\n",
      "follow. 1\n",
      "v 1\n",
      "churchyard. 1\n",
      "clowns, 1\n",
      "spades, 1\n",
      "burial 1\n",
      "wilfully 1\n",
      "seeks 1\n",
      "salvation? 1\n",
      "crowner 1\n",
      "defence? 1\n",
      "'se 1\n",
      "offendendo;' 1\n",
      "else. 1\n",
      "point: 1\n",
      "wittingly, 1\n",
      "argues 1\n",
      "act: 1\n",
      "branches: 1\n",
      "perform: 1\n",
      "wittingly. 1\n",
      "goodman 1\n",
      "delver,-- 1\n",
      "water; 1\n",
      "man; 1\n",
      "water, 1\n",
      "nill 1\n",
      "goes,--mark 1\n",
      "drowns 1\n",
      "himself: 1\n",
      "shortens 1\n",
      "law? 1\n",
      "is't; 1\n",
      "crowner's 1\n",
      "quest 1\n",
      "law. 1\n",
      "gentlewoman, 1\n",
      "say'st: 1\n",
      "folk 1\n",
      "themselves, 1\n",
      "christian. 1\n",
      "spade. 1\n",
      "ancient 1\n",
      "gardeners, 1\n",
      "ditchers, 1\n",
      "grave-makers: 1\n",
      "adam's 1\n",
      "profession. 1\n",
      "arms. 1\n",
      "none. 1\n",
      "heathen? 1\n",
      "scripture? 1\n",
      "scripture 1\n",
      "'adam 1\n",
      "digged:' 1\n",
      "arms? 1\n",
      "answerest 1\n",
      "thyself-- 1\n",
      "carpenter? 1\n",
      "gallows-maker; 1\n",
      "outlives 1\n",
      "tenants. 1\n",
      "faith: 1\n",
      "in: 1\n",
      "built 1\n",
      "church: 1\n",
      "'who 1\n",
      "carpenter?' 1\n",
      "unyoke. 1\n",
      "distance 1\n",
      "cudgel 1\n",
      "mend 1\n",
      "pace 1\n",
      "beating; 1\n",
      "asked 1\n",
      "grave-maker: 1\n",
      "houses 1\n",
      "doomsday. 1\n",
      "yaughan: 1\n",
      "stoup 1\n",
      "liquor. 1\n",
      "digs 1\n",
      "contract, 1\n",
      "behove, 1\n",
      "methought, 1\n",
      "business, 1\n",
      "grave-making? 1\n",
      "easiness. 1\n",
      "employment 1\n",
      "daintier 1\n",
      "age, 1\n",
      "stealing 1\n",
      "steps, 1\n",
      "claw'd 1\n",
      "clutch, 1\n",
      "shipped 1\n",
      "intil 1\n",
      "such. 1\n",
      "once: 1\n",
      "jowls 1\n",
      "cain's 1\n",
      "jaw-bone, 1\n",
      "politician, 1\n",
      "o'er-reaches; 1\n",
      "circumvent 1\n",
      "courtier; 1\n",
      "morrow, 1\n",
      "lord?' 1\n",
      "such-a-one, 1\n",
      "such-a-one's 1\n",
      "worm's; 1\n",
      "chapless, 1\n",
      "knocked 1\n",
      "mazzard 1\n",
      "sexton's 1\n",
      "spade: 1\n",
      "revolution, 1\n",
      "see't. 1\n",
      "bones 1\n",
      "breeding, 1\n",
      "loggats 1\n",
      "ache 1\n",
      "on't. 1\n",
      "pick-axe, 1\n",
      "shrouding 1\n",
      "sheet: 1\n",
      "lawyer? 1\n",
      "quiddities 1\n",
      "quillets, 1\n",
      "cases, 1\n",
      "tenures, 1\n",
      "tricks? 1\n",
      "knock 1\n",
      "dirty 1\n",
      "shovel, 1\n",
      "battery? 1\n",
      "hum! 1\n",
      "buyer 1\n",
      "statutes, 1\n",
      "recognizances, 1\n",
      "vouchers, 1\n",
      "recoveries: 1\n",
      "recovery 1\n",
      "recoveries, 1\n",
      "dirt? 1\n",
      "vouchers 1\n",
      "vouch 1\n",
      "purchases, 1\n",
      "breadth 1\n",
      "indentures? 1\n",
      "conveyances 1\n",
      "hardly 1\n",
      "box; 1\n",
      "inheritor 1\n",
      "ha? 1\n",
      "jot 1\n",
      "parchment 1\n",
      "sheepskins? 1\n",
      "calf-skins 1\n",
      "sheep 1\n",
      "calves 1\n",
      "fellow. 1\n",
      "grave's 1\n",
      "sirrah? 1\n",
      "mine, 1\n",
      "indeed; 1\n",
      "in't. 1\n",
      "on't, 1\n",
      "yours: 1\n",
      "'thou 1\n",
      "in't 1\n",
      "thine: 1\n",
      "quick; 1\n",
      "liest. 1\n",
      "gain, 1\n",
      "neither. 1\n",
      "in't? 1\n",
      "card, 1\n",
      "equivocation 1\n",
      "undo 1\n",
      "years 1\n",
      "toe 1\n",
      "heel 1\n",
      "gaffs 1\n",
      "kibe. 1\n",
      "grave-maker? 1\n",
      "year, 1\n",
      "overcame 1\n",
      "since? 1\n",
      "born; 1\n",
      "england? 1\n",
      "because 1\n",
      "why? 1\n",
      "'twill, 1\n",
      "strangely, 1\n",
      "say. 1\n",
      "strangely? 1\n",
      "losing 1\n",
      "wits. 1\n",
      "ground? 1\n",
      "sexton 1\n",
      "boy, 1\n",
      "rot? 1\n",
      "die--as 1\n",
      "pocky 1\n",
      "corses 1\n",
      "now-a-days, 1\n",
      "in--he 1\n",
      "eight 1\n",
      "year 1\n",
      "tanner 1\n",
      "year. 1\n",
      "another? 1\n",
      "tanned 1\n",
      "trade, 1\n",
      "while; 1\n",
      "decayer 1\n",
      "lain 1\n",
      "fellow's 1\n",
      "was: 1\n",
      "was? 1\n",
      "pestilence 1\n",
      "rogue! 1\n",
      "poured 1\n",
      "flagon 1\n",
      "yorick's 1\n",
      "jester. 1\n",
      "yorick! 1\n",
      "fancy: 1\n",
      "times; 1\n",
      "abhorred 1\n",
      "gorge 1\n",
      "rims 1\n",
      "hung 1\n",
      "lips 1\n",
      "kissed 1\n",
      "oft. 1\n",
      "gibes 1\n",
      "gambols? 1\n",
      "songs? 1\n",
      "flashes 1\n",
      "merriment, 1\n",
      "roar? 1\n",
      "grinning? 1\n",
      "chap-fallen? 1\n",
      "lady's 1\n",
      "chamber, 1\n",
      "paint 1\n",
      "inch 1\n",
      "thick, 1\n",
      "thing. 1\n",
      "looked 1\n",
      "earth? 1\n",
      "smelt 1\n",
      "pah! 1\n",
      "return, 1\n",
      "alexander, 1\n",
      "stopping 1\n",
      "bung-hole? 1\n",
      "curiously, 1\n",
      "jot; 1\n",
      "thither 1\n",
      "likelihood 1\n",
      "died, 1\n",
      "buried, 1\n",
      "returneth 1\n",
      "dust; 1\n",
      "earth; 1\n",
      "loam; 1\n",
      "loam, 1\n",
      "converted, 1\n",
      "beer-barrel? 1\n",
      "imperious 1\n",
      "caesar, 1\n",
      "clay, 1\n",
      "hole 1\n",
      "awe, 1\n",
      "wall 1\n",
      "winter 1\n",
      "flaw! 1\n",
      "aside: 1\n",
      "c. 1\n",
      "procession; 1\n",
      "corpse 1\n",
      "mourners 1\n",
      "following; 1\n",
      "trains, 1\n",
      "courtiers: 1\n",
      "follow? 1\n",
      "maimed 1\n",
      "rites? 1\n",
      "betoken 1\n",
      "fordo 1\n",
      "life: 1\n",
      "retiring 1\n",
      "youth: 1\n",
      "obsequies 1\n",
      "enlarged 1\n",
      "warrantise: 1\n",
      "doubtful; 1\n",
      "o'ersways 1\n",
      "order, 1\n",
      "unsanctified 1\n",
      "lodged 1\n",
      "trumpet: 1\n",
      "charitable 1\n",
      "shards, 1\n",
      "flints 1\n",
      "pebbles 1\n",
      "her; 1\n",
      "allow'd 1\n",
      "virgin 1\n",
      "crants, 1\n",
      "strewments 1\n",
      "bringing 1\n",
      "done: 1\n",
      "profane 1\n",
      "requiem 1\n",
      "peace-parted 1\n",
      "souls. 1\n",
      "earth: 1\n",
      "unpolluted 1\n",
      "violets 1\n",
      "spring! 1\n",
      "churlish 1\n",
      "ministering 1\n",
      "howling. 1\n",
      "sweets 1\n",
      "sweet: 1\n",
      "scattering 1\n",
      "hoped 1\n",
      "bride-bed 1\n",
      "deck'd, 1\n",
      "strew'd 1\n",
      "ingenious 1\n",
      "deprived 1\n",
      "of! 1\n",
      "arms: 1\n",
      "pile 1\n",
      "o'ertop 1\n",
      "pelion, 1\n",
      "skyish 1\n",
      "blue 1\n",
      "olympus. 1\n",
      "[advancing] 1\n",
      "emphasis? 1\n",
      "conjures 1\n",
      "wandering 1\n",
      "wonder-wounded 1\n",
      "hearers? 1\n",
      "grappling 1\n",
      "pray'st 1\n",
      "throat; 1\n",
      "splenitive 1\n",
      "dangerous, 1\n",
      "wiseness 1\n",
      "asunder. 1\n",
      "gentlemen,-- 1\n",
      "quiet. 1\n",
      "until 1\n",
      "eyelids 1\n",
      "wag. 1\n",
      "theme? 1\n",
      "forty 1\n",
      "brothers 1\n",
      "sum. 1\n",
      "forbear 1\n",
      "weep? 1\n",
      "fight? 1\n",
      "thyself? 1\n",
      "eisel? 1\n",
      "crocodile? 1\n",
      "whine? 1\n",
      "outface 1\n",
      "leaping 1\n",
      "grave? 1\n",
      "i: 1\n",
      "prate 1\n",
      "mountains, 1\n",
      "millions 1\n",
      "acres 1\n",
      "singeing 1\n",
      "zone, 1\n",
      "ossa 1\n",
      "wart! 1\n",
      "rant 1\n",
      "thou. 1\n",
      "anon, 1\n",
      "female 1\n",
      "dove, 1\n",
      "couplets 1\n",
      "drooping. 1\n",
      "ever: 1\n",
      "matter; 1\n",
      "may, 1\n",
      "mew 1\n",
      "dog 1\n",
      "day. 1\n",
      "strengthen 1\n",
      "night's 1\n",
      "speech; 1\n",
      "push. 1\n",
      "monument: 1\n",
      "see; 1\n",
      "proceeding 1\n",
      "circumstance? 1\n",
      "fighting, 1\n",
      "mutines 1\n",
      "bilboes. 1\n",
      "rashly, 1\n",
      "rashness 1\n",
      "indiscretion 1\n",
      "pall: 1\n",
      "ends, 1\n",
      "rough-hew 1\n",
      "will,-- 1\n",
      "certain. 1\n",
      "cabin, 1\n",
      "sea-gown 1\n",
      "scarf'd 1\n",
      "dark 1\n",
      "groped 1\n",
      "finger'd 1\n",
      "packet, 1\n",
      "withdrew 1\n",
      "forgetting 1\n",
      "unseal 1\n",
      "grand 1\n",
      "commission; 1\n",
      "found, 1\n",
      "horatio,-- 1\n",
      "knavery!--an 1\n",
      "exact 1\n",
      "several 1\n",
      "sorts 1\n",
      "reasons 1\n",
      "england's 1\n",
      "bugs 1\n",
      "goblins 1\n",
      "supervise, 1\n",
      "leisure 1\n",
      "bated, 1\n",
      "grinding 1\n",
      "axe, 1\n",
      "commission: 1\n",
      "leisure. 1\n",
      "proceed? 1\n",
      "be-netted 1\n",
      "villanies,-- 1\n",
      "brains, 1\n",
      "play--i 1\n",
      "devised 1\n",
      "commission, 1\n",
      "wrote 1\n",
      "fair: 1\n",
      "statists 1\n",
      "baseness 1\n",
      "write 1\n",
      "labour'd 1\n",
      "learning, 1\n",
      "yeoman's 1\n",
      "service: 1\n",
      "wrote? 1\n",
      "earnest 1\n",
      "conjuration 1\n",
      "tributary, 1\n",
      "flourish, 1\n",
      "peace 1\n",
      "stiff 1\n",
      "wheaten 1\n",
      "garland 1\n",
      "comma 1\n",
      "'tween 1\n",
      "amities, 1\n",
      "such-like 1\n",
      "'as'es 1\n",
      "view 1\n",
      "contents, 1\n",
      "debatement 1\n",
      "further, 1\n",
      "shriving-time 1\n",
      "allow'd. 1\n",
      "seal'd? 1\n",
      "ordinant. 1\n",
      "signet 1\n",
      "purse, 1\n",
      "model 1\n",
      "seal; 1\n",
      "folded 1\n",
      "other, 1\n",
      "subscribed 1\n",
      "gave't 1\n",
      "impression, 1\n",
      "safely, 1\n",
      "changeling 1\n",
      "known. 1\n",
      "sea-fight; 1\n",
      "sequent 1\n",
      "employment; 1\n",
      "conscience; 1\n",
      "insinuation 1\n",
      "grow: 1\n",
      "incensed 1\n",
      "points 1\n",
      "mighty 1\n",
      "opposites. 1\n",
      "think'st 1\n",
      "upon-- 1\n",
      "whored 1\n",
      "popp'd 1\n",
      "hopes, 1\n",
      "angle 1\n",
      "cozenage--is't 1\n",
      "perfect 1\n",
      "conscience, 1\n",
      "arm? 1\n",
      "evil? 1\n",
      "short: 1\n",
      "interim 1\n",
      "life's 1\n",
      "'one.' 1\n",
      "sorry, 1\n",
      "myself; 1\n",
      "portraiture 1\n",
      "his: 1\n",
      "favours. 1\n",
      "bravery 1\n",
      "towering 1\n",
      "passion. 1\n",
      "water-fly? 1\n",
      "gracious; 1\n",
      "fertile: 1\n",
      "beast 1\n",
      "beasts, 1\n",
      "crib 1\n",
      "mess: 1\n",
      "chough; 1\n",
      "spacious 1\n",
      "possession 1\n",
      "dirt. 1\n",
      "diligence 1\n",
      "spirit. 1\n",
      "bonnet 1\n",
      "use; 1\n",
      "lordship, 1\n",
      "hot. 1\n",
      "cold; 1\n",
      "northerly. 1\n",
      "sultry 1\n",
      "complexion. 1\n",
      "exceedingly, 1\n",
      "sultry,--as 1\n",
      "'twere,--i 1\n",
      "how. 1\n",
      "bade 1\n",
      "matter,-- 1\n",
      "remember-- 1\n",
      "newly 1\n",
      "gentleman, 1\n",
      "differences, 1\n",
      "society 1\n",
      "showing: 1\n",
      "feelingly 1\n",
      "card 1\n",
      "calendar 1\n",
      "gentry, 1\n",
      "definement 1\n",
      "perdition 1\n",
      "inventorially 1\n",
      "dizzy 1\n",
      "arithmetic 1\n",
      "yaw 1\n",
      "sail. 1\n",
      "verity 1\n",
      "extolment, 1\n",
      "article; 1\n",
      "infusion 1\n",
      "dearth 1\n",
      "rareness, 1\n",
      "diction 1\n",
      "semblable 1\n",
      "mirror; 1\n",
      "umbrage, 1\n",
      "infallibly 1\n",
      "concernancy, 1\n",
      "wrap 1\n",
      "rawer 1\n",
      "breath? 1\n",
      "possible 1\n",
      "tongue? 1\n",
      "really. 1\n",
      "nomination 1\n",
      "empty 1\n",
      "already; 1\n",
      "spent. 1\n",
      "ignorant-- 1\n",
      "ignorant 1\n",
      "is-- 1\n",
      "compare 1\n",
      "excellence; 1\n",
      "weapon; 1\n",
      "imputation 1\n",
      "meed 1\n",
      "unfellowed. 1\n",
      "weapon? 1\n",
      "dagger. 1\n",
      "weapons: 1\n",
      "wagered 1\n",
      "horses: 1\n",
      "imponed, 1\n",
      "poniards, 1\n",
      "girdle, 1\n",
      "hangers, 1\n",
      "fancy, 1\n",
      "responsive 1\n",
      "hilts, 1\n",
      "conceit. 1\n",
      "carriages? 1\n",
      "edified 1\n",
      "margent 1\n",
      "hangers. 1\n",
      "german 1\n",
      "sides: 1\n",
      "hangers 1\n",
      "then. 1\n",
      "horses 1\n",
      "swords, 1\n",
      "liberal-conceited 1\n",
      "carriages; 1\n",
      "bet 1\n",
      "danish. 1\n",
      "'imponed,' 1\n",
      "laid, 1\n",
      "passes 1\n",
      "exceed 1\n",
      "hits: 1\n",
      "nine; 1\n",
      "'no'? 1\n",
      "trial. 1\n",
      "majesty, 1\n",
      "brought, 1\n",
      "can; 1\n",
      "hits. 1\n",
      "re-deliver 1\n",
      "lordship. 1\n",
      "tongues 1\n",
      "turn. 1\n",
      "lapwing 1\n",
      "dug, 1\n",
      "sucked 1\n",
      "he--and 1\n",
      "bevy 1\n",
      "dressy 1\n",
      "dotes 1\n",
      "on--only 1\n",
      "encounter; 1\n",
      "yesty 1\n",
      "collection, 1\n",
      "carries 1\n",
      "winnowed 1\n",
      "opinions; 1\n",
      "bubbles 1\n",
      "commended 1\n",
      "brings 1\n",
      "attend 1\n",
      "constant 1\n",
      "purpose; 1\n",
      "pleasure: 1\n",
      "fitness 1\n",
      "speaks, 1\n",
      "ready; 1\n",
      "whensoever, 1\n",
      "provided 1\n",
      "able 1\n",
      "instructs 1\n",
      "wager, 1\n",
      "france, 1\n",
      "continual 1\n",
      "practise: 1\n",
      "foolery; 1\n",
      "gain-giving, 1\n",
      "woman. 1\n",
      "dislike 1\n",
      "forestall 1\n",
      "fit. 1\n",
      "whit, 1\n",
      "defy 1\n",
      "augury: 1\n",
      "sparrow. 1\n",
      "readiness 1\n",
      "leaves, 1\n",
      "betimes? 1\n",
      "laertes' 1\n",
      "pardon, 1\n",
      "wrong; 1\n",
      "pardon't, 1\n",
      "punish'd 1\n",
      "distraction. 1\n",
      "exception 1\n",
      "roughly 1\n",
      "awake, 1\n",
      "wrong'd 1\n",
      "denies 1\n",
      "faction 1\n",
      "wrong'd; 1\n",
      "audience, 1\n",
      "disclaiming 1\n",
      "purposed 1\n",
      "evil 1\n",
      "thoughts, 1\n",
      "arrow 1\n",
      "house, 1\n",
      "hurt 1\n",
      "satisfied 1\n",
      "case, 1\n",
      "revenge: 1\n",
      "aloof; 1\n",
      "reconcilement, 1\n",
      "elder 1\n",
      "honour, 1\n",
      "ungored. 1\n",
      "offer'd 1\n",
      "freely; 1\n",
      "foils. 1\n",
      "foil, 1\n",
      "ignorance 1\n",
      "skill 1\n",
      "darkest 1\n",
      "osric. 1\n",
      "wager? 1\n",
      "odds 1\n",
      "weaker 1\n",
      "side. 1\n",
      "both: 1\n",
      "better'd, 1\n",
      "another. 1\n",
      "length? 1\n",
      "wine 1\n",
      "table. 1\n",
      "exchange, 1\n",
      "battlements 1\n",
      "breath; 1\n",
      "cup 1\n",
      "throw, 1\n",
      "successive 1\n",
      "kings 1\n",
      "crown 1\n",
      "worn. 1\n",
      "cups; 1\n",
      "kettle 1\n",
      "cannoneer 1\n",
      "cannons 1\n",
      "'now 1\n",
      "dunks 1\n",
      "begin: 1\n",
      "judges, 1\n",
      "no. 1\n",
      "palpable 1\n",
      "hit. 1\n",
      "stay; 1\n",
      "pearl 1\n",
      "thine; 1\n",
      "health. 1\n",
      "cup. 1\n",
      "bout 1\n",
      "awhile. 1\n",
      "hit; 1\n",
      "confess. 1\n",
      "win. 1\n",
      "fat, 1\n",
      "scant 1\n",
      "breath. 1\n",
      "napkin, 1\n",
      "rub 1\n",
      "brows; 1\n",
      "carouses 1\n",
      "poison'd 1\n",
      "late. 1\n",
      "madam; 1\n",
      "face. 1\n",
      "hit 1\n",
      "think't. 1\n",
      "conscience. 1\n",
      "third, 1\n",
      "dally; 1\n",
      "afeard 1\n",
      "way. 1\n",
      "scuffling, 1\n",
      "rapiers, 1\n",
      "bleed 1\n",
      "sides. 1\n",
      "woodcock 1\n",
      "springe, 1\n",
      "osric; 1\n",
      "treachery. 1\n",
      "queen? 1\n",
      "swounds 1\n",
      "bleed. 1\n",
      "drink,--o 1\n",
      "drink! 1\n",
      "poison'd. 1\n",
      "villany! 1\n",
      "lock'd: 1\n",
      "treachery! 1\n",
      "slain; 1\n",
      "medicine 1\n",
      "treacherous 1\n",
      "unbated 1\n",
      "envenom'd: 1\n",
      "rise 1\n",
      "poison'd: 1\n",
      "point!--envenom'd 1\n",
      "too! 1\n",
      "venom, 1\n",
      "work. 1\n",
      "stabs 1\n",
      "hurt. 1\n",
      "murderous, 1\n",
      "potion. 1\n",
      "served; 1\n",
      "temper'd 1\n",
      "exchange 1\n",
      "forgiveness 1\n",
      "chance, 1\n",
      "mutes 1\n",
      "time--as 1\n",
      "sergeant, 1\n",
      "arrest--o, 1\n",
      "you-- 1\n",
      "dead; 1\n",
      "livest; 1\n",
      "aright 1\n",
      "unsatisfied. 1\n",
      "liquor 1\n",
      "left. 1\n",
      "thou'rt 1\n",
      "have't. 1\n",
      "wounded 1\n",
      "standing 1\n",
      "absent 1\n",
      "felicity 1\n",
      "harsh 1\n",
      "pain, 1\n",
      "story. 1\n",
      "afar 1\n",
      "conquest 1\n",
      "volley. 1\n",
      "horatio; 1\n",
      "o'er-crows 1\n",
      "spirit: 1\n",
      "lights 1\n",
      "fortinbras: 1\n",
      "dying 1\n",
      "occurrents, 1\n",
      "solicited. 1\n",
      "silence. 1\n",
      "cracks 1\n",
      "prince: 1\n",
      "flights 1\n",
      "drum 1\n",
      "english 1\n",
      "ambassadors, 1\n",
      "sight? 1\n",
      "see? 1\n",
      "search. 1\n",
      "quarry 1\n",
      "havoc. 1\n",
      "cell, 1\n",
      "princes 1\n",
      "bloodily 1\n",
      "struck? 1\n",
      "affairs 1\n",
      "late: 1\n",
      "fulfill'd, 1\n",
      "thanks? 1\n",
      "ability 1\n",
      "wars, 1\n",
      "arrived 1\n",
      "view; 1\n",
      "unknowing 1\n",
      "about: 1\n",
      "carnal, 1\n",
      "acts, 1\n",
      "accidental 1\n",
      "judgments, 1\n",
      "casual 1\n",
      "slaughters, 1\n",
      "deaths 1\n",
      "upshot, 1\n",
      "purposes 1\n",
      "mistook 1\n",
      "inventors' 1\n",
      "reads: 1\n",
      "deliver. 1\n",
      "noblest 1\n",
      "audience. 1\n",
      "fortune: 1\n",
      "kingdom, 1\n",
      "claim 1\n",
      "vantage 1\n",
      "invite 1\n",
      "also 1\n",
      "perform'd, 1\n",
      "minds 1\n",
      "errors, 1\n",
      "happen. 1\n",
      "captains 1\n",
      "soldier, 1\n",
      "stage; 1\n",
      "likely, 1\n",
      "royally: 1\n",
      "passage, 1\n",
      "soldiers' 1\n",
      "rites 1\n",
      "war 1\n",
      "loudly 1\n",
      "bodies: 1\n",
      "field, 1\n",
      "amiss. 1\n",
      "shoot. 1\n",
      "exeunt, 1\n",
      "bearing 1\n",
      "bodies; 1\n",
      "peal 1\n"
     ]
    }
   ],
   "source": [
    "for word in sorted(wordcounts, reverse=True, key=wordcounts.get):\n",
    "    print(word, wordcounts[word])"
   ]
  },
  {
   "cell_type": "code",
   "execution_count": 697,
   "id": "455a10cd-9856-401f-be4a-14e4a05ef6e5",
   "metadata": {},
   "outputs": [
    {
     "data": {
      "text/plain": [
       "['False',\n",
       " 'None',\n",
       " 'True',\n",
       " 'and',\n",
       " 'as',\n",
       " 'assert',\n",
       " 'async',\n",
       " 'await',\n",
       " 'break',\n",
       " 'class',\n",
       " 'continue',\n",
       " 'def',\n",
       " 'del',\n",
       " 'elif',\n",
       " 'else',\n",
       " 'except',\n",
       " 'finally',\n",
       " 'for',\n",
       " 'from',\n",
       " 'global',\n",
       " 'if',\n",
       " 'import',\n",
       " 'in',\n",
       " 'is',\n",
       " 'lambda',\n",
       " 'nonlocal',\n",
       " 'not',\n",
       " 'or',\n",
       " 'pass',\n",
       " 'raise',\n",
       " 'return',\n",
       " 'try',\n",
       " 'while',\n",
       " 'with',\n",
       " 'yield']"
      ]
     },
     "execution_count": 697,
     "metadata": {},
     "output_type": "execute_result"
    }
   ],
   "source": [
    "import keyword\n",
    "keyword.kwlist"
   ]
  },
  {
   "cell_type": "code",
   "execution_count": 700,
   "id": "4624e630-f7c1-4e68-8df2-fc4eb307b4e2",
   "metadata": {},
   "outputs": [],
   "source": [
    "x = 1"
   ]
  },
  {
   "cell_type": "code",
   "execution_count": 702,
   "id": "aaf85eec-ba40-49fa-8ee7-1616f432c327",
   "metadata": {},
   "outputs": [
    {
     "data": {
      "text/plain": [
       "int"
      ]
     },
     "execution_count": 702,
     "metadata": {},
     "output_type": "execute_result"
    }
   ],
   "source": [
    "type(x)"
   ]
  },
  {
   "cell_type": "code",
   "execution_count": 706,
   "id": "2493f727-8166-48fe-bcdd-0d079f938080",
   "metadata": {},
   "outputs": [],
   "source": [
    "x: int = 1 # \"define\" x as an int and put a 1 into it"
   ]
  },
  {
   "cell_type": "code",
   "execution_count": 712,
   "id": "90510d26-d42a-4a10-83f4-ddd32c746d27",
   "metadata": {},
   "outputs": [],
   "source": [
    "x = 1.5 # mypy (a type checker) would complain here and say \"you said int, but put a float into it\""
   ]
  },
  {
   "cell_type": "code",
   "execution_count": 710,
   "id": "4d5446b5-1b93-4f14-8535-509f8dbb6417",
   "metadata": {},
   "outputs": [
    {
     "data": {
      "text/plain": [
       "float"
      ]
     },
     "execution_count": 710,
     "metadata": {},
     "output_type": "execute_result"
    }
   ],
   "source": [
    "type(x)"
   ]
  },
  {
   "cell_type": "code",
   "execution_count": 715,
   "id": "7f7925df-6fda-4475-9895-f0ab131afc21",
   "metadata": {},
   "outputs": [
    {
     "data": {
      "text/plain": [
       "False"
      ]
     },
     "execution_count": 715,
     "metadata": {},
     "output_type": "execute_result"
    }
   ],
   "source": [
    "[1, 2, 3] == 1"
   ]
  },
  {
   "cell_type": "code",
   "execution_count": 724,
   "id": "2bf60fcb-83f0-4b13-8728-bcf910877f8e",
   "metadata": {},
   "outputs": [
    {
     "data": {
      "text/plain": [
       "False"
      ]
     },
     "execution_count": 724,
     "metadata": {},
     "output_type": "execute_result"
    }
   ],
   "source": [
    "[1, 1, 1] == [1, 2, 1]"
   ]
  },
  {
   "cell_type": "code",
   "execution_count": 727,
   "id": "b2f1d8dc-9406-43b2-a804-2dc6b1c4e3b4",
   "metadata": {},
   "outputs": [
    {
     "ename": "TypeError",
     "evalue": "'<' not supported between instances of 'list' and 'int'",
     "output_type": "error",
     "traceback": [
      "\u001b[0;31m---------------------------------------------------------------------------\u001b[0m",
      "\u001b[0;31mTypeError\u001b[0m                                 Traceback (most recent call last)",
      "Cell \u001b[0;32mIn[727], line 1\u001b[0m\n\u001b[0;32m----> 1\u001b[0m [\u001b[38;5;241m1\u001b[39m, \u001b[38;5;241m2\u001b[39m, \u001b[38;5;241m3\u001b[39m] \u001b[38;5;241m<\u001b[39m \u001b[38;5;241m5\u001b[39m\n",
      "\u001b[0;31mTypeError\u001b[0m: '<' not supported between instances of 'list' and 'int'"
     ]
    }
   ],
   "source": [
    "[1, 2, 3] < 5"
   ]
  },
  {
   "cell_type": "code",
   "execution_count": 732,
   "id": "d8f7fe23-17f5-416b-89f7-f7cf7ba835a2",
   "metadata": {},
   "outputs": [
    {
     "ename": "TypeError",
     "evalue": "object of type 'int' has no len()",
     "output_type": "error",
     "traceback": [
      "\u001b[0;31m---------------------------------------------------------------------------\u001b[0m",
      "\u001b[0;31mTypeError\u001b[0m                                 Traceback (most recent call last)",
      "Cell \u001b[0;32mIn[732], line 1\u001b[0m\n\u001b[0;32m----> 1\u001b[0m \u001b[38;5;28mlen\u001b[39m(\u001b[38;5;241m2\u001b[39m)\n",
      "\u001b[0;31mTypeError\u001b[0m: object of type 'int' has no len()"
     ]
    }
   ],
   "source": [
    "len(2)"
   ]
  },
  {
   "cell_type": "code",
   "execution_count": 734,
   "id": "f5c10592-57cc-4631-b4c8-98f74c48e394",
   "metadata": {},
   "outputs": [
    {
     "data": {
      "text/plain": [
       "1"
      ]
     },
     "execution_count": 734,
     "metadata": {},
     "output_type": "execute_result"
    }
   ],
   "source": [
    "len('2')"
   ]
  },
  {
   "cell_type": "code",
   "execution_count": 736,
   "id": "36455f4b-79bb-44e3-ab6c-e5a8e9eec4f7",
   "metadata": {},
   "outputs": [
    {
     "data": {
      "text/plain": [
       "2"
      ]
     },
     "execution_count": 736,
     "metadata": {},
     "output_type": "execute_result"
    }
   ],
   "source": [
    "len([1, 2])"
   ]
  },
  {
   "cell_type": "code",
   "execution_count": 738,
   "id": "9f8e1bef-e97f-48b6-a3d3-7efb70eab8fb",
   "metadata": {},
   "outputs": [
    {
     "data": {
      "text/plain": [
       "2"
      ]
     },
     "execution_count": 738,
     "metadata": {},
     "output_type": "execute_result"
    }
   ],
   "source": [
    "len((1, 2))"
   ]
  },
  {
   "cell_type": "code",
   "execution_count": 740,
   "id": "3101ea78-18c8-4ede-b8b0-5b6c63bcbdf6",
   "metadata": {},
   "outputs": [
    {
     "data": {
      "text/plain": [
       "1"
      ]
     },
     "execution_count": 740,
     "metadata": {},
     "output_type": "execute_result"
    }
   ],
   "source": [
    "len({1 : 2})"
   ]
  },
  {
   "cell_type": "code",
   "execution_count": 742,
   "id": "68fb46c6-cb1f-46b6-91b9-38b44d12f5c5",
   "metadata": {},
   "outputs": [
    {
     "data": {
      "text/plain": [
       "3"
      ]
     },
     "execution_count": 742,
     "metadata": {},
     "output_type": "execute_result"
    }
   ],
   "source": [
    "len({1, 2, 3})"
   ]
  },
  {
   "cell_type": "code",
   "execution_count": 744,
   "id": "ad7d3a98-9d7c-44b0-abb2-10885c828028",
   "metadata": {},
   "outputs": [
    {
     "data": {
      "text/plain": [
       "6"
      ]
     },
     "execution_count": 744,
     "metadata": {},
     "output_type": "execute_result"
    }
   ],
   "source": [
    "sum([1, 2, 3])"
   ]
  },
  {
   "cell_type": "code",
   "execution_count": 746,
   "id": "5107ce23-ffa9-48fb-8f96-15092f699b94",
   "metadata": {},
   "outputs": [
    {
     "data": {
      "text/plain": [
       "6"
      ]
     },
     "execution_count": 746,
     "metadata": {},
     "output_type": "execute_result"
    }
   ],
   "source": [
    "sum({1, 2, 3})"
   ]
  },
  {
   "cell_type": "code",
   "execution_count": 749,
   "id": "20ea35dd-1fe9-4869-abd7-1c3295b1002e",
   "metadata": {},
   "outputs": [],
   "source": [
    "nums = [3, -4, 2, 7 -5, 6]"
   ]
  },
  {
   "cell_type": "code",
   "execution_count": 751,
   "id": "22be41a8-b76c-41a7-aaca-530bcce60f17",
   "metadata": {},
   "outputs": [],
   "source": [
    "nums.sort()"
   ]
  },
  {
   "cell_type": "code",
   "execution_count": 753,
   "id": "d8763243-c44f-471e-95ab-0bdd9fbda8c9",
   "metadata": {},
   "outputs": [
    {
     "data": {
      "text/plain": [
       "[-4, 2, 2, 3, 6]"
      ]
     },
     "execution_count": 753,
     "metadata": {},
     "output_type": "execute_result"
    }
   ],
   "source": [
    "nums"
   ]
  },
  {
   "cell_type": "code",
   "execution_count": 756,
   "id": "470294e6-bd48-4125-a097-ffc61fc3cc2d",
   "metadata": {},
   "outputs": [
    {
     "name": "stdout",
     "output_type": "stream",
     "text": [
      "Help on method_descriptor:\n",
      "\n",
      "sort(self, /, *, key=None, reverse=False)\n",
      "    Sort the list in ascending order and return None.\n",
      "    \n",
      "    The sort is in-place (i.e. the list itself is modified) and stable (i.e. the\n",
      "    order of two equal elements is maintained).\n",
      "    \n",
      "    If a key function is given, apply it once to each list item and sort them,\n",
      "    ascending or descending, according to their function values.\n",
      "    \n",
      "    The reverse flag can be set to sort in descending order.\n",
      "\n"
     ]
    }
   ],
   "source": [
    "help(list.sort)"
   ]
  },
  {
   "cell_type": "code",
   "execution_count": 758,
   "id": "518c9685-bd35-4007-a3a4-74bf1d97c581",
   "metadata": {},
   "outputs": [
    {
     "name": "stdout",
     "output_type": "stream",
     "text": [
      "Help on built-in function sorted in module builtins:\n",
      "\n",
      "sorted(iterable, /, *, key=None, reverse=False)\n",
      "    Return a new list containing all items from the iterable in ascending order.\n",
      "    \n",
      "    A custom key function can be supplied to customize the sort order, and the\n",
      "    reverse flag can be set to request the result in descending order.\n",
      "\n"
     ]
    }
   ],
   "source": [
    "help(sorted)"
   ]
  },
  {
   "cell_type": "code",
   "execution_count": 763,
   "id": "a5e39b9f-e339-4420-a405-69f7bb7664e0",
   "metadata": {},
   "outputs": [],
   "source": [
    "import math"
   ]
  },
  {
   "cell_type": "code",
   "execution_count": 765,
   "id": "5174fcab-8d43-4154-abcb-42318d6f93e7",
   "metadata": {},
   "outputs": [
    {
     "name": "stdout",
     "output_type": "stream",
     "text": [
      "Help on built-in function sin in module math:\n",
      "\n",
      "sin(x, /)\n",
      "    Return the sine of x (measured in radians).\n",
      "\n"
     ]
    }
   ],
   "source": [
    "help(math.sin)"
   ]
  },
  {
   "cell_type": "code",
   "execution_count": 769,
   "id": "283fba4d-0843-4d8e-89c1-fda6b934a542",
   "metadata": {},
   "outputs": [
    {
     "name": "stdout",
     "output_type": "stream",
     "text": [
      "yep\n"
     ]
    }
   ],
   "source": [
    "if {1, 2, 3}:\n",
    "    print('yep')"
   ]
  },
  {
   "cell_type": "code",
   "execution_count": 780,
   "id": "8121651e-202a-44c7-99ac-75f84f59636a",
   "metadata": {},
   "outputs": [
    {
     "name": "stdout",
     "output_type": "stream",
     "text": [
      "\"hi there, don't stop\"\n"
     ]
    }
   ],
   "source": [
    "print('\"hi there, don\\'t stop\"')"
   ]
  },
  {
   "cell_type": "code",
   "execution_count": 786,
   "id": "f6e7d38a-5b44-4317-81a6-7dbb45a268c3",
   "metadata": {},
   "outputs": [],
   "source": [
    "s = 'this \\ that'"
   ]
  },
  {
   "cell_type": "code",
   "execution_count": 788,
   "id": "9e36e3fb-4a4d-494f-9474-7ad2a5512015",
   "metadata": {},
   "outputs": [
    {
     "data": {
      "text/plain": [
       "'this \\\\ that'"
      ]
     },
     "execution_count": 788,
     "metadata": {},
     "output_type": "execute_result"
    }
   ],
   "source": [
    "s"
   ]
  },
  {
   "cell_type": "code",
   "execution_count": 790,
   "id": "b45d978a-d818-4707-8d66-d6e0b4038fed",
   "metadata": {},
   "outputs": [
    {
     "data": {
      "text/plain": [
       "11"
      ]
     },
     "execution_count": 790,
     "metadata": {},
     "output_type": "execute_result"
    }
   ],
   "source": [
    "len(s)"
   ]
  },
  {
   "cell_type": "code",
   "execution_count": 792,
   "id": "06f8d28c-2086-47a2-894b-886f53034626",
   "metadata": {},
   "outputs": [],
   "source": [
    "s = r'this \\ that' # raw"
   ]
  },
  {
   "cell_type": "code",
   "execution_count": 794,
   "id": "69ab35eb-7785-4bd9-a66c-3acac8754df2",
   "metadata": {},
   "outputs": [
    {
     "data": {
      "text/plain": [
       "'this \\\\ that'"
      ]
     },
     "execution_count": 794,
     "metadata": {},
     "output_type": "execute_result"
    }
   ],
   "source": [
    "s"
   ]
  },
  {
   "cell_type": "code",
   "execution_count": 796,
   "id": "e5855c1b-83af-4f90-b663-bb4d5a13aabd",
   "metadata": {},
   "outputs": [],
   "source": [
    "s = 'this\\nthat'"
   ]
  },
  {
   "cell_type": "code",
   "execution_count": 798,
   "id": "b0054bab-76c8-48d4-912c-e7ab085aead8",
   "metadata": {},
   "outputs": [
    {
     "name": "stdout",
     "output_type": "stream",
     "text": [
      "this\n",
      "that\n"
     ]
    }
   ],
   "source": [
    "print(s)"
   ]
  },
  {
   "cell_type": "code",
   "execution_count": 800,
   "id": "01fabd27-6f65-4864-a2c3-06d2bc56a618",
   "metadata": {},
   "outputs": [],
   "source": [
    "s = r'this\\nthat'"
   ]
  },
  {
   "cell_type": "code",
   "execution_count": 802,
   "id": "da404160-ce8a-429a-acaf-7b65b65b001d",
   "metadata": {},
   "outputs": [
    {
     "name": "stdout",
     "output_type": "stream",
     "text": [
      "this\\nthat\n"
     ]
    }
   ],
   "source": [
    "print(s)"
   ]
  },
  {
   "cell_type": "code",
   "execution_count": 808,
   "id": "e46bc106-b552-4706-bde6-c4a6460b8180",
   "metadata": {},
   "outputs": [],
   "source": [
    "s = 'this\\\\nthat'"
   ]
  },
  {
   "cell_type": "code",
   "execution_count": 810,
   "id": "80984698-680b-477d-8202-4954f7275b54",
   "metadata": {},
   "outputs": [
    {
     "name": "stdout",
     "output_type": "stream",
     "text": [
      "this\\nthat\n"
     ]
    }
   ],
   "source": [
    "print(s)"
   ]
  },
  {
   "cell_type": "code",
   "execution_count": 813,
   "id": "d5f78e28-d23c-4184-8a03-5819a1508f90",
   "metadata": {},
   "outputs": [
    {
     "name": "stdout",
     "output_type": "stream",
     "text": [
      "1...2...3\n"
     ]
    }
   ],
   "source": [
    "print(1, 2, 3, sep='...')"
   ]
  },
  {
   "cell_type": "code",
   "execution_count": 815,
   "id": "bf8a9408-d75b-43a4-8b9f-48b84575c8e3",
   "metadata": {},
   "outputs": [
    {
     "name": "stdout",
     "output_type": "stream",
     "text": [
      "1 2 3 ...\n"
     ]
    }
   ],
   "source": [
    "print(1, 2, 3, '...')"
   ]
  },
  {
   "cell_type": "markdown",
   "id": "202bdef2-c27a-44b0-b5ae-bbb0d500372a",
   "metadata": {
    "tags": []
   },
   "source": [
    "## Lab: functions\n",
    "* write at least one of these functions, take your pick...\n",
    "  * __`calculate`__ which is passed two operands and an operator and returns the calculated result, e.g., __`calculate(2, 4, '+')`__ would return 6\n",
    "  * Given a string, the function returns True or False whether the string is a pangram\n",
    "    * a sentence/phrase that includes all of the letters a..z\n",
    "    * The quick brown fox jumps over the lazy dog\n",
    "    * Pack my box with five dozen liquor jugs\n",
    "    * The wizard quickly jinxed the gnomes before they vaporized\n",
    "  * Given an integer as a parameter, the function sums up its digits. If the resulting sum contains more than 1 digit, the function should sum the digits again, e.g., __`sumdigits(1235)`__ should compute the sum of 1, 2, 3, and 5 (11), then compute the sum of 1 and 1, returning 2.\n",
    "  * Given a number as a parameter and returns a string version of the number with commas representing thousands, e.g., __`add_commas(12345)`__ would return \"12,345\"\n",
    "  * Demonstrate the Collatz Conjecture:\n",
    "    * for integer n > 1\n",
    "      * if n is even, then __`n = n // 2`__\n",
    "      * if n is odd, then __`n = n * 3 + 1`__\n",
    "    * ...will always converge to 1\n",
    "    * your function should take n and keep printing new value of n until n is 1 and then return\n",
    "  * given a 4-digit number where not all digits are the same, demonstrate __Kaprekar's Constant__ <pre>(6174)</pre>\n",
    "    * sort the digits of the number into descending and ascending order...\n",
    "    * then calculate the difference between the two new numbers\n",
    "    * keep doing the above until you get to 6174 (you always will)\n",
    "    * e.g., starting with the number 8991:\n",
    "    <br/><br/>\n",
    "    <pre>\n",
    "      9981 – 1899 = 8082\n",
    "      8820 – 0288 = 8532\n",
    "      8532 – 2358 = 6174\n",
    "      7641 – 1467 = 6174\n",
    "    </pre>\n"
   ]
  },
  {
   "cell_type": "code",
   "execution_count": 824,
   "id": "f5f4f23b-49c8-4db2-9ec6-1031c7f137aa",
   "metadata": {},
   "outputs": [],
   "source": [
    "s = {1} # set, cuz no colon"
   ]
  },
  {
   "cell_type": "code",
   "execution_count": 826,
   "id": "43fa531e-f33d-43f3-b523-ade1f079cfab",
   "metadata": {},
   "outputs": [],
   "source": [
    "d = {1: 2} # dict, cuz colon"
   ]
  },
  {
   "cell_type": "code",
   "execution_count": 828,
   "id": "6143a7d5-489a-4caf-bd7a-40ab7e3aada1",
   "metadata": {},
   "outputs": [],
   "source": [
    "my_set = {} # this is a dict, in spite of the name of my variable"
   ]
  },
  {
   "cell_type": "code",
   "execution_count": 830,
   "id": "a0364cef-3b07-4e16-a8ab-bb30871d7d01",
   "metadata": {},
   "outputs": [
    {
     "data": {
      "text/plain": [
       "dict"
      ]
     },
     "execution_count": 830,
     "metadata": {},
     "output_type": "execute_result"
    }
   ],
   "source": [
    "type(my_set)"
   ]
  },
  {
   "cell_type": "code",
   "execution_count": null,
   "id": "91e4ffb5-148a-4bc5-bf4e-3a58071cbf00",
   "metadata": {},
   "outputs": [],
   "source": [
    "my_set = set() # this is what we need to do "
   ]
  },
  {
   "cell_type": "code",
   "execution_count": 835,
   "id": "ebbbed0e-021c-4409-addd-5e6bd4f22b66",
   "metadata": {},
   "outputs": [
    {
     "name": "stdout",
     "output_type": "stream",
     "text": [
      "Help on method_descriptor:\n",
      "\n",
      "isalpha(self, /)\n",
      "    Return True if the string is an alphabetic string, False otherwise.\n",
      "    \n",
      "    A string is alphabetic if all characters in the string are alphabetic and there\n",
      "    is at least one character in the string.\n",
      "\n"
     ]
    }
   ],
   "source": [
    "help(str.isalpha)"
   ]
  },
  {
   "cell_type": "code",
   "execution_count": 841,
   "id": "434b5c55-8ca5-4045-bdef-8bed121226d7",
   "metadata": {},
   "outputs": [
    {
     "data": {
      "text/plain": [
       "True"
      ]
     },
     "execution_count": 841,
     "metadata": {},
     "output_type": "execute_result"
    }
   ],
   "source": [
    "'A'.isalpha()"
   ]
  },
  {
   "cell_type": "code",
   "execution_count": 849,
   "id": "c89b1565-600d-47da-bd49-bab4eab20d70",
   "metadata": {},
   "outputs": [],
   "source": [
    "import random"
   ]
  },
  {
   "cell_type": "code",
   "execution_count": 851,
   "id": "8309e9fb-12c3-40cf-9746-de4974692989",
   "metadata": {},
   "outputs": [
    {
     "data": {
      "text/plain": [
       "['BPF',\n",
       " 'LOG4',\n",
       " 'NV_MAGICCONST',\n",
       " 'RECIP_BPF',\n",
       " 'Random',\n",
       " 'SG_MAGICCONST',\n",
       " 'SystemRandom',\n",
       " 'TWOPI',\n",
       " '_ONE',\n",
       " '_Sequence',\n",
       " '_Set',\n",
       " '__all__',\n",
       " '__builtins__',\n",
       " '__cached__',\n",
       " '__doc__',\n",
       " '__file__',\n",
       " '__loader__',\n",
       " '__name__',\n",
       " '__package__',\n",
       " '__spec__',\n",
       " '_accumulate',\n",
       " '_acos',\n",
       " '_bisect',\n",
       " '_ceil',\n",
       " '_cos',\n",
       " '_e',\n",
       " '_exp',\n",
       " '_floor',\n",
       " '_index',\n",
       " '_inst',\n",
       " '_isfinite',\n",
       " '_log',\n",
       " '_os',\n",
       " '_pi',\n",
       " '_random',\n",
       " '_repeat',\n",
       " '_sha512',\n",
       " '_sin',\n",
       " '_sqrt',\n",
       " '_test',\n",
       " '_test_generator',\n",
       " '_urandom',\n",
       " '_warn',\n",
       " 'betavariate',\n",
       " 'choice',\n",
       " 'choices',\n",
       " 'expovariate',\n",
       " 'gammavariate',\n",
       " 'gauss',\n",
       " 'getrandbits',\n",
       " 'getstate',\n",
       " 'lognormvariate',\n",
       " 'normalvariate',\n",
       " 'paretovariate',\n",
       " 'randbytes',\n",
       " 'randint',\n",
       " 'random',\n",
       " 'randrange',\n",
       " 'sample',\n",
       " 'seed',\n",
       " 'setstate',\n",
       " 'shuffle',\n",
       " 'triangular',\n",
       " 'uniform',\n",
       " 'vonmisesvariate',\n",
       " 'weibullvariate']"
      ]
     },
     "execution_count": 851,
     "metadata": {},
     "output_type": "execute_result"
    }
   ],
   "source": [
    "dir(random)"
   ]
  },
  {
   "cell_type": "code",
   "execution_count": 853,
   "id": "2b41304a-deaf-45e9-aba3-c168d1b507e5",
   "metadata": {},
   "outputs": [
    {
     "data": {
      "text/plain": [
       "'/opt/conda/envs/anaconda-panel-2023.05-py310/lib/python3.11/random.py'"
      ]
     },
     "execution_count": 853,
     "metadata": {},
     "output_type": "execute_result"
    }
   ],
   "source": [
    "random.__file__"
   ]
  },
  {
   "cell_type": "code",
   "execution_count": 856,
   "id": "bb8c39b8-c804-40b2-9fd1-af13b51fe181",
   "metadata": {},
   "outputs": [],
   "source": [
    "population_dict = {\n",
    "    'California': 38_332_521,\n",
    "         'Texas': 26_448_193,\n",
    "      'New York': 19_651_127,\n",
    "       'Florida': 195_528_60,\n",
    "      'Illinois': 12_882_135\n",
    "}"
   ]
  },
  {
   "cell_type": "code",
   "execution_count": 858,
   "id": "248f115f-89d0-421e-9947-a6bd10f7ab74",
   "metadata": {},
   "outputs": [
    {
     "data": {
      "text/plain": [
       "{'California': 38332521,\n",
       " 'Texas': 26448193,\n",
       " 'New York': 19651127,\n",
       " 'Florida': 19552860,\n",
       " 'Illinois': 12882135}"
      ]
     },
     "execution_count": 858,
     "metadata": {},
     "output_type": "execute_result"
    }
   ],
   "source": [
    "population_dict"
   ]
  },
  {
   "cell_type": "code",
   "execution_count": null,
   "id": "47248435-49b4-4f4f-a8d7-8d05fd5a1565",
   "metadata": {},
   "outputs": [],
   "source": []
  }
 ],
 "metadata": {
  "kernelspec": {
   "display_name": "anaconda-panel-2023.05-py310",
   "language": "python",
   "name": "conda-env-anaconda-panel-2023.05-py310-py"
  },
  "language_info": {
   "codemirror_mode": {
    "name": "ipython",
    "version": 3
   },
   "file_extension": ".py",
   "mimetype": "text/x-python",
   "name": "python",
   "nbconvert_exporter": "python",
   "pygments_lexer": "ipython3",
   "version": "3.11.5"
  }
 },
 "nbformat": 4,
 "nbformat_minor": 5
}
