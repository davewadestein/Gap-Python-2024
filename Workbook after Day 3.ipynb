{
 "cells": [
  {
   "cell_type": "markdown",
   "id": "513556a6-990e-4454-bd6a-624c1248856f",
   "metadata": {},
   "source": [
    "# \"Pythonic\"\n",
    "* \"My name is Rick and I'm a Java programmer, and I've been teaching myself Python, but my Python looks like Java\"\n",
    "* converting from one type to another\n",
    "  * if an object is difficult to deal with, consider changing its type\n",
    "* __`container[-1]`__ to access last element\n",
    "  * __`container[-n]`__ to access the nth from last\n",
    "* function composition: e.g., __`int(input(...))`__\n",
    "* use _ when you don't need the return value of a function and want to make that clear\n",
    "  * e.g., __`quotient, _ = divmod(number, possible_divisor)`__\n",
    "* __`container[:n]`__ means the first n items in the container\n",
    "* __`container[-n:]`__ means the last n items of the container\n",
    "* __`container[::-1]`__ means generate a *reversed* version of the container\n",
    "* don't use indexing with containers (unless you need it)\n",
    "  e.g., __`for car in cars: print(car)`__\n",
    "* instead of initializing lists the standard, painful way, use __`.split()`__\n",
    "  * e.g., __`fruits = 'apple lemon cherry fig lime watermelon'.split()`__"
   ]
  },
  {
   "cell_type": "markdown",
   "id": "d7304b6d-b4b3-4fd1-be90-16c3f329d2fe",
   "metadata": {
    "tags": []
   },
   "source": [
    "# Some Important things about Python\n",
    "* built-in functions, e.g., __`int()`__ DO NOT change the objects that are passed into them\n",
    "  * also, built-in functions are *general purpose*, they often act on many or even any datatypes\n",
    "  * i.e., they are NOT methods\n",
    "* if you want to change an object in Python you must invoke/apply/call a method on that object\n",
    "  * not all method change the objects that they are invoked/applied/called on\n",
    "* scalars vs. containers:\n",
    "  * scalars – variables/objects that consist of a single value\n",
    "    * int, float, bool\n",
    "  * containers - variables/objects that hold 0+ other objects\n",
    "    * str, list\n",
    "* mutable vs. immutable objects:\n",
    "  * immutable: str, tuple\n",
    "  * mutable: list, dict\n",
    "* Python \"truthiness\":\n",
    "  * non-zero numbers are considred to be True (0 and 0.0 are considered to be False) in a Boolean context\n",
    "  * non-empty containers are considered to be True (and empty containers are ... False)"
   ]
  },
  {
   "cell_type": "markdown",
   "id": "b42f3674-05d4-4f40-ab83-b8cc31558b89",
   "metadata": {
    "tags": []
   },
   "source": [
    "# Important Programming Principles\n",
    "* choose good variable names\n",
    "  * __`cost`__ is better than __`c`__\n",
    "  * __`first_name`__ is better than __`first`__\n",
    "* Hal Abelson: \"Programs are written for other people to read, and only incidentally for computers to execute\"\n",
    "  * Eagleson's Law: \"Any code you wrote more than 6 months ago, might as well have been written by someone else\"\n",
    "* We read code 10x more than we write code\n",
    "* DRY = Don't Repeat Yourself\n",
    "* Identifying an error is \"easy\", but knowing what to do when you identify is \"hard\""
   ]
  },
  {
   "cell_type": "code",
   "execution_count": 10,
   "id": "fd039cfb-ee8e-44d6-bedd-9f63f9034df3",
   "metadata": {},
   "outputs": [],
   "source": [
    "cost = 5."
   ]
  },
  {
   "cell_type": "code",
   "execution_count": 14,
   "id": "0ee43df0-c011-437b-92cd-f8de978e8489",
   "metadata": {},
   "outputs": [
    {
     "data": {
      "text/plain": [
       "4"
      ]
     },
     "execution_count": 14,
     "metadata": {},
     "output_type": "execute_result"
    }
   ],
   "source": [
    "2 + 2 # addition"
   ]
  },
  {
   "cell_type": "code",
   "execution_count": 16,
   "id": "38f77646-e62d-4742-852d-ccf476033fb0",
   "metadata": {},
   "outputs": [
    {
     "data": {
      "text/plain": [
       "'22'"
      ]
     },
     "execution_count": 16,
     "metadata": {},
     "output_type": "execute_result"
    }
   ],
   "source": [
    "'2' + '2' # concatenation"
   ]
  },
  {
   "cell_type": "code",
   "execution_count": 18,
   "id": "f130f25e-58fc-402f-b77c-840a3605261c",
   "metadata": {},
   "outputs": [
    {
     "data": {
      "text/plain": [
       "'twotwo'"
      ]
     },
     "execution_count": 18,
     "metadata": {},
     "output_type": "execute_result"
    }
   ],
   "source": [
    "'two' + 'two'"
   ]
  },
  {
   "cell_type": "code",
   "execution_count": 20,
   "id": "9b49d5b1-86ce-476c-b850-ec578e586413",
   "metadata": {},
   "outputs": [
    {
     "data": {
      "text/plain": [
       "'Grace Hopper'"
      ]
     },
     "execution_count": 20,
     "metadata": {},
     "output_type": "execute_result"
    }
   ],
   "source": [
    "'Grace' + ' ' + 'Hopper'"
   ]
  },
  {
   "cell_type": "code",
   "execution_count": 23,
   "id": "117d1f01-d16d-450e-9474-22cc5dd18758",
   "metadata": {},
   "outputs": [],
   "source": [
    "name = 'Bruce Lee'"
   ]
  },
  {
   "cell_type": "code",
   "execution_count": 25,
   "id": "791c8dae-305e-4a9d-b432-470295db0c64",
   "metadata": {},
   "outputs": [
    {
     "data": {
      "text/plain": [
       "'Bruce Lee'"
      ]
     },
     "execution_count": 25,
     "metadata": {},
     "output_type": "execute_result"
    }
   ],
   "source": [
    "name # Hey Jupyter, tell me the value of name"
   ]
  },
  {
   "cell_type": "code",
   "execution_count": 27,
   "id": "b52e6d92-f7f6-4244-9c7b-4493751b1255",
   "metadata": {},
   "outputs": [
    {
     "name": "stdout",
     "output_type": "stream",
     "text": [
      "Bruce Lee\n"
     ]
    }
   ],
   "source": [
    "print(name)"
   ]
  },
  {
   "cell_type": "code",
   "execution_count": 30,
   "id": "59706bb9-4f34-4909-8f90-fcece2692b7e",
   "metadata": {},
   "outputs": [],
   "source": [
    "num = '123'"
   ]
  },
  {
   "cell_type": "code",
   "execution_count": 32,
   "id": "f431f263-30d6-40ed-94d9-44274788ff2f",
   "metadata": {},
   "outputs": [
    {
     "data": {
      "text/plain": [
       "'123'"
      ]
     },
     "execution_count": 32,
     "metadata": {},
     "output_type": "execute_result"
    }
   ],
   "source": [
    "num # ask Jupyter to tell us the value of num (unambiguously)"
   ]
  },
  {
   "cell_type": "code",
   "execution_count": 34,
   "id": "d556fd38-270d-4162-bdce-2d01e9b5df1a",
   "metadata": {},
   "outputs": [
    {
     "name": "stdout",
     "output_type": "stream",
     "text": [
      "123\n"
     ]
    }
   ],
   "source": [
    "print(num)"
   ]
  },
  {
   "cell_type": "code",
   "execution_count": 39,
   "id": "d871d234-e868-4021-b665-b870ccede2b1",
   "metadata": {},
   "outputs": [],
   "source": [
    "num1 = '12'\n",
    "num2 = '13'"
   ]
  },
  {
   "cell_type": "code",
   "execution_count": 43,
   "id": "93b371b1-7f7d-41d9-ab47-250b1e0bd25f",
   "metadata": {},
   "outputs": [
    {
     "data": {
      "text/plain": [
       "25"
      ]
     },
     "execution_count": 43,
     "metadata": {},
     "output_type": "execute_result"
    }
   ],
   "source": [
    "int(num1) + int(num2)"
   ]
  },
  {
   "cell_type": "code",
   "execution_count": 54,
   "id": "586693c4-97e9-453c-830e-bdd43031a02b",
   "metadata": {},
   "outputs": [
    {
     "data": {
      "text/plain": [
       "str"
      ]
     },
     "execution_count": 54,
     "metadata": {},
     "output_type": "execute_result"
    }
   ],
   "source": [
    "type(num1)"
   ]
  },
  {
   "cell_type": "code",
   "execution_count": 59,
   "id": "a461919d-d28e-4721-8fd9-5ae46df4be40",
   "metadata": {},
   "outputs": [
    {
     "data": {
      "text/plain": [
       "builtin_function_or_method"
      ]
     },
     "execution_count": 59,
     "metadata": {},
     "output_type": "execute_result"
    }
   ],
   "source": [
    "type(print)"
   ]
  },
  {
   "cell_type": "code",
   "execution_count": 65,
   "id": "bbcd2b7b-d562-432b-9e33-445c9d3cf457",
   "metadata": {},
   "outputs": [
    {
     "data": {
      "text/plain": [
       "int"
      ]
     },
     "execution_count": 65,
     "metadata": {},
     "output_type": "execute_result"
    }
   ],
   "source": [
    "type(5)"
   ]
  },
  {
   "cell_type": "code",
   "execution_count": 1,
   "id": "eca1cb29-c26c-4ed6-9424-2f3d3127f7f9",
   "metadata": {},
   "outputs": [],
   "source": [
    "first, last = 'Grace', 'Hopper'"
   ]
  },
  {
   "cell_type": "code",
   "execution_count": 4,
   "id": "2b440d1d-27e3-4bed-8648-c5c570dc0725",
   "metadata": {},
   "outputs": [],
   "source": [
    "first = 'Grace'\n",
    "last = 'Hopper'"
   ]
  },
  {
   "cell_type": "code",
   "execution_count": 6,
   "id": "173dedd4-b7b7-4717-94ba-a6b49e63997c",
   "metadata": {},
   "outputs": [
    {
     "name": "stdout",
     "output_type": "stream",
     "text": [
      "Grace Hopper\n"
     ]
    }
   ],
   "source": [
    "print(first, last)"
   ]
  },
  {
   "cell_type": "code",
   "execution_count": 21,
   "id": "fcd1c788-af53-4a27-ad20-713216b64de2",
   "metadata": {},
   "outputs": [
    {
     "name": "stdout",
     "output_type": "stream",
     "text": [
      "39.9\n"
     ]
    }
   ],
   "source": [
    "value = 2 * 19.95\n",
    "print(value) # only the last line is being run in \"interactive mode\"\n",
    "# if a line of code is intended to produce a result and it is not the last line,\n",
    "# it must call print()"
   ]
  },
  {
   "cell_type": "code",
   "execution_count": 23,
   "id": "7b6dd4d0-7a53-4cd4-b26e-d78886abfc4d",
   "metadata": {},
   "outputs": [
    {
     "data": {
      "text/plain": [
       "4"
      ]
     },
     "execution_count": 23,
     "metadata": {},
     "output_type": "execute_result"
    }
   ],
   "source": [
    "2 + 2"
   ]
  },
  {
   "cell_type": "code",
   "execution_count": 31,
   "id": "344a177f-ecc1-4eab-aadf-85bed840549b",
   "metadata": {},
   "outputs": [
    {
     "name": "stdout",
     "output_type": "stream",
     "text": [
      "4\n",
      "9\n"
     ]
    }
   ],
   "source": [
    "print(2 + 2) # run in \"program mode\"\n",
    "print(3 * 3) # run interactive"
   ]
  },
  {
   "cell_type": "code",
   "execution_count": 40,
   "id": "bc940913-dd3f-46cb-aa03-8111e2201ff8",
   "metadata": {},
   "outputs": [
    {
     "name": "stdout",
     "output_type": "stream",
     "text": [
      "thank you, the result is\n"
     ]
    }
   ],
   "source": [
    "3 * 19.95\n",
    "print('thank you, the result is')"
   ]
  },
  {
   "cell_type": "code",
   "execution_count": 43,
   "id": "4756217b-8b50-4bde-9083-392656626aa5",
   "metadata": {},
   "outputs": [
    {
     "data": {
      "text/plain": [
       "'53.3'"
      ]
     },
     "execution_count": 43,
     "metadata": {},
     "output_type": "execute_result"
    }
   ],
   "source": [
    "str(53.3)"
   ]
  },
  {
   "cell_type": "code",
   "execution_count": 45,
   "id": "2acb1d84-e702-4ac3-9870-2c0e68a0108f",
   "metadata": {},
   "outputs": [
    {
     "data": {
      "text/plain": [
       "'False'"
      ]
     },
     "execution_count": 45,
     "metadata": {},
     "output_type": "execute_result"
    }
   ],
   "source": [
    "str(False) # CTRL-SHIFT-MINUS"
   ]
  },
  {
   "cell_type": "code",
   "execution_count": 2,
   "id": "6970afcd-9c1a-463e-8f3e-11766520a4c7",
   "metadata": {},
   "outputs": [
    {
     "ename": "NameError",
     "evalue": "name 'false' is not defined",
     "output_type": "error",
     "traceback": [
      "\u001b[0;31m---------------------------------------------------------------------------\u001b[0m",
      "\u001b[0;31mNameError\u001b[0m                                 Traceback (most recent call last)",
      "Cell \u001b[0;32mIn[2], line 1\u001b[0m\n\u001b[0;32m----> 1\u001b[0m \u001b[38;5;28mstr\u001b[39m(false)\n",
      "\u001b[0;31mNameError\u001b[0m: name 'false' is not defined"
     ]
    }
   ],
   "source": [
    "str(false)"
   ]
  },
  {
   "cell_type": "code",
   "execution_count": 47,
   "id": "800966b6-a5fc-42ea-939c-d83b498fcffe",
   "metadata": {},
   "outputs": [
    {
     "data": {
      "text/plain": [
       "300"
      ]
     },
     "execution_count": 47,
     "metadata": {},
     "output_type": "execute_result"
    }
   ],
   "source": [
    "int('300')"
   ]
  },
  {
   "cell_type": "code",
   "execution_count": 49,
   "id": "ee8bfa76-c9cb-4fbf-ba26-69deb7ac489f",
   "metadata": {},
   "outputs": [
    {
     "ename": "ValueError",
     "evalue": "invalid literal for int() with base 10: '30x'",
     "output_type": "error",
     "traceback": [
      "\u001b[0;31m---------------------------------------------------------------------------\u001b[0m",
      "\u001b[0;31mValueError\u001b[0m                                Traceback (most recent call last)",
      "Cell \u001b[0;32mIn[49], line 1\u001b[0m\n\u001b[0;32m----> 1\u001b[0m \u001b[38;5;28mint\u001b[39m(\u001b[38;5;124m'\u001b[39m\u001b[38;5;124m30x\u001b[39m\u001b[38;5;124m'\u001b[39m)\n",
      "\u001b[0;31mValueError\u001b[0m: invalid literal for int() with base 10: '30x'"
     ]
    }
   ],
   "source": [
    "int('30x')"
   ]
  },
  {
   "cell_type": "code",
   "execution_count": 51,
   "id": "4593e99e-625a-4438-8a0b-3d1a282f254d",
   "metadata": {},
   "outputs": [
    {
     "data": {
      "text/plain": [
       "bool"
      ]
     },
     "execution_count": 51,
     "metadata": {},
     "output_type": "execute_result"
    }
   ],
   "source": [
    "type(False)"
   ]
  },
  {
   "cell_type": "code",
   "execution_count": 10,
   "id": "f0b9ae50-11d3-46af-b408-118bf7d4c008",
   "metadata": {},
   "outputs": [
    {
     "data": {
      "text/plain": [
       "str"
      ]
     },
     "execution_count": 10,
     "metadata": {},
     "output_type": "execute_result"
    }
   ],
   "source": [
    "type('False')"
   ]
  },
  {
   "cell_type": "code",
   "execution_count": 55,
   "id": "f5f118b6-3caa-4cd8-b94c-2be6a9884a82",
   "metadata": {},
   "outputs": [
    {
     "data": {
      "text/plain": [
       "float"
      ]
     },
     "execution_count": 55,
     "metadata": {},
     "output_type": "execute_result"
    }
   ],
   "source": [
    "type(3.5)"
   ]
  },
  {
   "cell_type": "code",
   "execution_count": 19,
   "id": "f9025b67-943d-4eb3-98ba-31eb4ff2952f",
   "metadata": {},
   "outputs": [],
   "source": [
    "name = 'Bruce Lee'"
   ]
  },
  {
   "cell_type": "code",
   "execution_count": 21,
   "id": "507a2bbf-0e3d-4203-948a-050241962505",
   "metadata": {},
   "outputs": [
    {
     "name": "stdout",
     "output_type": "stream",
     "text": [
      "Bruce Lee\n"
     ]
    }
   ],
   "source": [
    "print(name)"
   ]
  },
  {
   "cell_type": "code",
   "execution_count": 29,
   "id": "62272d11-43a4-47fa-b380-ad2b9cf032b1",
   "metadata": {},
   "outputs": [
    {
     "data": {
      "text/plain": [
       "80658175170943878571660636856403766975289505440883277824000000000000"
      ]
     },
     "execution_count": 29,
     "metadata": {},
     "output_type": "execute_result"
    }
   ],
   "source": [
    "# 52! or the number of ways to shuffle cards\n",
    "import math\n",
    "math.factorial(52)"
   ]
  },
  {
   "cell_type": "code",
   "execution_count": 31,
   "id": "d24ab443-6ae1-4bcd-b81d-6a6ac9a53ffd",
   "metadata": {},
   "outputs": [
    {
     "data": {
      "text/plain": [
       "1000000000000000000000000000000000000000000000000000000000000000000000000000000"
      ]
     },
     "execution_count": 31,
     "metadata": {},
     "output_type": "execute_result"
    }
   ],
   "source": [
    "10 ** 78"
   ]
  },
  {
   "cell_type": "code",
   "execution_count": 33,
   "id": "905ef6a8-b2cd-4433-9e71-a7309af02f37",
   "metadata": {},
   "outputs": [
    {
     "data": {
      "text/plain": [
       "204913152000000000000"
      ]
     },
     "execution_count": 33,
     "metadata": {},
     "output_type": "execute_result"
    }
   ],
   "source": [
    "# 1224 A.D. we'll say cards came into existence\n",
    "# 8.1B on earth\n",
    "# shuffling cards once a second since 1224 A.D.\n",
    "8_100_000_000 * 800 * 366 * 24 * 60 * 60"
   ]
  },
  {
   "cell_type": "code",
   "execution_count": 35,
   "id": "8e21514d-08e6-4174-8ac5-1f02f7093f5c",
   "metadata": {},
   "outputs": [
    {
     "data": {
      "text/plain": [
       "2.540513116813204e-48"
      ]
     },
     "execution_count": 35,
     "metadata": {},
     "output_type": "execute_result"
    }
   ],
   "source": [
    "204913152000000000000 / 80658175170943878571660636856403766975289505440883277824000000000000"
   ]
  },
  {
   "cell_type": "code",
   "execution_count": null,
   "id": "c157b6c6-f2ce-4465-9b4a-fcbfa73fa6bc",
   "metadata": {},
   "outputs": [],
   "source": [
    ".0000000000000000000000000000000000000000000002540513116813204"
   ]
  },
  {
   "cell_type": "code",
   "execution_count": 37,
   "id": "16e1fa5f-a486-4289-b6bb-25f2f58c536f",
   "metadata": {},
   "outputs": [
    {
     "data": {
      "text/plain": [
       "3.141592653589793"
      ]
     },
     "execution_count": 37,
     "metadata": {},
     "output_type": "execute_result"
    }
   ],
   "source": [
    "math.pi"
   ]
  },
  {
   "cell_type": "code",
   "execution_count": 39,
   "id": "81e41515-5402-4fa3-ba7d-c259a5590839",
   "metadata": {},
   "outputs": [
    {
     "data": {
      "text/plain": [
       "2.718281828459045"
      ]
     },
     "execution_count": 39,
     "metadata": {},
     "output_type": "execute_result"
    }
   ],
   "source": [
    "math.e"
   ]
  },
  {
   "cell_type": "code",
   "execution_count": 42,
   "id": "c5ce2dbb-dd39-4dd7-be50-d4e19becee76",
   "metadata": {},
   "outputs": [
    {
     "name": "stdout",
     "output_type": "stream",
     "text": [
      "01234567890123456789012345678901234567890123456789012345678901234567890123456789\n",
      "--------------------------------------------------------------------------------\n"
     ]
    }
   ],
   "source": [
    "print('0123456789' * 8)\n",
    "print('-' * 80)"
   ]
  },
  {
   "cell_type": "code",
   "execution_count": 45,
   "id": "2d9511cb-5b6f-4fad-b61a-ed3496a30a68",
   "metadata": {},
   "outputs": [],
   "source": [
    "a, b, o, p = 'b', 'a', 'p', 'o'"
   ]
  },
  {
   "cell_type": "code",
   "execution_count": 47,
   "id": "c8b8926a-05ca-4cd7-b29c-fca81dfe2516",
   "metadata": {},
   "outputs": [
    {
     "data": {
      "text/plain": [
       "'pop'"
      ]
     },
     "execution_count": 47,
     "metadata": {},
     "output_type": "execute_result"
    }
   ],
   "source": [
    "o + p + o"
   ]
  },
  {
   "cell_type": "code",
   "execution_count": 49,
   "id": "970468d3-20a3-4ff8-8372-f1ced95cfa52",
   "metadata": {},
   "outputs": [
    {
     "data": {
      "text/plain": [
       "'bbba'"
      ]
     },
     "execution_count": 49,
     "metadata": {},
     "output_type": "execute_result"
    }
   ],
   "source": [
    "a * 3 + b"
   ]
  },
  {
   "cell_type": "code",
   "execution_count": 51,
   "id": "3835bee5-ab88-49d5-9db9-e96bff92d38b",
   "metadata": {},
   "outputs": [
    {
     "data": {
      "text/plain": [
       "'bookkeeper'"
      ]
     },
     "execution_count": 51,
     "metadata": {},
     "output_type": "execute_result"
    }
   ],
   "source": [
    "a + p * 2 + 'k' * 2 + 'e' * 2 + o + 'er'"
   ]
  },
  {
   "cell_type": "code",
   "execution_count": 63,
   "id": "93690405-56bd-4315-b7cf-73e29b4a41ab",
   "metadata": {},
   "outputs": [
    {
     "name": "stdout",
     "output_type": "stream",
     "text": [
      "all is well with the world\n"
     ]
    }
   ],
   "source": [
    "if 2 + 3 == 5:\n",
    "    print('all is well with the world')"
   ]
  },
  {
   "cell_type": "code",
   "execution_count": 65,
   "id": "c2a49c29-17be-4afa-9ea2-3c86b97f29fb",
   "metadata": {},
   "outputs": [
    {
     "ename": "SyntaxError",
     "evalue": "invalid syntax (2784298368.py, line 1)",
     "output_type": "error",
     "traceback": [
      "\u001b[0;36m  Cell \u001b[0;32mIn[65], line 1\u001b[0;36m\u001b[0m\n\u001b[0;31m    else = 4\u001b[0m\n\u001b[0m    ^\u001b[0m\n\u001b[0;31mSyntaxError\u001b[0m\u001b[0;31m:\u001b[0m invalid syntax\n"
     ]
    }
   ],
   "source": [
    "else = 4"
   ]
  },
  {
   "cell_type": "code",
   "execution_count": 67,
   "id": "976c7299-3b37-4148-af78-e7c6223e64f5",
   "metadata": {},
   "outputs": [
    {
     "ename": "SyntaxError",
     "evalue": "invalid syntax (2545682580.py, line 1)",
     "output_type": "error",
     "traceback": [
      "\u001b[0;36m  Cell \u001b[0;32mIn[67], line 1\u001b[0;36m\u001b[0m\n\u001b[0;31m    import = 4\u001b[0m\n\u001b[0m           ^\u001b[0m\n\u001b[0;31mSyntaxError\u001b[0m\u001b[0;31m:\u001b[0m invalid syntax\n"
     ]
    }
   ],
   "source": [
    "import = 4"
   ]
  },
  {
   "cell_type": "code",
   "execution_count": 69,
   "id": "663711c2-5d6c-4aa3-8ed7-fb0c3a0f0fa3",
   "metadata": {},
   "outputs": [
    {
     "ename": "SyntaxError",
     "evalue": "cannot assign to True (1770609971.py, line 1)",
     "output_type": "error",
     "traceback": [
      "\u001b[0;36m  Cell \u001b[0;32mIn[69], line 1\u001b[0;36m\u001b[0m\n\u001b[0;31m    True = 1\u001b[0m\n\u001b[0m    ^\u001b[0m\n\u001b[0;31mSyntaxError\u001b[0m\u001b[0;31m:\u001b[0m cannot assign to True\n"
     ]
    }
   ],
   "source": [
    "True = 1"
   ]
  },
  {
   "cell_type": "code",
   "execution_count": 72,
   "id": "b2246ab6-ff42-4af6-b4a0-966f1b50df5b",
   "metadata": {},
   "outputs": [],
   "source": [
    "age = 12"
   ]
  },
  {
   "cell_type": "code",
   "execution_count": null,
   "id": "f09ee623-7e2b-4095-b536-11e061bf3792",
   "metadata": {},
   "outputs": [],
   "source": [
    "if age == 1:\n",
    "    print('You are 1 today!')\n",
    "elif age == 2:\n",
    "    print('You are 2 today!')"
   ]
  },
  {
   "cell_type": "code",
   "execution_count": 75,
   "id": "e64d3ab4-2b3a-4861-a2d4-29903d6d0fb0",
   "metadata": {},
   "outputs": [
    {
     "name": "stdin",
     "output_type": "stream",
     "text": [
      "Enter your guess:  17\n"
     ]
    }
   ],
   "source": [
    "guess = input('Enter your guess: ')"
   ]
  },
  {
   "cell_type": "code",
   "execution_count": 77,
   "id": "1c1a8aac-a489-49bf-8cd6-2fcac12e7001",
   "metadata": {},
   "outputs": [
    {
     "data": {
      "text/plain": [
       "'17'"
      ]
     },
     "execution_count": 77,
     "metadata": {},
     "output_type": "execute_result"
    }
   ],
   "source": [
    "guess"
   ]
  },
  {
   "cell_type": "code",
   "execution_count": 79,
   "id": "012dba49-e924-4427-8a40-c1a233d16869",
   "metadata": {},
   "outputs": [
    {
     "ename": "TypeError",
     "evalue": "'>' not supported between instances of 'str' and 'int'",
     "output_type": "error",
     "traceback": [
      "\u001b[0;31m---------------------------------------------------------------------------\u001b[0m",
      "\u001b[0;31mTypeError\u001b[0m                                 Traceback (most recent call last)",
      "Cell \u001b[0;32mIn[79], line 1\u001b[0m\n\u001b[0;32m----> 1\u001b[0m \u001b[38;5;28;01mif\u001b[39;00m guess \u001b[38;5;241m>\u001b[39m \u001b[38;5;241m10\u001b[39m:\n\u001b[1;32m      2\u001b[0m     \u001b[38;5;28mprint\u001b[39m(\u001b[38;5;124m'\u001b[39m\u001b[38;5;124myes\u001b[39m\u001b[38;5;124m'\u001b[39m)\n",
      "\u001b[0;31mTypeError\u001b[0m: '>' not supported between instances of 'str' and 'int'"
     ]
    }
   ],
   "source": [
    "if guess > 10:\n",
    "    print('yes')"
   ]
  },
  {
   "cell_type": "code",
   "execution_count": 86,
   "id": "3c909016-eb7f-4696-8a8f-7abf7a708755",
   "metadata": {},
   "outputs": [
    {
     "name": "stdin",
     "output_type": "stream",
     "text": [
      "Enter your guess:  four\n"
     ]
    },
    {
     "ename": "ValueError",
     "evalue": "invalid literal for int() with base 10: 'four'",
     "output_type": "error",
     "traceback": [
      "\u001b[0;31m---------------------------------------------------------------------------\u001b[0m",
      "\u001b[0;31mValueError\u001b[0m                                Traceback (most recent call last)",
      "Cell \u001b[0;32mIn[86], line 1\u001b[0m\n\u001b[0;32m----> 1\u001b[0m guess \u001b[38;5;241m=\u001b[39m \u001b[38;5;28mint\u001b[39m(\u001b[38;5;28minput\u001b[39m(\u001b[38;5;124m'\u001b[39m\u001b[38;5;124mEnter your guess: \u001b[39m\u001b[38;5;124m'\u001b[39m))\n",
      "\u001b[0;31mValueError\u001b[0m: invalid literal for int() with base 10: 'four'"
     ]
    }
   ],
   "source": [
    "guess = int(input('Enter your guess: '))"
   ]
  },
  {
   "cell_type": "code",
   "execution_count": 84,
   "id": "c991f7a2-780f-47c6-b40e-f93b92253be5",
   "metadata": {},
   "outputs": [
    {
     "data": {
      "text/plain": [
       "17"
      ]
     },
     "execution_count": 84,
     "metadata": {},
     "output_type": "execute_result"
    }
   ],
   "source": [
    "guess"
   ]
  },
  {
   "cell_type": "code",
   "execution_count": 92,
   "id": "ec3fa132-058e-4872-b97e-19db6e5a4d28",
   "metadata": {},
   "outputs": [
    {
     "data": {
      "text/plain": [
       "True"
      ]
     },
     "execution_count": 92,
     "metadata": {},
     "output_type": "execute_result"
    }
   ],
   "source": [
    "'S' in 'San Francisco'"
   ]
  },
  {
   "cell_type": "code",
   "execution_count": 94,
   "id": "96ab07b6-4ff7-48c6-ab2f-5f5deca5ae73",
   "metadata": {},
   "outputs": [
    {
     "data": {
      "text/plain": [
       "False"
      ]
     },
     "execution_count": 94,
     "metadata": {},
     "output_type": "execute_result"
    }
   ],
   "source": [
    "'J' in 'San Francisco'"
   ]
  },
  {
   "cell_type": "code",
   "execution_count": 96,
   "id": "0bc5428e-7a84-460c-8ebe-c769f77ac06e",
   "metadata": {},
   "outputs": [
    {
     "data": {
      "text/plain": [
       "True"
      ]
     },
     "execution_count": 96,
     "metadata": {},
     "output_type": "execute_result"
    }
   ],
   "source": [
    "'Fran' in 'San Francisco'"
   ]
  },
  {
   "cell_type": "code",
   "execution_count": 98,
   "id": "0c406ab5-243c-4357-a78d-bdcbcb24e6ad",
   "metadata": {},
   "outputs": [
    {
     "data": {
      "text/plain": [
       "False"
      ]
     },
     "execution_count": 98,
     "metadata": {},
     "output_type": "execute_result"
    }
   ],
   "source": [
    "'Fan' in 'San Francisco'"
   ]
  },
  {
   "cell_type": "code",
   "execution_count": 101,
   "id": "f48299b3-451d-401e-ab87-2dcf1fb17d94",
   "metadata": {},
   "outputs": [],
   "source": [
    "import random"
   ]
  },
  {
   "cell_type": "code",
   "execution_count": 103,
   "id": "c41df14c-75de-4d7d-9ca5-189f94381ba2",
   "metadata": {},
   "outputs": [
    {
     "data": {
      "text/plain": [
       "module"
      ]
     },
     "execution_count": 103,
     "metadata": {},
     "output_type": "execute_result"
    }
   ],
   "source": [
    "type(random)"
   ]
  },
  {
   "cell_type": "code",
   "execution_count": 105,
   "id": "00c810c5-5b3c-4018-b33b-aa57a347f125",
   "metadata": {},
   "outputs": [
    {
     "data": {
      "text/plain": [
       "['BPF',\n",
       " 'LOG4',\n",
       " 'NV_MAGICCONST',\n",
       " 'RECIP_BPF',\n",
       " 'Random',\n",
       " 'SG_MAGICCONST',\n",
       " 'SystemRandom',\n",
       " 'TWOPI',\n",
       " '_ONE',\n",
       " '_Sequence',\n",
       " '_Set',\n",
       " '__all__',\n",
       " '__builtins__',\n",
       " '__cached__',\n",
       " '__doc__',\n",
       " '__file__',\n",
       " '__loader__',\n",
       " '__name__',\n",
       " '__package__',\n",
       " '__spec__',\n",
       " '_accumulate',\n",
       " '_acos',\n",
       " '_bisect',\n",
       " '_ceil',\n",
       " '_cos',\n",
       " '_e',\n",
       " '_exp',\n",
       " '_floor',\n",
       " '_index',\n",
       " '_inst',\n",
       " '_isfinite',\n",
       " '_log',\n",
       " '_os',\n",
       " '_pi',\n",
       " '_random',\n",
       " '_repeat',\n",
       " '_sha512',\n",
       " '_sin',\n",
       " '_sqrt',\n",
       " '_test',\n",
       " '_test_generator',\n",
       " '_urandom',\n",
       " '_warn',\n",
       " 'betavariate',\n",
       " 'choice',\n",
       " 'choices',\n",
       " 'expovariate',\n",
       " 'gammavariate',\n",
       " 'gauss',\n",
       " 'getrandbits',\n",
       " 'getstate',\n",
       " 'lognormvariate',\n",
       " 'normalvariate',\n",
       " 'paretovariate',\n",
       " 'randbytes',\n",
       " 'randint',\n",
       " 'random',\n",
       " 'randrange',\n",
       " 'sample',\n",
       " 'seed',\n",
       " 'setstate',\n",
       " 'shuffle',\n",
       " 'triangular',\n",
       " 'uniform',\n",
       " 'vonmisesvariate',\n",
       " 'weibullvariate']"
      ]
     },
     "execution_count": 105,
     "metadata": {},
     "output_type": "execute_result"
    }
   ],
   "source": [
    "dir(random)"
   ]
  },
  {
   "cell_type": "code",
   "execution_count": 107,
   "id": "e768637e-2b22-4a4f-8239-606f2f1d6c6e",
   "metadata": {},
   "outputs": [
    {
     "name": "stdout",
     "output_type": "stream",
     "text": [
      "Help on method randint in module random:\n",
      "\n",
      "randint(a, b) method of random.Random instance\n",
      "    Return random integer in range [a, b], including both end points.\n",
      "\n"
     ]
    }
   ],
   "source": [
    "help(random.randint)"
   ]
  },
  {
   "cell_type": "code",
   "execution_count": 125,
   "id": "723a4d5c-165e-44cf-b3ff-ff033f33a83e",
   "metadata": {},
   "outputs": [
    {
     "data": {
      "text/plain": [
       "56"
      ]
     },
     "execution_count": 125,
     "metadata": {},
     "output_type": "execute_result"
    }
   ],
   "source": [
    "random.randint(1, 100)"
   ]
  },
  {
   "cell_type": "code",
   "execution_count": 128,
   "id": "390fb3b1-dcd9-4694-9fa4-871ab0f9fc12",
   "metadata": {},
   "outputs": [
    {
     "ename": "ZeroDivisionError",
     "evalue": "division by zero",
     "output_type": "error",
     "traceback": [
      "\u001b[0;31m---------------------------------------------------------------------------\u001b[0m",
      "\u001b[0;31mZeroDivisionError\u001b[0m                         Traceback (most recent call last)",
      "Cell \u001b[0;32mIn[128], line 1\u001b[0m\n\u001b[0;32m----> 1\u001b[0m \u001b[38;5;241m1\u001b[39m \u001b[38;5;241m/\u001b[39m \u001b[38;5;241m0\u001b[39m\n",
      "\u001b[0;31mZeroDivisionError\u001b[0m: division by zero"
     ]
    }
   ],
   "source": [
    "1 / 0"
   ]
  },
  {
   "cell_type": "markdown",
   "id": "58dc732f-fab5-4e15-90c9-19c31e307129",
   "metadata": {},
   "source": [
    "## Quick Lab: Loops/Strings\n",
    "* have the user enter a string, then loop through the string to generate (or print) a new string in which every character is duplicated, e.g., \"Python\" => \"PPyytthhoonn\""
   ]
  },
  {
   "cell_type": "code",
   "execution_count": 138,
   "id": "b25e85c5-0f37-41c6-9ab2-55ee7a724f76",
   "metadata": {},
   "outputs": [],
   "source": [
    "# 1. get a string from the user\n",
    "# 2. for each character in the string:\n",
    "# 3.    print it twice"
   ]
  },
  {
   "cell_type": "code",
   "execution_count": 150,
   "id": "d3aa05bb-ed85-44a5-99a7-48cf02baf9c5",
   "metadata": {},
   "outputs": [
    {
     "name": "stdin",
     "output_type": "stream",
     "text": [
      "Enter some text:  Swift\n"
     ]
    },
    {
     "name": "stdout",
     "output_type": "stream",
     "text": [
      "SSwwiifftt"
     ]
    }
   ],
   "source": [
    "string = input('Enter some text: ') # 1\n",
    "for char in string: # 2\n",
    "    print(char * 2, end='') # 3 ... remember end='' will write NOTHING after printing"
   ]
  },
  {
   "cell_type": "code",
   "execution_count": 148,
   "id": "6ca96191-64b3-45bf-9c9e-209fec0d9d74",
   "metadata": {},
   "outputs": [
    {
     "name": "stdin",
     "output_type": "stream",
     "text": [
      "Enter some text:  Lovelac\n"
     ]
    },
    {
     "name": "stdout",
     "output_type": "stream",
     "text": [
      "LLoovveellaacc\n"
     ]
    }
   ],
   "source": [
    "# 1. get a string from the user\n",
    "# 1a. create a new empty string\n",
    "# 2. for each character in the string:\n",
    "# 2a. append/concatenate that charater to the new string twice\n",
    "# 3. print the new string\n",
    "\n",
    "string = input('Enter some text: ') # 1\n",
    "new_string = '' # 1a\n",
    "\n",
    "for char in string: # 2\n",
    "    new_string = new_string + char * 2\n",
    "    # new_string += char * 2\n",
    "    \n",
    "print(new_string)"
   ]
  },
  {
   "cell_type": "code",
   "execution_count": 152,
   "id": "d4bd69fa-7807-4e47-9590-ee1a50ff835e",
   "metadata": {},
   "outputs": [
    {
     "name": "stdin",
     "output_type": "stream",
     "text": [
      "Enter some text:  Bruce Lee\n"
     ]
    },
    {
     "name": "stdout",
     "output_type": "stream",
     "text": [
      "BBrruuccee  LLeeee"
     ]
    }
   ],
   "source": [
    "string = input('Enter some text: ') # 1\n",
    "for char in string: # 2\n",
    "    print(char + char, end='') # 3 ... remember end='' will write NOTHING after printing"
   ]
  },
  {
   "cell_type": "code",
   "execution_count": 158,
   "id": "e0b054fc-2197-40e5-aa8a-f3639d571f0b",
   "metadata": {},
   "outputs": [
    {
     "name": "stdin",
     "output_type": "stream",
     "text": [
      "Enter some text:  bruce lee\n"
     ]
    },
    {
     "name": "stdout",
     "output_type": "stream",
     "text": [
      "bbrruuccee  lleeee"
     ]
    }
   ],
   "source": [
    "string = input('Enter some text: ') # 1\n",
    "for char in string: # 2\n",
    "    print(char, char, sep='', end='') # 3 ... remember end='' will write NOTHING after printing"
   ]
  },
  {
   "cell_type": "code",
   "execution_count": 160,
   "id": "594ef474-f4d3-4701-ae8f-8111f60a3dba",
   "metadata": {},
   "outputs": [
    {
     "name": "stdin",
     "output_type": "stream",
     "text": [
      "Enter some text:  Taylor Swift\n"
     ]
    },
    {
     "name": "stdout",
     "output_type": "stream",
     "text": [
      "TTaayylloorr  SSwwiifftt"
     ]
    }
   ],
   "source": [
    "string = input('Enter some text: ') # 1\n",
    "for char in string: # 2\n",
    "    print(char, end=char)"
   ]
  },
  {
   "cell_type": "markdown",
   "id": "071bade8-ac4a-4c63-9a3c-0908c088e42f",
   "metadata": {},
   "source": [
    "## (Group) Lab: Loops\n",
    "* Loop through the numbers from 2 to 25 and print out which numbers are prime, and for those numbers which are not prime numbers, you should print them as a product of two factors\n",
    "* prime = no divisors other than 1 and itself\n",
    "* example output:\n",
    "<pre>\n",
    "2 is PRIME\n",
    "3 is PRIME\n",
    "4 is divisible by 2\n",
    "5 is PRIME\n",
    "6 is divisible by 2\n",
    "7 is PRIME\n",
    "8 is divisible by 2\n",
    "9 is divisible by 3\n",
    "10 is divisible by 2\n",
    "11 is PRIME\n",
    "12 is divisible by 2\n",
    "13 is PRIME\n",
    "14 is divisible by 2\n",
    "15 is divisible by 3\n",
    "16 is divisible by 2\n",
    "17 is PRIME\n",
    "18 is divisible by 2\n",
    "19 is PRIME\n",
    "20 is divisible by 2\n",
    "21 is divisible by 3\n",
    "22 is divisible by 2\n",
    "23 is PRIME\n",
    "24 is divisible by 2\n",
    "25 is divisible by 5\n",
    "</pre>"
   ]
  },
  {
   "cell_type": "code",
   "execution_count": null,
   "id": "b657ab90-0dca-4666-a46b-18cb690e0da3",
   "metadata": {},
   "outputs": [],
   "source": [
    "# what are the steps you would need to tell someone else how to do this\n",
    "# and be successful\n",
    "# consider the numbers from 2 to 25\n",
    "# see if there is any number below the current number (and >= 2) that divides in evenly\n",
    "# if it divides in evenly, \"not prime, or it's divisible by this number\" and STOP CHECKING\n",
    "# if NONE of the numbers below our number divide in evenly, then \"PRIME\""
   ]
  },
  {
   "cell_type": "code",
   "execution_count": null,
   "id": "b86ea28c-542a-44cf-b18d-0090ba9e6288",
   "metadata": {},
   "outputs": [],
   "source": [
    "# 1. for each number from 2 to 25:\n",
    "# 2.    for each possible_divisor from 2 to number-1:\n",
    "# 3.        if possible_divisor divides in to number evenly:\n",
    "# 4.           \"is divisible by\" possible_divisor\n",
    "# 5.           break\n",
    "# 6.    if we didn't find a divisor, \"PRIME\" "
   ]
  },
  {
   "cell_type": "code",
   "execution_count": 1,
   "id": "6e0f8372-c858-4377-bedd-cd43e9b0e75d",
   "metadata": {},
   "outputs": [
    {
     "name": "stdout",
     "output_type": "stream",
     "text": [
      "2 is PRIME\n",
      "3 is PRIME\n",
      "4 is divisible by 2\n",
      "5 is PRIME\n",
      "6 is divisible by 2\n",
      "7 is PRIME\n",
      "8 is divisible by 2\n",
      "9 is divisible by 3\n",
      "10 is divisible by 2\n",
      "11 is PRIME\n",
      "12 is divisible by 2\n",
      "13 is PRIME\n",
      "14 is divisible by 2\n",
      "15 is divisible by 3\n",
      "16 is divisible by 2\n",
      "17 is PRIME\n",
      "18 is divisible by 2\n",
      "19 is PRIME\n",
      "20 is divisible by 2\n",
      "21 is divisible by 3\n",
      "22 is divisible by 2\n",
      "23 is PRIME\n",
      "24 is divisible by 2\n",
      "25 is divisible by 5\n"
     ]
    }
   ],
   "source": [
    "for number in range(2, 26): # 1\n",
    "    result = 'prime' # start out by assuming prime\n",
    "    for possible_divisor in range(2, number): # 2 (2..number-1)\n",
    "        if number % possible_divisor == 0: # 3\n",
    "            print(number, 'is divisible by', possible_divisor) # 4\n",
    "            result = 'composite'\n",
    "            break # 5\n",
    "    # did we find a divisor or not?\n",
    "    if result == 'prime':\n",
    "        print(number, 'is PRIME')"
   ]
  },
  {
   "cell_type": "code",
   "execution_count": 12,
   "id": "d4d399f6-e102-421c-908d-6f9e9c0cfdf1",
   "metadata": {},
   "outputs": [
    {
     "name": "stdout",
     "output_type": "stream",
     "text": [
      "5000 equals 2 * 2500\n",
      "5001 equals 3 * 1667\n",
      "5002 equals 2 * 2501\n",
      "5003 is PRIME\n",
      "5004 equals 2 * 2502\n",
      "5005 equals 5 * 1001\n",
      "5006 equals 2 * 2503\n",
      "5007 equals 3 * 1669\n",
      "5008 equals 2 * 2504\n",
      "5009 is PRIME\n",
      "5010 equals 2 * 2505\n",
      "5011 is PRIME\n",
      "5012 equals 2 * 2506\n",
      "5013 equals 3 * 1671\n",
      "5014 equals 2 * 2507\n",
      "5015 equals 5 * 1003\n",
      "5016 equals 2 * 2508\n",
      "5017 equals 29 * 173\n",
      "5018 equals 2 * 2509\n",
      "5019 equals 3 * 1673\n",
      "5020 equals 2 * 2510\n",
      "5021 is PRIME\n",
      "5022 equals 2 * 2511\n",
      "5023 is PRIME\n",
      "5024 equals 2 * 2512\n",
      "5025 equals 3 * 1675\n",
      "5026 equals 2 * 2513\n",
      "5027 equals 11 * 457\n",
      "5028 equals 2 * 2514\n",
      "5029 equals 47 * 107\n",
      "5030 equals 2 * 2515\n",
      "5031 equals 3 * 1677\n",
      "5032 equals 2 * 2516\n",
      "5033 equals 7 * 719\n",
      "5034 equals 2 * 2517\n",
      "5035 equals 5 * 1007\n",
      "5036 equals 2 * 2518\n",
      "5037 equals 3 * 1679\n",
      "5038 equals 2 * 2519\n",
      "5039 is PRIME\n",
      "5040 equals 2 * 2520\n",
      "5041 equals 71 * 71\n",
      "5042 equals 2 * 2521\n",
      "5043 equals 3 * 1681\n",
      "5044 equals 2 * 2522\n",
      "5045 equals 5 * 1009\n",
      "5046 equals 2 * 2523\n",
      "5047 equals 7 * 721\n",
      "5048 equals 2 * 2524\n",
      "5049 equals 3 * 1683\n",
      "5050 equals 2 * 2525\n",
      "5051 is PRIME\n",
      "5052 equals 2 * 2526\n",
      "5053 equals 31 * 163\n",
      "5054 equals 2 * 2527\n",
      "5055 equals 3 * 1685\n",
      "5056 equals 2 * 2528\n",
      "5057 equals 13 * 389\n",
      "5058 equals 2 * 2529\n",
      "5059 is PRIME\n",
      "5060 equals 2 * 2530\n",
      "5061 equals 3 * 1687\n",
      "5062 equals 2 * 2531\n",
      "5063 equals 61 * 83\n",
      "5064 equals 2 * 2532\n",
      "5065 equals 5 * 1013\n",
      "5066 equals 2 * 2533\n",
      "5067 equals 3 * 1689\n",
      "5068 equals 2 * 2534\n",
      "5069 equals 37 * 137\n",
      "5070 equals 2 * 2535\n",
      "5071 equals 11 * 461\n",
      "5072 equals 2 * 2536\n",
      "5073 equals 3 * 1691\n",
      "5074 equals 2 * 2537\n",
      "5075 equals 5 * 1015\n",
      "5076 equals 2 * 2538\n",
      "5077 is PRIME\n",
      "5078 equals 2 * 2539\n",
      "5079 equals 3 * 1693\n",
      "5080 equals 2 * 2540\n",
      "5081 is PRIME\n",
      "5082 equals 2 * 2541\n",
      "5083 equals 13 * 391\n",
      "5084 equals 2 * 2542\n",
      "5085 equals 3 * 1695\n",
      "5086 equals 2 * 2543\n",
      "5087 is PRIME\n",
      "5088 equals 2 * 2544\n",
      "5089 equals 7 * 727\n",
      "5090 equals 2 * 2545\n",
      "5091 equals 3 * 1697\n",
      "5092 equals 2 * 2546\n",
      "5093 equals 11 * 463\n",
      "5094 equals 2 * 2547\n",
      "5095 equals 5 * 1019\n",
      "5096 equals 2 * 2548\n",
      "5097 equals 3 * 1699\n",
      "5098 equals 2 * 2549\n",
      "5099 is PRIME\n",
      "5100 equals 2 * 2550\n",
      "5101 is PRIME\n",
      "5102 equals 2 * 2551\n",
      "5103 equals 3 * 1701\n",
      "5104 equals 2 * 2552\n",
      "5105 equals 5 * 1021\n",
      "5106 equals 2 * 2553\n",
      "5107 is PRIME\n",
      "5108 equals 2 * 2554\n",
      "5109 equals 3 * 1703\n",
      "5110 equals 2 * 2555\n",
      "5111 equals 19 * 269\n",
      "5112 equals 2 * 2556\n",
      "5113 is PRIME\n",
      "5114 equals 2 * 2557\n",
      "5115 equals 3 * 1705\n",
      "5116 equals 2 * 2558\n",
      "5117 equals 7 * 731\n",
      "5118 equals 2 * 2559\n",
      "5119 is PRIME\n",
      "5120 equals 2 * 2560\n",
      "5121 equals 3 * 1707\n",
      "5122 equals 2 * 2561\n",
      "5123 equals 47 * 109\n",
      "5124 equals 2 * 2562\n",
      "5125 equals 5 * 1025\n",
      "5126 equals 2 * 2563\n",
      "5127 equals 3 * 1709\n",
      "5128 equals 2 * 2564\n",
      "5129 equals 23 * 223\n",
      "5130 equals 2 * 2565\n",
      "5131 equals 7 * 733\n",
      "5132 equals 2 * 2566\n",
      "5133 equals 3 * 1711\n",
      "5134 equals 2 * 2567\n",
      "5135 equals 5 * 1027\n",
      "5136 equals 2 * 2568\n",
      "5137 equals 11 * 467\n",
      "5138 equals 2 * 2569\n",
      "5139 equals 3 * 1713\n",
      "5140 equals 2 * 2570\n",
      "5141 equals 53 * 97\n",
      "5142 equals 2 * 2571\n",
      "5143 equals 37 * 139\n",
      "5144 equals 2 * 2572\n",
      "5145 equals 3 * 1715\n",
      "5146 equals 2 * 2573\n",
      "5147 is PRIME\n",
      "5148 equals 2 * 2574\n",
      "5149 equals 19 * 271\n",
      "5150 equals 2 * 2575\n",
      "5151 equals 3 * 1717\n",
      "5152 equals 2 * 2576\n",
      "5153 is PRIME\n",
      "5154 equals 2 * 2577\n",
      "5155 equals 5 * 1031\n",
      "5156 equals 2 * 2578\n",
      "5157 equals 3 * 1719\n",
      "5158 equals 2 * 2579\n",
      "5159 equals 7 * 737\n",
      "5160 equals 2 * 2580\n",
      "5161 equals 13 * 397\n",
      "5162 equals 2 * 2581\n",
      "5163 equals 3 * 1721\n",
      "5164 equals 2 * 2582\n",
      "5165 equals 5 * 1033\n",
      "5166 equals 2 * 2583\n",
      "5167 is PRIME\n",
      "5168 equals 2 * 2584\n",
      "5169 equals 3 * 1723\n",
      "5170 equals 2 * 2585\n",
      "5171 is PRIME\n",
      "5172 equals 2 * 2586\n",
      "5173 equals 7 * 739\n",
      "5174 equals 2 * 2587\n",
      "5175 equals 3 * 1725\n",
      "5176 equals 2 * 2588\n",
      "5177 equals 31 * 167\n",
      "5178 equals 2 * 2589\n",
      "5179 is PRIME\n",
      "5180 equals 2 * 2590\n",
      "5181 equals 3 * 1727\n",
      "5182 equals 2 * 2591\n",
      "5183 equals 71 * 73\n",
      "5184 equals 2 * 2592\n",
      "5185 equals 5 * 1037\n",
      "5186 equals 2 * 2593\n",
      "5187 equals 3 * 1729\n",
      "5188 equals 2 * 2594\n",
      "5189 is PRIME\n",
      "5190 equals 2 * 2595\n",
      "5191 equals 29 * 179\n",
      "5192 equals 2 * 2596\n",
      "5193 equals 3 * 1731\n",
      "5194 equals 2 * 2597\n",
      "5195 equals 5 * 1039\n",
      "5196 equals 2 * 2598\n",
      "5197 is PRIME\n",
      "5198 equals 2 * 2599\n",
      "5199 equals 3 * 1733\n",
      "5200 equals 2 * 2600\n",
      "5201 equals 7 * 743\n",
      "5202 equals 2 * 2601\n",
      "5203 equals 11 * 473\n",
      "5204 equals 2 * 2602\n",
      "5205 equals 3 * 1735\n",
      "5206 equals 2 * 2603\n",
      "5207 equals 41 * 127\n",
      "5208 equals 2 * 2604\n",
      "5209 is PRIME\n",
      "5210 equals 2 * 2605\n",
      "5211 equals 3 * 1737\n",
      "5212 equals 2 * 2606\n",
      "5213 equals 13 * 401\n",
      "5214 equals 2 * 2607\n",
      "5215 equals 5 * 1043\n",
      "5216 equals 2 * 2608\n",
      "5217 equals 3 * 1739\n",
      "5218 equals 2 * 2609\n",
      "5219 equals 17 * 307\n",
      "5220 equals 2 * 2610\n",
      "5221 equals 23 * 227\n",
      "5222 equals 2 * 2611\n",
      "5223 equals 3 * 1741\n",
      "5224 equals 2 * 2612\n",
      "5225 equals 5 * 1045\n",
      "5226 equals 2 * 2613\n",
      "5227 is PRIME\n",
      "5228 equals 2 * 2614\n",
      "5229 equals 3 * 1743\n",
      "5230 equals 2 * 2615\n",
      "5231 is PRIME\n",
      "5232 equals 2 * 2616\n",
      "5233 is PRIME\n",
      "5234 equals 2 * 2617\n",
      "5235 equals 3 * 1745\n",
      "5236 equals 2 * 2618\n",
      "5237 is PRIME\n",
      "5238 equals 2 * 2619\n",
      "5239 equals 13 * 403\n",
      "5240 equals 2 * 2620\n",
      "5241 equals 3 * 1747\n",
      "5242 equals 2 * 2621\n",
      "5243 equals 7 * 749\n",
      "5244 equals 2 * 2622\n",
      "5245 equals 5 * 1049\n",
      "5246 equals 2 * 2623\n",
      "5247 equals 3 * 1749\n",
      "5248 equals 2 * 2624\n",
      "5249 equals 29 * 181\n",
      "5250 equals 2 * 2625\n",
      "5251 equals 59 * 89\n",
      "5252 equals 2 * 2626\n",
      "5253 equals 3 * 1751\n",
      "5254 equals 2 * 2627\n",
      "5255 equals 5 * 1051\n",
      "5256 equals 2 * 2628\n",
      "5257 equals 7 * 751\n",
      "5258 equals 2 * 2629\n",
      "5259 equals 3 * 1753\n",
      "5260 equals 2 * 2630\n",
      "5261 is PRIME\n",
      "5262 equals 2 * 2631\n",
      "5263 equals 19 * 277\n",
      "5264 equals 2 * 2632\n",
      "5265 equals 3 * 1755\n",
      "5266 equals 2 * 2633\n",
      "5267 equals 23 * 229\n",
      "5268 equals 2 * 2634\n",
      "5269 equals 11 * 479\n",
      "5270 equals 2 * 2635\n",
      "5271 equals 3 * 1757\n",
      "5272 equals 2 * 2636\n",
      "5273 is PRIME\n",
      "5274 equals 2 * 2637\n",
      "5275 equals 5 * 1055\n",
      "5276 equals 2 * 2638\n",
      "5277 equals 3 * 1759\n",
      "5278 equals 2 * 2639\n",
      "5279 is PRIME\n",
      "5280 equals 2 * 2640\n",
      "5281 is PRIME\n",
      "5282 equals 2 * 2641\n",
      "5283 equals 3 * 1761\n",
      "5284 equals 2 * 2642\n",
      "5285 equals 5 * 1057\n",
      "5286 equals 2 * 2643\n",
      "5287 equals 17 * 311\n",
      "5288 equals 2 * 2644\n",
      "5289 equals 3 * 1763\n",
      "5290 equals 2 * 2645\n",
      "5291 equals 11 * 481\n",
      "5292 equals 2 * 2646\n",
      "5293 equals 67 * 79\n",
      "5294 equals 2 * 2647\n",
      "5295 equals 3 * 1765\n",
      "5296 equals 2 * 2648\n",
      "5297 is PRIME\n",
      "5298 equals 2 * 2649\n",
      "5299 equals 7 * 757\n",
      "5300 equals 2 * 2650\n",
      "5301 equals 3 * 1767\n",
      "5302 equals 2 * 2651\n",
      "5303 is PRIME\n",
      "5304 equals 2 * 2652\n",
      "5305 equals 5 * 1061\n",
      "5306 equals 2 * 2653\n",
      "5307 equals 3 * 1769\n",
      "5308 equals 2 * 2654\n",
      "5309 is PRIME\n",
      "5310 equals 2 * 2655\n",
      "5311 equals 47 * 113\n",
      "5312 equals 2 * 2656\n",
      "5313 equals 3 * 1771\n",
      "5314 equals 2 * 2657\n",
      "5315 equals 5 * 1063\n",
      "5316 equals 2 * 2658\n",
      "5317 equals 13 * 409\n",
      "5318 equals 2 * 2659\n",
      "5319 equals 3 * 1773\n",
      "5320 equals 2 * 2660\n",
      "5321 equals 17 * 313\n",
      "5322 equals 2 * 2661\n",
      "5323 is PRIME\n",
      "5324 equals 2 * 2662\n",
      "5325 equals 3 * 1775\n",
      "5326 equals 2 * 2663\n",
      "5327 equals 7 * 761\n",
      "5328 equals 2 * 2664\n",
      "5329 equals 73 * 73\n",
      "5330 equals 2 * 2665\n",
      "5331 equals 3 * 1777\n",
      "5332 equals 2 * 2666\n",
      "5333 is PRIME\n",
      "5334 equals 2 * 2667\n",
      "5335 equals 5 * 1067\n",
      "5336 equals 2 * 2668\n",
      "5337 equals 3 * 1779\n",
      "5338 equals 2 * 2669\n",
      "5339 equals 19 * 281\n",
      "5340 equals 2 * 2670\n",
      "5341 equals 7 * 763\n",
      "5342 equals 2 * 2671\n",
      "5343 equals 3 * 1781\n",
      "5344 equals 2 * 2672\n",
      "5345 equals 5 * 1069\n",
      "5346 equals 2 * 2673\n",
      "5347 is PRIME\n",
      "5348 equals 2 * 2674\n",
      "5349 equals 3 * 1783\n",
      "5350 equals 2 * 2675\n",
      "5351 is PRIME\n",
      "5352 equals 2 * 2676\n",
      "5353 equals 53 * 101\n",
      "5354 equals 2 * 2677\n",
      "5355 equals 3 * 1785\n",
      "5356 equals 2 * 2678\n",
      "5357 equals 11 * 487\n",
      "5358 equals 2 * 2679\n",
      "5359 equals 23 * 233\n",
      "5360 equals 2 * 2680\n",
      "5361 equals 3 * 1787\n",
      "5362 equals 2 * 2681\n",
      "5363 equals 31 * 173\n",
      "5364 equals 2 * 2682\n",
      "5365 equals 5 * 1073\n",
      "5366 equals 2 * 2683\n",
      "5367 equals 3 * 1789\n",
      "5368 equals 2 * 2684\n",
      "5369 equals 7 * 767\n",
      "5370 equals 2 * 2685\n",
      "5371 equals 41 * 131\n",
      "5372 equals 2 * 2686\n",
      "5373 equals 3 * 1791\n",
      "5374 equals 2 * 2687\n",
      "5375 equals 5 * 1075\n",
      "5376 equals 2 * 2688\n",
      "5377 equals 19 * 283\n",
      "5378 equals 2 * 2689\n",
      "5379 equals 3 * 1793\n",
      "5380 equals 2 * 2690\n",
      "5381 is PRIME\n",
      "5382 equals 2 * 2691\n",
      "5383 equals 7 * 769\n",
      "5384 equals 2 * 2692\n",
      "5385 equals 3 * 1795\n",
      "5386 equals 2 * 2693\n",
      "5387 is PRIME\n",
      "5388 equals 2 * 2694\n",
      "5389 equals 17 * 317\n",
      "5390 equals 2 * 2695\n",
      "5391 equals 3 * 1797\n",
      "5392 equals 2 * 2696\n",
      "5393 is PRIME\n",
      "5394 equals 2 * 2697\n",
      "5395 equals 5 * 1079\n",
      "5396 equals 2 * 2698\n",
      "5397 equals 3 * 1799\n",
      "5398 equals 2 * 2699\n",
      "5399 is PRIME\n",
      "5400 equals 2 * 2700\n",
      "5401 equals 11 * 491\n",
      "5402 equals 2 * 2701\n",
      "5403 equals 3 * 1801\n",
      "5404 equals 2 * 2702\n",
      "5405 equals 5 * 1081\n",
      "5406 equals 2 * 2703\n",
      "5407 is PRIME\n",
      "5408 equals 2 * 2704\n",
      "5409 equals 3 * 1803\n",
      "5410 equals 2 * 2705\n",
      "5411 equals 7 * 773\n",
      "5412 equals 2 * 2706\n",
      "5413 is PRIME\n",
      "5414 equals 2 * 2707\n",
      "5415 equals 3 * 1805\n",
      "5416 equals 2 * 2708\n",
      "5417 is PRIME\n",
      "5418 equals 2 * 2709\n",
      "5419 is PRIME\n",
      "5420 equals 2 * 2710\n",
      "5421 equals 3 * 1807\n",
      "5422 equals 2 * 2711\n",
      "5423 equals 11 * 493\n",
      "5424 equals 2 * 2712\n",
      "5425 equals 5 * 1085\n",
      "5426 equals 2 * 2713\n",
      "5427 equals 3 * 1809\n",
      "5428 equals 2 * 2714\n",
      "5429 equals 61 * 89\n",
      "5430 equals 2 * 2715\n",
      "5431 is PRIME\n",
      "5432 equals 2 * 2716\n",
      "5433 equals 3 * 1811\n",
      "5434 equals 2 * 2717\n",
      "5435 equals 5 * 1087\n",
      "5436 equals 2 * 2718\n",
      "5437 is PRIME\n",
      "5438 equals 2 * 2719\n",
      "5439 equals 3 * 1813\n",
      "5440 equals 2 * 2720\n",
      "5441 is PRIME\n",
      "5442 equals 2 * 2721\n",
      "5443 is PRIME\n",
      "5444 equals 2 * 2722\n",
      "5445 equals 3 * 1815\n",
      "5446 equals 2 * 2723\n",
      "5447 equals 13 * 419\n",
      "5448 equals 2 * 2724\n",
      "5449 is PRIME\n",
      "5450 equals 2 * 2725\n",
      "5451 equals 3 * 1817\n",
      "5452 equals 2 * 2726\n",
      "5453 equals 7 * 779\n",
      "5454 equals 2 * 2727\n",
      "5455 equals 5 * 1091\n",
      "5456 equals 2 * 2728\n",
      "5457 equals 3 * 1819\n",
      "5458 equals 2 * 2729\n",
      "5459 equals 53 * 103\n",
      "5460 equals 2 * 2730\n",
      "5461 equals 43 * 127\n",
      "5462 equals 2 * 2731\n",
      "5463 equals 3 * 1821\n",
      "5464 equals 2 * 2732\n",
      "5465 equals 5 * 1093\n",
      "5466 equals 2 * 2733\n",
      "5467 equals 7 * 781\n",
      "5468 equals 2 * 2734\n",
      "5469 equals 3 * 1823\n",
      "5470 equals 2 * 2735\n",
      "5471 is PRIME\n",
      "5472 equals 2 * 2736\n",
      "5473 equals 13 * 421\n",
      "5474 equals 2 * 2737\n",
      "5475 equals 3 * 1825\n",
      "5476 equals 2 * 2738\n",
      "5477 is PRIME\n",
      "5478 equals 2 * 2739\n",
      "5479 is PRIME\n",
      "5480 equals 2 * 2740\n",
      "5481 equals 3 * 1827\n",
      "5482 equals 2 * 2741\n",
      "5483 is PRIME\n",
      "5484 equals 2 * 2742\n",
      "5485 equals 5 * 1097\n",
      "5486 equals 2 * 2743\n",
      "5487 equals 3 * 1829\n",
      "5488 equals 2 * 2744\n",
      "5489 equals 11 * 499\n",
      "5490 equals 2 * 2745\n",
      "5491 equals 17 * 323\n",
      "5492 equals 2 * 2746\n",
      "5493 equals 3 * 1831\n",
      "5494 equals 2 * 2747\n",
      "5495 equals 5 * 1099\n",
      "5496 equals 2 * 2748\n",
      "5497 equals 23 * 239\n",
      "5498 equals 2 * 2749\n",
      "5499 equals 3 * 1833\n",
      "5500 equals 2 * 2750\n",
      "5501 is PRIME\n",
      "5502 equals 2 * 2751\n",
      "5503 is PRIME\n",
      "5504 equals 2 * 2752\n",
      "5505 equals 3 * 1835\n",
      "5506 equals 2 * 2753\n",
      "5507 is PRIME\n",
      "5508 equals 2 * 2754\n",
      "5509 equals 7 * 787\n",
      "5510 equals 2 * 2755\n",
      "5511 equals 3 * 1837\n",
      "5512 equals 2 * 2756\n",
      "5513 equals 37 * 149\n",
      "5514 equals 2 * 2757\n",
      "5515 equals 5 * 1103\n",
      "5516 equals 2 * 2758\n",
      "5517 equals 3 * 1839\n",
      "5518 equals 2 * 2759\n",
      "5519 is PRIME\n",
      "5520 equals 2 * 2760\n",
      "5521 is PRIME\n",
      "5522 equals 2 * 2761\n",
      "5523 equals 3 * 1841\n",
      "5524 equals 2 * 2762\n",
      "5525 equals 5 * 1105\n",
      "5526 equals 2 * 2763\n",
      "5527 is PRIME\n",
      "5528 equals 2 * 2764\n",
      "5529 equals 3 * 1843\n",
      "5530 equals 2 * 2765\n",
      "5531 is PRIME\n",
      "5532 equals 2 * 2766\n",
      "5533 equals 11 * 503\n",
      "5534 equals 2 * 2767\n",
      "5535 equals 3 * 1845\n",
      "5536 equals 2 * 2768\n",
      "5537 equals 7 * 791\n",
      "5538 equals 2 * 2769\n",
      "5539 equals 29 * 191\n",
      "5540 equals 2 * 2770\n",
      "5541 equals 3 * 1847\n",
      "5542 equals 2 * 2771\n",
      "5543 equals 23 * 241\n",
      "5544 equals 2 * 2772\n",
      "5545 equals 5 * 1109\n",
      "5546 equals 2 * 2773\n",
      "5547 equals 3 * 1849\n",
      "5548 equals 2 * 2774\n",
      "5549 equals 31 * 179\n",
      "5550 equals 2 * 2775\n",
      "5551 equals 7 * 793\n",
      "5552 equals 2 * 2776\n",
      "5553 equals 3 * 1851\n",
      "5554 equals 2 * 2777\n",
      "5555 equals 5 * 1111\n",
      "5556 equals 2 * 2778\n",
      "5557 is PRIME\n",
      "5558 equals 2 * 2779\n",
      "5559 equals 3 * 1853\n",
      "5560 equals 2 * 2780\n",
      "5561 equals 67 * 83\n",
      "5562 equals 2 * 2781\n",
      "5563 is PRIME\n",
      "5564 equals 2 * 2782\n",
      "5565 equals 3 * 1855\n",
      "5566 equals 2 * 2783\n",
      "5567 equals 19 * 293\n",
      "5568 equals 2 * 2784\n",
      "5569 is PRIME\n",
      "5570 equals 2 * 2785\n",
      "5571 equals 3 * 1857\n",
      "5572 equals 2 * 2786\n",
      "5573 is PRIME\n",
      "5574 equals 2 * 2787\n",
      "5575 equals 5 * 1115\n",
      "5576 equals 2 * 2788\n",
      "5577 equals 3 * 1859\n",
      "5578 equals 2 * 2789\n",
      "5579 equals 7 * 797\n",
      "5580 equals 2 * 2790\n",
      "5581 is PRIME\n",
      "5582 equals 2 * 2791\n",
      "5583 equals 3 * 1861\n",
      "5584 equals 2 * 2792\n",
      "5585 equals 5 * 1117\n",
      "5586 equals 2 * 2793\n",
      "5587 equals 37 * 151\n",
      "5588 equals 2 * 2794\n",
      "5589 equals 3 * 1863\n",
      "5590 equals 2 * 2795\n",
      "5591 is PRIME\n",
      "5592 equals 2 * 2796\n",
      "5593 equals 7 * 799\n",
      "5594 equals 2 * 2797\n",
      "5595 equals 3 * 1865\n",
      "5596 equals 2 * 2798\n",
      "5597 equals 29 * 193\n",
      "5598 equals 2 * 2799\n",
      "5599 equals 11 * 509\n"
     ]
    }
   ],
   "source": [
    "for number in range(5000, 5600): # 1\n",
    "    result = 'prime' # start out by assuming prime\n",
    "    for possible_divisor in range(2, number): # 2 (2..number-1)\n",
    "        if number % possible_divisor == 0: # 3\n",
    "            print(number, 'is divisible by', possible_divisor) # 4\n",
    "            result = 'composite'\n",
    "            break # 5\n",
    "    # did we find a divisor or not?\n",
    "    if result == 'prime':\n",
    "        print(number, 'is PRIME')"
   ]
  },
  {
   "cell_type": "code",
   "execution_count": 248,
   "id": "7dd25828-a754-411a-a4d4-f63eed8ecc02",
   "metadata": {
    "tags": []
   },
   "outputs": [
    {
     "name": "stdout",
     "output_type": "stream",
     "text": [
      "2 is PRIME\n",
      "3 is PRIME\n",
      "4 is divisible by 2\n",
      "5 is PRIME\n",
      "6 is divisible by 2, 3\n",
      "7 is PRIME\n",
      "8 is divisible by 2, 4\n",
      "9 is divisible by 3\n",
      "10 is divisible by 2, 5\n",
      "11 is PRIME\n",
      "12 is divisible by 2, 3, 4, 6\n",
      "13 is PRIME\n",
      "14 is divisible by 2, 7\n",
      "15 is divisible by 3, 5\n",
      "16 is divisible by 2, 4, 8\n",
      "17 is PRIME\n",
      "18 is divisible by 2, 3, 6, 9\n",
      "19 is PRIME\n",
      "20 is divisible by 2, 4, 5, 10\n",
      "21 is divisible by 3, 7\n",
      "22 is divisible by 2, 11\n",
      "23 is PRIME\n",
      "24 is divisible by 2, 3, 4, 6, 8, 12\n",
      "25 is divisible by 5\n"
     ]
    }
   ],
   "source": [
    "for number in range(2, 26): # 1\n",
    "    divisors = 0 # count the divisors\n",
    "    \n",
    "    for possible_divisor in range(2, number): # 2 (2..number-1)\n",
    "        if number % possible_divisor == 0: # 3\n",
    "            if divisors == 0:\n",
    "                print(number, 'is divisible by', possible_divisor, end='') # 4\n",
    "            else:\n",
    "                print(',', possible_divisor, end='')\n",
    "            divisors += 1 # divisors = divisors + 1\n",
    "    if not divisors: # if divisors == 0\n",
    "        print(number, 'is PRIME')\n",
    "    else:\n",
    "        print() # only want to do this if there have been divisors..."
   ]
  },
  {
   "cell_type": "code",
   "execution_count": null,
   "id": "02ce009f-6f36-46d6-bf49-4eddc22e52a7",
   "metadata": {},
   "outputs": [],
   "source": []
  },
  {
   "cell_type": "code",
   "execution_count": 168,
   "id": "d420f970-d3be-4d4f-b770-5ad4bb1f5b82",
   "metadata": {},
   "outputs": [
    {
     "data": {
      "text/plain": [
       "113.0"
      ]
     },
     "execution_count": 168,
     "metadata": {},
     "output_type": "execute_result"
    }
   ],
   "source": [
    "2599 / 23"
   ]
  },
  {
   "cell_type": "code",
   "execution_count": 170,
   "id": "8bbfa95f-0134-41a1-8a9c-eb7acdb21d9c",
   "metadata": {},
   "outputs": [
    {
     "data": {
      "text/plain": [
       "53.0"
      ]
     },
     "execution_count": 170,
     "metadata": {},
     "output_type": "execute_result"
    }
   ],
   "source": [
    "2491 /47"
   ]
  },
  {
   "cell_type": "code",
   "execution_count": 172,
   "id": "7a0afab2-831b-421d-a14e-46a64bdbad5e",
   "metadata": {},
   "outputs": [
    {
     "data": {
      "text/plain": [
       "50.92150822589606"
      ]
     },
     "execution_count": 172,
     "metadata": {},
     "output_type": "execute_result"
    }
   ],
   "source": [
    "import math\n",
    "math.sqrt(2593)"
   ]
  },
  {
   "cell_type": "code",
   "execution_count": 18,
   "id": "0ede5f37-8c04-481b-88dd-b70fae8d5ea2",
   "metadata": {},
   "outputs": [
    {
     "data": {
      "text/plain": [
       "'n'"
      ]
     },
     "execution_count": 18,
     "metadata": {},
     "output_type": "execute_result"
    }
   ],
   "source": [
    "'Python'[-1]"
   ]
  },
  {
   "cell_type": "code",
   "execution_count": 20,
   "id": "703ac8eb-e268-45af-a79c-169950b3b4d4",
   "metadata": {},
   "outputs": [
    {
     "data": {
      "text/plain": [
       "'t'"
      ]
     },
     "execution_count": 20,
     "metadata": {},
     "output_type": "execute_result"
    }
   ],
   "source": [
    "'Python'[2]"
   ]
  },
  {
   "cell_type": "code",
   "execution_count": 28,
   "id": "e82b54e4-43d9-4793-b765-217b6fd0933a",
   "metadata": {},
   "outputs": [
    {
     "data": {
      "text/plain": [
       "'1'"
      ]
     },
     "execution_count": 28,
     "metadata": {},
     "output_type": "execute_result"
    }
   ],
   "source": [
    "str(1)"
   ]
  },
  {
   "cell_type": "code",
   "execution_count": 30,
   "id": "accdb0fd-6418-4f4c-a119-616e7af25fe8",
   "metadata": {},
   "outputs": [
    {
     "data": {
      "text/plain": [
       "'1.2'"
      ]
     },
     "execution_count": 30,
     "metadata": {},
     "output_type": "execute_result"
    }
   ],
   "source": [
    "str(1.2)"
   ]
  },
  {
   "cell_type": "code",
   "execution_count": 32,
   "id": "c759205a-3263-47b1-b51c-8b49d5cd4c0f",
   "metadata": {},
   "outputs": [
    {
     "data": {
      "text/plain": [
       "'string'"
      ]
     },
     "execution_count": 32,
     "metadata": {},
     "output_type": "execute_result"
    }
   ],
   "source": [
    "str('string')"
   ]
  },
  {
   "cell_type": "code",
   "execution_count": 34,
   "id": "7a3e4e23-77fd-49c1-a436-8aa9f63904ba",
   "metadata": {},
   "outputs": [
    {
     "data": {
      "text/plain": [
       "\"<module 'math' from '/opt/conda/envs/anaconda-panel-2023.05-py310/lib/python3.11/lib-dynload/math.cpython-311-x86_64-linux-gnu.so'>\""
      ]
     },
     "execution_count": 34,
     "metadata": {},
     "output_type": "execute_result"
    }
   ],
   "source": [
    "import math\n",
    "str(math)"
   ]
  },
  {
   "cell_type": "code",
   "execution_count": 36,
   "id": "37bf43e2-ecb4-43fc-b7cc-095e1fff7a34",
   "metadata": {},
   "outputs": [
    {
     "data": {
      "text/plain": [
       "'<built-in function print>'"
      ]
     },
     "execution_count": 36,
     "metadata": {},
     "output_type": "execute_result"
    }
   ],
   "source": [
    "str(print)"
   ]
  },
  {
   "cell_type": "code",
   "execution_count": 38,
   "id": "5c433cc4-31bf-4671-bc3d-15322f512b96",
   "metadata": {},
   "outputs": [
    {
     "data": {
      "text/plain": [
       "int"
      ]
     },
     "execution_count": 38,
     "metadata": {},
     "output_type": "execute_result"
    }
   ],
   "source": [
    "type(1)"
   ]
  },
  {
   "cell_type": "code",
   "execution_count": 40,
   "id": "cd8f57de-be9c-4cfc-badd-390cc4e02cce",
   "metadata": {},
   "outputs": [
    {
     "data": {
      "text/plain": [
       "float"
      ]
     },
     "execution_count": 40,
     "metadata": {},
     "output_type": "execute_result"
    }
   ],
   "source": [
    "type(1.1)"
   ]
  },
  {
   "cell_type": "code",
   "execution_count": 42,
   "id": "34576491-afa2-4a75-b3d6-40b292207678",
   "metadata": {},
   "outputs": [
    {
     "data": {
      "text/plain": [
       "bool"
      ]
     },
     "execution_count": 42,
     "metadata": {},
     "output_type": "execute_result"
    }
   ],
   "source": [
    "type(True)"
   ]
  },
  {
   "cell_type": "code",
   "execution_count": 44,
   "id": "883e07ae-d69d-430d-aca6-2f9a46576c85",
   "metadata": {},
   "outputs": [
    {
     "data": {
      "text/plain": [
       "-1"
      ]
     },
     "execution_count": 44,
     "metadata": {},
     "output_type": "execute_result"
    }
   ],
   "source": [
    "min(-1, 3, 2)"
   ]
  },
  {
   "cell_type": "code",
   "execution_count": 46,
   "id": "470f70ac-958b-4003-afdf-c71c5abcc67e",
   "metadata": {},
   "outputs": [
    {
     "data": {
      "text/plain": [
       "-1.1"
      ]
     },
     "execution_count": 46,
     "metadata": {},
     "output_type": "execute_result"
    }
   ],
   "source": [
    "min(-1.1, 3.3, 2.4)"
   ]
  },
  {
   "cell_type": "code",
   "execution_count": 50,
   "id": "c6480ef3-e67c-4854-8cc3-f240cb718794",
   "metadata": {},
   "outputs": [
    {
     "data": {
      "text/plain": [
       "'alpha'"
      ]
     },
     "execution_count": 50,
     "metadata": {},
     "output_type": "execute_result"
    }
   ],
   "source": [
    "min('alpha', 'beta')"
   ]
  },
  {
   "cell_type": "code",
   "execution_count": 52,
   "id": "20b37a52-21c2-46ed-b1c6-1e2d553aec8c",
   "metadata": {},
   "outputs": [
    {
     "data": {
      "text/plain": [
       "6"
      ]
     },
     "execution_count": 52,
     "metadata": {},
     "output_type": "execute_result"
    }
   ],
   "source": [
    "len('string')"
   ]
  },
  {
   "cell_type": "code",
   "execution_count": 54,
   "id": "7bbaf8e1-60f0-44b4-86b6-78132ad148b7",
   "metadata": {},
   "outputs": [
    {
     "ename": "TypeError",
     "evalue": "object of type 'int' has no len()",
     "output_type": "error",
     "traceback": [
      "\u001b[0;31m---------------------------------------------------------------------------\u001b[0m",
      "\u001b[0;31mTypeError\u001b[0m                                 Traceback (most recent call last)",
      "Cell \u001b[0;32mIn[54], line 1\u001b[0m\n\u001b[0;32m----> 1\u001b[0m \u001b[38;5;28mlen\u001b[39m(\u001b[38;5;241m1\u001b[39m)\n",
      "\u001b[0;31mTypeError\u001b[0m: object of type 'int' has no len()"
     ]
    }
   ],
   "source": [
    "len(1)"
   ]
  },
  {
   "cell_type": "code",
   "execution_count": 57,
   "id": "6547f963-48a3-4b05-aa7b-073e31bd584c",
   "metadata": {},
   "outputs": [
    {
     "data": {
      "text/plain": [
       "6"
      ]
     },
     "execution_count": 57,
     "metadata": {},
     "output_type": "execute_result"
    }
   ],
   "source": [
    "len('string')"
   ]
  },
  {
   "cell_type": "code",
   "execution_count": 59,
   "id": "7f4231ca-ecc6-4f5b-9dd6-d80cba952233",
   "metadata": {},
   "outputs": [
    {
     "data": {
      "text/plain": [
       "float"
      ]
     },
     "execution_count": 59,
     "metadata": {},
     "output_type": "execute_result"
    }
   ],
   "source": [
    "var = 1.3\n",
    "type(var)"
   ]
  },
  {
   "cell_type": "code",
   "execution_count": 62,
   "id": "3c31511e-cacc-4ff9-8e65-bde6bfefae7e",
   "metadata": {},
   "outputs": [],
   "source": [
    "slogan = 'Fall into the Gap'"
   ]
  },
  {
   "cell_type": "code",
   "execution_count": 64,
   "id": "ac5f3cb5-e378-4582-ba70-a94418a56140",
   "metadata": {},
   "outputs": [
    {
     "ename": "NameError",
     "evalue": "name 'startswith' is not defined",
     "output_type": "error",
     "traceback": [
      "\u001b[0;31m---------------------------------------------------------------------------\u001b[0m",
      "\u001b[0;31mNameError\u001b[0m                                 Traceback (most recent call last)",
      "Cell \u001b[0;32mIn[64], line 1\u001b[0m\n\u001b[0;32m----> 1\u001b[0m startswith(slogan, \u001b[38;5;124m'\u001b[39m\u001b[38;5;124mFall\u001b[39m\u001b[38;5;124m'\u001b[39m)\n",
      "\u001b[0;31mNameError\u001b[0m: name 'startswith' is not defined"
     ]
    }
   ],
   "source": [
    "startswith(slogan, 'Fall')"
   ]
  },
  {
   "cell_type": "code",
   "execution_count": 67,
   "id": "c7599c76-e5a5-48f2-9bfa-b4f82d903edb",
   "metadata": {},
   "outputs": [
    {
     "data": {
      "text/plain": [
       "True"
      ]
     },
     "execution_count": 67,
     "metadata": {},
     "output_type": "execute_result"
    }
   ],
   "source": [
    "slogan.startswith('Fall')"
   ]
  },
  {
   "cell_type": "code",
   "execution_count": 69,
   "id": "0be2fb1d-f9d9-4f32-a82a-dcc4f16cadc2",
   "metadata": {},
   "outputs": [],
   "source": [
    "number = 12345"
   ]
  },
  {
   "cell_type": "code",
   "execution_count": 71,
   "id": "91751083-eec5-48c1-ac5a-7a00e09c2d66",
   "metadata": {},
   "outputs": [
    {
     "ename": "AttributeError",
     "evalue": "'int' object has no attribute 'startswith'",
     "output_type": "error",
     "traceback": [
      "\u001b[0;31m---------------------------------------------------------------------------\u001b[0m",
      "\u001b[0;31mAttributeError\u001b[0m                            Traceback (most recent call last)",
      "Cell \u001b[0;32mIn[71], line 1\u001b[0m\n\u001b[0;32m----> 1\u001b[0m number\u001b[38;5;241m.\u001b[39mstartswith(\u001b[38;5;241m123\u001b[39m)\n",
      "\u001b[0;31mAttributeError\u001b[0m: 'int' object has no attribute 'startswith'"
     ]
    }
   ],
   "source": [
    "number.startswith(123)"
   ]
  },
  {
   "cell_type": "code",
   "execution_count": 73,
   "id": "48923aad-088b-4c9f-a5da-3bb2d15b09ec",
   "metadata": {
    "collapsed": true,
    "jupyter": {
     "outputs_hidden": true
    },
    "tags": []
   },
   "outputs": [
    {
     "data": {
      "text/plain": [
       "'12345'"
      ]
     },
     "execution_count": 73,
     "metadata": {},
     "output_type": "execute_result"
    }
   ],
   "source": [
    "str(number)"
   ]
  },
  {
   "cell_type": "code",
   "execution_count": 75,
   "id": "7b90f172-4071-44e9-b6a7-c6b7f91b185a",
   "metadata": {},
   "outputs": [
    {
     "data": {
      "text/plain": [
       "True"
      ]
     },
     "execution_count": 75,
     "metadata": {},
     "output_type": "execute_result"
    }
   ],
   "source": [
    "str(number).startswith('123')"
   ]
  },
  {
   "cell_type": "code",
   "execution_count": 79,
   "id": "ca33443f-1461-4c8d-ac82-bd5b8377fd9b",
   "metadata": {},
   "outputs": [
    {
     "data": {
      "text/plain": [
       "123"
      ]
     },
     "execution_count": 79,
     "metadata": {},
     "output_type": "execute_result"
    }
   ],
   "source": [
    "12345 // 100"
   ]
  },
  {
   "cell_type": "code",
   "execution_count": 89,
   "id": "b42a4a0f-8067-4832-95d6-f67b9207cd7b",
   "metadata": {},
   "outputs": [
    {
     "name": "stdout",
     "output_type": "stream",
     "text": [
      "Help on method_descriptor:\n",
      "\n",
      "rfind(...)\n",
      "    S.rfind(sub[, start[, end]]) -> int\n",
      "    \n",
      "    Return the highest index in S where substring sub is found,\n",
      "    such that sub is contained within S[start:end].  Optional\n",
      "    arguments start and end are interpreted as in slice notation.\n",
      "    \n",
      "    Return -1 on failure.\n",
      "\n"
     ]
    }
   ],
   "source": [
    "help(str.rfind)"
   ]
  },
  {
   "cell_type": "code",
   "execution_count": 92,
   "id": "cca96550-0f3e-4f11-b279-8ace2c612f3f",
   "metadata": {},
   "outputs": [
    {
     "name": "stdout",
     "output_type": "stream",
     "text": [
      "Help on method_descriptor:\n",
      "\n",
      "count(...)\n",
      "    S.count(sub[, start[, end]]) -> int\n",
      "    \n",
      "    Return the number of non-overlapping occurrences of substring sub in\n",
      "    string S[start:end].  Optional arguments start and end are\n",
      "    interpreted as in slice notation.\n",
      "\n"
     ]
    }
   ],
   "source": [
    "help(str.count)"
   ]
  },
  {
   "cell_type": "code",
   "execution_count": 95,
   "id": "5396bbf5-275b-4762-94d2-5547264be275",
   "metadata": {},
   "outputs": [
    {
     "name": "stdout",
     "output_type": "stream",
     "text": [
      "1\n"
     ]
    }
   ],
   "source": [
    "print(1)"
   ]
  },
  {
   "cell_type": "code",
   "execution_count": 97,
   "id": "24400cfd-11ee-462a-af28-5a59887b340e",
   "metadata": {},
   "outputs": [
    {
     "name": "stdout",
     "output_type": "stream",
     "text": [
      "1.23\n"
     ]
    }
   ],
   "source": [
    "print(1.23)"
   ]
  },
  {
   "cell_type": "code",
   "execution_count": 99,
   "id": "51d601f6-f3eb-4656-9838-185d9b9278c2",
   "metadata": {},
   "outputs": [
    {
     "name": "stdout",
     "output_type": "stream",
     "text": [
      "string\n"
     ]
    }
   ],
   "source": [
    "print('string')"
   ]
  },
  {
   "cell_type": "code",
   "execution_count": 101,
   "id": "b1c93e50-bc10-431c-aa1a-e34471f35b6e",
   "metadata": {},
   "outputs": [
    {
     "name": "stdout",
     "output_type": "stream",
     "text": [
      "<module 'math' from '/opt/conda/envs/anaconda-panel-2023.05-py310/lib/python3.11/lib-dynload/math.cpython-311-x86_64-linux-gnu.so'>\n"
     ]
    }
   ],
   "source": [
    "print(math)"
   ]
  },
  {
   "cell_type": "code",
   "execution_count": 103,
   "id": "69c81e8f-981e-4eb4-852f-8659f054bb9b",
   "metadata": {},
   "outputs": [
    {
     "name": "stdout",
     "output_type": "stream",
     "text": [
      "\n"
     ]
    }
   ],
   "source": [
    "print()"
   ]
  },
  {
   "cell_type": "code",
   "execution_count": 107,
   "id": "9efdbf63-35a9-439f-8b11-407c432abe42",
   "metadata": {},
   "outputs": [
    {
     "name": "stdout",
     "output_type": "stream",
     "text": [
      "1\n",
      "2.2\n",
      "3.33\n",
      "four\n",
      "<module 'math' from '/opt/conda/envs/anaconda-panel-2023.05-py310/lib/python3.11/lib-dynload/math.cpython-311-x86_64-linux-gnu.so'>\n",
      "<built-in function print>\n"
     ]
    }
   ],
   "source": [
    "print(1, 2.2, 3.33, 'four', math, print, sep='\\n')"
   ]
  },
  {
   "cell_type": "code",
   "execution_count": 111,
   "id": "a69f49ef-45d4-45e6-a87b-69c4acfb507f",
   "metadata": {},
   "outputs": [
    {
     "data": {
      "text/plain": [
       "'Fall into the Gap'"
      ]
     },
     "execution_count": 111,
     "metadata": {},
     "output_type": "execute_result"
    }
   ],
   "source": [
    "slogan"
   ]
  },
  {
   "cell_type": "code",
   "execution_count": 114,
   "id": "f4a1d0ee-b496-4b09-b4b7-fa7d4045b234",
   "metadata": {},
   "outputs": [
    {
     "name": "stdout",
     "output_type": "stream",
     "text": [
      "Help on class str in module builtins:\n",
      "\n",
      "class str(object)\n",
      " |  str(object='') -> str\n",
      " |  str(bytes_or_buffer[, encoding[, errors]]) -> str\n",
      " |  \n",
      " |  Create a new string object from the given object. If encoding or\n",
      " |  errors is specified, then the object must expose a data buffer\n",
      " |  that will be decoded using the given encoding and error handler.\n",
      " |  Otherwise, returns the result of object.__str__() (if defined)\n",
      " |  or repr(object).\n",
      " |  encoding defaults to sys.getdefaultencoding().\n",
      " |  errors defaults to 'strict'.\n",
      " |  \n",
      " |  Methods defined here:\n",
      " |  \n",
      " |  __add__(self, value, /)\n",
      " |      Return self+value.\n",
      " |  \n",
      " |  __contains__(self, key, /)\n",
      " |      Return key in self.\n",
      " |  \n",
      " |  __eq__(self, value, /)\n",
      " |      Return self==value.\n",
      " |  \n",
      " |  __format__(self, format_spec, /)\n",
      " |      Return a formatted version of the string as described by format_spec.\n",
      " |  \n",
      " |  __ge__(self, value, /)\n",
      " |      Return self>=value.\n",
      " |  \n",
      " |  __getattribute__(self, name, /)\n",
      " |      Return getattr(self, name).\n",
      " |  \n",
      " |  __getitem__(self, key, /)\n",
      " |      Return self[key].\n",
      " |  \n",
      " |  __getnewargs__(...)\n",
      " |  \n",
      " |  __gt__(self, value, /)\n",
      " |      Return self>value.\n",
      " |  \n",
      " |  __hash__(self, /)\n",
      " |      Return hash(self).\n",
      " |  \n",
      " |  __iter__(self, /)\n",
      " |      Implement iter(self).\n",
      " |  \n",
      " |  __le__(self, value, /)\n",
      " |      Return self<=value.\n",
      " |  \n",
      " |  __len__(self, /)\n",
      " |      Return len(self).\n",
      " |  \n",
      " |  __lt__(self, value, /)\n",
      " |      Return self<value.\n",
      " |  \n",
      " |  __mod__(self, value, /)\n",
      " |      Return self%value.\n",
      " |  \n",
      " |  __mul__(self, value, /)\n",
      " |      Return self*value.\n",
      " |  \n",
      " |  __ne__(self, value, /)\n",
      " |      Return self!=value.\n",
      " |  \n",
      " |  __repr__(self, /)\n",
      " |      Return repr(self).\n",
      " |  \n",
      " |  __rmod__(self, value, /)\n",
      " |      Return value%self.\n",
      " |  \n",
      " |  __rmul__(self, value, /)\n",
      " |      Return value*self.\n",
      " |  \n",
      " |  __sizeof__(self, /)\n",
      " |      Return the size of the string in memory, in bytes.\n",
      " |  \n",
      " |  __str__(self, /)\n",
      " |      Return str(self).\n",
      " |  \n",
      " |  capitalize(self, /)\n",
      " |      Return a capitalized version of the string.\n",
      " |      \n",
      " |      More specifically, make the first character have upper case and the rest lower\n",
      " |      case.\n",
      " |  \n",
      " |  casefold(self, /)\n",
      " |      Return a version of the string suitable for caseless comparisons.\n",
      " |  \n",
      " |  center(self, width, fillchar=' ', /)\n",
      " |      Return a centered string of length width.\n",
      " |      \n",
      " |      Padding is done using the specified fill character (default is a space).\n",
      " |  \n",
      " |  count(...)\n",
      " |      S.count(sub[, start[, end]]) -> int\n",
      " |      \n",
      " |      Return the number of non-overlapping occurrences of substring sub in\n",
      " |      string S[start:end].  Optional arguments start and end are\n",
      " |      interpreted as in slice notation.\n",
      " |  \n",
      " |  encode(self, /, encoding='utf-8', errors='strict')\n",
      " |      Encode the string using the codec registered for encoding.\n",
      " |      \n",
      " |      encoding\n",
      " |        The encoding in which to encode the string.\n",
      " |      errors\n",
      " |        The error handling scheme to use for encoding errors.\n",
      " |        The default is 'strict' meaning that encoding errors raise a\n",
      " |        UnicodeEncodeError.  Other possible values are 'ignore', 'replace' and\n",
      " |        'xmlcharrefreplace' as well as any other name registered with\n",
      " |        codecs.register_error that can handle UnicodeEncodeErrors.\n",
      " |  \n",
      " |  endswith(...)\n",
      " |      S.endswith(suffix[, start[, end]]) -> bool\n",
      " |      \n",
      " |      Return True if S ends with the specified suffix, False otherwise.\n",
      " |      With optional start, test S beginning at that position.\n",
      " |      With optional end, stop comparing S at that position.\n",
      " |      suffix can also be a tuple of strings to try.\n",
      " |  \n",
      " |  expandtabs(self, /, tabsize=8)\n",
      " |      Return a copy where all tab characters are expanded using spaces.\n",
      " |      \n",
      " |      If tabsize is not given, a tab size of 8 characters is assumed.\n",
      " |  \n",
      " |  find(...)\n",
      " |      S.find(sub[, start[, end]]) -> int\n",
      " |      \n",
      " |      Return the lowest index in S where substring sub is found,\n",
      " |      such that sub is contained within S[start:end].  Optional\n",
      " |      arguments start and end are interpreted as in slice notation.\n",
      " |      \n",
      " |      Return -1 on failure.\n",
      " |  \n",
      " |  format(...)\n",
      " |      S.format(*args, **kwargs) -> str\n",
      " |      \n",
      " |      Return a formatted version of S, using substitutions from args and kwargs.\n",
      " |      The substitutions are identified by braces ('{' and '}').\n",
      " |  \n",
      " |  format_map(...)\n",
      " |      S.format_map(mapping) -> str\n",
      " |      \n",
      " |      Return a formatted version of S, using substitutions from mapping.\n",
      " |      The substitutions are identified by braces ('{' and '}').\n",
      " |  \n",
      " |  index(...)\n",
      " |      S.index(sub[, start[, end]]) -> int\n",
      " |      \n",
      " |      Return the lowest index in S where substring sub is found,\n",
      " |      such that sub is contained within S[start:end].  Optional\n",
      " |      arguments start and end are interpreted as in slice notation.\n",
      " |      \n",
      " |      Raises ValueError when the substring is not found.\n",
      " |  \n",
      " |  isalnum(self, /)\n",
      " |      Return True if the string is an alpha-numeric string, False otherwise.\n",
      " |      \n",
      " |      A string is alpha-numeric if all characters in the string are alpha-numeric and\n",
      " |      there is at least one character in the string.\n",
      " |  \n",
      " |  isalpha(self, /)\n",
      " |      Return True if the string is an alphabetic string, False otherwise.\n",
      " |      \n",
      " |      A string is alphabetic if all characters in the string are alphabetic and there\n",
      " |      is at least one character in the string.\n",
      " |  \n",
      " |  isascii(self, /)\n",
      " |      Return True if all characters in the string are ASCII, False otherwise.\n",
      " |      \n",
      " |      ASCII characters have code points in the range U+0000-U+007F.\n",
      " |      Empty string is ASCII too.\n",
      " |  \n",
      " |  isdecimal(self, /)\n",
      " |      Return True if the string is a decimal string, False otherwise.\n",
      " |      \n",
      " |      A string is a decimal string if all characters in the string are decimal and\n",
      " |      there is at least one character in the string.\n",
      " |  \n",
      " |  isdigit(self, /)\n",
      " |      Return True if the string is a digit string, False otherwise.\n",
      " |      \n",
      " |      A string is a digit string if all characters in the string are digits and there\n",
      " |      is at least one character in the string.\n",
      " |  \n",
      " |  isidentifier(self, /)\n",
      " |      Return True if the string is a valid Python identifier, False otherwise.\n",
      " |      \n",
      " |      Call keyword.iskeyword(s) to test whether string s is a reserved identifier,\n",
      " |      such as \"def\" or \"class\".\n",
      " |  \n",
      " |  islower(self, /)\n",
      " |      Return True if the string is a lowercase string, False otherwise.\n",
      " |      \n",
      " |      A string is lowercase if all cased characters in the string are lowercase and\n",
      " |      there is at least one cased character in the string.\n",
      " |  \n",
      " |  isnumeric(self, /)\n",
      " |      Return True if the string is a numeric string, False otherwise.\n",
      " |      \n",
      " |      A string is numeric if all characters in the string are numeric and there is at\n",
      " |      least one character in the string.\n",
      " |  \n",
      " |  isprintable(self, /)\n",
      " |      Return True if the string is printable, False otherwise.\n",
      " |      \n",
      " |      A string is printable if all of its characters are considered printable in\n",
      " |      repr() or if it is empty.\n",
      " |  \n",
      " |  isspace(self, /)\n",
      " |      Return True if the string is a whitespace string, False otherwise.\n",
      " |      \n",
      " |      A string is whitespace if all characters in the string are whitespace and there\n",
      " |      is at least one character in the string.\n",
      " |  \n",
      " |  istitle(self, /)\n",
      " |      Return True if the string is a title-cased string, False otherwise.\n",
      " |      \n",
      " |      In a title-cased string, upper- and title-case characters may only\n",
      " |      follow uncased characters and lowercase characters only cased ones.\n",
      " |  \n",
      " |  isupper(self, /)\n",
      " |      Return True if the string is an uppercase string, False otherwise.\n",
      " |      \n",
      " |      A string is uppercase if all cased characters in the string are uppercase and\n",
      " |      there is at least one cased character in the string.\n",
      " |  \n",
      " |  join(self, iterable, /)\n",
      " |      Concatenate any number of strings.\n",
      " |      \n",
      " |      The string whose method is called is inserted in between each given string.\n",
      " |      The result is returned as a new string.\n",
      " |      \n",
      " |      Example: '.'.join(['ab', 'pq', 'rs']) -> 'ab.pq.rs'\n",
      " |  \n",
      " |  ljust(self, width, fillchar=' ', /)\n",
      " |      Return a left-justified string of length width.\n",
      " |      \n",
      " |      Padding is done using the specified fill character (default is a space).\n",
      " |  \n",
      " |  lower(self, /)\n",
      " |      Return a copy of the string converted to lowercase.\n",
      " |  \n",
      " |  lstrip(self, chars=None, /)\n",
      " |      Return a copy of the string with leading whitespace removed.\n",
      " |      \n",
      " |      If chars is given and not None, remove characters in chars instead.\n",
      " |  \n",
      " |  partition(self, sep, /)\n",
      " |      Partition the string into three parts using the given separator.\n",
      " |      \n",
      " |      This will search for the separator in the string.  If the separator is found,\n",
      " |      returns a 3-tuple containing the part before the separator, the separator\n",
      " |      itself, and the part after it.\n",
      " |      \n",
      " |      If the separator is not found, returns a 3-tuple containing the original string\n",
      " |      and two empty strings.\n",
      " |  \n",
      " |  removeprefix(self, prefix, /)\n",
      " |      Return a str with the given prefix string removed if present.\n",
      " |      \n",
      " |      If the string starts with the prefix string, return string[len(prefix):].\n",
      " |      Otherwise, return a copy of the original string.\n",
      " |  \n",
      " |  removesuffix(self, suffix, /)\n",
      " |      Return a str with the given suffix string removed if present.\n",
      " |      \n",
      " |      If the string ends with the suffix string and that suffix is not empty,\n",
      " |      return string[:-len(suffix)]. Otherwise, return a copy of the original\n",
      " |      string.\n",
      " |  \n",
      " |  replace(self, old, new, count=-1, /)\n",
      " |      Return a copy with all occurrences of substring old replaced by new.\n",
      " |      \n",
      " |        count\n",
      " |          Maximum number of occurrences to replace.\n",
      " |          -1 (the default value) means replace all occurrences.\n",
      " |      \n",
      " |      If the optional argument count is given, only the first count occurrences are\n",
      " |      replaced.\n",
      " |  \n",
      " |  rfind(...)\n",
      " |      S.rfind(sub[, start[, end]]) -> int\n",
      " |      \n",
      " |      Return the highest index in S where substring sub is found,\n",
      " |      such that sub is contained within S[start:end].  Optional\n",
      " |      arguments start and end are interpreted as in slice notation.\n",
      " |      \n",
      " |      Return -1 on failure.\n",
      " |  \n",
      " |  rindex(...)\n",
      " |      S.rindex(sub[, start[, end]]) -> int\n",
      " |      \n",
      " |      Return the highest index in S where substring sub is found,\n",
      " |      such that sub is contained within S[start:end].  Optional\n",
      " |      arguments start and end are interpreted as in slice notation.\n",
      " |      \n",
      " |      Raises ValueError when the substring is not found.\n",
      " |  \n",
      " |  rjust(self, width, fillchar=' ', /)\n",
      " |      Return a right-justified string of length width.\n",
      " |      \n",
      " |      Padding is done using the specified fill character (default is a space).\n",
      " |  \n",
      " |  rpartition(self, sep, /)\n",
      " |      Partition the string into three parts using the given separator.\n",
      " |      \n",
      " |      This will search for the separator in the string, starting at the end. If\n",
      " |      the separator is found, returns a 3-tuple containing the part before the\n",
      " |      separator, the separator itself, and the part after it.\n",
      " |      \n",
      " |      If the separator is not found, returns a 3-tuple containing two empty strings\n",
      " |      and the original string.\n",
      " |  \n",
      " |  rsplit(self, /, sep=None, maxsplit=-1)\n",
      " |      Return a list of the substrings in the string, using sep as the separator string.\n",
      " |      \n",
      " |        sep\n",
      " |          The separator used to split the string.\n",
      " |      \n",
      " |          When set to None (the default value), will split on any whitespace\n",
      " |          character (including \\\\n \\\\r \\\\t \\\\f and spaces) and will discard\n",
      " |          empty strings from the result.\n",
      " |        maxsplit\n",
      " |          Maximum number of splits (starting from the left).\n",
      " |          -1 (the default value) means no limit.\n",
      " |      \n",
      " |      Splitting starts at the end of the string and works to the front.\n",
      " |  \n",
      " |  rstrip(self, chars=None, /)\n",
      " |      Return a copy of the string with trailing whitespace removed.\n",
      " |      \n",
      " |      If chars is given and not None, remove characters in chars instead.\n",
      " |  \n",
      " |  split(self, /, sep=None, maxsplit=-1)\n",
      " |      Return a list of the substrings in the string, using sep as the separator string.\n",
      " |      \n",
      " |        sep\n",
      " |          The separator used to split the string.\n",
      " |      \n",
      " |          When set to None (the default value), will split on any whitespace\n",
      " |          character (including \\\\n \\\\r \\\\t \\\\f and spaces) and will discard\n",
      " |          empty strings from the result.\n",
      " |        maxsplit\n",
      " |          Maximum number of splits (starting from the left).\n",
      " |          -1 (the default value) means no limit.\n",
      " |      \n",
      " |      Note, str.split() is mainly useful for data that has been intentionally\n",
      " |      delimited.  With natural text that includes punctuation, consider using\n",
      " |      the regular expression module.\n",
      " |  \n",
      " |  splitlines(self, /, keepends=False)\n",
      " |      Return a list of the lines in the string, breaking at line boundaries.\n",
      " |      \n",
      " |      Line breaks are not included in the resulting list unless keepends is given and\n",
      " |      true.\n",
      " |  \n",
      " |  startswith(...)\n",
      " |      S.startswith(prefix[, start[, end]]) -> bool\n",
      " |      \n",
      " |      Return True if S starts with the specified prefix, False otherwise.\n",
      " |      With optional start, test S beginning at that position.\n",
      " |      With optional end, stop comparing S at that position.\n",
      " |      prefix can also be a tuple of strings to try.\n",
      " |  \n",
      " |  strip(self, chars=None, /)\n",
      " |      Return a copy of the string with leading and trailing whitespace removed.\n",
      " |      \n",
      " |      If chars is given and not None, remove characters in chars instead.\n",
      " |  \n",
      " |  swapcase(self, /)\n",
      " |      Convert uppercase characters to lowercase and lowercase characters to uppercase.\n",
      " |  \n",
      " |  title(self, /)\n",
      " |      Return a version of the string where each word is titlecased.\n",
      " |      \n",
      " |      More specifically, words start with uppercased characters and all remaining\n",
      " |      cased characters have lower case.\n",
      " |  \n",
      " |  translate(self, table, /)\n",
      " |      Replace each character in the string using the given translation table.\n",
      " |      \n",
      " |        table\n",
      " |          Translation table, which must be a mapping of Unicode ordinals to\n",
      " |          Unicode ordinals, strings, or None.\n",
      " |      \n",
      " |      The table must implement lookup/indexing via __getitem__, for instance a\n",
      " |      dictionary or list.  If this operation raises LookupError, the character is\n",
      " |      left untouched.  Characters mapped to None are deleted.\n",
      " |  \n",
      " |  upper(self, /)\n",
      " |      Return a copy of the string converted to uppercase.\n",
      " |  \n",
      " |  zfill(self, width, /)\n",
      " |      Pad a numeric string with zeros on the left, to fill a field of the given width.\n",
      " |      \n",
      " |      The string is never truncated.\n",
      " |  \n",
      " |  ----------------------------------------------------------------------\n",
      " |  Static methods defined here:\n",
      " |  \n",
      " |  __new__(*args, **kwargs) from builtins.type\n",
      " |      Create and return a new object.  See help(type) for accurate signature.\n",
      " |  \n",
      " |  maketrans(...)\n",
      " |      Return a translation table usable for str.translate().\n",
      " |      \n",
      " |      If there is only one argument, it must be a dictionary mapping Unicode\n",
      " |      ordinals (integers) or characters to Unicode ordinals, strings or None.\n",
      " |      Character keys will be then converted to ordinals.\n",
      " |      If there are two arguments, they must be strings of equal length, and\n",
      " |      in the resulting dictionary, each character in x will be mapped to the\n",
      " |      character at the same position in y. If there is a third argument, it\n",
      " |      must be a string, whose characters will be mapped to None in the result.\n",
      "\n"
     ]
    }
   ],
   "source": [
    "help(str)"
   ]
  },
  {
   "cell_type": "code",
   "execution_count": 117,
   "id": "2829dfa4-1b71-4364-a036-f2448f444f7c",
   "metadata": {},
   "outputs": [
    {
     "data": {
      "text/plain": [
       "'         Python'"
      ]
     },
     "execution_count": 117,
     "metadata": {},
     "output_type": "execute_result"
    }
   ],
   "source": [
    "'Python'.rjust(15)"
   ]
  },
  {
   "cell_type": "code",
   "execution_count": 123,
   "id": "11bc87b3-6fb8-4726-ab2a-495abe90421a",
   "metadata": {},
   "outputs": [],
   "source": [
    "lang = 'python'"
   ]
  },
  {
   "cell_type": "code",
   "execution_count": 125,
   "id": "a3cd29c6-c683-47f3-96a8-48d0934610a2",
   "metadata": {},
   "outputs": [
    {
     "data": {
      "text/plain": [
       "'python'"
      ]
     },
     "execution_count": 125,
     "metadata": {},
     "output_type": "execute_result"
    }
   ],
   "source": [
    "lang"
   ]
  },
  {
   "cell_type": "code",
   "execution_count": 129,
   "id": "fced0629-13a8-4c11-86b8-022f43f622a1",
   "metadata": {},
   "outputs": [
    {
     "ename": "TypeError",
     "evalue": "'str' object does not support item assignment",
     "output_type": "error",
     "traceback": [
      "\u001b[0;31m---------------------------------------------------------------------------\u001b[0m",
      "\u001b[0;31mTypeError\u001b[0m                                 Traceback (most recent call last)",
      "Cell \u001b[0;32mIn[129], line 1\u001b[0m\n\u001b[0;32m----> 1\u001b[0m lang[\u001b[38;5;241m0\u001b[39m] \u001b[38;5;241m=\u001b[39m \u001b[38;5;124m'\u001b[39m\u001b[38;5;124mP\u001b[39m\u001b[38;5;124m'\u001b[39m\n",
      "\u001b[0;31mTypeError\u001b[0m: 'str' object does not support item assignment"
     ]
    }
   ],
   "source": [
    "lang[0] = 'P'"
   ]
  },
  {
   "cell_type": "code",
   "execution_count": 131,
   "id": "323e6ed9-e545-4e9e-bac5-9bb0d2a1c6bd",
   "metadata": {},
   "outputs": [],
   "source": [
    "lang = 'Golang'"
   ]
  },
  {
   "cell_type": "code",
   "execution_count": 135,
   "id": "29b13294-d503-40cc-b4a1-23b998b8e3fd",
   "metadata": {},
   "outputs": [],
   "source": [
    "string = 'Gap'"
   ]
  },
  {
   "cell_type": "code",
   "execution_count": 137,
   "id": "72331281-c0e0-4a64-b256-472fc7a7bae2",
   "metadata": {},
   "outputs": [],
   "source": [
    "string = 'The ' + string"
   ]
  },
  {
   "cell_type": "code",
   "execution_count": 152,
   "id": "e95ae756-e121-4257-82b3-ee548bb34825",
   "metadata": {},
   "outputs": [
    {
     "name": "stdin",
     "output_type": "stream",
     "text": [
      "Tell me:  swapcase\n"
     ]
    }
   ],
   "source": [
    "stuff = input('Tell me: ')"
   ]
  },
  {
   "cell_type": "code",
   "execution_count": 148,
   "id": "b8a4d10a-9f49-4259-b1b4-04f9759e37b4",
   "metadata": {},
   "outputs": [
    {
     "data": {
      "text/plain": [
       "'WHAT DO YOU WANT TO KNOW?'"
      ]
     },
     "execution_count": 148,
     "metadata": {},
     "output_type": "execute_result"
    }
   ],
   "source": [
    "stuff"
   ]
  },
  {
   "cell_type": "code",
   "execution_count": 150,
   "id": "332f6580-51d3-48a4-9bea-ada06210e988",
   "metadata": {},
   "outputs": [
    {
     "data": {
      "text/plain": [
       "'what do you want to know?'"
      ]
     },
     "execution_count": 150,
     "metadata": {},
     "output_type": "execute_result"
    }
   ],
   "source": [
    "stuff.lower()"
   ]
  },
  {
   "cell_type": "code",
   "execution_count": 155,
   "id": "ae92f5a0-1899-4b7d-9568-9f4207a2b151",
   "metadata": {},
   "outputs": [],
   "source": [
    "slogan = 'Now is the time for all good people to come to the aid of their country'"
   ]
  },
  {
   "cell_type": "code",
   "execution_count": 167,
   "id": "90f18c1b-21a7-4d01-a8fa-84a595fd2614",
   "metadata": {},
   "outputs": [
    {
     "data": {
      "text/plain": [
       "'                                                                                                                                 Now is the time for all good people to come to the aid of their country'"
      ]
     },
     "execution_count": 167,
     "metadata": {},
     "output_type": "execute_result"
    }
   ],
   "source": [
    "slogan.rjust(200)"
   ]
  },
  {
   "cell_type": "code",
   "execution_count": 177,
   "id": "8e3135ab-20f3-4dfb-a9d8-c9dcfb2125a9",
   "metadata": {},
   "outputs": [
    {
     "data": {
      "text/plain": [
       "11"
      ]
     },
     "execution_count": 177,
     "metadata": {},
     "output_type": "execute_result"
    }
   ],
   "source": [
    "len(slogan[24:35])"
   ]
  },
  {
   "cell_type": "code",
   "execution_count": 179,
   "id": "c16d1f44-0088-4168-9bf6-a2739e4ff616",
   "metadata": {},
   "outputs": [
    {
     "ename": "AttributeError",
     "evalue": "'str' object has no attribute 'len'",
     "output_type": "error",
     "traceback": [
      "\u001b[0;31m---------------------------------------------------------------------------\u001b[0m",
      "\u001b[0;31mAttributeError\u001b[0m                            Traceback (most recent call last)",
      "Cell \u001b[0;32mIn[179], line 1\u001b[0m\n\u001b[0;32m----> 1\u001b[0m slogan\u001b[38;5;241m.\u001b[39mlen()\n",
      "\u001b[0;31mAttributeError\u001b[0m: 'str' object has no attribute 'len'"
     ]
    }
   ],
   "source": [
    "slogan.len()"
   ]
  },
  {
   "cell_type": "code",
   "execution_count": 181,
   "id": "b1a64393-81df-4e6d-84aa-47fb84f5e657",
   "metadata": {},
   "outputs": [
    {
     "name": "stdout",
     "output_type": "stream",
     "text": [
      "Original String: Hello, world!\n",
      "Substring: world!\n",
      "Uppercase Substring: WORLD!\n"
     ]
    }
   ],
   "source": [
    "original_string = \"Hello, world!\"\n",
    "\n",
    "# Taking a substring (e.g., characters from index 7 to 12)\n",
    "substring = original_string[7:13]\n",
    "\n",
    "# Converting the substring to uppercase\n",
    "uppercase_substring = substring.upper()\n",
    "\n",
    "print(\"Original String:\", original_string)\n",
    "print(\"Substring:\", substring)\n",
    "print(\"Uppercase Substring:\", uppercase_substring)\n"
   ]
  },
  {
   "cell_type": "code",
   "execution_count": 188,
   "id": "4e27c450-1ea8-4008-989e-20ab16b76e70",
   "metadata": {},
   "outputs": [
    {
     "data": {
      "text/plain": [
       "'xbcdefxghxijklxmno'"
      ]
     },
     "execution_count": 188,
     "metadata": {},
     "output_type": "execute_result"
    }
   ],
   "source": [
    "'abcdefaghaijklamno'.replace('a', 'x')"
   ]
  },
  {
   "cell_type": "markdown",
   "id": "403843a2-0c06-4033-83ee-f8de32cee849",
   "metadata": {},
   "source": [
    "## Quick Lab: String Functions\n",
    "* write a Python program to read in a string and then print it out as\n",
    "  * a title\n",
    "  * all upper case\n",
    "  * all lower case\n",
    "* also, replace all vowels in the string with the letter 'x'\n",
    "   * you can use the __`.replace()`__ method to replace each vowel, one at a time"
   ]
  },
  {
   "cell_type": "code",
   "execution_count": 197,
   "id": "78b4b71c-3c81-4a7f-9018-470a9b39a93c",
   "metadata": {},
   "outputs": [],
   "source": [
    "# 1. read a string\n",
    "# 1a. title\n",
    "# 2. print it all upper\n",
    "# 3. print it all lower\n",
    "# 4. for each vowel:\n",
    "# 5.   replace that vowel with 'x' and put the result back into the string (overwrite)"
   ]
  },
  {
   "cell_type": "code",
   "execution_count": 207,
   "id": "ef9be18b-1a13-4635-aeb2-aa1470b8dcdc",
   "metadata": {},
   "outputs": [
    {
     "name": "stdin",
     "output_type": "stream",
     "text": [
      "Enter something:  The wizard quickly jinxed the gnomes before they vaporized\n"
     ]
    },
    {
     "name": "stdout",
     "output_type": "stream",
     "text": [
      "The Wizard Quickly Jinxed The Gnomes Before They Vaporized\n",
      "THE WIZARD QUICKLY JINXED THE GNOMES BEFORE THEY VAPORIZED\n",
      "the wizard quickly jinxed the gnomes before they vaporized\n",
      "after replacing a with x: The wizxrd quickly jinxed the gnomes before they vxporized\n",
      "after replacing e with x: Thx wizxrd quickly jinxxd thx gnomxs bxforx thxy vxporizxd\n",
      "after replacing i with x: Thx wxzxrd quxckly jxnxxd thx gnomxs bxforx thxy vxporxzxd\n",
      "after replacing o with x: Thx wxzxrd quxckly jxnxxd thx gnxmxs bxfxrx thxy vxpxrxzxd\n",
      "after replacing u with x: Thx wxzxrd qxxckly jxnxxd thx gnxmxs bxfxrx thxy vxpxrxzxd\n"
     ]
    }
   ],
   "source": [
    "string = input('Enter something: ') # 1\n",
    "print(string.title(), string.upper(), string.lower(), sep='\\n') # 1a, 2, 3\n",
    "\n",
    "for vowel in 'aeiou': # 4, for thing in container, like with did with 'Python'\n",
    "    string = string.replace(vowel, 'x')\n",
    "    print('after replacing', vowel, 'with x:', string)"
   ]
  },
  {
   "cell_type": "markdown",
   "id": "e4acd63d-4790-4d3f-b8b6-bca28b6d2d6f",
   "metadata": {},
   "source": [
    "## Lab: String Functions\n",
    "* write a Python program to read in a string and print it out such that\n",
    "  * the first, third, fifth, etc. letters are **lower** case\n",
    "  * the second, fourth, sixth, etc. letters are **UPPER** case\n",
    "  * e.g., if the input is __Guido van Rossum__, the output would be:\n",
    "    * __gUiDo vAn rOsSuM__"
   ]
  },
  {
   "cell_type": "code",
   "execution_count": null,
   "id": "3b36eb49-651c-40a0-a1f6-4e8493e5b973",
   "metadata": {},
   "outputs": [],
   "source": [
    "# 1. read string\n",
    "# 2. for each letter/char in the string:\n",
    "# 3.   if the index is odd, make lower\n",
    "# 4.   else make upper"
   ]
  },
  {
   "cell_type": "code",
   "execution_count": 287,
   "id": "ec287946-27e6-494b-8469-4121cb385975",
   "metadata": {},
   "outputs": [],
   "source": [
    "# OR...\n",
    "# 2. for each letter/char in the string:\n",
    "# 3.   if last letter was upper, make next\n",
    "#      lower (and vice versa)\n",
    "#    (in other words, keep track of what we\n",
    "#     do, then do the opposite the next time)"
   ]
  },
  {
   "cell_type": "code",
   "execution_count": 289,
   "id": "e0dea5af-369d-43ed-ad2c-5e81af11d4c9",
   "metadata": {},
   "outputs": [
    {
     "name": "stdin",
     "output_type": "stream",
     "text": [
      "Tell me:  something\n"
     ]
    },
    {
     "name": "stdout",
     "output_type": "stream",
     "text": [
      "sOmEtHiNg"
     ]
    }
   ],
   "source": [
    "string = input('Tell me: ') # 1\n",
    "for index in range(0, len(string)): # 0..len-1\n",
    "    # the above is the numerical index of char\n",
    "    # so we can mod it with 2 to determine \n",
    "    # even or odd...\n",
    "    if index % 2 == 0: # even\n",
    "        print(string[index].lower(), end='')\n",
    "    else:\n",
    "        print(string[index].upper(), end='')"
   ]
  },
  {
   "cell_type": "code",
   "execution_count": 291,
   "id": "dd0ae478-414f-4347-b83d-94c70acadcfc",
   "metadata": {},
   "outputs": [
    {
     "name": "stdout",
     "output_type": "stream",
     "text": [
      "sOmEtHiNg"
     ]
    }
   ],
   "source": [
    "do_next = 'lower'\n",
    "for char in string: # we no longer know index\n",
    "    if do_next == 'lower':\n",
    "        print(char.lower(), end='')\n",
    "        do_next = 'upper'\n",
    "    else:\n",
    "        print(char.upper(), end='')\n",
    "        do_next = 'lower'\n",
    "# and then we can make it a Boolean..."
   ]
  },
  {
   "cell_type": "code",
   "execution_count": 205,
   "id": "fc6c6748-e4cb-444d-9287-eb05e4a97bf7",
   "metadata": {},
   "outputs": [
    {
     "name": "stdout",
     "output_type": "stream",
     "text": [
      "a\n",
      "e\n",
      "i\n",
      "o\n",
      "u\n"
     ]
    }
   ],
   "source": [
    "for vowel in 'aeiou':\n",
    "    print(vowel)"
   ]
  },
  {
   "cell_type": "code",
   "execution_count": 293,
   "id": "d6982ec6-ad1a-4ede-b4f1-d69243b07298",
   "metadata": {},
   "outputs": [
    {
     "name": "stdout",
     "output_type": "stream",
     "text": [
      "sOmEtHiNg"
     ]
    }
   ],
   "source": [
    "make_lower = True\n",
    "\n",
    "for char in string: # we no longer know index\n",
    "    if make_lower: # == True:\n",
    "        print(char.lower(), end='')\n",
    "        make_lower = False\n",
    "    else:\n",
    "        print(char.upper(), end='')\n",
    "        make_lower = True\n",
    "# and then we can make it a Boolean..."
   ]
  },
  {
   "cell_type": "code",
   "execution_count": null,
   "id": "a9b867db-f19f-479b-b113-5113ae877d27",
   "metadata": {},
   "outputs": [],
   "source": []
  },
  {
   "cell_type": "code",
   "execution_count": 219,
   "id": "6d83d77e-1305-4bdf-8b61-36844343455b",
   "metadata": {},
   "outputs": [
    {
     "name": "stdout",
     "output_type": "stream",
     "text": [
      "yep\n"
     ]
    }
   ],
   "source": [
    "if 5 > 3:\n",
    "    print('yep')"
   ]
  },
  {
   "cell_type": "code",
   "execution_count": 221,
   "id": "ff895537-91ae-4b5c-8c5d-cbea642fbec2",
   "metadata": {},
   "outputs": [
    {
     "name": "stdout",
     "output_type": "stream",
     "text": [
      "yep\n"
     ]
    }
   ],
   "source": [
    "if 5:\n",
    "    print('yep')"
   ]
  },
  {
   "cell_type": "code",
   "execution_count": 234,
   "id": "5b8b7170-931f-4690-9f30-5d2f27f1979e",
   "metadata": {},
   "outputs": [],
   "source": [
    "num = 0.0"
   ]
  },
  {
   "cell_type": "code",
   "execution_count": 232,
   "id": "616556c5-54ec-4700-8869-cd5261d33469",
   "metadata": {},
   "outputs": [],
   "source": [
    "if num: # if num != 0 or 0.0\n",
    "    print('yep')"
   ]
  },
  {
   "cell_type": "code",
   "execution_count": 242,
   "id": "c37c50b3-cb1e-41b6-9109-4edc351a7899",
   "metadata": {},
   "outputs": [
    {
     "name": "stdin",
     "output_type": "stream",
     "text": [
      "Enter your name:  \n"
     ]
    }
   ],
   "source": [
    "name = input('Enter your name: ')"
   ]
  },
  {
   "cell_type": "code",
   "execution_count": 244,
   "id": "9f6f732d-0a2e-4bf5-a2f5-d83427e1e4c9",
   "metadata": {},
   "outputs": [],
   "source": [
    "if name: # if len(name) > 0 ... or ... if name != ''\n",
    "    print('hi', name)"
   ]
  },
  {
   "cell_type": "code",
   "execution_count": 246,
   "id": "67660d17-1d7e-4eea-9be8-28455b081c77",
   "metadata": {},
   "outputs": [
    {
     "name": "stdout",
     "output_type": "stream",
     "text": [
      "yes, this is considerer True\n"
     ]
    }
   ],
   "source": [
    "if -5:\n",
    "    print('yes, this is considered True')"
   ]
  },
  {
   "cell_type": "code",
   "execution_count": 252,
   "id": "d9860add-69bc-4ee6-aef5-29f1b6d3010d",
   "metadata": {},
   "outputs": [
    {
     "data": {
      "text/plain": [
       "['a', 'b', 'c', 'd', 'e']"
      ]
     },
     "execution_count": 252,
     "metadata": {},
     "output_type": "execute_result"
    }
   ],
   "source": [
    "'a-b-c-d-e'.split('-')"
   ]
  },
  {
   "cell_type": "code",
   "execution_count": 259,
   "id": "0ca8137d-466f-4bd1-9d1b-df50bc598fcd",
   "metadata": {},
   "outputs": [
    {
     "ename": "AttributeError",
     "evalue": "'list' object has no attribute 'join'",
     "output_type": "error",
     "traceback": [
      "\u001b[0;31m---------------------------------------------------------------------------\u001b[0m",
      "\u001b[0;31mAttributeError\u001b[0m                            Traceback (most recent call last)",
      "Cell \u001b[0;32mIn[259], line 1\u001b[0m\n\u001b[0;32m----> 1\u001b[0m [\u001b[38;5;124m'\u001b[39m\u001b[38;5;124ma\u001b[39m\u001b[38;5;124m'\u001b[39m, \u001b[38;5;124m'\u001b[39m\u001b[38;5;124mb\u001b[39m\u001b[38;5;124m'\u001b[39m, \u001b[38;5;124m'\u001b[39m\u001b[38;5;124mc\u001b[39m\u001b[38;5;124m'\u001b[39m, \u001b[38;5;124m'\u001b[39m\u001b[38;5;124md\u001b[39m\u001b[38;5;124m'\u001b[39m, \u001b[38;5;124m'\u001b[39m\u001b[38;5;124me\u001b[39m\u001b[38;5;124m'\u001b[39m]\u001b[38;5;241m.\u001b[39mjoin(\u001b[38;5;124m'\u001b[39m\u001b[38;5;124m-\u001b[39m\u001b[38;5;124m'\u001b[39m)\n",
      "\u001b[0;31mAttributeError\u001b[0m: 'list' object has no attribute 'join'"
     ]
    }
   ],
   "source": [
    "['a', 'b', 'c', 'd', 'e'].join('-')"
   ]
  },
  {
   "cell_type": "code",
   "execution_count": 261,
   "id": "9cf005ca-4e27-4da1-846c-24125c2078e0",
   "metadata": {},
   "outputs": [],
   "source": [
    "words = ['a', 'b', 'c', 'd', 'e']"
   ]
  },
  {
   "cell_type": "code",
   "execution_count": 267,
   "id": "b1811480-0fae-4fbf-bbfa-113e9dfa6256",
   "metadata": {},
   "outputs": [
    {
     "data": {
      "text/plain": [
       "['a', 'b', 'c', 'd', 'e']"
      ]
     },
     "execution_count": 267,
     "metadata": {},
     "output_type": "execute_result"
    }
   ],
   "source": [
    "words"
   ]
  },
  {
   "cell_type": "code",
   "execution_count": 269,
   "id": "f75dc3b6-9449-4627-9e0f-b7cc7919389f",
   "metadata": {},
   "outputs": [],
   "source": [
    "words = 'a-b-c-d-e'.split('-')"
   ]
  },
  {
   "cell_type": "code",
   "execution_count": 271,
   "id": "8bc2ef6b-baee-4c5e-98a5-52155c28fbf6",
   "metadata": {},
   "outputs": [
    {
     "data": {
      "text/plain": [
       "['a', 'b', 'c', 'd', 'e']"
      ]
     },
     "execution_count": 271,
     "metadata": {},
     "output_type": "execute_result"
    }
   ],
   "source": [
    "words"
   ]
  },
  {
   "cell_type": "code",
   "execution_count": 276,
   "id": "4d9a201f-c039-4ad2-9ab5-30f49fa2d0cd",
   "metadata": {},
   "outputs": [
    {
     "data": {
      "text/plain": [
       "'a-b-c-d-e'"
      ]
     },
     "execution_count": 276,
     "metadata": {},
     "output_type": "execute_result"
    }
   ],
   "source": [
    "'-'.join(words)"
   ]
  },
  {
   "cell_type": "code",
   "execution_count": 278,
   "id": "3e319bd9-2c0c-40f5-b8cb-dc069acbee9a",
   "metadata": {},
   "outputs": [
    {
     "data": {
      "text/plain": [
       "'abcde'"
      ]
     },
     "execution_count": 278,
     "metadata": {},
     "output_type": "execute_result"
    }
   ],
   "source": [
    "''.join(words)"
   ]
  },
  {
   "cell_type": "code",
   "execution_count": 280,
   "id": "649bc898-2609-4a52-8ec8-0bdf929cdb7c",
   "metadata": {},
   "outputs": [],
   "source": [
    "lang = 'python'"
   ]
  },
  {
   "cell_type": "code",
   "execution_count": 282,
   "id": "92f090e8-d3eb-43ad-91a3-1e42cf77d08a",
   "metadata": {},
   "outputs": [
    {
     "ename": "TypeError",
     "evalue": "'str' object does not support item assignment",
     "output_type": "error",
     "traceback": [
      "\u001b[0;31m---------------------------------------------------------------------------\u001b[0m",
      "\u001b[0;31mTypeError\u001b[0m                                 Traceback (most recent call last)",
      "Cell \u001b[0;32mIn[282], line 1\u001b[0m\n\u001b[0;32m----> 1\u001b[0m lang[\u001b[38;5;241m0\u001b[39m] \u001b[38;5;241m=\u001b[39m \u001b[38;5;124m'\u001b[39m\u001b[38;5;124mP\u001b[39m\u001b[38;5;124m'\u001b[39m\n",
      "\u001b[0;31mTypeError\u001b[0m: 'str' object does not support item assignment"
     ]
    }
   ],
   "source": [
    "lang[0] = 'P'"
   ]
  },
  {
   "cell_type": "code",
   "execution_count": 288,
   "id": "be88dee3-2c24-4099-9b66-f72738f38974",
   "metadata": {},
   "outputs": [],
   "source": [
    "shopping = 'apples, figs, pears, milk'.split(', ')"
   ]
  },
  {
   "cell_type": "code",
   "execution_count": 290,
   "id": "36acfd80-122e-47c8-90ee-fc0057c19514",
   "metadata": {},
   "outputs": [
    {
     "data": {
      "text/plain": [
       "['apples', 'figs', 'pears', 'milk']"
      ]
     },
     "execution_count": 290,
     "metadata": {},
     "output_type": "execute_result"
    }
   ],
   "source": [
    "shopping"
   ]
  },
  {
   "cell_type": "code",
   "execution_count": 296,
   "id": "23e6fb8d-fdd5-487c-ad75-0504eb68690a",
   "metadata": {},
   "outputs": [
    {
     "data": {
      "text/plain": [
       "'apples, figs, pears, milk'"
      ]
     },
     "execution_count": 296,
     "metadata": {},
     "output_type": "execute_result"
    }
   ],
   "source": [
    "', '.join(shopping)"
   ]
  },
  {
   "cell_type": "code",
   "execution_count": 294,
   "id": "ce673847-4a59-48d9-8f91-bd687f3d1727",
   "metadata": {},
   "outputs": [
    {
     "name": "stdout",
     "output_type": "stream",
     "text": [
      "Help on method_descriptor:\n",
      "\n",
      "join(self, iterable, /)\n",
      "    Concatenate any number of strings.\n",
      "    \n",
      "    The string whose method is called is inserted in between each given string.\n",
      "    The result is returned as a new string.\n",
      "    \n",
      "    Example: '.'.join(['ab', 'pq', 'rs']) -> 'ab.pq.rs'\n",
      "\n"
     ]
    }
   ],
   "source": [
    "help(str.join)"
   ]
  },
  {
   "cell_type": "code",
   "execution_count": 299,
   "id": "ee1d90a9-ecd0-48d5-98e2-d1175620575c",
   "metadata": {},
   "outputs": [
    {
     "ename": "TypeError",
     "evalue": "'int' object is not iterable",
     "output_type": "error",
     "traceback": [
      "\u001b[0;31m---------------------------------------------------------------------------\u001b[0m",
      "\u001b[0;31mTypeError\u001b[0m                                 Traceback (most recent call last)",
      "Cell \u001b[0;32mIn[299], line 1\u001b[0m\n\u001b[0;32m----> 1\u001b[0m \u001b[38;5;28mlist\u001b[39m(\u001b[38;5;241m2\u001b[39m)\n",
      "\u001b[0;31mTypeError\u001b[0m: 'int' object is not iterable"
     ]
    }
   ],
   "source": [
    "list(2)"
   ]
  },
  {
   "cell_type": "code",
   "execution_count": 301,
   "id": "e4a758df-1a29-4c4c-b38f-9e604782ef95",
   "metadata": {},
   "outputs": [
    {
     "data": {
      "text/plain": [
       "['G', 'a', 'p']"
      ]
     },
     "execution_count": 301,
     "metadata": {},
     "output_type": "execute_result"
    }
   ],
   "source": [
    "list('Gap')"
   ]
  },
  {
   "cell_type": "code",
   "execution_count": 303,
   "id": "8ae86ae7-1997-4dd5-b763-bd056b81f85f",
   "metadata": {},
   "outputs": [
    {
     "name": "stdout",
     "output_type": "stream",
     "text": [
      "G\n",
      "a\n",
      "p\n"
     ]
    }
   ],
   "source": [
    "for thing in 'Gap':\n",
    "    print(thing)"
   ]
  },
  {
   "cell_type": "code",
   "execution_count": 306,
   "id": "43a4fc11-43d9-483e-bbe3-195e4e49d511",
   "metadata": {},
   "outputs": [
    {
     "data": {
      "text/plain": [
       "['2', '2']"
      ]
     },
     "execution_count": 306,
     "metadata": {},
     "output_type": "execute_result"
    }
   ],
   "source": [
    "list('22')"
   ]
  },
  {
   "cell_type": "code",
   "execution_count": 320,
   "id": "08c42a1b-1338-4d6f-b906-600a29bf573b",
   "metadata": {},
   "outputs": [
    {
     "name": "stdin",
     "output_type": "stream",
     "text": [
      "Enter something:  APPLE FIg PeAr\n"
     ]
    }
   ],
   "source": [
    "stuff = input('Enter something: ').lower().split()"
   ]
  },
  {
   "cell_type": "code",
   "execution_count": 322,
   "id": "a330d3e0-bd2e-4235-8030-fa50fcc045a2",
   "metadata": {},
   "outputs": [
    {
     "data": {
      "text/plain": [
       "['apple', 'fig', 'pear']"
      ]
     },
     "execution_count": 322,
     "metadata": {},
     "output_type": "execute_result"
    }
   ],
   "source": [
    "stuff"
   ]
  },
  {
   "cell_type": "code",
   "execution_count": 324,
   "id": "28b0fda1-c8ff-40d7-a694-ffb06e6bf0bf",
   "metadata": {},
   "outputs": [
    {
     "name": "stdin",
     "output_type": "stream",
     "text": [
      "Enter something:  appLE FIG pear\n"
     ]
    }
   ],
   "source": [
    "stuff = input('Enter something: ')\n",
    "stuff = stuff.lower()\n",
    "words = stuff.split()"
   ]
  },
  {
   "cell_type": "code",
   "execution_count": 326,
   "id": "1ee4f83b-1d05-45a3-a25b-0dffd3dd9b00",
   "metadata": {},
   "outputs": [
    {
     "data": {
      "text/plain": [
       "'apple fig pear'"
      ]
     },
     "execution_count": 326,
     "metadata": {},
     "output_type": "execute_result"
    }
   ],
   "source": [
    "stuff"
   ]
  },
  {
   "cell_type": "code",
   "execution_count": 328,
   "id": "663c584c-ba03-411f-95a8-22740421adf4",
   "metadata": {},
   "outputs": [
    {
     "data": {
      "text/plain": [
       "['apple', 'fig', 'pear']"
      ]
     },
     "execution_count": 328,
     "metadata": {},
     "output_type": "execute_result"
    }
   ],
   "source": [
    "words"
   ]
  },
  {
   "cell_type": "code",
   "execution_count": 343,
   "id": "77d42f14-c30e-49a5-82a7-044453330731",
   "metadata": {},
   "outputs": [
    {
     "name": "stdout",
     "output_type": "stream",
     "text": [
      "Help on method_descriptor:\n",
      "\n",
      "remove(self, value, /)\n",
      "    Remove first occurrence of value.\n",
      "    \n",
      "    Raises ValueError if the value is not present.\n",
      "\n"
     ]
    }
   ],
   "source": [
    "help(list.remove)"
   ]
  },
  {
   "cell_type": "code",
   "execution_count": 347,
   "id": "7853bce5-b026-4b18-a9ba-d5dc3737f693",
   "metadata": {},
   "outputs": [],
   "source": [
    "lang = 'python'"
   ]
  },
  {
   "cell_type": "code",
   "execution_count": 349,
   "id": "fa5ec219-541e-4b2e-abcb-9914dd5774fc",
   "metadata": {},
   "outputs": [
    {
     "ename": "TypeError",
     "evalue": "'str' object does not support item assignment",
     "output_type": "error",
     "traceback": [
      "\u001b[0;31m---------------------------------------------------------------------------\u001b[0m",
      "\u001b[0;31mTypeError\u001b[0m                                 Traceback (most recent call last)",
      "Cell \u001b[0;32mIn[349], line 1\u001b[0m\n\u001b[0;32m----> 1\u001b[0m lang[\u001b[38;5;241m0\u001b[39m] \u001b[38;5;241m=\u001b[39m \u001b[38;5;124m'\u001b[39m\u001b[38;5;124mP\u001b[39m\u001b[38;5;124m'\u001b[39m\n",
      "\u001b[0;31mTypeError\u001b[0m: 'str' object does not support item assignment"
     ]
    }
   ],
   "source": [
    "lang[0] = 'P' # does not work because strings are immutable"
   ]
  },
  {
   "cell_type": "code",
   "execution_count": 351,
   "id": "54a86866-fd5b-4627-bc2e-47421c0fe771",
   "metadata": {},
   "outputs": [],
   "source": [
    "lang_letters = list(lang)"
   ]
  },
  {
   "cell_type": "code",
   "execution_count": 353,
   "id": "271c73c6-d686-4410-80bc-2cb6f4c887f6",
   "metadata": {},
   "outputs": [
    {
     "data": {
      "text/plain": [
       "['p', 'y', 't', 'h', 'o', 'n']"
      ]
     },
     "execution_count": 353,
     "metadata": {},
     "output_type": "execute_result"
    }
   ],
   "source": [
    "lang_letters"
   ]
  },
  {
   "cell_type": "code",
   "execution_count": 355,
   "id": "8fd3284a-a5f6-458e-bca8-bb1eb0a8765c",
   "metadata": {},
   "outputs": [],
   "source": [
    "lang_letters[0] = 'P'"
   ]
  },
  {
   "cell_type": "code",
   "execution_count": 357,
   "id": "e58b53d6-c1ee-4d49-9c36-4036b50b5ecf",
   "metadata": {},
   "outputs": [
    {
     "data": {
      "text/plain": [
       "['P', 'y', 't', 'h', 'o', 'n']"
      ]
     },
     "execution_count": 357,
     "metadata": {},
     "output_type": "execute_result"
    }
   ],
   "source": [
    "lang_letters"
   ]
  },
  {
   "cell_type": "code",
   "execution_count": 359,
   "id": "f226691e-64f9-4f86-bec2-f92de92e7238",
   "metadata": {},
   "outputs": [
    {
     "data": {
      "text/plain": [
       "'Python'"
      ]
     },
     "execution_count": 359,
     "metadata": {},
     "output_type": "execute_result"
    }
   ],
   "source": [
    "''.join(lang_letters)"
   ]
  },
  {
   "cell_type": "code",
   "execution_count": 361,
   "id": "67586415-f924-4fc7-bfd6-44914640d7b6",
   "metadata": {},
   "outputs": [],
   "source": [
    "import random"
   ]
  },
  {
   "cell_type": "code",
   "execution_count": 363,
   "id": "a3d86b65-4062-4357-a658-3fe2c3e5dffb",
   "metadata": {},
   "outputs": [
    {
     "data": {
      "text/plain": [
       "['BPF',\n",
       " 'LOG4',\n",
       " 'NV_MAGICCONST',\n",
       " 'RECIP_BPF',\n",
       " 'Random',\n",
       " 'SG_MAGICCONST',\n",
       " 'SystemRandom',\n",
       " 'TWOPI',\n",
       " '_ONE',\n",
       " '_Sequence',\n",
       " '_Set',\n",
       " '__all__',\n",
       " '__builtins__',\n",
       " '__cached__',\n",
       " '__doc__',\n",
       " '__file__',\n",
       " '__loader__',\n",
       " '__name__',\n",
       " '__package__',\n",
       " '__spec__',\n",
       " '_accumulate',\n",
       " '_acos',\n",
       " '_bisect',\n",
       " '_ceil',\n",
       " '_cos',\n",
       " '_e',\n",
       " '_exp',\n",
       " '_floor',\n",
       " '_index',\n",
       " '_inst',\n",
       " '_isfinite',\n",
       " '_log',\n",
       " '_os',\n",
       " '_pi',\n",
       " '_random',\n",
       " '_repeat',\n",
       " '_sha512',\n",
       " '_sin',\n",
       " '_sqrt',\n",
       " '_test',\n",
       " '_test_generator',\n",
       " '_urandom',\n",
       " '_warn',\n",
       " 'betavariate',\n",
       " 'choice',\n",
       " 'choices',\n",
       " 'expovariate',\n",
       " 'gammavariate',\n",
       " 'gauss',\n",
       " 'getrandbits',\n",
       " 'getstate',\n",
       " 'lognormvariate',\n",
       " 'normalvariate',\n",
       " 'paretovariate',\n",
       " 'randbytes',\n",
       " 'randint',\n",
       " 'random',\n",
       " 'randrange',\n",
       " 'sample',\n",
       " 'seed',\n",
       " 'setstate',\n",
       " 'shuffle',\n",
       " 'triangular',\n",
       " 'uniform',\n",
       " 'vonmisesvariate',\n",
       " 'weibullvariate']"
      ]
     },
     "execution_count": 363,
     "metadata": {},
     "output_type": "execute_result"
    }
   ],
   "source": [
    "dir(random)"
   ]
  },
  {
   "cell_type": "code",
   "execution_count": 365,
   "id": "aa8b90af-683a-4ccc-9a05-f16a479a65e6",
   "metadata": {},
   "outputs": [
    {
     "name": "stdout",
     "output_type": "stream",
     "text": [
      "Help on method shuffle in module random:\n",
      "\n",
      "shuffle(x) method of random.Random instance\n",
      "    Shuffle list x in place, and return None.\n",
      "\n"
     ]
    }
   ],
   "source": [
    "help(random.shuffle)"
   ]
  },
  {
   "cell_type": "code",
   "execution_count": 367,
   "id": "4d800059-b755-412b-8279-0dcab699cb6f",
   "metadata": {},
   "outputs": [],
   "source": [
    "random.shuffle(lang_letters)"
   ]
  },
  {
   "cell_type": "code",
   "execution_count": 369,
   "id": "d674ce67-5089-4d2b-912d-3073487512f1",
   "metadata": {},
   "outputs": [
    {
     "data": {
      "text/plain": [
       "['y', 'n', 'o', 't', 'P', 'h']"
      ]
     },
     "execution_count": 369,
     "metadata": {},
     "output_type": "execute_result"
    }
   ],
   "source": [
    "lang_letters"
   ]
  },
  {
   "cell_type": "code",
   "execution_count": 371,
   "id": "62a6eb03-38bb-4e3e-bfb5-99fe1af16921",
   "metadata": {},
   "outputs": [
    {
     "data": {
      "text/plain": [
       "'ynotPh'"
      ]
     },
     "execution_count": 371,
     "metadata": {},
     "output_type": "execute_result"
    }
   ],
   "source": [
    "''.join(lang_letters)"
   ]
  },
  {
   "cell_type": "code",
   "execution_count": 373,
   "id": "c96d8130-e8b4-40f9-a91e-416b2c3265d8",
   "metadata": {},
   "outputs": [],
   "source": [
    "number = 12345"
   ]
  },
  {
   "cell_type": "code",
   "execution_count": 375,
   "id": "48605624-f5de-4ad2-9a9f-28cf74f91e04",
   "metadata": {},
   "outputs": [
    {
     "data": {
      "text/plain": [
       "5"
      ]
     },
     "execution_count": 375,
     "metadata": {},
     "output_type": "execute_result"
    }
   ],
   "source": [
    "number % 10"
   ]
  },
  {
   "cell_type": "code",
   "execution_count": 377,
   "id": "51c55669-cec8-4f5c-82b8-25d904361435",
   "metadata": {},
   "outputs": [],
   "source": [
    "number = number // 10"
   ]
  },
  {
   "cell_type": "code",
   "execution_count": 379,
   "id": "5d9eac8e-2ad2-4312-8e29-2a1040da57f9",
   "metadata": {},
   "outputs": [
    {
     "data": {
      "text/plain": [
       "1234"
      ]
     },
     "execution_count": 379,
     "metadata": {},
     "output_type": "execute_result"
    }
   ],
   "source": [
    "number"
   ]
  },
  {
   "cell_type": "code",
   "execution_count": 381,
   "id": "3670c693-ebef-4a6b-8ed4-f023f6ff5568",
   "metadata": {},
   "outputs": [
    {
     "data": {
      "text/plain": [
       "4"
      ]
     },
     "execution_count": 381,
     "metadata": {},
     "output_type": "execute_result"
    }
   ],
   "source": [
    "number % 10"
   ]
  },
  {
   "cell_type": "code",
   "execution_count": 383,
   "id": "948dd262-7712-4c13-ad33-d82b2486e32c",
   "metadata": {},
   "outputs": [
    {
     "data": {
      "text/plain": [
       "['1', '2', '3', '4']"
      ]
     },
     "execution_count": 383,
     "metadata": {},
     "output_type": "execute_result"
    }
   ],
   "source": [
    "list(str(number))"
   ]
  },
  {
   "cell_type": "code",
   "execution_count": 385,
   "id": "f97f8eb0-0edf-4421-9227-fb2cb4cc1cc0",
   "metadata": {},
   "outputs": [
    {
     "name": "stdout",
     "output_type": "stream",
     "text": [
      "1\n",
      "2\n",
      "3\n",
      "4\n"
     ]
    }
   ],
   "source": [
    "for digit in str(number):\n",
    "    print(digit)"
   ]
  },
  {
   "cell_type": "code",
   "execution_count": 388,
   "id": "467c1085-1f0a-4c2f-add3-497e16f714c2",
   "metadata": {},
   "outputs": [],
   "source": [
    "string = 'something'"
   ]
  },
  {
   "cell_type": "code",
   "execution_count": 390,
   "id": "c1a447cf-8afd-48f2-9fee-c8e9fe1de58d",
   "metadata": {},
   "outputs": [
    {
     "data": {
      "text/plain": [
       "['s', 'o', 'm', 'e', 't', 'h', 'i', 'n', 'g']"
      ]
     },
     "execution_count": 390,
     "metadata": {},
     "output_type": "execute_result"
    }
   ],
   "source": [
    "list(string)"
   ]
  },
  {
   "cell_type": "code",
   "execution_count": 392,
   "id": "149e7702-4c4b-4c2a-b0ae-1b6ad778398d",
   "metadata": {},
   "outputs": [
    {
     "data": {
      "text/plain": [
       "['something']"
      ]
     },
     "execution_count": 392,
     "metadata": {},
     "output_type": "execute_result"
    }
   ],
   "source": [
    "string.split()"
   ]
  },
  {
   "cell_type": "code",
   "execution_count": 394,
   "id": "2490d091-c2ea-420d-9827-6a6976fb315e",
   "metadata": {},
   "outputs": [],
   "source": [
    "string = 'this is a test'"
   ]
  },
  {
   "cell_type": "code",
   "execution_count": 396,
   "id": "599c730b-1afa-432a-b8f2-ad5fafbe60b3",
   "metadata": {},
   "outputs": [
    {
     "data": {
      "text/plain": [
       "['this', 'is', 'a', 'test']"
      ]
     },
     "execution_count": 396,
     "metadata": {},
     "output_type": "execute_result"
    }
   ],
   "source": [
    "string.split()"
   ]
  },
  {
   "cell_type": "code",
   "execution_count": 398,
   "id": "e6dae5c6-ac50-4faf-8810-ce2051534fbc",
   "metadata": {},
   "outputs": [
    {
     "data": {
      "text/plain": [
       "['t', 'h', 'i', 's', ' ', 'i', 's', ' ', 'a', ' ', 't', 'e', 's', 't']"
      ]
     },
     "execution_count": 398,
     "metadata": {},
     "output_type": "execute_result"
    }
   ],
   "source": [
    "list(string)"
   ]
  },
  {
   "cell_type": "markdown",
   "id": "fcc0f667-4f29-48ec-a6b2-4d890279fb07",
   "metadata": {},
   "source": [
    "# sorted vs. sort details\n",
    "* __`sorted()`__\n",
    "  * built-in function, so it doesn't change the container you send in to be sorted\n",
    "  * returns a NEW sorted list of the items in the original container\n",
    "  * always returns a list no matter what kind of container you throw at it\n",
    "* __`.sort()`__\n",
    "  * list method that only works on lists\n",
    "  * modifies the list in place, i.e., rearranges its elements to be sorted\n",
    "  * doesn't return anything (returns None)"
   ]
  },
  {
   "cell_type": "code",
   "execution_count": 406,
   "id": "197b83ef-5be7-4d64-aa4e-9b16608f1555",
   "metadata": {},
   "outputs": [
    {
     "data": {
      "text/plain": [
       "6"
      ]
     },
     "execution_count": 406,
     "metadata": {},
     "output_type": "execute_result"
    }
   ],
   "source": [
    "len('string')"
   ]
  },
  {
   "cell_type": "code",
   "execution_count": 408,
   "id": "ded95b03-9b3f-4619-8d29-5206bb58ea4f",
   "metadata": {},
   "outputs": [
    {
     "data": {
      "text/plain": [
       "3"
      ]
     },
     "execution_count": 408,
     "metadata": {},
     "output_type": "execute_result"
    }
   ],
   "source": [
    "len([1, 2, 3])"
   ]
  },
  {
   "cell_type": "code",
   "execution_count": 414,
   "id": "2f48336f-0591-42ea-9884-34f5185070c1",
   "metadata": {},
   "outputs": [
    {
     "name": "stdout",
     "output_type": "stream",
     "text": [
      "Help on method_descriptor:\n",
      "\n",
      "sort(self, /, *, key=None, reverse=False)\n",
      "    Sort the list in ascending order and return None.\n",
      "    \n",
      "    The sort is in-place (i.e. the list itself is modified) and stable (i.e. the\n",
      "    order of two equal elements is maintained).\n",
      "    \n",
      "    If a key function is given, apply it once to each list item and sort them,\n",
      "    ascending or descending, according to their function values.\n",
      "    \n",
      "    The reverse flag can be set to sort in descending order.\n",
      "\n"
     ]
    }
   ],
   "source": [
    "help(list.sort)"
   ]
  },
  {
   "cell_type": "markdown",
   "id": "788fae32-9d2d-4036-8b2b-fd43bdd54670",
   "metadata": {},
   "source": [
    "## Quick Lab: Lists\n",
    "* Write a Python program to read in a list of items possibly containing duplicates, and then constructs a __new__ list containing the elements from the original list, in the order they were entered, but with duplicates only occurring ONCE in the new list, e.g.,\n",
    "<p/>\n",
    "<pre>\n",
    "Enter a list of items: <b>apple cherry banana apple lemon cherry lemon</b>\n",
    "apple cherry banana lemon"
   ]
  },
  {
   "cell_type": "code",
   "execution_count": null,
   "id": "dbf7a413-8639-45ce-9df9-ee1c57181179",
   "metadata": {},
   "outputs": [],
   "source": [
    "# 1. get a string and split into a list\n",
    "# 2. create a new list\n",
    "# 3. for each element in the original list:\n",
    "# 4.    if it's not in the new list, add it"
   ]
  },
  {
   "cell_type": "code",
   "execution_count": 1,
   "id": "b95376ad-7eba-4c7f-be93-df887f2e148d",
   "metadata": {},
   "outputs": [
    {
     "name": "stdin",
     "output_type": "stream",
     "text": [
      "Enter some words:  taylor swift travis kelce taylor swift banana taylor banana apple\n"
     ]
    }
   ],
   "source": [
    "words = input('Enter some words: ').lower().split() # 1 + lower()"
   ]
  },
  {
   "cell_type": "code",
   "execution_count": 9,
   "id": "82eeef13-a9c5-4146-827b-f89ad856469d",
   "metadata": {},
   "outputs": [
    {
     "name": "stdout",
     "output_type": "stream",
     "text": [
      "['taylor', 'swift', 'travis', 'kelce', 'taylor', 'swift', 'banana', 'taylor', 'banana', 'apple']\n"
     ]
    }
   ],
   "source": [
    "print(words)"
   ]
  },
  {
   "cell_type": "code",
   "execution_count": 11,
   "id": "20961853-60f6-44c1-8010-da7f6eb9aead",
   "metadata": {},
   "outputs": [],
   "source": [
    "new_words = [] # 2\n",
    "# or... new_words = list()"
   ]
  },
  {
   "cell_type": "code",
   "execution_count": 451,
   "id": "a6f8c131-ef0d-4ba0-a491-f3185799031a",
   "metadata": {},
   "outputs": [
    {
     "name": "stdout",
     "output_type": "stream",
     "text": [
      "duplicate word apple ignored\n",
      "duplicate word cherry ignored\n",
      "duplicate word lemon ignored\n"
     ]
    }
   ],
   "source": [
    "for word in words: # 3\n",
    "    if not word in new_words: # 4\n",
    "        new_words.append(word) # also 4\n",
    "    else:\n",
    "        print('duplicate word', word, 'ignored')"
   ]
  },
  {
   "cell_type": "code",
   "execution_count": 21,
   "id": "f39ae7c4-7299-420a-9389-7edaf946b8d3",
   "metadata": {},
   "outputs": [
    {
     "name": "stdin",
     "output_type": "stream",
     "text": [
      "Enter some words:  taylor swift travis kelce taylor swift banana taylor banana apple\n"
     ]
    },
    {
     "name": "stdout",
     "output_type": "stream",
     "text": [
      "duplicate word taylor ignored\n",
      "duplicate word swift ignored\n",
      "duplicate word taylor ignored\n",
      "duplicate word banana ignored\n",
      "['taylor', 'swift', 'travis', 'kelce', 'banana', 'apple']\n"
     ]
    }
   ],
   "source": [
    "words = input('Enter some words: ').lower().split() # 1 + lower()\n",
    "\n",
    "if words:\n",
    "    new_words = [] # 2\n",
    "\n",
    "    for word in words: # 3\n",
    "        if not word in new_words: # 4\n",
    "            new_words.append(word) # also 4\n",
    "        else:\n",
    "            print('duplicate word', word, 'ignored')\n",
    "\n",
    "    print(new_words)\n",
    "else:\n",
    "    print(\"You didn't enter any words!\")"
   ]
  },
  {
   "cell_type": "code",
   "execution_count": 447,
   "id": "3991b203-549c-49bb-9fb9-c8a2ec7c01d8",
   "metadata": {},
   "outputs": [
    {
     "data": {
      "text/plain": [
       "['apple', 'cherry', 'banana', 'lemon']"
      ]
     },
     "execution_count": 447,
     "metadata": {},
     "output_type": "execute_result"
    }
   ],
   "source": [
    "new_words"
   ]
  },
  {
   "cell_type": "code",
   "execution_count": 429,
   "id": "97167f0e-5d31-492c-bd06-f6aeef9ed1ec",
   "metadata": {},
   "outputs": [
    {
     "data": {
      "text/plain": [
       "True"
      ]
     },
     "execution_count": 429,
     "metadata": {},
     "output_type": "execute_result"
    }
   ],
   "source": [
    "'a' in 'Gap'"
   ]
  },
  {
   "cell_type": "code",
   "execution_count": 431,
   "id": "a1eae1b3-1e0e-4eef-a811-36b0cf3c95b6",
   "metadata": {},
   "outputs": [
    {
     "data": {
      "text/plain": [
       "True"
      ]
     },
     "execution_count": 431,
     "metadata": {},
     "output_type": "execute_result"
    }
   ],
   "source": [
    "'s' not in 'Gap'"
   ]
  },
  {
   "cell_type": "code",
   "execution_count": 433,
   "id": "783591ac-b1fa-40a1-9da7-27f6139e7f20",
   "metadata": {},
   "outputs": [
    {
     "data": {
      "text/plain": [
       "True"
      ]
     },
     "execution_count": 433,
     "metadata": {},
     "output_type": "execute_result"
    }
   ],
   "source": [
    "not 's' in 'Gap'"
   ]
  },
  {
   "cell_type": "markdown",
   "id": "82f92be3-9e45-4f07-9bd1-eeeebf6eed60",
   "metadata": {},
   "source": [
    "## Group Lab: Lists\n",
    "* Write a Python program to maintain a list \n",
    "  * Read input until the user enters 'quit'\n",
    "  * Words that the user enters should be added to the list\n",
    "  * If a word begins with '-' (e.g., '-foo') it should be removed from the list\n",
    "  * If the user enters only a '-', the list should be reversed\n",
    "  * After each operation, print the list\n",
    "  * Extras:\n",
    "      * If user enters more than one word (e.g, __foo bar__), add \"foo\" and \"bar\" to the list, rather than \"foo bar\"\n",
    "      * Same for \"-\", i.e., __-foo bar__ would remove \"foo\" and \"bar\" from the  list"
   ]
  },
  {
   "cell_type": "code",
   "execution_count": 473,
   "id": "a35cf52b-babf-41e2-8dfd-e4477be63df2",
   "metadata": {},
   "outputs": [
    {
     "name": "stdin",
     "output_type": "stream",
     "text": [
      "Enter:  apple\n"
     ]
    },
    {
     "name": "stdout",
     "output_type": "stream",
     "text": [
      "add to list apple\n"
     ]
    },
    {
     "name": "stdin",
     "output_type": "stream",
     "text": [
      "Enter:  fig\n"
     ]
    },
    {
     "name": "stdout",
     "output_type": "stream",
     "text": [
      "add to list fig\n"
     ]
    },
    {
     "name": "stdin",
     "output_type": "stream",
     "text": [
      "Enter:  pear\n"
     ]
    },
    {
     "name": "stdout",
     "output_type": "stream",
     "text": [
      "add to list pear\n"
     ]
    },
    {
     "name": "stdin",
     "output_type": "stream",
     "text": [
      "Enter:  quit\n"
     ]
    },
    {
     "name": "stdout",
     "output_type": "stream",
     "text": [
      "breaking\n"
     ]
    }
   ],
   "source": [
    "while True: # infinite loop, True is always True\n",
    "    response = input('Enter: ')\n",
    "    if response == 'quit': # 1 1/2 loop\n",
    "        print('breaking')\n",
    "        break\n",
    "    print('add to list', response)"
   ]
  },
  {
   "cell_type": "code",
   "execution_count": 39,
   "id": "2a184b8e-39da-4ade-9825-b2ef34168720",
   "metadata": {},
   "outputs": [
    {
     "name": "stdin",
     "output_type": "stream",
     "text": [
      "Enter:  \n"
     ]
    }
   ],
   "source": [
    "while (response := input('Enter: ').lower()) not in ['quit', 'stop', 'exit', '']: # \"walrus operator\" (assignment expression)\n",
    "    print('add to list', response)"
   ]
  },
  {
   "cell_type": "code",
   "execution_count": 477,
   "id": "9d4aa022-693a-4601-90f9-0218f495f7b0",
   "metadata": {},
   "outputs": [
    {
     "ename": "SyntaxError",
     "evalue": "invalid syntax (1333727072.py, line 1)",
     "output_type": "error",
     "traceback": [
      "\u001b[0;36m  Cell \u001b[0;32mIn[477], line 1\u001b[0;36m\u001b[0m\n\u001b[0;31m    number := 1\u001b[0m\n\u001b[0m           ^\u001b[0m\n\u001b[0;31mSyntaxError\u001b[0m\u001b[0;31m:\u001b[0m invalid syntax\n"
     ]
    }
   ],
   "source": [
    "number := 1"
   ]
  },
  {
   "cell_type": "code",
   "execution_count": 56,
   "id": "405c9446-5d9f-46ca-a95c-9e0e58cc3a42",
   "metadata": {},
   "outputs": [
    {
     "name": "stdin",
     "output_type": "stream",
     "text": [
      "Enter:  -\n"
     ]
    },
    {
     "name": "stdout",
     "output_type": "stream",
     "text": [
      " not in the list!\n",
      "[]\n"
     ]
    },
    {
     "name": "stdin",
     "output_type": "stream",
     "text": [
      "Enter:  exit\n"
     ]
    }
   ],
   "source": [
    "list_of_words = []\n",
    "\n",
    "while (response := input('Enter: ').lower()) not in ['quit', 'stop', 'exit']: # \"walrus operator\" (assignment expression)\n",
    "    if response[0] == '-': \n",
    "        if response[1:] in list_of_words:\n",
    "            list_of_words.remove(response[1:])\n",
    "        else:\n",
    "            print(response[1:], 'not in the list!')\n",
    "    else:\n",
    "        list_of_words.append(response)\n",
    "\n",
    "    print(list_of_words)"
   ]
  },
  {
   "cell_type": "code",
   "execution_count": null,
   "id": "2a75612c-1428-4ac8-925b-7a83e6ac4c39",
   "metadata": {},
   "outputs": [],
   "source": []
  },
  {
   "cell_type": "code",
   "execution_count": 89,
   "id": "f9c691eb-f1a3-47ab-97f1-1c1e9aa049a8",
   "metadata": {},
   "outputs": [
    {
     "name": "stdin",
     "output_type": "stream",
     "text": [
      "Enter:  apple\n"
     ]
    },
    {
     "name": "stdout",
     "output_type": "stream",
     "text": [
      "['apple']\n"
     ]
    },
    {
     "name": "stdin",
     "output_type": "stream",
     "text": [
      "Enter:  fig\n"
     ]
    },
    {
     "name": "stdout",
     "output_type": "stream",
     "text": [
      "['apple', 'fig']\n"
     ]
    },
    {
     "name": "stdin",
     "output_type": "stream",
     "text": [
      "Enter:  apple fig\n"
     ]
    },
    {
     "name": "stdout",
     "output_type": "stream",
     "text": [
      "['apple', 'fig', 'apple fig']\n"
     ]
    },
    {
     "name": "stdin",
     "output_type": "stream",
     "text": [
      "Enter:  quit\n"
     ]
    }
   ],
   "source": [
    "list_of_words = []\n",
    "\n",
    "while (response := input('Enter: ').lower()) not in ['quit', 'stop', 'exit']: # \"walrus operator\" (assignment expression)\n",
    "    if response == '': # they didn't enter anything\n",
    "        continue\n",
    "    if response[0] == '-': # we need to distinguish '-' from '-foo'\n",
    "        # at this point we need to know if it's a word or a command\n",
    "        if response == '-': # ok, so it's command, we need to reverse the list\n",
    "            list_of_words = list_of_words[::-1]\n",
    "            # list_of_words.reverse()\n",
    "        else:\n",
    "            if response[1:] in list_of_words:\n",
    "                list_of_words.remove(response[1:])\n",
    "            else:\n",
    "                print(response[1:], 'not in the list!')\n",
    "    else:\n",
    "        list_of_words.append(response)\n",
    "\n",
    "    print(list_of_words)"
   ]
  },
  {
   "cell_type": "code",
   "execution_count": 111,
   "id": "524d9420-b0c4-49fe-a1bf-fa66683262b3",
   "metadata": {},
   "outputs": [
    {
     "name": "stdin",
     "output_type": "stream",
     "text": [
      "Enter:  -\n"
     ]
    },
    {
     "name": "stdout",
     "output_type": "stream",
     "text": [
      "Can't reverse a list with fewer than 2 items!\n",
      "[]\n"
     ]
    },
    {
     "name": "stdin",
     "output_type": "stream",
     "text": [
      "Enter:  apple\n"
     ]
    },
    {
     "name": "stdout",
     "output_type": "stream",
     "text": [
      "['apple']\n"
     ]
    },
    {
     "name": "stdin",
     "output_type": "stream",
     "text": [
      "Enter:  -\n"
     ]
    },
    {
     "name": "stdout",
     "output_type": "stream",
     "text": [
      "Can't reverse a list with fewer than 2 items!\n",
      "['apple']\n"
     ]
    },
    {
     "name": "stdin",
     "output_type": "stream",
     "text": [
      "Enter:  fig\n"
     ]
    },
    {
     "name": "stdout",
     "output_type": "stream",
     "text": [
      "['apple', 'fig']\n"
     ]
    },
    {
     "name": "stdin",
     "output_type": "stream",
     "text": [
      "Enter:  -\n"
     ]
    },
    {
     "name": "stdout",
     "output_type": "stream",
     "text": [
      "['fig', 'apple']\n"
     ]
    },
    {
     "name": "stdin",
     "output_type": "stream",
     "text": [
      "Enter:  one two three\n"
     ]
    },
    {
     "name": "stdout",
     "output_type": "stream",
     "text": [
      "['fig', 'apple', 'one', 'two', 'three']\n"
     ]
    },
    {
     "name": "stdin",
     "output_type": "stream",
     "text": [
      "Enter:  quit\n"
     ]
    }
   ],
   "source": [
    "list_of_words = []\n",
    "\n",
    "while (response := input('Enter: ').lower()) not in ['quit', 'stop', 'exit']: # \"walrus operator\" (assignment expression)\n",
    "    if response == '': # they didn't enter anything\n",
    "        continue\n",
    "    if response[0] == '-': # we need to distinguish '-' from '-foo'\n",
    "        # at this point we need to know if it's a word or a command\n",
    "        if response == '-': # ok, so it's command, we need to reverse the list\n",
    "            if len(list_of_words) < 2:\n",
    "                print(\"Can't reverse a list with fewer than 2 items!\")\n",
    "            else:\n",
    "                list_of_words = list_of_words[::-1]\n",
    "            # list_of_words.reverse()\n",
    "        else:\n",
    "            for word in response[1:].split():\n",
    "                if word in list_of_words:\n",
    "                    list_of_words.remove(word)\n",
    "                else:\n",
    "                    print(word, 'not in the list!')\n",
    "    else:\n",
    "        list_of_words += response.split() # we're appending a string with spaces in here and we don't want that\n",
    "\n",
    "    print(list_of_words)"
   ]
  },
  {
   "cell_type": "code",
   "execution_count": 63,
   "id": "12ae6379-9895-4a47-97c9-282436e1abdb",
   "metadata": {},
   "outputs": [
    {
     "data": {
      "text/plain": [
       "''"
      ]
     },
     "execution_count": 63,
     "metadata": {},
     "output_type": "execute_result"
    }
   ],
   "source": [
    "''.lower()"
   ]
  },
  {
   "cell_type": "code",
   "execution_count": 65,
   "id": "6dc91f4c-7724-47c4-b451-1002cb10bfc2",
   "metadata": {},
   "outputs": [],
   "source": [
    "empty = ''"
   ]
  },
  {
   "cell_type": "code",
   "execution_count": 67,
   "id": "7ee6e189-73e5-4f04-a89f-a8ad9dded48b",
   "metadata": {},
   "outputs": [
    {
     "data": {
      "text/plain": [
       "0"
      ]
     },
     "execution_count": 67,
     "metadata": {},
     "output_type": "execute_result"
    }
   ],
   "source": [
    "len(empty)"
   ]
  },
  {
   "cell_type": "code",
   "execution_count": 69,
   "id": "4f4dc912-237b-4c09-add6-c1a1c0201878",
   "metadata": {},
   "outputs": [
    {
     "ename": "IndexError",
     "evalue": "string index out of range",
     "output_type": "error",
     "traceback": [
      "\u001b[0;31m---------------------------------------------------------------------------\u001b[0m",
      "\u001b[0;31mIndexError\u001b[0m                                Traceback (most recent call last)",
      "Cell \u001b[0;32mIn[69], line 1\u001b[0m\n\u001b[0;32m----> 1\u001b[0m empty[\u001b[38;5;241m0\u001b[39m]\n",
      "\u001b[0;31mIndexError\u001b[0m: string index out of range"
     ]
    }
   ],
   "source": [
    "empty[0]"
   ]
  },
  {
   "cell_type": "code",
   "execution_count": 97,
   "id": "f0884a44-0848-4cdb-b3e9-c60509763b4b",
   "metadata": {},
   "outputs": [
    {
     "data": {
      "text/plain": [
       "['apple']"
      ]
     },
     "execution_count": 97,
     "metadata": {},
     "output_type": "execute_result"
    }
   ],
   "source": [
    "'apple'.split()"
   ]
  },
  {
   "cell_type": "code",
   "execution_count": 93,
   "id": "7545a002-336f-4a53-8af5-327701ec86eb",
   "metadata": {},
   "outputs": [
    {
     "data": {
      "text/plain": [
       "['a', 'p', 'p', 'l', 'e']"
      ]
     },
     "execution_count": 93,
     "metadata": {},
     "output_type": "execute_result"
    }
   ],
   "source": [
    "list('apple')"
   ]
  },
  {
   "cell_type": "code",
   "execution_count": 113,
   "id": "692ec70a-72f6-4d5f-8b42-98ed814db0b0",
   "metadata": {},
   "outputs": [
    {
     "data": {
      "text/plain": [
       "['fig', 'apple', 'one', 'two', 'three']"
      ]
     },
     "execution_count": 113,
     "metadata": {},
     "output_type": "execute_result"
    }
   ],
   "source": [
    "list_of_words"
   ]
  },
  {
   "cell_type": "code",
   "execution_count": 121,
   "id": "c20e063c-d92b-44f5-9a71-361855b7ff5f",
   "metadata": {},
   "outputs": [
    {
     "name": "stdout",
     "output_type": "stream",
     "text": [
      "fig, apple, one, two, three\n"
     ]
    }
   ],
   "source": [
    "print(', '.join(list_of_words))"
   ]
  },
  {
   "cell_type": "code",
   "execution_count": 123,
   "id": "de103328-cec5-43e3-bd5f-681b177b5003",
   "metadata": {},
   "outputs": [
    {
     "name": "stdout",
     "output_type": "stream",
     "text": [
      "['fig', 'apple', 'one', 'two', 'three']\n"
     ]
    }
   ],
   "source": [
    "print(list_of_words)"
   ]
  },
  {
   "cell_type": "code",
   "execution_count": 127,
   "id": "e5560391-e722-4b90-9910-81fa143b3d4e",
   "metadata": {},
   "outputs": [
    {
     "name": "stdout",
     "output_type": "stream",
     "text": [
      "fig, apple, one\n"
     ]
    }
   ],
   "source": [
    "print(list_of_words[0], list_of_words[1], list_of_words[2], sep=', ')"
   ]
  },
  {
   "cell_type": "code",
   "execution_count": 131,
   "id": "fe717cf9-e0ce-48ea-866d-8699bcdd2442",
   "metadata": {},
   "outputs": [
    {
     "name": "stdout",
     "output_type": "stream",
     "text": [
      "fig, apple, one, two, three\n"
     ]
    }
   ],
   "source": [
    "print(*list_of_words, sep=', ')"
   ]
  },
  {
   "cell_type": "code",
   "execution_count": 148,
   "id": "3a791e7f-8dd2-4cc8-b913-b1f249a773de",
   "metadata": {},
   "outputs": [],
   "source": [
    "holly = '\"this\", \"that\", \"other\"'"
   ]
  },
  {
   "cell_type": "code",
   "execution_count": 150,
   "id": "00443648-511e-4654-a77a-00da49cd13a8",
   "metadata": {},
   "outputs": [
    {
     "name": "stdout",
     "output_type": "stream",
     "text": [
      "\"this\", \"that\", \"other\"\n"
     ]
    }
   ],
   "source": [
    "print(holly)"
   ]
  },
  {
   "cell_type": "code",
   "execution_count": 154,
   "id": "03969518-5bf6-4383-9c3a-34e91e63f0cc",
   "metadata": {},
   "outputs": [
    {
     "data": {
      "text/plain": [
       "'this\", \"that\", \"other'"
      ]
     },
     "execution_count": 154,
     "metadata": {},
     "output_type": "execute_result"
    }
   ],
   "source": [
    "holly.strip('\"') #split('\", \"')."
   ]
  },
  {
   "cell_type": "code",
   "execution_count": 156,
   "id": "a424df15-1176-4b4a-a854-f57345739c49",
   "metadata": {},
   "outputs": [
    {
     "data": {
      "text/plain": [
       "['this', 'that', 'other']"
      ]
     },
     "execution_count": 156,
     "metadata": {},
     "output_type": "execute_result"
    }
   ],
   "source": [
    "holly.strip('\"').split('\", \"')"
   ]
  },
  {
   "cell_type": "code",
   "execution_count": 146,
   "id": "95fed4e6-a901-4d24-a2fe-149fb222d42e",
   "metadata": {},
   "outputs": [
    {
     "data": {
      "text/plain": [
       "['this', 'that', 'other']"
      ]
     },
     "execution_count": 146,
     "metadata": {},
     "output_type": "execute_result"
    }
   ],
   "source": [
    "holly.replace('\"', '').split(', ')"
   ]
  },
  {
   "cell_type": "code",
   "execution_count": 164,
   "id": "de164416-4212-4982-a1a8-0256b8a46243",
   "metadata": {},
   "outputs": [
    {
     "data": {
      "text/plain": [
       "['fig', 'apple', 'one', 'two', 'three']"
      ]
     },
     "execution_count": 164,
     "metadata": {},
     "output_type": "execute_result"
    }
   ],
   "source": [
    "list_of_words"
   ]
  },
  {
   "cell_type": "code",
   "execution_count": 166,
   "id": "cfbce902-536f-498a-ab99-c1cc18ba04d8",
   "metadata": {},
   "outputs": [
    {
     "name": "stdout",
     "output_type": "stream",
     "text": [
      "fig\n",
      "apple\n",
      "one\n",
      "two\n",
      "three\n"
     ]
    }
   ],
   "source": [
    "# with a \"for thing in container\" loop, there is no notion of index\n",
    "for word in list_of_words:\n",
    "    print(word)"
   ]
  },
  {
   "cell_type": "code",
   "execution_count": 190,
   "id": "9262cfcd-e3f9-4b61-9354-5d4b9e4b33eb",
   "metadata": {},
   "outputs": [],
   "source": [
    "r = enumerate(list_of_words)"
   ]
  },
  {
   "cell_type": "code",
   "execution_count": 175,
   "id": "76ad980c-27f8-4608-b1c3-92dacad705a6",
   "metadata": {},
   "outputs": [
    {
     "data": {
      "text/plain": [
       "<enumerate at 0x7ff1d77151c0>"
      ]
     },
     "execution_count": 175,
     "metadata": {},
     "output_type": "execute_result"
    }
   ],
   "source": [
    "r"
   ]
  },
  {
   "cell_type": "code",
   "execution_count": 178,
   "id": "5857145a-9c9d-4edc-a139-3f90f111fcc6",
   "metadata": {},
   "outputs": [
    {
     "data": {
      "text/plain": [
       "enumerate"
      ]
     },
     "execution_count": 178,
     "metadata": {},
     "output_type": "execute_result"
    }
   ],
   "source": [
    "type(r)"
   ]
  },
  {
   "cell_type": "code",
   "execution_count": 180,
   "id": "230c4966-8d3b-4c5e-82b3-be3e76d36175",
   "metadata": {},
   "outputs": [
    {
     "data": {
      "text/plain": [
       "140676678373824"
      ]
     },
     "execution_count": 180,
     "metadata": {},
     "output_type": "execute_result"
    }
   ],
   "source": [
    "id(r)"
   ]
  },
  {
   "cell_type": "code",
   "execution_count": 182,
   "id": "12948f06-f6d1-4910-bd50-5773a31240bd",
   "metadata": {},
   "outputs": [
    {
     "name": "stdout",
     "output_type": "stream",
     "text": [
      "(0, 'fig')\n",
      "(1, 'apple')\n",
      "(2, 'one')\n",
      "(3, 'two')\n",
      "(4, 'three')\n"
     ]
    }
   ],
   "source": [
    "for thing in r:\n",
    "    print(thing)"
   ]
  },
  {
   "cell_type": "code",
   "execution_count": 192,
   "id": "3d388da0-08f7-41db-8269-9f76bac94d84",
   "metadata": {},
   "outputs": [
    {
     "name": "stdout",
     "output_type": "stream",
     "text": [
      "0 fig\n",
      "1 apple\n",
      "2 one\n",
      "3 two\n",
      "4 three\n"
     ]
    }
   ],
   "source": [
    "for index, thing in r:\n",
    "    print(index, thing)"
   ]
  },
  {
   "cell_type": "code",
   "execution_count": 196,
   "id": "00292f5f-1917-4612-93eb-0df402f6f9b1",
   "metadata": {},
   "outputs": [
    {
     "data": {
      "text/plain": [
       "140676675210304"
      ]
     },
     "execution_count": 196,
     "metadata": {},
     "output_type": "execute_result"
    }
   ],
   "source": [
    "id(list_of_words)"
   ]
  },
  {
   "cell_type": "code",
   "execution_count": 198,
   "id": "9a765976-385f-499f-ab11-51324d32dea2",
   "metadata": {},
   "outputs": [],
   "source": [
    "import math"
   ]
  },
  {
   "cell_type": "code",
   "execution_count": 200,
   "id": "cb8a473a-40ee-4266-9fc9-3b26db70a63a",
   "metadata": {},
   "outputs": [
    {
     "data": {
      "text/plain": [
       "140678056186864"
      ]
     },
     "execution_count": 200,
     "metadata": {},
     "output_type": "execute_result"
    }
   ],
   "source": [
    "id(math)"
   ]
  },
  {
   "cell_type": "code",
   "execution_count": 202,
   "id": "24a9baa0-91ab-453d-a1db-ed024cb70191",
   "metadata": {},
   "outputs": [
    {
     "data": {
      "text/plain": [
       "8863200"
      ]
     },
     "execution_count": 202,
     "metadata": {},
     "output_type": "execute_result"
    }
   ],
   "source": [
    "id(enumerate)"
   ]
  },
  {
   "cell_type": "code",
   "execution_count": 205,
   "id": "4611025b-c610-4f43-ba68-dc6052ad69e8",
   "metadata": {},
   "outputs": [],
   "source": [
    "import math"
   ]
  },
  {
   "cell_type": "code",
   "execution_count": 207,
   "id": "256fddf9-c7d7-4752-b975-6f99273c18d9",
   "metadata": {},
   "outputs": [
    {
     "data": {
      "text/plain": [
       "['__doc__',\n",
       " '__file__',\n",
       " '__loader__',\n",
       " '__name__',\n",
       " '__package__',\n",
       " '__spec__',\n",
       " 'acos',\n",
       " 'acosh',\n",
       " 'asin',\n",
       " 'asinh',\n",
       " 'atan',\n",
       " 'atan2',\n",
       " 'atanh',\n",
       " 'cbrt',\n",
       " 'ceil',\n",
       " 'comb',\n",
       " 'copysign',\n",
       " 'cos',\n",
       " 'cosh',\n",
       " 'degrees',\n",
       " 'dist',\n",
       " 'e',\n",
       " 'erf',\n",
       " 'erfc',\n",
       " 'exp',\n",
       " 'exp2',\n",
       " 'expm1',\n",
       " 'fabs',\n",
       " 'factorial',\n",
       " 'floor',\n",
       " 'fmod',\n",
       " 'frexp',\n",
       " 'fsum',\n",
       " 'gamma',\n",
       " 'gcd',\n",
       " 'hypot',\n",
       " 'inf',\n",
       " 'isclose',\n",
       " 'isfinite',\n",
       " 'isinf',\n",
       " 'isnan',\n",
       " 'isqrt',\n",
       " 'lcm',\n",
       " 'ldexp',\n",
       " 'lgamma',\n",
       " 'log',\n",
       " 'log10',\n",
       " 'log1p',\n",
       " 'log2',\n",
       " 'modf',\n",
       " 'nan',\n",
       " 'nextafter',\n",
       " 'perm',\n",
       " 'pi',\n",
       " 'pow',\n",
       " 'prod',\n",
       " 'radians',\n",
       " 'remainder',\n",
       " 'sin',\n",
       " 'sinh',\n",
       " 'sqrt',\n",
       " 'tan',\n",
       " 'tanh',\n",
       " 'tau',\n",
       " 'trunc',\n",
       " 'ulp']"
      ]
     },
     "execution_count": 207,
     "metadata": {},
     "output_type": "execute_result"
    }
   ],
   "source": [
    "dir(math)"
   ]
  },
  {
   "cell_type": "code",
   "execution_count": 209,
   "id": "90a4b639-dd3e-42b1-9d28-4678f245e81c",
   "metadata": {},
   "outputs": [
    {
     "data": {
      "text/plain": [
       "['In',\n",
       " 'Out',\n",
       " '_',\n",
       " '_10',\n",
       " '_100',\n",
       " '_102',\n",
       " '_104',\n",
       " '_106',\n",
       " '_108',\n",
       " '_110',\n",
       " '_112',\n",
       " '_113',\n",
       " '_114',\n",
       " '_115',\n",
       " '_116',\n",
       " '_118',\n",
       " '_12',\n",
       " '_120',\n",
       " '_122',\n",
       " '_124',\n",
       " '_126',\n",
       " '_128',\n",
       " '_130',\n",
       " '_132',\n",
       " '_133',\n",
       " '_135',\n",
       " '_137',\n",
       " '_139',\n",
       " '_14',\n",
       " '_140',\n",
       " '_141',\n",
       " '_142',\n",
       " '_143',\n",
       " '_144',\n",
       " '_145',\n",
       " '_146',\n",
       " '_147',\n",
       " '_149',\n",
       " '_151',\n",
       " '_153',\n",
       " '_154',\n",
       " '_155',\n",
       " '_156',\n",
       " '_157',\n",
       " '_158',\n",
       " '_159',\n",
       " '_16',\n",
       " '_160',\n",
       " '_161',\n",
       " '_162',\n",
       " '_163',\n",
       " '_164',\n",
       " '_165',\n",
       " '_167',\n",
       " '_168',\n",
       " '_170',\n",
       " '_172',\n",
       " '_174',\n",
       " '_175',\n",
       " '_176',\n",
       " '_177',\n",
       " '_178',\n",
       " '_179',\n",
       " '_18',\n",
       " '_180',\n",
       " '_181',\n",
       " '_183',\n",
       " '_185',\n",
       " '_187',\n",
       " '_189',\n",
       " '_191',\n",
       " '_193',\n",
       " '_194',\n",
       " '_195',\n",
       " '_196',\n",
       " '_197',\n",
       " '_199',\n",
       " '_2',\n",
       " '_20',\n",
       " '_200',\n",
       " '_201',\n",
       " '_202',\n",
       " '_203',\n",
       " '_204',\n",
       " '_206',\n",
       " '_207',\n",
       " '_208',\n",
       " '_22',\n",
       " '_24',\n",
       " '_26',\n",
       " '_28',\n",
       " '_3',\n",
       " '_30',\n",
       " '_32',\n",
       " '_34',\n",
       " '_36',\n",
       " '_38',\n",
       " '_4',\n",
       " '_40',\n",
       " '_42',\n",
       " '_43',\n",
       " '_45',\n",
       " '_47',\n",
       " '_49',\n",
       " '_51',\n",
       " '_53',\n",
       " '_54',\n",
       " '_55',\n",
       " '_57',\n",
       " '_58',\n",
       " '_59',\n",
       " '_6',\n",
       " '_60',\n",
       " '_62',\n",
       " '_63',\n",
       " '_64',\n",
       " '_66',\n",
       " '_67',\n",
       " '_68',\n",
       " '_7',\n",
       " '_70',\n",
       " '_71',\n",
       " '_72',\n",
       " '_73',\n",
       " '_74',\n",
       " '_75',\n",
       " '_76',\n",
       " '_78',\n",
       " '_8',\n",
       " '_80',\n",
       " '_82',\n",
       " '_84',\n",
       " '_86',\n",
       " '_88',\n",
       " '_90',\n",
       " '_91',\n",
       " '_92',\n",
       " '_93',\n",
       " '_94',\n",
       " '_95',\n",
       " '_96',\n",
       " '_97',\n",
       " '_98',\n",
       " '__',\n",
       " '___',\n",
       " '__builtin__',\n",
       " '__builtins__',\n",
       " '__doc__',\n",
       " '__loader__',\n",
       " '__name__',\n",
       " '__package__',\n",
       " '__pandas',\n",
       " '__session__',\n",
       " '__spec__',\n",
       " '_dh',\n",
       " '_i',\n",
       " '_i1',\n",
       " '_i10',\n",
       " '_i100',\n",
       " '_i101',\n",
       " '_i102',\n",
       " '_i103',\n",
       " '_i104',\n",
       " '_i105',\n",
       " '_i106',\n",
       " '_i107',\n",
       " '_i108',\n",
       " '_i109',\n",
       " '_i11',\n",
       " '_i110',\n",
       " '_i111',\n",
       " '_i112',\n",
       " '_i113',\n",
       " '_i114',\n",
       " '_i115',\n",
       " '_i116',\n",
       " '_i117',\n",
       " '_i118',\n",
       " '_i119',\n",
       " '_i12',\n",
       " '_i120',\n",
       " '_i121',\n",
       " '_i122',\n",
       " '_i123',\n",
       " '_i124',\n",
       " '_i125',\n",
       " '_i126',\n",
       " '_i127',\n",
       " '_i128',\n",
       " '_i129',\n",
       " '_i13',\n",
       " '_i130',\n",
       " '_i131',\n",
       " '_i132',\n",
       " '_i133',\n",
       " '_i134',\n",
       " '_i135',\n",
       " '_i136',\n",
       " '_i137',\n",
       " '_i138',\n",
       " '_i139',\n",
       " '_i14',\n",
       " '_i140',\n",
       " '_i141',\n",
       " '_i142',\n",
       " '_i143',\n",
       " '_i144',\n",
       " '_i145',\n",
       " '_i146',\n",
       " '_i147',\n",
       " '_i148',\n",
       " '_i149',\n",
       " '_i15',\n",
       " '_i150',\n",
       " '_i151',\n",
       " '_i152',\n",
       " '_i153',\n",
       " '_i154',\n",
       " '_i155',\n",
       " '_i156',\n",
       " '_i157',\n",
       " '_i158',\n",
       " '_i159',\n",
       " '_i16',\n",
       " '_i160',\n",
       " '_i161',\n",
       " '_i162',\n",
       " '_i163',\n",
       " '_i164',\n",
       " '_i165',\n",
       " '_i166',\n",
       " '_i167',\n",
       " '_i168',\n",
       " '_i169',\n",
       " '_i17',\n",
       " '_i170',\n",
       " '_i171',\n",
       " '_i172',\n",
       " '_i173',\n",
       " '_i174',\n",
       " '_i175',\n",
       " '_i176',\n",
       " '_i177',\n",
       " '_i178',\n",
       " '_i179',\n",
       " '_i18',\n",
       " '_i180',\n",
       " '_i181',\n",
       " '_i182',\n",
       " '_i183',\n",
       " '_i184',\n",
       " '_i185',\n",
       " '_i186',\n",
       " '_i187',\n",
       " '_i188',\n",
       " '_i189',\n",
       " '_i19',\n",
       " '_i190',\n",
       " '_i191',\n",
       " '_i192',\n",
       " '_i193',\n",
       " '_i194',\n",
       " '_i195',\n",
       " '_i196',\n",
       " '_i197',\n",
       " '_i198',\n",
       " '_i199',\n",
       " '_i2',\n",
       " '_i20',\n",
       " '_i200',\n",
       " '_i201',\n",
       " '_i202',\n",
       " '_i203',\n",
       " '_i204',\n",
       " '_i205',\n",
       " '_i206',\n",
       " '_i207',\n",
       " '_i208',\n",
       " '_i209',\n",
       " '_i21',\n",
       " '_i22',\n",
       " '_i23',\n",
       " '_i24',\n",
       " '_i25',\n",
       " '_i26',\n",
       " '_i27',\n",
       " '_i28',\n",
       " '_i29',\n",
       " '_i3',\n",
       " '_i30',\n",
       " '_i31',\n",
       " '_i32',\n",
       " '_i33',\n",
       " '_i34',\n",
       " '_i35',\n",
       " '_i36',\n",
       " '_i37',\n",
       " '_i38',\n",
       " '_i39',\n",
       " '_i4',\n",
       " '_i40',\n",
       " '_i41',\n",
       " '_i42',\n",
       " '_i43',\n",
       " '_i44',\n",
       " '_i45',\n",
       " '_i46',\n",
       " '_i47',\n",
       " '_i48',\n",
       " '_i49',\n",
       " '_i5',\n",
       " '_i50',\n",
       " '_i51',\n",
       " '_i52',\n",
       " '_i53',\n",
       " '_i54',\n",
       " '_i55',\n",
       " '_i56',\n",
       " '_i57',\n",
       " '_i58',\n",
       " '_i59',\n",
       " '_i6',\n",
       " '_i60',\n",
       " '_i61',\n",
       " '_i62',\n",
       " '_i63',\n",
       " '_i64',\n",
       " '_i65',\n",
       " '_i66',\n",
       " '_i67',\n",
       " '_i68',\n",
       " '_i69',\n",
       " '_i7',\n",
       " '_i70',\n",
       " '_i71',\n",
       " '_i72',\n",
       " '_i73',\n",
       " '_i74',\n",
       " '_i75',\n",
       " '_i76',\n",
       " '_i77',\n",
       " '_i78',\n",
       " '_i79',\n",
       " '_i8',\n",
       " '_i80',\n",
       " '_i81',\n",
       " '_i82',\n",
       " '_i83',\n",
       " '_i84',\n",
       " '_i85',\n",
       " '_i86',\n",
       " '_i87',\n",
       " '_i88',\n",
       " '_i89',\n",
       " '_i9',\n",
       " '_i90',\n",
       " '_i91',\n",
       " '_i92',\n",
       " '_i93',\n",
       " '_i94',\n",
       " '_i95',\n",
       " '_i96',\n",
       " '_i97',\n",
       " '_i98',\n",
       " '_i99',\n",
       " '_ih',\n",
       " '_ii',\n",
       " '_iii',\n",
       " '_oh',\n",
       " 'dataframe_columns',\n",
       " 'dataframe_hash',\n",
       " 'dtypes_str',\n",
       " 'empty',\n",
       " 'exit',\n",
       " 'get_dataframes',\n",
       " 'get_ipython',\n",
       " 'getpass',\n",
       " 'hashlib',\n",
       " 'holly',\n",
       " 'import_pandas_safely',\n",
       " 'index',\n",
       " 'is_data_frame',\n",
       " 'json',\n",
       " 'list_of_words',\n",
       " 'math',\n",
       " 'new_words',\n",
       " 'open',\n",
       " 'os',\n",
       " 'quit',\n",
       " 'r',\n",
       " 'readline',\n",
       " 'response',\n",
       " 'rlcompleter',\n",
       " 'thing',\n",
       " 'word',\n",
       " 'words']"
      ]
     },
     "execution_count": 209,
     "metadata": {},
     "output_type": "execute_result"
    }
   ],
   "source": [
    "dir()"
   ]
  },
  {
   "cell_type": "code",
   "execution_count": null,
   "id": "28b80487-b9b9-496e-9dbc-639f51a8edff",
   "metadata": {},
   "outputs": [],
   "source": [
    "first_names = ['Katherine', 'Bruce', 'Taylor']\n",
    "last_names = ['Johnson', 'Lee', 'Swift', 'Frost']\n",
    "\n",
    "for first, last in zip(first_names, last_names, fillvalue='***'):\n",
    "    print(first, last)"
   ]
  },
  {
   "cell_type": "code",
   "execution_count": 213,
   "id": "949a4689-d4fc-4b1c-811e-2b17ea019ccb",
   "metadata": {},
   "outputs": [
    {
     "data": {
      "text/plain": [
       "'3.11.5 (main, Sep 11 2023, 13:54:46) [GCC 11.2.0]'"
      ]
     },
     "execution_count": 213,
     "metadata": {},
     "output_type": "execute_result"
    }
   ],
   "source": [
    "import sys\n",
    "sys.version"
   ]
  },
  {
   "cell_type": "code",
   "execution_count": 223,
   "id": "222c3cac-1a48-4c2b-976c-faac876c5079",
   "metadata": {},
   "outputs": [
    {
     "name": "stdout",
     "output_type": "stream",
     "text": [
      "Katherine Johnson\n",
      "Bruce Lee\n",
      "Taylor Swift\n"
     ]
    },
    {
     "ename": "ValueError",
     "evalue": "zip() argument 2 is shorter than argument 1",
     "output_type": "error",
     "traceback": [
      "\u001b[0;31m---------------------------------------------------------------------------\u001b[0m",
      "\u001b[0;31mValueError\u001b[0m                                Traceback (most recent call last)",
      "Cell \u001b[0;32mIn[223], line 4\u001b[0m\n\u001b[1;32m      1\u001b[0m first_names \u001b[38;5;241m=\u001b[39m [\u001b[38;5;124m'\u001b[39m\u001b[38;5;124mKatherine\u001b[39m\u001b[38;5;124m'\u001b[39m, \u001b[38;5;124m'\u001b[39m\u001b[38;5;124mBruce\u001b[39m\u001b[38;5;124m'\u001b[39m, \u001b[38;5;124m'\u001b[39m\u001b[38;5;124mTaylor\u001b[39m\u001b[38;5;124m'\u001b[39m]\n\u001b[1;32m      2\u001b[0m last_names \u001b[38;5;241m=\u001b[39m [\u001b[38;5;124m'\u001b[39m\u001b[38;5;124mJohnson\u001b[39m\u001b[38;5;124m'\u001b[39m, \u001b[38;5;124m'\u001b[39m\u001b[38;5;124mLee\u001b[39m\u001b[38;5;124m'\u001b[39m, \u001b[38;5;124m'\u001b[39m\u001b[38;5;124mSwift\u001b[39m\u001b[38;5;124m'\u001b[39m, \u001b[38;5;124m'\u001b[39m\u001b[38;5;124mFrost\u001b[39m\u001b[38;5;124m'\u001b[39m]\n\u001b[0;32m----> 4\u001b[0m \u001b[38;5;28;01mfor\u001b[39;00m last, first \u001b[38;5;129;01min\u001b[39;00m \u001b[38;5;28mzip\u001b[39m(last_names, first_names, strict\u001b[38;5;241m=\u001b[39m\u001b[38;5;28;01mTrue\u001b[39;00m):\n\u001b[1;32m      5\u001b[0m     \u001b[38;5;28mprint\u001b[39m(first, last)\n",
      "\u001b[0;31mValueError\u001b[0m: zip() argument 2 is shorter than argument 1"
     ]
    }
   ],
   "source": [
    "first_names = ['Katherine', 'Bruce', 'Taylor']\n",
    "last_names = ['Johnson', 'Lee', 'Swift', 'Frost']\n",
    "\n",
    "for last, first in zip(last_names, first_names, strict=True):\n",
    "    print(first, last)"
   ]
  },
  {
   "cell_type": "code",
   "execution_count": 229,
   "id": "1b700c36-1b95-43e8-b9ba-647b17f8d472",
   "metadata": {},
   "outputs": [
    {
     "name": "stdout",
     "output_type": "stream",
     "text": [
      "error...\n"
     ]
    }
   ],
   "source": [
    "# what if we didn't have 'strict' argument?\n",
    "first_names = ['Katherine', 'Bruce', 'Taylor']\n",
    "last_names = ['Johnson', 'Lee', 'Swift', 'Frost']\n",
    "\n",
    "if len(first_names) == len(last_names):\n",
    "    for last, first in zip(last_names, first_names):\n",
    "        print(first, last)\n",
    "else:\n",
    "    print('error...')"
   ]
  },
  {
   "cell_type": "code",
   "execution_count": 235,
   "id": "d511a47a-4136-4131-b4aa-633bbee16762",
   "metadata": {},
   "outputs": [
    {
     "ename": "AssertionError",
     "evalue": "Iterables must be same length!",
     "output_type": "error",
     "traceback": [
      "\u001b[0;31m---------------------------------------------------------------------------\u001b[0m",
      "\u001b[0;31mAssertionError\u001b[0m                            Traceback (most recent call last)",
      "Cell \u001b[0;32mIn[235], line 5\u001b[0m\n\u001b[1;32m      2\u001b[0m first_names \u001b[38;5;241m=\u001b[39m [\u001b[38;5;124m'\u001b[39m\u001b[38;5;124mKatherine\u001b[39m\u001b[38;5;124m'\u001b[39m, \u001b[38;5;124m'\u001b[39m\u001b[38;5;124mBruce\u001b[39m\u001b[38;5;124m'\u001b[39m, \u001b[38;5;124m'\u001b[39m\u001b[38;5;124mTaylor\u001b[39m\u001b[38;5;124m'\u001b[39m]\n\u001b[1;32m      3\u001b[0m last_names \u001b[38;5;241m=\u001b[39m [\u001b[38;5;124m'\u001b[39m\u001b[38;5;124mJohnson\u001b[39m\u001b[38;5;124m'\u001b[39m, \u001b[38;5;124m'\u001b[39m\u001b[38;5;124mLee\u001b[39m\u001b[38;5;124m'\u001b[39m, \u001b[38;5;124m'\u001b[39m\u001b[38;5;124mSwift\u001b[39m\u001b[38;5;124m'\u001b[39m, \u001b[38;5;124m'\u001b[39m\u001b[38;5;124mFrost\u001b[39m\u001b[38;5;124m'\u001b[39m]\n\u001b[0;32m----> 5\u001b[0m \u001b[38;5;28;01massert\u001b[39;00m \u001b[38;5;28mlen\u001b[39m(first_names) \u001b[38;5;241m==\u001b[39m \u001b[38;5;28mlen\u001b[39m(last_names), \u001b[38;5;124m\"\u001b[39m\u001b[38;5;124mIterables must be same length!\u001b[39m\u001b[38;5;124m\"\u001b[39m\n\u001b[1;32m      7\u001b[0m \u001b[38;5;28;01mfor\u001b[39;00m last, first \u001b[38;5;129;01min\u001b[39;00m \u001b[38;5;28mzip\u001b[39m(last_names, first_names):\n\u001b[1;32m      8\u001b[0m     \u001b[38;5;28mprint\u001b[39m(first, last)\n",
      "\u001b[0;31mAssertionError\u001b[0m: Iterables must be same length!"
     ]
    }
   ],
   "source": [
    "# what if we didn't have 'strict' argument?\n",
    "first_names = ['Katherine', 'Bruce', 'Taylor']\n",
    "last_names = ['Johnson', 'Lee', 'Swift', 'Frost']\n",
    "\n",
    "assert len(first_names) == len(last_names), \"Iterables must be same length!\"\n",
    "\n",
    "for last, first in zip(last_names, first_names):\n",
    "    print(first, last)\n"
   ]
  },
  {
   "cell_type": "code",
   "execution_count": 243,
   "id": "0e5ea003-ffe7-4684-a2d3-4e0ef6ee259b",
   "metadata": {},
   "outputs": [],
   "source": [
    "sentence = 'Hi Hamlet, how are you?'"
   ]
  },
  {
   "cell_type": "code",
   "execution_count": 245,
   "id": "58cd9312-1353-443b-83bd-bca0f91d33fb",
   "metadata": {},
   "outputs": [
    {
     "data": {
      "text/plain": [
       "['Hi', 'Hamlet,', 'how', 'are', 'you?']"
      ]
     },
     "execution_count": 245,
     "metadata": {},
     "output_type": "execute_result"
    }
   ],
   "source": [
    "sentence.split()"
   ]
  },
  {
   "cell_type": "code",
   "execution_count": 250,
   "id": "166bed4b-6f24-4628-8a75-7ae3ade843c9",
   "metadata": {},
   "outputs": [],
   "source": [
    "# we want to get rid of punctuation\n",
    "new_sentence = [char for char in sentence\n",
    "                        if char not in ',?']"
   ]
  },
  {
   "cell_type": "code",
   "execution_count": 252,
   "id": "28f4c517-c7c6-4adf-bf5b-e085bd65041a",
   "metadata": {},
   "outputs": [
    {
     "name": "stdout",
     "output_type": "stream",
     "text": [
      "['H', 'i', ' ', 'H', 'a', 'm', 'l', 'e', 't', ' ', 'h', 'o', 'w', ' ', 'a', 'r', 'e', ' ', 'y', 'o', 'u']\n"
     ]
    }
   ],
   "source": [
    "print(new_sentence)"
   ]
  },
  {
   "cell_type": "code",
   "execution_count": 254,
   "id": "4b332ab6-79f1-4862-941a-1ace364b691f",
   "metadata": {},
   "outputs": [
    {
     "data": {
      "text/plain": [
       "'Hi Hamlet how are you'"
      ]
     },
     "execution_count": 254,
     "metadata": {},
     "output_type": "execute_result"
    }
   ],
   "source": [
    "''.join(new_sentence)"
   ]
  },
  {
   "cell_type": "code",
   "execution_count": 256,
   "id": "cd84284e-0341-4c48-a0bd-aa680b8c776c",
   "metadata": {},
   "outputs": [],
   "source": [
    "# one step: we want to get rid of punctuation\n",
    "new_sentence = ''.join([char for char in sentence\n",
    "                        if char not in ',?'])"
   ]
  },
  {
   "cell_type": "code",
   "execution_count": 258,
   "id": "ce78b5df-4c35-44c7-b164-0f818632682d",
   "metadata": {},
   "outputs": [
    {
     "data": {
      "text/plain": [
       "'Hi Hamlet how are you'"
      ]
     },
     "execution_count": 258,
     "metadata": {},
     "output_type": "execute_result"
    }
   ],
   "source": [
    "new_sentence"
   ]
  },
  {
   "cell_type": "code",
   "execution_count": 267,
   "id": "6ea616ed-9052-4819-98f0-ef3ad40152f1",
   "metadata": {},
   "outputs": [
    {
     "data": {
      "text/plain": [
       "True"
      ]
     },
     "execution_count": 267,
     "metadata": {},
     "output_type": "execute_result"
    }
   ],
   "source": [
    "'apple'[-1] in 'aeiou'"
   ]
  },
  {
   "cell_type": "code",
   "execution_count": 275,
   "id": "6a56f493-0a28-4989-9e8b-3516650e561a",
   "metadata": {},
   "outputs": [
    {
     "data": {
      "text/plain": [
       "[0,\n",
       " 5,\n",
       " 10,\n",
       " 15,\n",
       " 20,\n",
       " 25,\n",
       " 30,\n",
       " 35,\n",
       " 40,\n",
       " 45,\n",
       " 50,\n",
       " 55,\n",
       " 60,\n",
       " 65,\n",
       " 70,\n",
       " 75,\n",
       " 80,\n",
       " 85,\n",
       " 90,\n",
       " 95,\n",
       " 100]"
      ]
     },
     "execution_count": 275,
     "metadata": {},
     "output_type": "execute_result"
    }
   ],
   "source": [
    "list(range(0, 101, 5))"
   ]
  },
  {
   "cell_type": "markdown",
   "id": "e1d50b66-affb-46a1-a00a-e6c4db1a591c",
   "metadata": {},
   "source": [
    "## Lab: List Comprehensions\n",
    "*  Start with Cartesian product example (colors x sizes of t-shirts) and add a third list, __`sleeves = ['short', 'long']`__ then write a new listcomp which generates the Cartesian product __`colors x sizes x sleeves`__. __`tshirts`__ should look like this:<pre><b>\n",
    "    [['black', 'S', 'short'],\n",
    "     ['black', 'S', 'long'],\n",
    "     ['black', 'M', 'short'],\n",
    "     ['black', 'M', 'long'],\n",
    "     ['black', 'L', 'short'],\n",
    "     ['black', 'L', 'long'],\n",
    "     ['white', 'S', 'short'],\n",
    "     ['white', 'S', 'long'],\n",
    "     ['white', 'M', 'short'],\n",
    "     ['white', 'M', 'long'],\n",
    "     ['white', 'L', 'short'],\n",
    "     ['white', 'L', 'long']]\n",
    "     \n",
    " </b></pre>\n",
    "* Use a list comprehension to create a list of the squares of the integers from 1 to 25 (i.e, 1, 4, 9, 16, …, 625)\n",
    "* Given a list of words, create a second list which contains all the words from the first list which do not end with a vowel\n",
    "* Use a list comprehension to create a list of the integers from 1 to 100 which are not divisible by 5\n",
    "* Use a list comprehension and __`zip()`__ to create a list of lists, where the list items are name and ID number that you grabbed from separate lists of names and ID numbers\n",
    "  * start with a list of, say, 5 names ['John', 'Mary', 'Edward', 'Linda', 'Dinesh']\n",
    "  * and a list of, say, 5 ID numbers [1003, 2043, 8762, 7862, 1093]\n",
    "  * additional wrinkle: do not include any names whose corresponding ID is -1"
   ]
  },
  {
   "cell_type": "code",
   "execution_count": 343,
   "id": "17afc6d5-5228-41a6-a48e-fd9ae5aec3cd",
   "metadata": {},
   "outputs": [
    {
     "data": {
      "text/plain": [
       "[['black', 'S', 'short'],\n",
       " ['black', 'S', 'long'],\n",
       " ['black', 'M', 'short'],\n",
       " ['black', 'M', 'long'],\n",
       " ['black', 'L', 'short'],\n",
       " ['black', 'L', 'long'],\n",
       " ['black', 'XL', 'short'],\n",
       " ['black', 'XL', 'long'],\n",
       " ['white', 'S', 'short'],\n",
       " ['white', 'S', 'long'],\n",
       " ['white', 'M', 'short'],\n",
       " ['white', 'M', 'long'],\n",
       " ['white', 'L', 'short'],\n",
       " ['white', 'L', 'long'],\n",
       " ['white', 'XL', 'short'],\n",
       " ['white', 'XL', 'long']]"
      ]
     },
     "execution_count": 343,
     "metadata": {},
     "output_type": "execute_result"
    }
   ],
   "source": [
    "colors = ['black', 'white']\n",
    "sizes = ['S', 'M', 'L', 'XL']\n",
    "sleeves = ['short', 'long']\n",
    "\n",
    "tshirts = [[color, size, sleeve] for color in colors\n",
    "                                    for size in sizes\n",
    "                                       for sleeve in sleeves]\n",
    "tshirts"
   ]
  },
  {
   "cell_type": "code",
   "execution_count": 311,
   "id": "a712b265-f2a1-4398-b2c6-9243007997c4",
   "metadata": {},
   "outputs": [
    {
     "name": "stdout",
     "output_type": "stream",
     "text": [
      "[1, 4, 9, 16, 25, 36, 49, 64, 81, 100, 121, 144, 169, 196, 225, 256, 289, 324, 361, 400, 441, 484, 529, 576, 625]\n"
     ]
    }
   ],
   "source": [
    "# squares from 1..25\n",
    "squares = [num * num for num in range(1, 26)]\n",
    "print(squares)"
   ]
  },
  {
   "cell_type": "code",
   "execution_count": 315,
   "id": "f1fff905-ebba-4ae1-b00c-57f8df2522f2",
   "metadata": {},
   "outputs": [],
   "source": [
    "words = 'apple fig pear lime lemon guava watermelon'.split() "
   ]
  },
  {
   "cell_type": "code",
   "execution_count": 327,
   "id": "4a2b2790-7c92-466a-80f5-161a24514002",
   "metadata": {},
   "outputs": [
    {
     "name": "stdout",
     "output_type": "stream",
     "text": [
      "['fig', 'pear', 'lemon', 'watermelon']\n"
     ]
    }
   ],
   "source": [
    "# only words that don't end in vowel...\n",
    "no_end_in_vowel = [word for word in words\n",
    "                            if word[-1] not in 'aeiouy']\n",
    "print(no_end_in_vowel)"
   ]
  },
  {
   "cell_type": "code",
   "execution_count": 333,
   "id": "6de7e2d3-a576-4322-afb3-f37e4a891f16",
   "metadata": {},
   "outputs": [
    {
     "name": "stdout",
     "output_type": "stream",
     "text": [
      "['1', '2', '3', '4', '6', '7', '8', '9', '11', '12', '13', '14', '16', '17', '18', '19', '21', '22', '23', '24', '26', '27', '28', '29', '31', '32', '33', '34', '36', '37', '38', '39', '41', '42', '43', '44', '46', '47', '48', '49', '51', '52', '53', '54', '56', '57', '58', '59', '61', '62', '63', '64', '66', '67', '68', '69', '71', '72', '73', '74', '76', '77', '78', '79', '81', '82', '83', '84', '86', '87', '88', '89', '91', '92', '93', '94', '96', '97', '98', '99']\n"
     ]
    }
   ],
   "source": [
    "# not divisible by 5\n",
    "no_divis_by_5 = [num for num in range(1, 101)\n",
    "                          if num % 5 != 0]\n",
    "print(no_divis_by_5)"
   ]
  },
  {
   "cell_type": "code",
   "execution_count": 335,
   "id": "f9426db2-49ad-4522-bd9e-0392b9379f64",
   "metadata": {},
   "outputs": [
    {
     "name": "stdout",
     "output_type": "stream",
     "text": [
      "[['John', 1003], ['Mary', 2043], ['Edward', 8762], ['Linda', 7862], ['Dinesh', 1093]]\n"
     ]
    }
   ],
   "source": [
    "names = ['John', 'Mary', 'Edward', 'Linda', 'Dinesh']\n",
    "ids = [1003, 2043, 8762, 7862, 1093]\n",
    "employees = [[name, id] for name, id in zip(names, ids)]\n",
    "print(employees)"
   ]
  },
  {
   "cell_type": "code",
   "execution_count": 337,
   "id": "5bf36e78-3ff2-49ae-8d10-adf46885a6f6",
   "metadata": {},
   "outputs": [
    {
     "name": "stdout",
     "output_type": "stream",
     "text": [
      "[['John', 1003], ['Mary', 2043], ['Linda', 7862]]\n"
     ]
    }
   ],
   "source": [
    "ids = [1003, 2043, -8762, 7862, -1093]\n",
    "employees = [[name, id] for name, id in zip(names, ids)\n",
    "                           if id > 0]\n",
    "print(employees)"
   ]
  },
  {
   "cell_type": "code",
   "execution_count": 353,
   "id": "05326022-9fb9-4152-9169-5b5240e0e13c",
   "metadata": {},
   "outputs": [],
   "source": [
    "string = 'Gap'"
   ]
  },
  {
   "cell_type": "code",
   "execution_count": 349,
   "id": "ee9266f8-a8a9-455d-9cd5-4f5b1b033a62",
   "metadata": {},
   "outputs": [],
   "source": [
    "string = string + 'e'"
   ]
  },
  {
   "cell_type": "code",
   "execution_count": 351,
   "id": "574faaf8-6a66-4490-8e3f-871f7807d291",
   "metadata": {},
   "outputs": [
    {
     "data": {
      "text/plain": [
       "'Gape'"
      ]
     },
     "execution_count": 351,
     "metadata": {},
     "output_type": "execute_result"
    }
   ],
   "source": [
    "string"
   ]
  },
  {
   "cell_type": "code",
   "execution_count": 355,
   "id": "28164ea4-addb-4b59-a960-a68c9dcffa52",
   "metadata": {},
   "outputs": [],
   "source": [
    "t = 1, 2, 3, 4"
   ]
  },
  {
   "cell_type": "code",
   "execution_count": 357,
   "id": "2977b3ac-97db-4ec6-a831-003def40b0e7",
   "metadata": {},
   "outputs": [
    {
     "data": {
      "text/plain": [
       "(1, 2, 3, 4)"
      ]
     },
     "execution_count": 357,
     "metadata": {},
     "output_type": "execute_result"
    }
   ],
   "source": [
    "t"
   ]
  },
  {
   "cell_type": "code",
   "execution_count": 359,
   "id": "88c8bb8a-2c9a-46a7-be9a-6e4e3f747f24",
   "metadata": {},
   "outputs": [
    {
     "ename": "TypeError",
     "evalue": "can only concatenate tuple (not \"int\") to tuple",
     "output_type": "error",
     "traceback": [
      "\u001b[0;31m---------------------------------------------------------------------------\u001b[0m",
      "\u001b[0;31mTypeError\u001b[0m                                 Traceback (most recent call last)",
      "Cell \u001b[0;32mIn[359], line 1\u001b[0m\n\u001b[0;32m----> 1\u001b[0m t \u001b[38;5;241m+\u001b[39m \u001b[38;5;241m5\u001b[39m\n",
      "\u001b[0;31mTypeError\u001b[0m: can only concatenate tuple (not \"int\") to tuple"
     ]
    }
   ],
   "source": [
    "t + 5"
   ]
  },
  {
   "cell_type": "code",
   "execution_count": 361,
   "id": "037d5bf3-24be-45d4-aa95-049960621f7b",
   "metadata": {},
   "outputs": [
    {
     "data": {
      "text/plain": [
       "(1, 2, 3, 4, 5)"
      ]
     },
     "execution_count": 361,
     "metadata": {},
     "output_type": "execute_result"
    }
   ],
   "source": [
    "t + (5,)"
   ]
  },
  {
   "cell_type": "markdown",
   "id": "257b936c-0831-4e32-a36e-a79e4facc841",
   "metadata": {},
   "source": [
    "## Lab: Tuples\n",
    "* We don't really know enough yet to use a tuple in interesting ways, so instead let's just tinker around with tuples here in the notebook...\n",
    "  * Create a tuple representing a city w/fields of your own choosing (e.g., city name, state/country, population, elevation, etc.)\n",
    "  * \"Add\" a field to the tuple–since tuples are immutable, you will have to do this by concatenating tuples\n",
    "  * Using the _in_ operator, check to see if a particular value is in the tuple\n",
    "  * Using the __`.index()`__ method, find the position of a particular value in the tuple"
   ]
  },
  {
   "cell_type": "code",
   "execution_count": 383,
   "id": "e98e4467-db86-481f-a36f-c5bb28d3e492",
   "metadata": {},
   "outputs": [],
   "source": [
    "city = 'Lerwick', 6_760, 3.15"
   ]
  },
  {
   "cell_type": "code",
   "execution_count": 385,
   "id": "efb45d43-d9dd-4055-a5be-697e33de0b68",
   "metadata": {},
   "outputs": [
    {
     "data": {
      "text/plain": [
       "('Lerwick', 6760, 3.15, 'ZE1')"
      ]
     },
     "execution_count": 385,
     "metadata": {},
     "output_type": "execute_result"
    }
   ],
   "source": [
    "city + ('ZE1',)"
   ]
  },
  {
   "cell_type": "code",
   "execution_count": 389,
   "id": "b0bb5264-4c89-40af-a04f-67e31043e024",
   "metadata": {},
   "outputs": [],
   "source": [
    "city = city + ('ZE1',)"
   ]
  },
  {
   "cell_type": "code",
   "execution_count": 391,
   "id": "0861eea4-15f3-4813-a6e1-e2c0b16c9f60",
   "metadata": {},
   "outputs": [
    {
     "data": {
      "text/plain": [
       "('Lerwick', 6760, 3.15, 'ZE1')"
      ]
     },
     "execution_count": 391,
     "metadata": {},
     "output_type": "execute_result"
    }
   ],
   "source": [
    "city"
   ]
  },
  {
   "cell_type": "code",
   "execution_count": 395,
   "id": "39f28d68-1cdf-47ea-9d4c-10d7b27b2ec8",
   "metadata": {},
   "outputs": [
    {
     "data": {
      "text/plain": [
       "True"
      ]
     },
     "execution_count": 395,
     "metadata": {},
     "output_type": "execute_result"
    }
   ],
   "source": [
    "6760 in city"
   ]
  },
  {
   "cell_type": "code",
   "execution_count": 401,
   "id": "cd4fbf3b-c887-409f-b835-1ca529cbf670",
   "metadata": {},
   "outputs": [
    {
     "data": {
      "text/plain": [
       "3"
      ]
     },
     "execution_count": 401,
     "metadata": {},
     "output_type": "execute_result"
    }
   ],
   "source": [
    "city.index('ZE1')"
   ]
  },
  {
   "cell_type": "code",
   "execution_count": 406,
   "id": "11a37f79-daaf-4376-94f6-bc39aff1e8b0",
   "metadata": {},
   "outputs": [],
   "source": [
    "nums = { 'one': 1 }"
   ]
  },
  {
   "cell_type": "code",
   "execution_count": 410,
   "id": "09ac9f6f-a4ae-40c7-820e-f8fee40ab2b1",
   "metadata": {},
   "outputs": [
    {
     "data": {
      "text/plain": [
       "1"
      ]
     },
     "execution_count": 410,
     "metadata": {},
     "output_type": "execute_result"
    }
   ],
   "source": [
    "nums['one']"
   ]
  },
  {
   "cell_type": "code",
   "execution_count": 412,
   "id": "92d2a596-08db-4ba0-b77e-1c0790629db9",
   "metadata": {},
   "outputs": [
    {
     "ename": "KeyError",
     "evalue": "1",
     "output_type": "error",
     "traceback": [
      "\u001b[0;31m---------------------------------------------------------------------------\u001b[0m",
      "\u001b[0;31mKeyError\u001b[0m                                  Traceback (most recent call last)",
      "Cell \u001b[0;32mIn[412], line 1\u001b[0m\n\u001b[0;32m----> 1\u001b[0m nums[\u001b[38;5;241m1\u001b[39m]\n",
      "\u001b[0;31mKeyError\u001b[0m: 1"
     ]
    }
   ],
   "source": [
    "nums[1]"
   ]
  },
  {
   "cell_type": "code",
   "execution_count": 414,
   "id": "12ea37d8-8045-4d43-b137-d6ceefc120b6",
   "metadata": {},
   "outputs": [
    {
     "data": {
      "text/plain": [
       "True"
      ]
     },
     "execution_count": 414,
     "metadata": {},
     "output_type": "execute_result"
    }
   ],
   "source": [
    "'one' in nums"
   ]
  },
  {
   "cell_type": "code",
   "execution_count": 416,
   "id": "2b0aa204-11f4-477e-9c62-3cb0770329f3",
   "metadata": {},
   "outputs": [
    {
     "data": {
      "text/plain": [
       "False"
      ]
     },
     "execution_count": 416,
     "metadata": {},
     "output_type": "execute_result"
    }
   ],
   "source": [
    "1 in nums # only looks in the keys"
   ]
  },
  {
   "cell_type": "code",
   "execution_count": 418,
   "id": "4df59da8-c967-4b35-981a-1ad584ef082a",
   "metadata": {},
   "outputs": [
    {
     "data": {
      "text/plain": [
       "True"
      ]
     },
     "execution_count": 418,
     "metadata": {},
     "output_type": "execute_result"
    }
   ],
   "source": [
    "1 in nums.values() # looking at the values "
   ]
  },
  {
   "cell_type": "code",
   "execution_count": 422,
   "id": "3274ddd2-498a-48b4-a2ea-54a71a413550",
   "metadata": {},
   "outputs": [],
   "source": [
    "sbux_dict = {'venti': 20, 'tall': 12, 'grande': 16}"
   ]
  },
  {
   "cell_type": "code",
   "execution_count": 424,
   "id": "7f5916d1-f93a-4df4-8cc3-9a24366f643b",
   "metadata": {},
   "outputs": [
    {
     "data": {
      "text/plain": [
       "['grande', 'tall', 'venti']"
      ]
     },
     "execution_count": 424,
     "metadata": {},
     "output_type": "execute_result"
    }
   ],
   "source": [
    "sorted(sbux_dict)"
   ]
  },
  {
   "cell_type": "code",
   "execution_count": 429,
   "id": "c38283f0-7860-4f04-a694-379095419cc1",
   "metadata": {},
   "outputs": [],
   "source": [
    "wordcount = { 'Hamlet': 401, 'the': 1023, 'and': 832 }"
   ]
  },
  {
   "cell_type": "code",
   "execution_count": 431,
   "id": "172bcf73-3dee-4101-8a7f-9be4c9d1cfcd",
   "metadata": {},
   "outputs": [],
   "source": [
    "fruits = 'apple fig pear'.split()"
   ]
  },
  {
   "cell_type": "code",
   "execution_count": 433,
   "id": "98763378-d98d-4b4f-a6e8-9c7e2bf1899c",
   "metadata": {},
   "outputs": [
    {
     "data": {
      "text/plain": [
       "['apple', 'fig', 'pear']"
      ]
     },
     "execution_count": 433,
     "metadata": {},
     "output_type": "execute_result"
    }
   ],
   "source": [
    "sorted(fruits)"
   ]
  },
  {
   "cell_type": "code",
   "execution_count": 439,
   "id": "b700bd52-47e7-4cbb-8ab0-9e98e0999889",
   "metadata": {},
   "outputs": [
    {
     "data": {
      "text/plain": [
       "['fig', 'pear', 'apple']"
      ]
     },
     "execution_count": 439,
     "metadata": {},
     "output_type": "execute_result"
    }
   ],
   "source": [
    "sorted(fruits, key=len) # sort fruits but use the len function\n",
    "# as the comparison key when you need to know the order when you\n",
    "# comparing any twwo items"
   ]
  },
  {
   "cell_type": "code",
   "execution_count": 435,
   "id": "e7c5db5d-9ad8-4928-8e4f-84ff844aaddd",
   "metadata": {},
   "outputs": [
    {
     "data": {
      "text/plain": [
       "True"
      ]
     },
     "execution_count": 435,
     "metadata": {},
     "output_type": "execute_result"
    }
   ],
   "source": [
    "'apple' < 'fig'"
   ]
  },
  {
   "cell_type": "code",
   "execution_count": 437,
   "id": "cb411078-9c0c-45de-b210-79a8a3c8cb35",
   "metadata": {},
   "outputs": [
    {
     "data": {
      "text/plain": [
       "False"
      ]
     },
     "execution_count": 437,
     "metadata": {},
     "output_type": "execute_result"
    }
   ],
   "source": [
    "len('apple') < len('fig')"
   ]
  },
  {
   "cell_type": "code",
   "execution_count": 444,
   "id": "ef935d0d-4a14-4793-9807-1f0e78366dae",
   "metadata": {},
   "outputs": [
    {
     "data": {
      "text/plain": [
       "5"
      ]
     },
     "execution_count": 444,
     "metadata": {},
     "output_type": "execute_result"
    }
   ],
   "source": [
    "len('apple')"
   ]
  },
  {
   "cell_type": "code",
   "execution_count": 448,
   "id": "0d1911e4-ad4d-4872-a551-a5ba66a1712e",
   "metadata": {},
   "outputs": [
    {
     "ename": "TypeError",
     "evalue": "len() takes exactly one argument (0 given)",
     "output_type": "error",
     "traceback": [
      "\u001b[0;31m---------------------------------------------------------------------------\u001b[0m",
      "\u001b[0;31mTypeError\u001b[0m                                 Traceback (most recent call last)",
      "Cell \u001b[0;32mIn[448], line 1\u001b[0m\n\u001b[0;32m----> 1\u001b[0m \u001b[38;5;28mlen\u001b[39m()\n",
      "\u001b[0;31mTypeError\u001b[0m: len() takes exactly one argument (0 given)"
     ]
    }
   ],
   "source": [
    "len()"
   ]
  },
  {
   "cell_type": "markdown",
   "id": "62492c6e-a989-4f79-8b55-d66f17a3efec",
   "metadata": {},
   "source": [
    "## Lab: dictionary\n",
    "* use a dict to translate Roman numerals into their Hindu-Arabic equivalents\n",
    "1. load the dict with Roman numerals M (1000), D (500), C (100), L (50), X (10), V (5), I (1)\n",
    "2. read in a Roman numeral\n",
    "3. print Hindu-Arabic equivalent\n",
    "4. try it with MCLX = 1000 + 100 + 50 + 10 = 1160\n",
    "4. __The rest of this could be homework...__\n",
    "4. __Deal with the case where a smaller number precedes a larger number, e.g., XC = 100 - 10 = 90, or MCM = 1000 + (1000-100) = 1900__\n",
    "  * e.g.,  __MCMXCIX = 1999__"
   ]
  },
  {
   "cell_type": "code",
   "execution_count": 457,
   "id": "333c59a9-b25d-4706-b894-b041a91da6e9",
   "metadata": {},
   "outputs": [
    {
     "data": {
      "text/plain": [
       "100"
      ]
     },
     "execution_count": 457,
     "metadata": {},
     "output_type": "execute_result"
    }
   ],
   "source": [
    "roman_to_hindu_arabic = {\n",
    "    'M': 1000, \n",
    "    'D': 500,\n",
    "    'C': 100,\n",
    "    'L': 50,\n",
    "    'X': 10,\n",
    "    'V': 5,\n",
    "    'I': 1,\n",
    "}"
   ]
  },
  {
   "cell_type": "code",
   "execution_count": 461,
   "id": "8ddcdbdf-86c1-438f-a8ff-03162d2f6bba",
   "metadata": {},
   "outputs": [
    {
     "data": {
      "text/plain": [
       "50"
      ]
     },
     "execution_count": 461,
     "metadata": {},
     "output_type": "execute_result"
    }
   ],
   "source": [
    "roman_to_hindu_arabic['L']"
   ]
  },
  {
   "cell_type": "code",
   "execution_count": 463,
   "id": "99f7ddca-472d-490b-8c88-ad498d1f6ae1",
   "metadata": {},
   "outputs": [],
   "source": [
    "# a way to handle the weirdness of Roman numerals (subtraction)\n",
    "# PASS 1: take each Roman digit and just grab H-A value and put into a list\n",
    "# MCMXCIX\n",
    "# [ 1000, 100, 1000, 10, 100, 1, 10 ]\n",
    "# PASS 2: go through the list of H-A values\n",
    "# if you find a number that is less than its neighbor (to the right),\n",
    "# make that number negative\n",
    "# [ 1000, -100, 1000, -10, 100, -1, 10 ]\n",
    "# now sum them up"
   ]
  },
  {
   "cell_type": "code",
   "execution_count": 465,
   "id": "e9398f35-0396-4b6f-91ac-9adfac546c19",
   "metadata": {},
   "outputs": [],
   "source": [
    "# 1. get a Roman numeral from user\n",
    "# 1a. set running sum to 0\n",
    "# 2. for each digit in the Roman numeral\n",
    "# 3.    plug into dict and get H-A value\n",
    "# 4.    add that value to running sum..."
   ]
  },
  {
   "cell_type": "code",
   "execution_count": 495,
   "id": "f14dadcb-be4e-4257-8c68-8b31f855d84e",
   "metadata": {},
   "outputs": [
    {
     "name": "stdin",
     "output_type": "stream",
     "text": [
      "Enter a Roman numeral:  MCA\n"
     ]
    }
   ],
   "source": [
    "roman = input('Enter a Roman numeral: ').upper() # 1"
   ]
  },
  {
   "cell_type": "code",
   "execution_count": 501,
   "id": "06f3f6b7-dfe6-4aa5-890b-486a57eb6612",
   "metadata": {},
   "outputs": [
    {
     "name": "stdout",
     "output_type": "stream",
     "text": [
      "Bad digit: A\n",
      "1100\n"
     ]
    }
   ],
   "source": [
    "total = 0 # 1a\n",
    "\n",
    "for digit in roman: # 2 \n",
    "    if digit in roman_to_hindu_arabic:\n",
    "        total += roman_to_hindu_arabic[digit] # 3, 4\n",
    "    else:\n",
    "        print('Bad digit:', digit)\n",
    "    # what could go wrong?\n",
    "\n",
    "print(total)"
   ]
  },
  {
   "cell_type": "code",
   "execution_count": 515,
   "id": "68c1dbd7-2250-4c03-8b4e-cb8091298698",
   "metadata": {},
   "outputs": [
    {
     "name": "stdin",
     "output_type": "stream",
     "text": [
      "Enter a Roman numeral:  MCA\n"
     ]
    },
    {
     "name": "stdout",
     "output_type": "stream",
     "text": [
      "Bad digit: A\n"
     ]
    }
   ],
   "source": [
    "roman = input('Enter a Roman numeral: ').upper() # 1\n",
    "total = 0 # 1a\n",
    "\n",
    "for digit in roman: # 2 \n",
    "    number_is_valid = True\n",
    "    if digit in roman_to_hindu_arabic:\n",
    "        total += roman_to_hindu_arabic[digit] # 3, 4\n",
    "    else:\n",
    "        print('Bad digit:', digit)\n",
    "        number_is_valid = False\n",
    "        break\n",
    "    # what could go wrong?\n",
    "# we can get here in two ways: \n",
    "# 1. good user, all good digits\n",
    "# 2. bad user, no biscuit (break)\n",
    "if number_is_valid:\n",
    "    print(total)"
   ]
  },
  {
   "cell_type": "code",
   "execution_count": 525,
   "id": "0a8c5fb4-c832-4ea5-8c24-03806ea07327",
   "metadata": {},
   "outputs": [
    {
     "name": "stdin",
     "output_type": "stream",
     "text": [
      "Enter a Roman numeral:  MCAX\n"
     ]
    },
    {
     "name": "stdout",
     "output_type": "stream",
     "text": [
      "Bad digit: A\n"
     ]
    }
   ],
   "source": [
    "roman = input('Enter a Roman numeral: ').upper() # 1\n",
    "total = 0 # 1a\n",
    "\n",
    "for digit in roman: # 2 \n",
    "    if digit in roman_to_hindu_arabic:\n",
    "        total += roman_to_hindu_arabic[digit] # 3, 4\n",
    "    else:\n",
    "        print('Bad digit:', digit)\n",
    "        break\n",
    "    # what could go wrong?\n",
    "# we can get here in two ways: \n",
    "# 1. good user, all good digits\n",
    "# 2. bad user, no biscuit (break)\n",
    "else: # else clause is only run if we didn't break\n",
    "    print(total)"
   ]
  },
  {
   "cell_type": "code",
   "execution_count": 479,
   "id": "7f24effd-b839-4f41-888e-6b24810e28b1",
   "metadata": {},
   "outputs": [
    {
     "name": "stdin",
     "output_type": "stream",
     "text": [
      "Enter a Roman numeral:  MCMXCIX\n"
     ]
    },
    {
     "name": "stdout",
     "output_type": "stream",
     "text": [
      "[1000, 100, 1000, 10, 100, 1, 10]\n",
      "[1000, -100, 1000, -10, 100, -1, 10]\n",
      "1999\n"
     ]
    }
   ],
   "source": [
    "# a solution to tougher version\n",
    "# 0. get Roman numeral from user\n",
    "# 1. start with empty list\n",
    "# 2. for each digit:\n",
    "# 3.    append its H-A value to list\n",
    "# 4. for each value in value_list:\n",
    "# 5.     if value < neighbor (to the right):\n",
    "# 6.         make that value negative\n",
    "# 7. now sum them up value list\n",
    "\n",
    "roman = input('Enter a Roman numeral: ') # 0\n",
    "hindu_arabic_vals = [] # 1\n",
    "\n",
    "for digit in roman: # 2\n",
    "    hindu_arabic_vals.append(roman_to_hindu_arabic[digit]) # 3\n",
    "\n",
    "print(hindu_arabic_vals) # debugging, PASS 1\n",
    "\n",
    "for index in range(len(hindu_arabic_vals) - 1): # 4 \n",
    "    if hindu_arabic_vals[index] < hindu_arabic_vals[index + 1]: # 5\n",
    "        hindu_arabic_vals[index] = -hindu_arabic_vals[index] # 6\n",
    "    \n",
    "print(hindu_arabic_vals) # debugging\n",
    "print(sum(hindu_arabic_vals)) # 7"
   ]
  },
  {
   "cell_type": "code",
   "execution_count": 529,
   "id": "a40cda0a-9472-412e-9b38-eb3972ce2f2f",
   "metadata": {},
   "outputs": [],
   "source": [
    "import random"
   ]
  },
  {
   "cell_type": "code",
   "execution_count": 531,
   "id": "05b15944-824d-4e1e-83b8-c5044a2c7463",
   "metadata": {},
   "outputs": [
    {
     "data": {
      "text/plain": [
       "38"
      ]
     },
     "execution_count": 531,
     "metadata": {},
     "output_type": "execute_result"
    }
   ],
   "source": [
    "random.randint(1, 100)"
   ]
  },
  {
   "cell_type": "code",
   "execution_count": 533,
   "id": "e32ebbb5-2a04-4af4-8f3c-9037124a3556",
   "metadata": {},
   "outputs": [],
   "source": [
    "nums = []\n",
    "\n",
    "for count in range(100): # \"do this 100 times\"\n",
    "    nums.append(random.randint(1, 100))"
   ]
  },
  {
   "cell_type": "code",
   "execution_count": 535,
   "id": "9e4d0fd2-298d-432c-8cc0-8fde9d56bd73",
   "metadata": {},
   "outputs": [],
   "source": [
    "nums = [random.randint(1, 100) for count in range(100)]"
   ]
  },
  {
   "cell_type": "code",
   "execution_count": 537,
   "id": "78b16d09-0d8c-40ca-a1b7-d4d0b13a3b14",
   "metadata": {},
   "outputs": [
    {
     "name": "stdout",
     "output_type": "stream",
     "text": [
      "[10, 15, 71, 5, 52, 18, 34, 100, 4, 4, 74, 66, 17, 77, 16, 46, 32, 19, 47, 63, 5, 66, 99, 64, 79, 90, 44, 79, 81, 79, 50, 71, 4, 12, 6, 3, 26, 28, 57, 54, 62, 21, 64, 29, 60, 99, 98, 90, 72, 16, 21, 22, 89, 67, 67, 58, 78, 81, 6, 41, 64, 19, 88, 42, 64, 5, 52, 80, 87, 94, 16, 17, 88, 42, 68, 39, 37, 55, 16, 78, 15, 29, 67, 80, 29, 58, 64, 9, 12, 90, 44, 70, 25, 7, 67, 30, 57, 73, 90, 30]\n"
     ]
    }
   ],
   "source": [
    "print(nums)"
   ]
  },
  {
   "cell_type": "code",
   "execution_count": 539,
   "id": "df4b5358-43e8-4933-a781-35f3a3c27e5c",
   "metadata": {},
   "outputs": [
    {
     "data": {
      "text/plain": [
       "100"
      ]
     },
     "execution_count": 539,
     "metadata": {},
     "output_type": "execute_result"
    }
   ],
   "source": [
    "len(nums)"
   ]
  },
  {
   "cell_type": "code",
   "execution_count": 541,
   "id": "fd4f61f1-148c-4219-b480-6985dc6dbbf1",
   "metadata": {},
   "outputs": [
    {
     "name": "stdout",
     "output_type": "stream",
     "text": [
      "{3, 4, 5, 6, 7, 9, 10, 12, 15, 16, 17, 18, 19, 21, 22, 25, 26, 28, 29, 30, 32, 34, 37, 39, 41, 42, 44, 46, 47, 50, 52, 54, 55, 57, 58, 60, 62, 63, 64, 66, 67, 68, 70, 71, 72, 73, 74, 77, 78, 79, 80, 81, 87, 88, 89, 90, 94, 98, 99, 100}\n"
     ]
    }
   ],
   "source": [
    "print(set(nums))"
   ]
  },
  {
   "cell_type": "code",
   "execution_count": 545,
   "id": "5ae3e71c-1e72-4daa-ba2b-a226ad1512fe",
   "metadata": {},
   "outputs": [
    {
     "data": {
      "text/plain": [
       "-3744952221836942265"
      ]
     },
     "execution_count": 545,
     "metadata": {},
     "output_type": "execute_result"
    }
   ],
   "source": [
    "hash('python')"
   ]
  },
  {
   "cell_type": "code",
   "execution_count": 547,
   "id": "f9a7963a-5318-4418-b2f0-511da853fa2d",
   "metadata": {},
   "outputs": [
    {
     "data": {
      "text/plain": [
       "8193139257958578642"
      ]
     },
     "execution_count": 547,
     "metadata": {},
     "output_type": "execute_result"
    }
   ],
   "source": [
    "hash('golang')"
   ]
  },
  {
   "cell_type": "code",
   "execution_count": 549,
   "id": "f31ef110-02bb-4d15-805d-77728c2f14f2",
   "metadata": {},
   "outputs": [
    {
     "data": {
      "text/plain": [
       "-2518023336259278956"
      ]
     },
     "execution_count": 549,
     "metadata": {},
     "output_type": "execute_result"
    }
   ],
   "source": [
    "hash('grande')"
   ]
  },
  {
   "cell_type": "code",
   "execution_count": 551,
   "id": "ddef8102-a2df-4673-8483-ffe7745a7d94",
   "metadata": {},
   "outputs": [
    {
     "data": {
      "text/plain": [
       "-8247250600847548305"
      ]
     },
     "execution_count": 551,
     "metadata": {},
     "output_type": "execute_result"
    }
   ],
   "source": [
    "hash('tall')"
   ]
  },
  {
   "cell_type": "code",
   "execution_count": 553,
   "id": "79145759-20e5-45d4-ba51-26de64e5a6b1",
   "metadata": {},
   "outputs": [
    {
     "data": {
      "text/plain": [
       "-854427620628178301"
      ]
     },
     "execution_count": 553,
     "metadata": {},
     "output_type": "execute_result"
    }
   ],
   "source": [
    "hash('Guido')"
   ]
  },
  {
   "cell_type": "code",
   "execution_count": 555,
   "id": "77292d7f-7279-4a58-9f54-804cbb413ed5",
   "metadata": {},
   "outputs": [
    {
     "data": {
      "text/plain": [
       "1"
      ]
     },
     "execution_count": 555,
     "metadata": {},
     "output_type": "execute_result"
    }
   ],
   "source": [
    "hash(1)"
   ]
  },
  {
   "cell_type": "code",
   "execution_count": 557,
   "id": "a7a4abfd-9cf5-4508-82d8-627129ec7ada",
   "metadata": {},
   "outputs": [
    {
     "data": {
      "text/plain": [
       "2"
      ]
     },
     "execution_count": 557,
     "metadata": {},
     "output_type": "execute_result"
    }
   ],
   "source": [
    "hash(2)"
   ]
  },
  {
   "cell_type": "code",
   "execution_count": 559,
   "id": "71f969e4-4b15-4292-bd99-26ce1aae237d",
   "metadata": {},
   "outputs": [
    {
     "data": {
      "text/plain": [
       "322818021289917443"
      ]
     },
     "execution_count": 559,
     "metadata": {},
     "output_type": "execute_result"
    }
   ],
   "source": [
    "hash(3.14)"
   ]
  },
  {
   "cell_type": "code",
   "execution_count": 561,
   "id": "68ad00e0-55a0-4d28-9c04-f083add1019c",
   "metadata": {},
   "outputs": [
    {
     "data": {
      "text/plain": [
       "1314330515251805186"
      ]
     },
     "execution_count": 561,
     "metadata": {},
     "output_type": "execute_result"
    }
   ],
   "source": [
    "hash(2.57)"
   ]
  },
  {
   "cell_type": "code",
   "execution_count": 563,
   "id": "f3eb90d8-7718-42fd-8048-fb05cb03f8d2",
   "metadata": {},
   "outputs": [
    {
     "data": {
      "text/plain": [
       "783986623132655618"
      ]
     },
     "execution_count": 563,
     "metadata": {},
     "output_type": "execute_result"
    }
   ],
   "source": [
    "hash(2.34)"
   ]
  },
  {
   "cell_type": "code",
   "execution_count": null,
   "id": "d47d15f7-7f5b-4114-9628-3be1ad3d6eac",
   "metadata": {},
   "outputs": [],
   "source": [
    "nums = [random.randint(1, 100) for count in range(100)]"
   ]
  },
  {
   "cell_type": "code",
   "execution_count": 565,
   "id": "2e690a5c-88d8-4f78-995f-95869403ebda",
   "metadata": {},
   "outputs": [
    {
     "data": {
      "text/plain": [
       "['BPF',\n",
       " 'LOG4',\n",
       " 'NV_MAGICCONST',\n",
       " 'RECIP_BPF',\n",
       " 'Random',\n",
       " 'SG_MAGICCONST',\n",
       " 'SystemRandom',\n",
       " 'TWOPI',\n",
       " '_ONE',\n",
       " '_Sequence',\n",
       " '_Set',\n",
       " '__all__',\n",
       " '__builtins__',\n",
       " '__cached__',\n",
       " '__doc__',\n",
       " '__file__',\n",
       " '__loader__',\n",
       " '__name__',\n",
       " '__package__',\n",
       " '__spec__',\n",
       " '_accumulate',\n",
       " '_acos',\n",
       " '_bisect',\n",
       " '_ceil',\n",
       " '_cos',\n",
       " '_e',\n",
       " '_exp',\n",
       " '_floor',\n",
       " '_index',\n",
       " '_inst',\n",
       " '_isfinite',\n",
       " '_log',\n",
       " '_os',\n",
       " '_pi',\n",
       " '_random',\n",
       " '_repeat',\n",
       " '_sha512',\n",
       " '_sin',\n",
       " '_sqrt',\n",
       " '_test',\n",
       " '_test_generator',\n",
       " '_urandom',\n",
       " '_warn',\n",
       " 'betavariate',\n",
       " 'choice',\n",
       " 'choices',\n",
       " 'expovariate',\n",
       " 'gammavariate',\n",
       " 'gauss',\n",
       " 'getrandbits',\n",
       " 'getstate',\n",
       " 'lognormvariate',\n",
       " 'normalvariate',\n",
       " 'paretovariate',\n",
       " 'randbytes',\n",
       " 'randint',\n",
       " 'random',\n",
       " 'randrange',\n",
       " 'sample',\n",
       " 'seed',\n",
       " 'setstate',\n",
       " 'shuffle',\n",
       " 'triangular',\n",
       " 'uniform',\n",
       " 'vonmisesvariate',\n",
       " 'weibullvariate']"
      ]
     },
     "execution_count": 565,
     "metadata": {},
     "output_type": "execute_result"
    }
   ],
   "source": [
    "dir(random)"
   ]
  },
  {
   "cell_type": "code",
   "execution_count": 567,
   "id": "434d2b04-3a96-4925-bfe4-45c010ec4d98",
   "metadata": {},
   "outputs": [
    {
     "name": "stdout",
     "output_type": "stream",
     "text": [
      "Help on built-in function random:\n",
      "\n",
      "random() method of random.Random instance\n",
      "    random() -> x in the interval [0, 1).\n",
      "\n"
     ]
    }
   ],
   "source": [
    "help(random.random)"
   ]
  },
  {
   "cell_type": "code",
   "execution_count": 569,
   "id": "e1441138-33e3-46e9-8f40-df4d2526ce1a",
   "metadata": {},
   "outputs": [],
   "source": [
    "floats = [random.random() for count in range(100)]"
   ]
  },
  {
   "cell_type": "code",
   "execution_count": 571,
   "id": "dcb2c203-f51a-4473-963b-cafe82123de7",
   "metadata": {},
   "outputs": [
    {
     "name": "stdout",
     "output_type": "stream",
     "text": [
      "[0.17950314661820788, 0.9310790687374448, 0.15763625521926383, 0.8766351186889303, 0.7724571765313002, 0.12106182013880418, 0.9921353536320584, 0.6635859324139185, 0.5623001072504645, 0.7897628138027462, 0.5816992095514765, 0.1452398920133946, 0.17535801507645343, 0.8630577775538054, 0.9122006871554353, 0.1148733016961877, 0.27164143213457037, 0.8203085776497544, 0.33790916136914473, 0.12367551322427017, 0.7721499710355046, 0.9442777429908508, 0.16390134171681858, 0.7380999103188871, 0.09962703317847565, 0.6868130419791632, 0.7143516674829877, 0.5922680144556618, 0.12362163213179977, 0.6321387035456354, 0.8489863588953053, 0.985208958850298, 0.13880955184528443, 0.32099597331941465, 0.8659554886001614, 0.627712102557937, 0.5718965666992833, 0.4505216248026779, 0.9850591818121404, 0.8618128556131309, 0.39169452140926486, 0.8407402343608185, 0.2974535543517104, 0.8251526834158708, 0.8269171678126638, 0.2772531495008438, 0.7391837441945561, 0.5644355075786917, 0.04316320604733548, 0.7194881750918307, 0.6369862041192786, 0.14263141842654992, 0.08794825570180098, 0.34230126058840704, 0.6514165566970929, 0.7126748909791298, 0.17264686716589583, 0.7090018315670255, 0.019969202473488767, 0.5254270161505676, 0.8295398954393555, 0.04229220941719736, 0.4336055076060229, 0.431155046730188, 0.26036276266588065, 0.4203404813352908, 0.40273833952496463, 0.5588609311890033, 0.1813744970577692, 0.4780662843084381, 0.15278327768179967, 0.6684350583665162, 0.7314803295400024, 0.8262648804912467, 0.3609022169130003, 0.7186382013366753, 0.9128877707549221, 0.36728916699144554, 0.8994138815347809, 0.4672417654870613, 0.9795032620383678, 0.9051796569167243, 0.33034575713169323, 0.6641350848624717, 0.3089270189461759, 0.4734378415018282, 0.9967877726013644, 0.1534696150994761, 0.6730183217634553, 0.9853278434325646, 0.6966488619385, 0.1370514633929112, 0.924417798908076, 0.6169969993518362, 0.42155768591423715, 0.27580977749177205, 0.9872545707851241, 0.8830345861497598, 0.7975879751816113, 0.3852608562729041]\n"
     ]
    }
   ],
   "source": [
    "print(floats)"
   ]
  },
  {
   "cell_type": "code",
   "execution_count": 573,
   "id": "2aa27141-397c-4e37-8e49-f08457833691",
   "metadata": {},
   "outputs": [
    {
     "name": "stdout",
     "output_type": "stream",
     "text": [
      "{0.9310790687374448, 0.15763625521926383, 0.8766351186889303, 0.7724571765313002, 0.5623001072504645, 0.7897628138027462, 0.9122006871554353, 0.9850591818121404, 0.34230126058840704, 0.5254270161505676, 0.6321387035456354, 0.8659554886001614, 0.8269171678126638, 0.7314803295400024, 0.8994138815347809, 0.9795032620383678, 0.7391837441945561, 0.7143516674829877, 0.17264686716589583, 0.15278327768179967, 0.985208958850298, 0.7721499710355046, 0.39169452140926486, 0.9128877707549221, 0.4672417654870613, 0.1534696150994761, 0.8830345861497598, 0.1452398920133946, 0.4336055076060229, 0.431155046730188, 0.4780662843084381, 0.5644355075786917, 0.9051796569167243, 0.924417798908076, 0.17535801507645343, 0.8262648804912467, 0.8489863588953053, 0.9967877726013644, 0.6641350848624717, 0.1370514633929112, 0.26036276266588065, 0.3609022169130003, 0.8630577775538054, 0.7090018315670255, 0.8618128556131309, 0.8203085776497544, 0.17950314661820788, 0.12106182013880418, 0.9921353536320584, 0.6635859324139185, 0.9442777429908508, 0.7380999103188871, 0.13880955184528443, 0.2974535543517104, 0.8251526834158708, 0.2772531495008438, 0.04316320604733548, 0.9853278434325646, 0.3852608562729041, 0.6369862041192786, 0.6684350583665162, 0.09962703317847565, 0.627712102557937, 0.5588609311890033, 0.08794825570180098, 0.3089270189461759, 0.6966488619385, 0.33790916136914473, 0.7975879751816113, 0.4734378415018282, 0.36728916699144554, 0.33034575713169323, 0.6730183217634553, 0.7186382013366753, 0.27164143213457037, 0.7194881750918307, 0.9872545707851241, 0.1813744970577692, 0.1148733016961877, 0.32099597331941465, 0.8295398954393555, 0.12362163213179977, 0.019969202473488767, 0.4505216248026779, 0.40273833952496463, 0.6169969993518362, 0.6868130419791632, 0.27580977749177205, 0.16390134171681858, 0.04229220941719736, 0.5816992095514765, 0.8407402343608185, 0.12367551322427017, 0.5922680144556618, 0.7126748909791298, 0.5718965666992833, 0.4203404813352908, 0.6514165566970929, 0.42155768591423715, 0.14263141842654992}\n"
     ]
    }
   ],
   "source": [
    "print(set(floats))"
   ]
  },
  {
   "cell_type": "markdown",
   "id": "5d153d56-4657-40ea-aad3-ba7b940d3f2d",
   "metadata": {},
   "source": [
    "## Lab: Sets\n",
    "* Use a set to find all of the unique words in the input and print them out in sorted order\n",
    "* If the user entered __There is no there there__, your program should print out \n",
    "   <pre><b>\n",
    "   is\n",
    "   no\n",
    "   there\n",
    "   </b></pre>\n",
    "* Note that `There` and `there` should be counted as the same word."
   ]
  },
  {
   "cell_type": "code",
   "execution_count": 602,
   "id": "67b9ca24-b898-4150-b86c-9773a3fe97ee",
   "metadata": {},
   "outputs": [
    {
     "name": "stdin",
     "output_type": "stream",
     "text": [
      "Enter some words:  There is no there there\n"
     ]
    }
   ],
   "source": [
    "words = input('Enter some words: ').lower().split()"
   ]
  },
  {
   "cell_type": "code",
   "execution_count": 604,
   "id": "747f5bbc-6633-4764-ba0e-c5dd7999444e",
   "metadata": {},
   "outputs": [
    {
     "data": {
      "text/plain": [
       "['there', 'is', 'no', 'there', 'there']"
      ]
     },
     "execution_count": 604,
     "metadata": {},
     "output_type": "execute_result"
    }
   ],
   "source": [
    "words"
   ]
  },
  {
   "cell_type": "code",
   "execution_count": 608,
   "id": "21eb8493-ad80-4164-9654-785fb40d56a6",
   "metadata": {},
   "outputs": [
    {
     "data": {
      "text/plain": [
       "['is', 'no', 'there']"
      ]
     },
     "execution_count": 608,
     "metadata": {},
     "output_type": "execute_result"
    }
   ],
   "source": [
    "words = sorted(set(words)) # sorted always returns a list\n",
    "words"
   ]
  },
  {
   "cell_type": "code",
   "execution_count": 594,
   "id": "cec0f837-ff2e-4ffd-b90a-0eb77f29af8e",
   "metadata": {},
   "outputs": [],
   "source": [
    "# how to print nicely?\n",
    "# .join(...)\n",
    "# or * operator"
   ]
  },
  {
   "cell_type": "code",
   "execution_count": 598,
   "id": "801976af-bd99-4713-bbd1-d3b6f26ef9ac",
   "metadata": {},
   "outputs": [
    {
     "name": "stdout",
     "output_type": "stream",
     "text": [
      "is\n",
      "no\n",
      "there\n"
     ]
    }
   ],
   "source": [
    "print('\\n'.join(words))"
   ]
  },
  {
   "cell_type": "code",
   "execution_count": 600,
   "id": "26b447d7-4411-4772-9c53-a40df0ce4b44",
   "metadata": {},
   "outputs": [
    {
     "name": "stdout",
     "output_type": "stream",
     "text": [
      "is\n",
      "no\n",
      "there\n"
     ]
    }
   ],
   "source": [
    "print(*words, sep='\\n')"
   ]
  },
  {
   "cell_type": "code",
   "execution_count": null,
   "id": "8fe4e8f0-c979-438a-ac7c-6c3aaffb95ef",
   "metadata": {},
   "outputs": [],
   "source": []
  }
 ],
 "metadata": {
  "kernelspec": {
   "display_name": "anaconda-panel-2023.05-py310",
   "language": "python",
   "name": "conda-env-anaconda-panel-2023.05-py310-py"
  },
  "language_info": {
   "codemirror_mode": {
    "name": "ipython",
    "version": 3
   },
   "file_extension": ".py",
   "mimetype": "text/x-python",
   "name": "python",
   "nbconvert_exporter": "python",
   "pygments_lexer": "ipython3",
   "version": "3.11.5"
  }
 },
 "nbformat": 4,
 "nbformat_minor": 5
}
